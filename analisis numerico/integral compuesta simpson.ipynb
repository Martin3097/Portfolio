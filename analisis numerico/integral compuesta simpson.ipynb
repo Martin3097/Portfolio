{
 "cells": [
  {
   "cell_type": "code",
   "execution_count": 1,
   "id": "009e4a11",
   "metadata": {},
   "outputs": [
    {
     "name": "stdout",
     "output_type": "stream",
     "text": [
      "El valor de la integral es: 22.180374942844082\n"
     ]
    }
   ],
   "source": [
    "import numpy as np\n",
    "\n",
    "# Definimos la función f(x)\n",
    "f = lambda x: (2.7)**(x)*(x**3)\n",
    "\n",
    "# Definir los valores de los límites a, b y el número de intervalos n\n",
    "b = 2\n",
    "a = -2\n",
    "n = 4\n",
    "\n",
    "# Calculamos el paso h\n",
    "h = (b - a) / n\n",
    "\n",
    "# Crear la lista x con los valores de los puntos en el intervalo [a, b]\n",
    "x = [a + i * h for i in range(n + 1)]  # Incluimos tanto a como b\n",
    "\n",
    "# Función para calcular la suma de los términos con índices pares\n",
    "def suma1(x, n):\n",
    "    numero = 0\n",
    "    for i in range(1, n // 2):  # Ajustamos el índice para que se empiece en 1\n",
    "        numero += f(x[2 * i])  # Accedemos a los elementos con índices pares\n",
    "    return numero\n",
    "\n",
    "# Función para calcular la suma de los términos con índices impares\n",
    "def suma2(x, n):\n",
    "    numero = 0\n",
    "    for i in range(1, n // 2 + 1):  # Ajustamos el índice para que se empiece en 1\n",
    "        numero += f(x[2 * i - 1])  # Accedemos a los elementos con índices impares\n",
    "    return numero\n",
    "\n",
    "# Función para calcular la integral usando la regla de Simpson\n",
    "def integral(a, b, h, n, x):\n",
    "    return (h / 3) * (f(a) + 2 * suma1(x, n) + 4 * suma2(x, n) + f(b))\n",
    "\n",
    "# Llamamos a la función integral\n",
    "resultado = integral(a, b, h, n, x)\n",
    "print(\"El valor de la integral es:\", resultado)"
   ]
  },
  {
   "cell_type": "code",
   "execution_count": null,
   "id": "37aabaf0-0aec-4e38-8b42-d5802d615ac4",
   "metadata": {},
   "outputs": [],
   "source": []
  }
 ],
 "metadata": {
  "kernelspec": {
   "display_name": "Python 3 (ipykernel)",
   "language": "python",
   "name": "python3"
  },
  "language_info": {
   "codemirror_mode": {
    "name": "ipython",
    "version": 3
   },
   "file_extension": ".py",
   "mimetype": "text/x-python",
   "name": "python",
   "nbconvert_exporter": "python",
   "pygments_lexer": "ipython3",
   "version": "3.12.2"
  }
 },
 "nbformat": 4,
 "nbformat_minor": 5
}
