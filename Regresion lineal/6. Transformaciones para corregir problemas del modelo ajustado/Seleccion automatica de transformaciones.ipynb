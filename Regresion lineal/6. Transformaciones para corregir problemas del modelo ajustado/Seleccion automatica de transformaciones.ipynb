{
 "cells": [
  {
   "cell_type": "markdown",
   "id": "bb15066a",
   "metadata": {},
   "source": [
    "## cargando librerias"
   ]
  },
  {
   "cell_type": "code",
   "execution_count": 35,
   "id": "8159b95a",
   "metadata": {},
   "outputs": [],
   "source": [
    "library(alr4)\n",
    "library(MPV)\n",
    "library(leaps)"
   ]
  },
  {
   "cell_type": "markdown",
   "id": "7e0280d8",
   "metadata": {},
   "source": [
    "## vizualisacion de los datos"
   ]
  },
  {
   "cell_type": "code",
   "execution_count": 3,
   "id": "03cf6065",
   "metadata": {},
   "outputs": [
    {
     "data": {
      "text/html": [
       "<table class=\"dataframe\">\n",
       "<caption>A data.frame: 6 × 6</caption>\n",
       "<thead>\n",
       "\t<tr><th></th><th scope=col>x1</th><th scope=col>x2</th><th scope=col>x3</th><th scope=col>x4</th><th scope=col>x5</th><th scope=col>y</th></tr>\n",
       "\t<tr><th></th><th scope=col>&lt;dbl&gt;</th><th scope=col>&lt;dbl&gt;</th><th scope=col>&lt;dbl&gt;</th><th scope=col>&lt;dbl&gt;</th><th scope=col>&lt;dbl&gt;</th><th scope=col>&lt;dbl&gt;</th></tr>\n",
       "</thead>\n",
       "<tbody>\n",
       "\t<tr><th scope=row>1</th><td> 3</td><td> 3</td><td>3</td><td> 3</td><td>0</td><td>0.787</td></tr>\n",
       "\t<tr><th scope=row>2</th><td> 8</td><td>30</td><td>8</td><td> 8</td><td>0</td><td>0.293</td></tr>\n",
       "\t<tr><th scope=row>3</th><td> 3</td><td> 6</td><td>6</td><td> 6</td><td>0</td><td>1.710</td></tr>\n",
       "\t<tr><th scope=row>4</th><td> 4</td><td> 4</td><td>4</td><td>12</td><td>0</td><td>0.203</td></tr>\n",
       "\t<tr><th scope=row>5</th><td> 8</td><td> 7</td><td>6</td><td> 5</td><td>0</td><td>0.806</td></tr>\n",
       "\t<tr><th scope=row>6</th><td>10</td><td>20</td><td>5</td><td> 5</td><td>0</td><td>4.713</td></tr>\n",
       "</tbody>\n",
       "</table>\n"
      ],
      "text/latex": [
       "A data.frame: 6 × 6\n",
       "\\begin{tabular}{r|llllll}\n",
       "  & x1 & x2 & x3 & x4 & x5 & y\\\\\n",
       "  & <dbl> & <dbl> & <dbl> & <dbl> & <dbl> & <dbl>\\\\\n",
       "\\hline\n",
       "\t1 &  3 &  3 & 3 &  3 & 0 & 0.787\\\\\n",
       "\t2 &  8 & 30 & 8 &  8 & 0 & 0.293\\\\\n",
       "\t3 &  3 &  6 & 6 &  6 & 0 & 1.710\\\\\n",
       "\t4 &  4 &  4 & 4 & 12 & 0 & 0.203\\\\\n",
       "\t5 &  8 &  7 & 6 &  5 & 0 & 0.806\\\\\n",
       "\t6 & 10 & 20 & 5 &  5 & 0 & 4.713\\\\\n",
       "\\end{tabular}\n"
      ],
      "text/markdown": [
       "\n",
       "A data.frame: 6 × 6\n",
       "\n",
       "| <!--/--> | x1 &lt;dbl&gt; | x2 &lt;dbl&gt; | x3 &lt;dbl&gt; | x4 &lt;dbl&gt; | x5 &lt;dbl&gt; | y &lt;dbl&gt; |\n",
       "|---|---|---|---|---|---|---|\n",
       "| 1 |  3 |  3 | 3 |  3 | 0 | 0.787 |\n",
       "| 2 |  8 | 30 | 8 |  8 | 0 | 0.293 |\n",
       "| 3 |  3 |  6 | 6 |  6 | 0 | 1.710 |\n",
       "| 4 |  4 |  4 | 4 | 12 | 0 | 0.203 |\n",
       "| 5 |  8 |  7 | 6 |  5 | 0 | 0.806 |\n",
       "| 6 | 10 | 20 | 5 |  5 | 0 | 4.713 |\n",
       "\n"
      ],
      "text/plain": [
       "  x1 x2 x3 x4 x5 y    \n",
       "1  3  3 3   3 0  0.787\n",
       "2  8 30 8   8 0  0.293\n",
       "3  3  6 6   6 0  1.710\n",
       "4  4  4 4  12 0  0.203\n",
       "5  8  7 6   5 0  0.806\n",
       "6 10 20 5   5 0  4.713"
      ]
     },
     "metadata": {},
     "output_type": "display_data"
    }
   ],
   "source": [
    "head(table.b14)"
   ]
  },
  {
   "cell_type": "markdown",
   "id": "7c686512",
   "metadata": {},
   "source": [
    "## graficos de dispercion"
   ]
  },
  {
   "cell_type": "code",
   "execution_count": 4,
   "id": "942fa590",
   "metadata": {},
   "outputs": [
    {
     "data": {
      "image/png": "[encoded data removed]",
      "text/plain": [
       "plot without title"
      ]
     },
     "metadata": {
      "image/png": {
       "height": 420,
       "width": 420
      }
     },
     "output_type": "display_data"
    }
   ],
   "source": [
    "pairs(  table.b14 )"
   ]
  },
  {
   "cell_type": "markdown",
   "id": "4c1f1908",
   "metadata": {},
   "source": [
    "## sumandole una cantidad pequeña a la columnna x5"
   ]
  },
  {
   "cell_type": "code",
   "execution_count": 5,
   "id": "e7f9bd40",
   "metadata": {},
   "outputs": [],
   "source": [
    "table.b14$x6 <- table.b14$x5 + 0.1"
   ]
  },
  {
   "cell_type": "markdown",
   "id": "305a1158",
   "metadata": {},
   "source": [
    "## selecciion automatica de transformaciones"
   ]
  },
  {
   "cell_type": "code",
   "execution_count": 6,
   "id": "924b2fe3",
   "metadata": {},
   "outputs": [
    {
     "data": {
      "text/plain": [
       "bcPower Transformations to Multinormality \n",
       "   Est Power Rounded Pwr Wald Lwr Bnd Wald Upr Bnd\n",
       "x1   -0.2874         0.0      -0.9820       0.4072\n",
       "x2   -0.2314         0.0      -0.7245       0.2617\n",
       "x3   -0.4864         0.0      -1.2282       0.2553\n",
       "x4   -0.8981        -1.0      -1.6349      -0.1614\n",
       "x6    0.4512         0.5       0.2194       0.6830\n",
       "\n",
       "Likelihood ratio test that transformation parameters are equal to 0\n",
       " (all log transformations)\n",
       "                                   LRT df       pval\n",
       "LR test, lambda = (0 0 0 0 0) 24.51186  5 0.00017306\n",
       "\n",
       "Likelihood ratio test that no transformations are needed\n",
       "                                  LRT df       pval\n",
       "LR test, lambda = (1 1 1 1 1) 85.8101  5 < 2.22e-16"
      ]
     },
     "metadata": {},
     "output_type": "display_data"
    }
   ],
   "source": [
    "with( table.b14, summary(powerTransform(cbind(x1,x2,x3,x4,x6)~1)) )"
   ]
  },
  {
   "cell_type": "markdown",
   "id": "995833d6",
   "metadata": {},
   "source": [
    "## haciendo las transformaciones de el algoritmo anterior"
   ]
  },
  {
   "cell_type": "code",
   "execution_count": 7,
   "id": "2ee91cef",
   "metadata": {},
   "outputs": [],
   "source": [
    "x1 <- table.b14$x1\n",
    "x2 <- table.b14$x2\n",
    "x3 <- table.b14$x3\n",
    "x4 <- table.b14$x4\n",
    "x5 <- table.b14$x5\n",
    "x6 <- table.b14$x6\n",
    "y <- table.b14$y\n",
    "\n",
    "log.x1 <- log(x1)\n",
    "log.x2 <- log(x2)\n",
    "log.x3 <- log(x3)\n",
    "inv.x4 <- 1/x4\n",
    "sqrt.x5 <- sqrt(x5)"
   ]
  },
  {
   "cell_type": "markdown",
   "id": "0adfa39f",
   "metadata": {},
   "source": [
    "# ajustando el modelo de regresion"
   ]
  },
  {
   "cell_type": "code",
   "execution_count": 8,
   "id": "acdddbc9",
   "metadata": {},
   "outputs": [
    {
     "data": {
      "text/plain": [
       "\n",
       "Call:\n",
       "lm(formula = y ~ log.x1 + log.x2 + log.x3 + inv.x4 + sqrt.x5)\n",
       "\n",
       "Residuals:\n",
       "    Min      1Q  Median      3Q     Max \n",
       "-4.5196 -0.8293 -0.2550  0.8742  3.6155 \n",
       "\n",
       "Coefficients:\n",
       "            Estimate Std. Error t value Pr(>|t|)    \n",
       "(Intercept) -7.42458    2.74170  -2.708  0.01395 *  \n",
       "log.x1      -2.20598    0.71090  -3.103  0.00586 ** \n",
       "log.x2       2.91066    0.67214   4.330  0.00036 ***\n",
       "log.x3       2.39072    1.02241   2.338  0.03046 *  \n",
       "inv.x4      15.62662    5.04431   3.098  0.00592 ** \n",
       "sqrt.x5      0.07951    0.13273   0.599  0.55625    \n",
       "---\n",
       "Signif. codes:  0 '***' 0.001 '**' 0.01 '*' 0.05 '.' 0.1 ' ' 1\n",
       "\n",
       "Residual standard error: 1.879 on 19 degrees of freedom\n",
       "Multiple R-squared:  0.6766,\tAdjusted R-squared:  0.5915 \n",
       "F-statistic: 7.949 on 5 and 19 DF,  p-value: 0.0003473\n"
      ]
     },
     "metadata": {},
     "output_type": "display_data"
    }
   ],
   "source": [
    "regre1 <- lm( y ~ log.x1 + log.x2 + log.x3 + inv.x4 + sqrt.x5 )\n",
    "summary(regre1)"
   ]
  },
  {
   "cell_type": "markdown",
   "id": "2b806745",
   "metadata": {},
   "source": [
    "# Box-Cox"
   ]
  },
  {
   "cell_type": "code",
   "execution_count": 9,
   "id": "6c46608e",
   "metadata": {},
   "outputs": [
    {
     "data": {
      "text/plain": [
       "bcPower Transformation to Normality \n",
       "   Est Power Rounded Pwr Wald Lwr Bnd Wald Upr Bnd\n",
       "Y1   -0.0372           0      -0.3242       0.2499\n",
       "\n",
       "Likelihood ratio test that transformation parameter is equal to 0\n",
       " (log transformation)\n",
       "                             LRT df    pval\n",
       "LR test, lambda = (0) 0.06491946  1 0.79888\n",
       "\n",
       "Likelihood ratio test that no transformation is needed\n",
       "                           LRT df       pval\n",
       "LR test, lambda = (1) 44.07503  1 3.1603e-11"
      ]
     },
     "metadata": {},
     "output_type": "display_data"
    },
    {
     "data": {
      "text/html": [
       "<table class=\"dataframe\">\n",
       "<caption>A data.frame: 4 × 2</caption>\n",
       "<thead>\n",
       "\t<tr><th scope=col>lambda</th><th scope=col>RSS</th></tr>\n",
       "\t<tr><th scope=col>&lt;dbl&gt;</th><th scope=col>&lt;dbl&gt;</th></tr>\n",
       "</thead>\n",
       "<tbody>\n",
       "\t<tr><td> 0.1963291</td><td>33.11859</td></tr>\n",
       "\t<tr><td>-1.0000000</td><td>60.47111</td></tr>\n",
       "\t<tr><td> 0.0000000</td><td>34.20673</td></tr>\n",
       "\t<tr><td> 1.0000000</td><td>45.38435</td></tr>\n",
       "</tbody>\n",
       "</table>\n"
      ],
      "text/latex": [
       "A data.frame: 4 × 2\n",
       "\\begin{tabular}{ll}\n",
       " lambda & RSS\\\\\n",
       " <dbl> & <dbl>\\\\\n",
       "\\hline\n",
       "\t  0.1963291 & 33.11859\\\\\n",
       "\t -1.0000000 & 60.47111\\\\\n",
       "\t  0.0000000 & 34.20673\\\\\n",
       "\t  1.0000000 & 45.38435\\\\\n",
       "\\end{tabular}\n"
      ],
      "text/markdown": [
       "\n",
       "A data.frame: 4 × 2\n",
       "\n",
       "| lambda &lt;dbl&gt; | RSS &lt;dbl&gt; |\n",
       "|---|---|\n",
       "|  0.1963291 | 33.11859 |\n",
       "| -1.0000000 | 60.47111 |\n",
       "|  0.0000000 | 34.20673 |\n",
       "|  1.0000000 | 45.38435 |\n",
       "\n"
      ],
      "text/plain": [
       "  lambda     RSS     \n",
       "1  0.1963291 33.11859\n",
       "2 -1.0000000 60.47111\n",
       "3  0.0000000 34.20673\n",
       "4  1.0000000 45.38435"
      ]
     },
     "metadata": {},
     "output_type": "display_data"
    },
    {
     "data": {
      "image/png": "[encoded data removed]",
      "text/plain": [
       "plot without title"
      ]
     },
     "metadata": {
      "image/png": {
       "height": 420,
       "width": 420
      }
     },
     "output_type": "display_data"
    }
   ],
   "source": [
    "summary(powerTransform(regre1))\n",
    "inverseResponsePlot(regre1)"
   ]
  },
  {
   "cell_type": "markdown",
   "id": "cc8b5c28",
   "metadata": {},
   "source": [
    "# haciendo la transformacion de la respuesta"
   ]
  },
  {
   "cell_type": "code",
   "execution_count": 10,
   "id": "17c3d489",
   "metadata": {},
   "outputs": [],
   "source": [
    "log.y <- log(y)"
   ]
  },
  {
   "cell_type": "markdown",
   "id": "e4c03aa3",
   "metadata": {},
   "source": [
    "## ajustando el modelo de regresion"
   ]
  },
  {
   "cell_type": "code",
   "execution_count": 11,
   "id": "8d68142a",
   "metadata": {},
   "outputs": [
    {
     "data": {
      "text/plain": [
       "\n",
       "Call:\n",
       "lm(formula = log.y ~ log.x1 + log.x2 + log.x3 + inv.x4 + sqrt.x5)\n",
       "\n",
       "Residuals:\n",
       "     Min       1Q   Median       3Q      Max \n",
       "-2.40832 -0.10581  0.00382  0.19470  1.16781 \n",
       "\n",
       "Coefficients:\n",
       "            Estimate Std. Error t value Pr(>|t|)    \n",
       "(Intercept) -3.83335    0.99761  -3.843 0.001098 ** \n",
       "log.x1      -1.15089    0.25867  -4.449 0.000275 ***\n",
       "log.x2       1.27187    0.24457   5.200 5.09e-05 ***\n",
       "log.x3       1.09134    0.37202   2.934 0.008525 ** \n",
       "inv.x4       6.49629    1.83545   3.539 0.002191 ** \n",
       "sqrt.x5      0.03797    0.04830   0.786 0.441435    \n",
       "---\n",
       "Signif. codes:  0 '***' 0.001 '**' 0.01 '*' 0.05 '.' 0.1 ' ' 1\n",
       "\n",
       "Residual standard error: 0.6837 on 19 degrees of freedom\n",
       "Multiple R-squared:  0.7675,\tAdjusted R-squared:  0.7063 \n",
       "F-statistic: 12.54 on 5 and 19 DF,  p-value: 1.781e-05\n"
      ]
     },
     "metadata": {},
     "output_type": "display_data"
    }
   ],
   "source": [
    "regre2 <- lm( log.y ~ log.x1 + log.x2 + log.x3 + inv.x4 + sqrt.x5 )\n",
    "summary(regre2)"
   ]
  },
  {
   "cell_type": "markdown",
   "id": "f7adb344",
   "metadata": {},
   "source": [
    "# grafica de residuos"
   ]
  },
  {
   "cell_type": "code",
   "execution_count": 12,
   "id": "a0452770",
   "metadata": {},
   "outputs": [
    {
     "name": "stdout",
     "output_type": "stream",
     "text": [
      "           Test stat Pr(>|Test stat|)\n",
      "log.x1        0.1086           0.9148\n",
      "log.x2       -1.6457           0.1172\n",
      "log.x3       -1.4907           0.1533\n",
      "inv.x4       -1.6397           0.1184\n",
      "sqrt.x5      -0.8868           0.3869\n",
      "Tukey test   -0.4367           0.6623\n"
     ]
    },
    {
     "data": {
      "image/png": "[encoded data removed]",
      "text/plain": [
       "plot without title"
      ]
     },
     "metadata": {
      "image/png": {
       "height": 420,
       "width": 420
      }
     },
     "output_type": "display_data"
    }
   ],
   "source": [
    "residualPlots(regre2, terms= ~. , type = \"rstudent\", quadratic=FALSE)"
   ]
  },
  {
   "cell_type": "markdown",
   "id": "a5c7eb62",
   "metadata": {},
   "source": [
    "# Graficas de variable agregada"
   ]
  },
  {
   "cell_type": "code",
   "execution_count": 13,
   "id": "2436f4a1",
   "metadata": {},
   "outputs": [
    {
     "data": {
      "image/png": "[encoded data removed]",
      "text/plain": [
       "Plot with title \"\""
      ]
     },
     "metadata": {
      "image/png": {
       "height": 420,
       "width": 420
      }
     },
     "output_type": "display_data"
    }
   ],
   "source": [
    "avPlots(regre2)"
   ]
  },
  {
   "cell_type": "markdown",
   "id": "db46a674",
   "metadata": {},
   "source": [
    "## Graficas de modelo marginal"
   ]
  },
  {
   "cell_type": "code",
   "execution_count": 14,
   "id": "62bd2071",
   "metadata": {},
   "outputs": [
    {
     "data": {
      "image/png": "[encoded data removed]",
      "text/plain": [
       "plot without title"
      ]
     },
     "metadata": {
      "image/png": {
       "height": 420,
       "width": 420
      }
     },
     "output_type": "display_data"
    }
   ],
   "source": [
    "marginalModelPlots(regre2)"
   ]
  },
  {
   "cell_type": "markdown",
   "id": "bee55bef",
   "metadata": {},
   "source": [
    "## Pruebas de homogeneidad de la varianza"
   ]
  },
  {
   "cell_type": "code",
   "execution_count": 15,
   "id": "9d2a8fcf",
   "metadata": {},
   "outputs": [
    {
     "data": {
      "text/plain": [
       "Non-constant Variance Score Test \n",
       "Variance formula: ~ fitted.values \n",
       "Chisquare = 7.453878, Df = 1, p = 0.00633"
      ]
     },
     "metadata": {},
     "output_type": "display_data"
    },
    {
     "data": {
      "text/plain": [
       "Non-constant Variance Score Test \n",
       "Variance formula: ~ log.x1 \n",
       "Chisquare = 4.551063, Df = 1, p = 0.032898"
      ]
     },
     "metadata": {},
     "output_type": "display_data"
    },
    {
     "data": {
      "text/plain": [
       "Non-constant Variance Score Test \n",
       "Variance formula: ~ log.x2 \n",
       "Chisquare = 39.8245, Df = 1, p = 2.7784e-10"
      ]
     },
     "metadata": {},
     "output_type": "display_data"
    },
    {
     "data": {
      "text/plain": [
       "Non-constant Variance Score Test \n",
       "Variance formula: ~ log.x3 \n",
       "Chisquare = 7.205166, Df = 1, p = 0.0072694"
      ]
     },
     "metadata": {},
     "output_type": "display_data"
    },
    {
     "data": {
      "text/plain": [
       "Non-constant Variance Score Test \n",
       "Variance formula: ~ inv.x4 \n",
       "Chisquare = 9.990701, Df = 1, p = 0.0015733"
      ]
     },
     "metadata": {},
     "output_type": "display_data"
    },
    {
     "data": {
      "text/plain": [
       "Non-constant Variance Score Test \n",
       "Variance formula: ~ sqrt.x5 \n",
       "Chisquare = 21.30904, Df = 1, p = 3.9088e-06"
      ]
     },
     "metadata": {},
     "output_type": "display_data"
    }
   ],
   "source": [
    "ncvTest(regre2)\n",
    "ncvTest(regre2, ~ log.x1)\n",
    "ncvTest(regre2, ~ log.x2)\n",
    "ncvTest(regre2, ~ log.x3)\n",
    "ncvTest(regre2, ~ inv.x4)\n",
    "ncvTest(regre2, ~ sqrt.x5)"
   ]
  },
  {
   "cell_type": "markdown",
   "id": "369eb373",
   "metadata": {},
   "source": [
    "## Analisis de influencia"
   ]
  },
  {
   "cell_type": "code",
   "execution_count": 16,
   "id": "748393ae",
   "metadata": {},
   "outputs": [
    {
     "data": {
      "text/html": [
       "<style>\n",
       ".dl-inline {width: auto; margin:0; padding: 0}\n",
       ".dl-inline>dt, .dl-inline>dd {float: none; width: auto; display: inline-block}\n",
       ".dl-inline>dt::after {content: \":\\0020\"; padding-right: .5ex}\n",
       ".dl-inline>dt:not(:first-of-type) {padding-left: .5ex}\n",
       "</style><dl class=dl-inline><dt>13</dt><dd>3.15579665739565e-07</dd><dt>25</dt><dd>3.28313155950928e-06</dd><dt>23</dt><dd>1.87908555243661e-05</dd><dt>4</dt><dd>8.17347739900059e-05</dd><dt>12</dt><dd>0.000181198008275475</dd><dt>24</dt><dd>0.000191821752644553</dd><dt>14</dt><dd>0.000215475125862547</dd><dt>7</dt><dd>0.000355838676142548</dd><dt>21</dt><dd>0.000607996186449457</dd><dt>19</dt><dd>0.00104060839387047</dd><dt>10</dt><dd>0.00186101233871494</dd><dt>1</dt><dd>0.00250161560432319</dd><dt>17</dt><dd>0.00488600694176653</dd><dt>20</dt><dd>0.00561924977669977</dd><dt>15</dt><dd>0.00600581155471718</dd><dt>9</dt><dd>0.00753562408816929</dd><dt>5</dt><dd>0.0089490910263077</dd><dt>3</dt><dd>0.0105467592226862</dd><dt>11</dt><dd>0.0138822605161635</dd><dt>22</dt><dd>0.0327366176505221</dd><dt>18</dt><dd>0.0339417206406921</dd><dt>16</dt><dd>0.0426308125908382</dd><dt>8</dt><dd>0.0865990869152173</dd><dt>6</dt><dd>0.169201165839418</dd><dt>2</dt><dd>1.07831690685256</dd></dl>\n"
      ],
      "text/latex": [
       "\\begin{description*}\n",
       "\\item[13] 3.15579665739565e-07\n",
       "\\item[25] 3.28313155950928e-06\n",
       "\\item[23] 1.87908555243661e-05\n",
       "\\item[4] 8.17347739900059e-05\n",
       "\\item[12] 0.000181198008275475\n",
       "\\item[24] 0.000191821752644553\n",
       "\\item[14] 0.000215475125862547\n",
       "\\item[7] 0.000355838676142548\n",
       "\\item[21] 0.000607996186449457\n",
       "\\item[19] 0.00104060839387047\n",
       "\\item[10] 0.00186101233871494\n",
       "\\item[1] 0.00250161560432319\n",
       "\\item[17] 0.00488600694176653\n",
       "\\item[20] 0.00561924977669977\n",
       "\\item[15] 0.00600581155471718\n",
       "\\item[9] 0.00753562408816929\n",
       "\\item[5] 0.0089490910263077\n",
       "\\item[3] 0.0105467592226862\n",
       "\\item[11] 0.0138822605161635\n",
       "\\item[22] 0.0327366176505221\n",
       "\\item[18] 0.0339417206406921\n",
       "\\item[16] 0.0426308125908382\n",
       "\\item[8] 0.0865990869152173\n",
       "\\item[6] 0.169201165839418\n",
       "\\item[2] 1.07831690685256\n",
       "\\end{description*}\n"
      ],
      "text/markdown": [
       "13\n",
       ":   3.15579665739565e-0725\n",
       ":   3.28313155950928e-0623\n",
       ":   1.87908555243661e-054\n",
       ":   8.17347739900059e-0512\n",
       ":   0.00018119800827547524\n",
       ":   0.00019182175264455314\n",
       ":   0.0002154751258625477\n",
       ":   0.00035583867614254821\n",
       ":   0.00060799618644945719\n",
       ":   0.0010406083938704710\n",
       ":   0.001861012338714941\n",
       ":   0.0025016156043231917\n",
       ":   0.0048860069417665320\n",
       ":   0.0056192497766997715\n",
       ":   0.006005811554717189\n",
       ":   0.007535624088169295\n",
       ":   0.00894909102630773\n",
       ":   0.010546759222686211\n",
       ":   0.013882260516163522\n",
       ":   0.032736617650522118\n",
       ":   0.033941720640692116\n",
       ":   0.04263081259083828\n",
       ":   0.08659908691521736\n",
       ":   0.1692011658394182\n",
       ":   1.07831690685256\n",
       "\n"
      ],
      "text/plain": [
       "          13           25           23            4           12           24 \n",
       "3.155797e-07 3.283132e-06 1.879086e-05 8.173477e-05 1.811980e-04 1.918218e-04 \n",
       "          14            7           21           19           10            1 \n",
       "2.154751e-04 3.558387e-04 6.079962e-04 1.040608e-03 1.861012e-03 2.501616e-03 \n",
       "          17           20           15            9            5            3 \n",
       "4.886007e-03 5.619250e-03 6.005812e-03 7.535624e-03 8.949091e-03 1.054676e-02 \n",
       "          11           22           18           16            8            6 \n",
       "1.388226e-02 3.273662e-02 3.394172e-02 4.263081e-02 8.659909e-02 1.692012e-01 \n",
       "           2 \n",
       "1.078317e+00 "
      ]
     },
     "metadata": {},
     "output_type": "display_data"
    },
    {
     "data": {
      "image/png": "[encoded data removed]",
      "text/plain": [
       "plot without title"
      ]
     },
     "metadata": {
      "image/png": {
       "height": 420,
       "width": 420
      }
     },
     "output_type": "display_data"
    }
   ],
   "source": [
    "infIndexPlot(regre2)\n",
    "sort(cooks.distance(regre2))"
   ]
  },
  {
   "cell_type": "markdown",
   "id": "5db07e96",
   "metadata": {},
   "source": [
    "## Prueba sobre puntos discrepantes"
   ]
  },
  {
   "cell_type": "code",
   "execution_count": 17,
   "id": "ac7fe296",
   "metadata": {},
   "outputs": [
    {
     "data": {
      "text/plain": [
       "   rstudent unadjusted p-value Bonferroni p\n",
       "2 -12.73682         1.9223e-10   4.8058e-09"
      ]
     },
     "metadata": {},
     "output_type": "display_data"
    }
   ],
   "source": [
    "outlierTest(regre2)"
   ]
  },
  {
   "cell_type": "markdown",
   "id": "56027dd6",
   "metadata": {},
   "source": [
    "# Grafica de probabilidad normal"
   ]
  },
  {
   "cell_type": "code",
   "execution_count": 18,
   "id": "b68e2747",
   "metadata": {},
   "outputs": [
    {
     "data": {
      "text/html": [
       "<style>\n",
       ".list-inline {list-style: none; margin:0; padding: 0}\n",
       ".list-inline>li {display: inline-block}\n",
       ".list-inline>li:not(:last-child)::after {content: \"\\00b7\"; padding: 0 .5ex}\n",
       "</style>\n",
       "<ol class=list-inline><li>2</li><li>6</li></ol>\n"
      ],
      "text/latex": [
       "\\begin{enumerate*}\n",
       "\\item 2\n",
       "\\item 6\n",
       "\\end{enumerate*}\n"
      ],
      "text/markdown": [
       "1. 2\n",
       "2. 6\n",
       "\n",
       "\n"
      ],
      "text/plain": [
       "[1] 2 6"
      ]
     },
     "metadata": {},
     "output_type": "display_data"
    },
    {
     "data": {
      "image/png": "[encoded data removed]",
      "text/plain": [
       "plot without title"
      ]
     },
     "metadata": {
      "image/png": {
       "height": 420,
       "width": 420
      }
     },
     "output_type": "display_data"
    }
   ],
   "source": [
    "qqPlot(rstudent(regre2))"
   ]
  },
  {
   "cell_type": "code",
   "execution_count": 19,
   "id": "cb3149ba",
   "metadata": {},
   "outputs": [
    {
     "data": {
      "text/plain": [
       "\n",
       "Call:\n",
       "lm(formula = log.y ~ log.x1 + log.x2 + log.x3 + inv.x4 + sqrt.x5, \n",
       "    subset = -c(2))\n",
       "\n",
       "Residuals:\n",
       "     Min       1Q   Median       3Q      Max \n",
       "-0.37966 -0.12003 -0.00369  0.15326  0.43031 \n",
       "\n",
       "Coefficients:\n",
       "              Estimate Std. Error t value Pr(>|t|)    \n",
       "(Intercept) -3.9653503  0.3240790 -12.236 3.69e-10 ***\n",
       "log.x1      -1.1640811  0.0839948 -13.859 4.81e-11 ***\n",
       "log.x2       1.6082806  0.0836860  19.218 1.92e-13 ***\n",
       "log.x3       1.0855291  0.1207920   8.987 4.50e-08 ***\n",
       "inv.x4       6.0034783  0.5972049  10.053 8.24e-09 ***\n",
       "sqrt.x5     -0.0008676  0.0159754  -0.054    0.957    \n",
       "---\n",
       "Signif. codes:  0 '***' 0.001 '**' 0.01 '*' 0.05 '.' 0.1 ' ' 1\n",
       "\n",
       "Residual standard error: 0.222 on 18 degrees of freedom\n",
       "Multiple R-squared:  0.9755,\tAdjusted R-squared:  0.9688 \n",
       "F-statistic: 143.6 on 5 and 18 DF,  p-value: 7.457e-14\n"
      ]
     },
     "metadata": {},
     "output_type": "display_data"
    }
   ],
   "source": [
    "regre3 <- lm( log.y ~ log.x1 + log.x2 + log.x3 + inv.x4 + sqrt.x5, subset=-c(2) )\n",
    "summary(regre3)"
   ]
  },
  {
   "cell_type": "code",
   "execution_count": 20,
   "id": "782a60e0",
   "metadata": {},
   "outputs": [
    {
     "data": {
      "text/plain": [
       "Non-constant Variance Score Test \n",
       "Variance formula: ~ fitted.values \n",
       "Chisquare = 0.2238477, Df = 1, p = 0.63612"
      ]
     },
     "metadata": {},
     "output_type": "display_data"
    },
    {
     "data": {
      "text/plain": [
       "Non-constant Variance Score Test \n",
       "Variance formula: ~ log.x1[-2] \n",
       "Chisquare = 0.6549386, Df = 1, p = 0.41835"
      ]
     },
     "metadata": {},
     "output_type": "display_data"
    },
    {
     "data": {
      "text/plain": [
       "Non-constant Variance Score Test \n",
       "Variance formula: ~ log.x2[-2] \n",
       "Chisquare = 3.124744, Df = 1, p = 0.077112"
      ]
     },
     "metadata": {},
     "output_type": "display_data"
    },
    {
     "data": {
      "text/plain": [
       "Non-constant Variance Score Test \n",
       "Variance formula: ~ log.x3[-2] \n",
       "Chisquare = 0.0004142394, Df = 1, p = 0.98376"
      ]
     },
     "metadata": {},
     "output_type": "display_data"
    },
    {
     "data": {
      "text/plain": [
       "Non-constant Variance Score Test \n",
       "Variance formula: ~ inv.x4[-2] \n",
       "Chisquare = 1.079523, Df = 1, p = 0.2988"
      ]
     },
     "metadata": {},
     "output_type": "display_data"
    },
    {
     "data": {
      "text/plain": [
       "Non-constant Variance Score Test \n",
       "Variance formula: ~ sqrt.x5[-2] \n",
       "Chisquare = 0.4854335, Df = 1, p = 0.48597"
      ]
     },
     "metadata": {},
     "output_type": "display_data"
    }
   ],
   "source": [
    "ncvTest(regre3)\n",
    "ncvTest(regre3, ~ log.x1[-2])\n",
    "ncvTest(regre3, ~ log.x2[-2])\n",
    "ncvTest(regre3, ~ log.x3[-2])\n",
    "ncvTest(regre3, ~ inv.x4[-2])\n",
    "ncvTest(regre3, ~ sqrt.x5[-2])"
   ]
  },
  {
   "cell_type": "code",
   "execution_count": 21,
   "id": "fcf7dea2",
   "metadata": {},
   "outputs": [
    {
     "name": "stdout",
     "output_type": "stream",
     "text": [
      "           Test stat Pr(>|Test stat|)   \n",
      "log.x1        0.1452         0.886248   \n",
      "log.x2        3.5344         0.002547 **\n",
      "log.x3       -0.7791         0.446638   \n",
      "inv.x4       -1.4389         0.168338   \n",
      "sqrt.x5       0.4435         0.662966   \n",
      "Tukey test   -0.5323         0.594546   \n",
      "---\n",
      "Signif. codes:  0 '***' 0.001 '**' 0.01 '*' 0.05 '.' 0.1 ' ' 1\n"
     ]
    },
    {
     "data": {
      "image/png": "[encoded data removed]",
      "text/plain": [
       "plot without title"
      ]
     },
     "metadata": {
      "image/png": {
       "height": 420,
       "width": 420
      }
     },
     "output_type": "display_data"
    }
   ],
   "source": [
    "residualPlots(regre3, terms= ~. , type = \"rstudent\", quadratic=FALSE)"
   ]
  },
  {
   "cell_type": "code",
   "execution_count": 24,
   "id": "b6612bb8",
   "metadata": {},
   "outputs": [],
   "source": [
    "log.x2.cuad <- log.x2^2"
   ]
  },
  {
   "cell_type": "code",
   "execution_count": 25,
   "id": "96089508",
   "metadata": {},
   "outputs": [
    {
     "data": {
      "text/plain": [
       "\n",
       "Call:\n",
       "lm(formula = log.y ~ log.x1 + log.x2 + log.x3 + inv.x4 + sqrt.x5 + \n",
       "    log.x2.cuad, subset = -c(2))\n",
       "\n",
       "Residuals:\n",
       "      Min        1Q    Median        3Q       Max \n",
       "-0.296464 -0.071229  0.005555  0.100674  0.252948 \n",
       "\n",
       "Coefficients:\n",
       "            Estimate Std. Error t value Pr(>|t|)    \n",
       "(Intercept) -3.27972    0.31895 -10.283 1.03e-08 ***\n",
       "log.x1      -1.12467    0.06656 -16.897 4.61e-12 ***\n",
       "log.x2       0.62992    0.28442   2.215  0.04073 *  \n",
       "log.x3       1.13999    0.09562  11.923 1.11e-09 ***\n",
       "inv.x4       5.89855    0.46750  12.617 4.65e-10 ***\n",
       "sqrt.x5      0.00440    0.01257   0.350  0.73061    \n",
       "log.x2.cuad  0.25477    0.07208   3.534  0.00255 ** \n",
       "---\n",
       "Signif. codes:  0 '***' 0.001 '**' 0.01 '*' 0.05 '.' 0.1 ' ' 1\n",
       "\n",
       "Residual standard error: 0.1734 on 17 degrees of freedom\n",
       "Multiple R-squared:  0.9859,\tAdjusted R-squared:  0.9809 \n",
       "F-statistic: 198.2 on 6 and 17 DF,  p-value: 8.993e-15\n"
      ]
     },
     "metadata": {},
     "output_type": "display_data"
    }
   ],
   "source": [
    "regre4 <- lm( log.y ~ log.x1 + log.x2 + log.x3 + inv.x4 + sqrt.x5 + log.x2.cuad, subset=-c(2) )\n",
    "summary(regre4)"
   ]
  },
  {
   "cell_type": "code",
   "execution_count": 26,
   "id": "4d7d358c",
   "metadata": {},
   "outputs": [
    {
     "name": "stdout",
     "output_type": "stream",
     "text": [
      "            Test stat Pr(>|Test stat|)  \n",
      "log.x1         0.1186          0.90703  \n",
      "log.x2        -1.5476          0.14128  \n",
      "log.x3        -0.9471          0.35768  \n",
      "inv.x4        -1.7667          0.09635 .\n",
      "sqrt.x5        1.3482          0.19637  \n",
      "log.x2.cuad    0.9184          0.37203  \n",
      "Tukey test    -0.6935          0.48799  \n",
      "---\n",
      "Signif. codes:  0 '***' 0.001 '**' 0.01 '*' 0.05 '.' 0.1 ' ' 1\n"
     ]
    },
    {
     "data": {
      "image/png": "[encoded data removed]",
      "text/plain": [
       "plot without title"
      ]
     },
     "metadata": {
      "image/png": {
       "height": 420,
       "width": 420
      }
     },
     "output_type": "display_data"
    }
   ],
   "source": [
    "residualPlots(regre4, terms= ~. , type = \"rstudent\", quadratic=FALSE)"
   ]
  },
  {
   "cell_type": "code",
   "execution_count": 27,
   "id": "478b548d",
   "metadata": {},
   "outputs": [],
   "source": [
    "inv.x4.cuad <- inv.x4^2"
   ]
  },
  {
   "cell_type": "code",
   "execution_count": 28,
   "id": "266187ae",
   "metadata": {},
   "outputs": [
    {
     "data": {
      "text/plain": [
       "\n",
       "Call:\n",
       "lm(formula = log.y ~ log.x1 + log.x2 + log.x3 + inv.x4 + sqrt.x5 + \n",
       "    log.x2.cuad + inv.x4.cuad, subset = -c(2))\n",
       "\n",
       "Residuals:\n",
       "      Min        1Q    Median        3Q       Max \n",
       "-0.271066 -0.091916 -0.002803  0.082031  0.247109 \n",
       "\n",
       "Coefficients:\n",
       "             Estimate Std. Error t value Pr(>|t|)    \n",
       "(Intercept) -3.449792   0.315776 -10.925 7.92e-09 ***\n",
       "log.x1      -1.167404   0.067260 -17.356 8.41e-12 ***\n",
       "log.x2       0.642378   0.268278   2.394  0.02924 *  \n",
       "log.x3       1.102611   0.092607  11.906 2.30e-09 ***\n",
       "inv.x4       8.366331   1.464767   5.712 3.21e-05 ***\n",
       "sqrt.x5      0.004335   0.011852   0.366  0.71930    \n",
       "log.x2.cuad  0.250530   0.068008   3.684  0.00201 ** \n",
       "inv.x4.cuad -4.488696   2.540784  -1.767  0.09635 .  \n",
       "---\n",
       "Signif. codes:  0 '***' 0.001 '**' 0.01 '*' 0.05 '.' 0.1 ' ' 1\n",
       "\n",
       "Residual standard error: 0.1635 on 16 degrees of freedom\n",
       "Multiple R-squared:  0.9882,\tAdjusted R-squared:  0.983 \n",
       "F-statistic: 191.5 on 7 and 16 DF,  p-value: 3.239e-14\n"
      ]
     },
     "metadata": {},
     "output_type": "display_data"
    }
   ],
   "source": [
    "regre5 <- lm( log.y ~ log.x1 + log.x2 + log.x3 + inv.x4 + sqrt.x5 + log.x2.cuad + inv.x4.cuad, subset=-c(2) )\n",
    "summary(regre5)"
   ]
  },
  {
   "cell_type": "code",
   "execution_count": 29,
   "id": "92aa057d",
   "metadata": {},
   "outputs": [
    {
     "name": "stdout",
     "output_type": "stream",
     "text": [
      "            Test stat Pr(>|Test stat|)  \n",
      "log.x1        -0.3726          0.71465  \n",
      "log.x2        -1.5368          0.14516  \n",
      "log.x3        -0.7437          0.46856  \n",
      "inv.x4        -0.2186          0.82990  \n",
      "sqrt.x5        1.8161          0.08939 .\n",
      "log.x2.cuad    0.5605          0.58340  \n",
      "inv.x4.cuad    0.1118          0.91250  \n",
      "Tukey test    -0.8508          0.39491  \n",
      "---\n",
      "Signif. codes:  0 '***' 0.001 '**' 0.01 '*' 0.05 '.' 0.1 ' ' 1\n"
     ]
    },
    {
     "data": {
      "image/png": "[encoded data removed]",
      "text/plain": [
       "plot without title"
      ]
     },
     "metadata": {
      "image/png": {
       "height": 420,
       "width": 420
      }
     },
     "output_type": "display_data"
    }
   ],
   "source": [
    "residualPlots(regre5, terms= ~. , type = \"rstudent\", quadratic=FALSE)"
   ]
  },
  {
   "cell_type": "code",
   "execution_count": 30,
   "id": "405115fc",
   "metadata": {},
   "outputs": [
    {
     "data": {
      "text/plain": [
       "\n",
       "Call:\n",
       "lm(formula = log.y ~ log.x1 + log.x2 + log.x3 + inv.x4 + sqrt.x5 + \n",
       "    log.x2.cuad + inv.x4.cuad + x5, subset = -c(2))\n",
       "\n",
       "Residuals:\n",
       "     Min       1Q   Median       3Q      Max \n",
       "-0.21690 -0.08321 -0.00959  0.05687  0.24720 \n",
       "\n",
       "Coefficients:\n",
       "             Estimate Std. Error t value Pr(>|t|)    \n",
       "(Intercept) -3.486175   0.295959 -11.779 5.57e-09 ***\n",
       "log.x1      -1.167332   0.062895 -18.560 9.29e-12 ***\n",
       "log.x2       0.578973   0.253283   2.286 0.037226 *  \n",
       "log.x3       1.123812   0.087379  12.861 1.67e-09 ***\n",
       "inv.x4       8.893172   1.400076   6.352 1.30e-05 ***\n",
       "sqrt.x5     -0.064224   0.039344  -1.632 0.123408    \n",
       "log.x2.cuad  0.273822   0.064874   4.221 0.000741 ***\n",
       "inv.x4.cuad -5.181579   2.406307  -2.153 0.047971 *  \n",
       "x5           0.008242   0.004538   1.816 0.089390 .  \n",
       "---\n",
       "Signif. codes:  0 '***' 0.001 '**' 0.01 '*' 0.05 '.' 0.1 ' ' 1\n",
       "\n",
       "Residual standard error: 0.1529 on 15 degrees of freedom\n",
       "Multiple R-squared:  0.9903,\tAdjusted R-squared:  0.9852 \n",
       "F-statistic: 192.1 on 8 and 15 DF,  p-value: 1.069e-13\n"
      ]
     },
     "metadata": {},
     "output_type": "display_data"
    }
   ],
   "source": [
    "regre6 <- lm( log.y ~ log.x1 + log.x2 + log.x3 + inv.x4 + sqrt.x5 + log.x2.cuad + inv.x4.cuad + x5, subset=-c(2) )\n",
    "summary(regre6)"
   ]
  },
  {
   "cell_type": "code",
   "execution_count": 31,
   "id": "d6739731",
   "metadata": {},
   "outputs": [
    {
     "name": "stdout",
     "output_type": "stream",
     "text": [
      "            Test stat Pr(>|Test stat|)\n",
      "log.x1        -0.6202           0.5451\n",
      "log.x2        -1.3933           0.1853\n",
      "log.x3        -0.4671           0.6476\n",
      "inv.x4         0.0907           0.9290\n",
      "sqrt.x5        0.3634           0.7217\n",
      "log.x2.cuad   -0.0356           0.9721\n",
      "inv.x4.cuad   -0.5411           0.5969\n",
      "x5             0.1876           0.8539\n",
      "Tukey test    -0.5323           0.5945\n"
     ]
    },
    {
     "data": {
      "image/png": "[encoded data removed]",
      "text/plain": [
       "plot without title"
      ]
     },
     "metadata": {
      "image/png": {
       "height": 420,
       "width": 420
      }
     },
     "output_type": "display_data"
    }
   ],
   "source": [
    "residualPlots(regre6, terms= ~. , type = \"rstudent\", quadratic=FALSE)"
   ]
  },
  {
   "cell_type": "code",
   "execution_count": 32,
   "id": "d5606fd3",
   "metadata": {},
   "outputs": [
    {
     "data": {
      "text/plain": [
       "Non-constant Variance Score Test \n",
       "Variance formula: ~ fitted.values \n",
       "Chisquare = 0.5979653, Df = 1, p = 0.43936"
      ]
     },
     "metadata": {},
     "output_type": "display_data"
    },
    {
     "data": {
      "text/plain": [
       "Non-constant Variance Score Test \n",
       "Variance formula: ~ log.x1[-2] \n",
       "Chisquare = 1.148859, Df = 1, p = 0.28379"
      ]
     },
     "metadata": {},
     "output_type": "display_data"
    },
    {
     "data": {
      "text/plain": [
       "Non-constant Variance Score Test \n",
       "Variance formula: ~ log.x2[-2] \n",
       "Chisquare = 3.910252, Df = 1, p = 0.047992"
      ]
     },
     "metadata": {},
     "output_type": "display_data"
    },
    {
     "data": {
      "text/plain": [
       "Non-constant Variance Score Test \n",
       "Variance formula: ~ log.x3[-2] \n",
       "Chisquare = 0.4524699, Df = 1, p = 0.50116"
      ]
     },
     "metadata": {},
     "output_type": "display_data"
    },
    {
     "data": {
      "text/plain": [
       "Non-constant Variance Score Test \n",
       "Variance formula: ~ inv.x4[-2] \n",
       "Chisquare = 1.24097, Df = 1, p = 0.26528"
      ]
     },
     "metadata": {},
     "output_type": "display_data"
    },
    {
     "data": {
      "text/plain": [
       "Non-constant Variance Score Test \n",
       "Variance formula: ~ sqrt.x5[-2] \n",
       "Chisquare = 0.02283381, Df = 1, p = 0.87989"
      ]
     },
     "metadata": {},
     "output_type": "display_data"
    },
    {
     "data": {
      "text/plain": [
       "Non-constant Variance Score Test \n",
       "Variance formula: ~ log.x2.cuad[-2] \n",
       "Chisquare = 4.36452, Df = 1, p = 0.036695"
      ]
     },
     "metadata": {},
     "output_type": "display_data"
    },
    {
     "data": {
      "text/plain": [
       "Non-constant Variance Score Test \n",
       "Variance formula: ~ inv.x4.cuad[-2] \n",
       "Chisquare = 1.338891, Df = 1, p = 0.24723"
      ]
     },
     "metadata": {},
     "output_type": "display_data"
    },
    {
     "data": {
      "text/plain": [
       "Non-constant Variance Score Test \n",
       "Variance formula: ~ x5[-2] \n",
       "Chisquare = 0.6615963, Df = 1, p = 0.416"
      ]
     },
     "metadata": {},
     "output_type": "display_data"
    },
    {
     "data": {
      "text/html": [
       "<style>\n",
       ".dl-inline {width: auto; margin:0; padding: 0}\n",
       ".dl-inline>dt, .dl-inline>dd {float: none; width: auto; display: inline-block}\n",
       ".dl-inline>dt::after {content: \":\\0020\"; padding-right: .5ex}\n",
       ".dl-inline>dt:not(:first-of-type) {padding-left: .5ex}\n",
       "</style><dl class=dl-inline><dt>23</dt><dd>4.15379622380197e-05</dd><dt>7</dt><dd>0.000197124826739993</dd><dt>24</dt><dd>0.000198616363789171</dd><dt>19</dt><dd>0.00295729184929898</dd><dt>3</dt><dd>0.00315792711788125</dd><dt>22</dt><dd>0.00358826766709968</dd><dt>21</dt><dd>0.004473989480698</dd><dt>9</dt><dd>0.00513764706134786</dd><dt>5</dt><dd>0.00615976382231729</dd><dt>13</dt><dd>0.0157669531028504</dd><dt>1</dt><dd>0.0227150892879194</dd><dt>14</dt><dd>0.0229867422135178</dd><dt>16</dt><dd>0.0320086499872583</dd><dt>25</dt><dd>0.0380741948656774</dd><dt>20</dt><dd>0.0387716108260121</dd><dt>4</dt><dd>0.0568887996019609</dd><dt>18</dt><dd>0.0737976740384974</dd><dt>17</dt><dd>0.08578802340314</dd><dt>12</dt><dd>0.124374719448513</dd><dt>15</dt><dd>0.166258986689734</dd><dt>10</dt><dd>0.207378875295478</dd><dt>11</dt><dd>0.217953486125758</dd><dt>6</dt><dd>0.229753650351229</dd><dt>8</dt><dd>0.330230864180038</dd></dl>\n"
      ],
      "text/latex": [
       "\\begin{description*}\n",
       "\\item[23] 4.15379622380197e-05\n",
       "\\item[7] 0.000197124826739993\n",
       "\\item[24] 0.000198616363789171\n",
       "\\item[19] 0.00295729184929898\n",
       "\\item[3] 0.00315792711788125\n",
       "\\item[22] 0.00358826766709968\n",
       "\\item[21] 0.004473989480698\n",
       "\\item[9] 0.00513764706134786\n",
       "\\item[5] 0.00615976382231729\n",
       "\\item[13] 0.0157669531028504\n",
       "\\item[1] 0.0227150892879194\n",
       "\\item[14] 0.0229867422135178\n",
       "\\item[16] 0.0320086499872583\n",
       "\\item[25] 0.0380741948656774\n",
       "\\item[20] 0.0387716108260121\n",
       "\\item[4] 0.0568887996019609\n",
       "\\item[18] 0.0737976740384974\n",
       "\\item[17] 0.08578802340314\n",
       "\\item[12] 0.124374719448513\n",
       "\\item[15] 0.166258986689734\n",
       "\\item[10] 0.207378875295478\n",
       "\\item[11] 0.217953486125758\n",
       "\\item[6] 0.229753650351229\n",
       "\\item[8] 0.330230864180038\n",
       "\\end{description*}\n"
      ],
      "text/markdown": [
       "23\n",
       ":   4.15379622380197e-057\n",
       ":   0.00019712482673999324\n",
       ":   0.00019861636378917119\n",
       ":   0.002957291849298983\n",
       ":   0.0031579271178812522\n",
       ":   0.0035882676670996821\n",
       ":   0.0044739894806989\n",
       ":   0.005137647061347865\n",
       ":   0.0061597638223172913\n",
       ":   0.01576695310285041\n",
       ":   0.022715089287919414\n",
       ":   0.022986742213517816\n",
       ":   0.032008649987258325\n",
       ":   0.038074194865677420\n",
       ":   0.03877161082601214\n",
       ":   0.056888799601960918\n",
       ":   0.073797674038497417\n",
       ":   0.0857880234031412\n",
       ":   0.12437471944851315\n",
       ":   0.16625898668973410\n",
       ":   0.20737887529547811\n",
       ":   0.2179534861257586\n",
       ":   0.2297536503512298\n",
       ":   0.330230864180038\n",
       "\n"
      ],
      "text/plain": [
       "          23            7           24           19            3           22 \n",
       "4.153796e-05 1.971248e-04 1.986164e-04 2.957292e-03 3.157927e-03 3.588268e-03 \n",
       "          21            9            5           13            1           14 \n",
       "4.473989e-03 5.137647e-03 6.159764e-03 1.576695e-02 2.271509e-02 2.298674e-02 \n",
       "          16           25           20            4           18           17 \n",
       "3.200865e-02 3.807419e-02 3.877161e-02 5.688880e-02 7.379767e-02 8.578802e-02 \n",
       "          12           15           10           11            6            8 \n",
       "1.243747e-01 1.662590e-01 2.073789e-01 2.179535e-01 2.297537e-01 3.302309e-01 "
      ]
     },
     "metadata": {},
     "output_type": "display_data"
    }
   ],
   "source": [
    "ncvTest(regre6)\n",
    "ncvTest(regre6, ~ log.x1[-2])\n",
    "ncvTest(regre6, ~ log.x2[-2])\n",
    "ncvTest(regre6, ~ log.x3[-2])\n",
    "ncvTest(regre6, ~ inv.x4[-2])\n",
    "ncvTest(regre6, ~ sqrt.x5[-2])\n",
    "\n",
    "ncvTest(regre6, ~ log.x2.cuad[-2])\n",
    "ncvTest(regre6, ~ inv.x4.cuad[-2])\n",
    "ncvTest(regre6, ~ x5[-2])\n",
    "\n",
    "\n",
    "sort(cooks.distance(regre6))"
   ]
  },
  {
   "cell_type": "markdown",
   "id": "a2c7feab",
   "metadata": {},
   "source": [
    "## Prueba sobre puntos discrepantes"
   ]
  },
  {
   "cell_type": "code",
   "execution_count": 33,
   "id": "95568dc7",
   "metadata": {},
   "outputs": [
    {
     "data": {
      "text/plain": [
       "No Studentized residuals with Bonferroni p < 0.05\n",
       "Largest |rstudent|:\n",
       "   rstudent unadjusted p-value Bonferroni p\n",
       "11 2.225936           0.042957           NA"
      ]
     },
     "metadata": {},
     "output_type": "display_data"
    }
   ],
   "source": [
    "outlierTest(regre6)"
   ]
  },
  {
   "cell_type": "markdown",
   "id": "6ce5a0c9",
   "metadata": {},
   "source": [
    "## Grafica de probabilidad normal"
   ]
  },
  {
   "cell_type": "code",
   "execution_count": 34,
   "id": "e08c474c",
   "metadata": {},
   "outputs": [
    {
     "data": {
      "text/html": [
       "<style>\n",
       ".dl-inline {width: auto; margin:0; padding: 0}\n",
       ".dl-inline>dt, .dl-inline>dd {float: none; width: auto; display: inline-block}\n",
       ".dl-inline>dt::after {content: \":\\0020\"; padding-right: .5ex}\n",
       ".dl-inline>dt:not(:first-of-type) {padding-left: .5ex}\n",
       "</style><dl class=dl-inline><dt>11</dt><dd>10</dd><dt>10</dt><dd>9</dd></dl>\n"
      ],
      "text/latex": [
       "\\begin{description*}\n",
       "\\item[11] 10\n",
       "\\item[10] 9\n",
       "\\end{description*}\n"
      ],
      "text/markdown": [
       "11\n",
       ":   1010\n",
       ":   9\n",
       "\n"
      ],
      "text/plain": [
       "11 10 \n",
       "10  9 "
      ]
     },
     "metadata": {},
     "output_type": "display_data"
    },
    {
     "data": {
      "image/png": "[encoded data removed]",
      "text/plain": [
       "plot without title"
      ]
     },
     "metadata": {
      "image/png": {
       "height": 420,
       "width": 420
      }
     },
     "output_type": "display_data"
    }
   ],
   "source": [
    "qqPlot(rstudent(regre6))"
   ]
  },
  {
   "cell_type": "code",
   "execution_count": 37,
   "id": "a1484674",
   "metadata": {},
   "outputs": [],
   "source": [
    "cemento<- read.table(\"cemento.txt\",header=T)"
   ]
  },
  {
   "cell_type": "code",
   "execution_count": 38,
   "id": "bcd39bc9",
   "metadata": {},
   "outputs": [],
   "source": [
    "all.submodels <- regsubsets(log.y ~ log.x1 + log.x2 + log.x3 + inv.x4 + sqrt.x5 + log.x2.cuad + inv.x4.cuad + x5, data=cemento,  subset=-c(2), nbest=3)"
   ]
  },
  {
   "cell_type": "markdown",
   "id": "fdac27d3",
   "metadata": {},
   "source": [
    "## plot a table of models showing variables in each model. "
   ]
  },
  {
   "cell_type": "code",
   "execution_count": 39,
   "id": "dafd9c02",
   "metadata": {},
   "outputs": [
    {
     "data": {
      "text/plain": [
       "Subset selection object\n",
       "Call: regsubsets.formula(log.y ~ log.x1 + log.x2 + log.x3 + inv.x4 + \n",
       "    sqrt.x5 + log.x2.cuad + inv.x4.cuad + x5, data = cemento, \n",
       "    subset = -c(2), nbest = 3)\n",
       "8 Variables  (and intercept)\n",
       "            Forced in Forced out\n",
       "log.x1          FALSE      FALSE\n",
       "log.x2          FALSE      FALSE\n",
       "log.x3          FALSE      FALSE\n",
       "inv.x4          FALSE      FALSE\n",
       "sqrt.x5         FALSE      FALSE\n",
       "log.x2.cuad     FALSE      FALSE\n",
       "inv.x4.cuad     FALSE      FALSE\n",
       "x5              FALSE      FALSE\n",
       "3 subsets of each size up to 8\n",
       "Selection Algorithm: exhaustive\n",
       "         log.x1 log.x2 log.x3 inv.x4 sqrt.x5 log.x2.cuad inv.x4.cuad x5 \n",
       "1  ( 1 ) \" \"    \" \"    \" \"    \" \"    \" \"     \"*\"         \" \"         \" \"\n",
       "1  ( 2 ) \" \"    \"*\"    \" \"    \" \"    \" \"     \" \"         \" \"         \" \"\n",
       "1  ( 3 ) \" \"    \" \"    \"*\"    \" \"    \" \"     \" \"         \" \"         \" \"\n",
       "2  ( 1 ) \"*\"    \"*\"    \" \"    \" \"    \" \"     \" \"         \" \"         \" \"\n",
       "2  ( 2 ) \"*\"    \" \"    \" \"    \" \"    \" \"     \"*\"         \" \"         \" \"\n",
       "2  ( 3 ) \" \"    \" \"    \"*\"    \" \"    \" \"     \"*\"         \" \"         \" \"\n",
       "3  ( 1 ) \"*\"    \"*\"    \" \"    \"*\"    \" \"     \" \"         \" \"         \" \"\n",
       "3  ( 2 ) \"*\"    \"*\"    \" \"    \" \"    \" \"     \" \"         \"*\"         \" \"\n",
       "3  ( 3 ) \"*\"    \" \"    \" \"    \"*\"    \" \"     \"*\"         \" \"         \" \"\n",
       "4  ( 1 ) \"*\"    \" \"    \"*\"    \"*\"    \" \"     \"*\"         \" \"         \" \"\n",
       "4  ( 2 ) \"*\"    \"*\"    \"*\"    \"*\"    \" \"     \" \"         \" \"         \" \"\n",
       "4  ( 3 ) \"*\"    \" \"    \"*\"    \" \"    \" \"     \"*\"         \"*\"         \" \"\n",
       "5  ( 1 ) \"*\"    \"*\"    \"*\"    \"*\"    \" \"     \"*\"         \" \"         \" \"\n",
       "5  ( 2 ) \"*\"    \" \"    \"*\"    \"*\"    \" \"     \"*\"         \"*\"         \" \"\n",
       "5  ( 3 ) \"*\"    \" \"    \"*\"    \"*\"    \" \"     \"*\"         \" \"         \"*\"\n",
       "6  ( 1 ) \"*\"    \"*\"    \"*\"    \"*\"    \" \"     \"*\"         \"*\"         \" \"\n",
       "6  ( 2 ) \"*\"    \"*\"    \"*\"    \"*\"    \" \"     \"*\"         \" \"         \"*\"\n",
       "6  ( 3 ) \"*\"    \"*\"    \"*\"    \"*\"    \"*\"     \"*\"         \" \"         \" \"\n",
       "7  ( 1 ) \"*\"    \"*\"    \"*\"    \"*\"    \" \"     \"*\"         \"*\"         \"*\"\n",
       "7  ( 2 ) \"*\"    \"*\"    \"*\"    \"*\"    \"*\"     \"*\"         \"*\"         \" \"\n",
       "7  ( 3 ) \"*\"    \"*\"    \"*\"    \"*\"    \"*\"     \"*\"         \" \"         \"*\"\n",
       "8  ( 1 ) \"*\"    \"*\"    \"*\"    \"*\"    \"*\"     \"*\"         \"*\"         \"*\""
      ]
     },
     "metadata": {},
     "output_type": "display_data"
    }
   ],
   "source": [
    "summary(all.submodels)"
   ]
  },
  {
   "cell_type": "markdown",
   "id": "0928e0a5",
   "metadata": {},
   "source": [
    "# models are ordered by the selection statistic."
   ]
  },
  {
   "cell_type": "code",
   "execution_count": 40,
   "id": "982ec787",
   "metadata": {},
   "outputs": [
    {
     "data": {
      "image/png": "[encoded data removed]",
      "text/plain": [
       "plot without title"
      ]
     },
     "metadata": {
      "image/png": {
       "height": 420,
       "width": 420
      }
     },
     "output_type": "display_data"
    }
   ],
   "source": [
    "plot(all.submodels, scale=\"Cp\")"
   ]
  },
  {
   "cell_type": "markdown",
   "id": "4bee5cb0",
   "metadata": {},
   "source": [
    "# plot statistic by subset size "
   ]
  },
  {
   "cell_type": "markdown",
   "id": "53a3df83",
   "metadata": {},
   "source": [
    "# subsets(all.submodels, statistic=\"cp\")"
   ]
  },
  {
   "cell_type": "code",
   "execution_count": 41,
   "id": "0d411748",
   "metadata": {},
   "outputs": [],
   "source": [
    "R2adj <- summary(all.submodels)$adjr2\n",
    "Cp <- summary(all.submodels)$cp\n",
    "BIC <- summary(all.submodels)$bic"
   ]
  },
  {
   "cell_type": "code",
   "execution_count": 42,
   "id": "35642fad",
   "metadata": {},
   "outputs": [
    {
     "data": {
      "text/html": [
       "<table class=\"dataframe\">\n",
       "<caption>A data.frame: 22 × 12</caption>\n",
       "<thead>\n",
       "\t<tr><th></th><th scope=col>X.Intercept.</th><th scope=col>log.x1</th><th scope=col>log.x2</th><th scope=col>log.x3</th><th scope=col>inv.x4</th><th scope=col>sqrt.x5</th><th scope=col>log.x2.cuad</th><th scope=col>inv.x4.cuad</th><th scope=col>x5</th><th scope=col>R2adj</th><th scope=col>Cp</th><th scope=col>BIC</th></tr>\n",
       "\t<tr><th></th><th scope=col>&lt;lgl&gt;</th><th scope=col>&lt;lgl&gt;</th><th scope=col>&lt;lgl&gt;</th><th scope=col>&lt;lgl&gt;</th><th scope=col>&lt;lgl&gt;</th><th scope=col>&lt;lgl&gt;</th><th scope=col>&lt;lgl&gt;</th><th scope=col>&lt;lgl&gt;</th><th scope=col>&lt;lgl&gt;</th><th scope=col>&lt;dbl&gt;</th><th scope=col>&lt;dbl&gt;</th><th scope=col>&lt;dbl&gt;</th></tr>\n",
       "</thead>\n",
       "<tbody>\n",
       "\t<tr><th scope=row>X1</th><td>TRUE</td><td>FALSE</td><td>FALSE</td><td>FALSE</td><td>FALSE</td><td>FALSE</td><td> TRUE</td><td>FALSE</td><td>FALSE</td><td>0.4455603</td><td> 802.788289</td><td> -8.865869</td></tr>\n",
       "\t<tr><th scope=row>X1.1</th><td>TRUE</td><td>FALSE</td><td> TRUE</td><td>FALSE</td><td>FALSE</td><td>FALSE</td><td>FALSE</td><td>FALSE</td><td>FALSE</td><td>0.4289087</td><td> 827.499244</td><td> -8.155685</td></tr>\n",
       "\t<tr><th scope=row>X1.2</th><td>TRUE</td><td>FALSE</td><td>FALSE</td><td> TRUE</td><td>FALSE</td><td>FALSE</td><td>FALSE</td><td>FALSE</td><td>FALSE</td><td>0.2405361</td><td>1107.044139</td><td> -1.314155</td></tr>\n",
       "\t<tr><th scope=row>X2</th><td>TRUE</td><td> TRUE</td><td> TRUE</td><td>FALSE</td><td>FALSE</td><td>FALSE</td><td>FALSE</td><td>FALSE</td><td>FALSE</td><td>0.7892025</td><td> 280.604182</td><td>-30.013736</td></tr>\n",
       "\t<tr><th scope=row>X2.1</th><td>TRUE</td><td> TRUE</td><td>FALSE</td><td>FALSE</td><td>FALSE</td><td>FALSE</td><td> TRUE</td><td>FALSE</td><td>FALSE</td><td>0.7837995</td><td> 288.257732</td><td>-29.406341</td></tr>\n",
       "\t<tr><th scope=row>X2.2</th><td>TRUE</td><td>FALSE</td><td>FALSE</td><td> TRUE</td><td>FALSE</td><td>FALSE</td><td> TRUE</td><td>FALSE</td><td>FALSE</td><td>0.5604576</td><td> 604.631669</td><td>-12.377667</td></tr>\n",
       "\t<tr><th scope=row>X3</th><td>TRUE</td><td> TRUE</td><td> TRUE</td><td>FALSE</td><td> TRUE</td><td>FALSE</td><td>FALSE</td><td>FALSE</td><td>FALSE</td><td>0.8445831</td><td> 193.671487</td><td>-35.321529</td></tr>\n",
       "\t<tr><th scope=row>X3.1</th><td>TRUE</td><td> TRUE</td><td> TRUE</td><td>FALSE</td><td>FALSE</td><td>FALSE</td><td>FALSE</td><td> TRUE</td><td>FALSE</td><td>0.8269553</td><td> 217.453000</td><td>-32.742997</td></tr>\n",
       "\t<tr><th scope=row>X3.2</th><td>TRUE</td><td> TRUE</td><td>FALSE</td><td>FALSE</td><td> TRUE</td><td>FALSE</td><td> TRUE</td><td>FALSE</td><td>FALSE</td><td>0.8193407</td><td> 227.725810</td><td>-31.709483</td></tr>\n",
       "\t<tr><th scope=row>X4</th><td>TRUE</td><td> TRUE</td><td>FALSE</td><td> TRUE</td><td> TRUE</td><td>FALSE</td><td> TRUE</td><td>FALSE</td><td>FALSE</td><td>0.9777136</td><td>  14.563071</td><td>-79.985730</td></tr>\n",
       "\t<tr><th scope=row>X4.1</th><td>TRUE</td><td> TRUE</td><td> TRUE</td><td> TRUE</td><td> TRUE</td><td>FALSE</td><td>FALSE</td><td>FALSE</td><td>FALSE</td><td>0.9703947</td><td>  23.943198</td><td>-73.170316</td></tr>\n",
       "\t<tr><th scope=row>X4.2</th><td>TRUE</td><td> TRUE</td><td>FALSE</td><td> TRUE</td><td>FALSE</td><td>FALSE</td><td> TRUE</td><td> TRUE</td><td>FALSE</td><td>0.9512210</td><td>  48.516915</td><td>-61.185990</td></tr>\n",
       "\t<tr><th scope=row>X5</th><td>TRUE</td><td> TRUE</td><td> TRUE</td><td> TRUE</td><td> TRUE</td><td>FALSE</td><td> TRUE</td><td>FALSE</td><td>FALSE</td><td>0.9818600</td><td>  10.025303</td><td>-83.045821</td></tr>\n",
       "\t<tr><th scope=row>X5.1</th><td>TRUE</td><td> TRUE</td><td>FALSE</td><td> TRUE</td><td> TRUE</td><td>FALSE</td><td> TRUE</td><td> TRUE</td><td>FALSE</td><td>0.9792127</td><td>  13.239553</td><td>-79.776532</td></tr>\n",
       "\t<tr><th scope=row>X5.2</th><td>TRUE</td><td> TRUE</td><td>FALSE</td><td> TRUE</td><td> TRUE</td><td>FALSE</td><td> TRUE</td><td>FALSE</td><td> TRUE</td><td>0.9775057</td><td>  15.312110</td><td>-77.882503</td></tr>\n",
       "\t<tr><th scope=row>X6</th><td>TRUE</td><td> TRUE</td><td> TRUE</td><td> TRUE</td><td> TRUE</td><td>FALSE</td><td> TRUE</td><td> TRUE</td><td>FALSE</td><td>0.9839096</td><td>   8.451321</td><td>-84.117111</td></tr>\n",
       "\t<tr><th scope=row>X6.1</th><td>TRUE</td><td> TRUE</td><td> TRUE</td><td> TRUE</td><td> TRUE</td><td>FALSE</td><td> TRUE</td><td>FALSE</td><td> TRUE</td><td>0.9813598</td><td>  11.375236</td><td>-80.586781</td></tr>\n",
       "\t<tr><th scope=row>X6.2</th><td>TRUE</td><td> TRUE</td><td> TRUE</td><td> TRUE</td><td> TRUE</td><td> TRUE</td><td> TRUE</td><td>FALSE</td><td>FALSE</td><td>0.9809303</td><td>  11.867690</td><td>-80.040130</td></tr>\n",
       "\t<tr><th scope=row>X7</th><td>TRUE</td><td> TRUE</td><td> TRUE</td><td> TRUE</td><td> TRUE</td><td>FALSE</td><td> TRUE</td><td> TRUE</td><td> TRUE</td><td>0.9836328</td><td>   9.664692</td><td>-81.984692</td></tr>\n",
       "\t<tr><th scope=row>X7.1</th><td>TRUE</td><td> TRUE</td><td> TRUE</td><td> TRUE</td><td> TRUE</td><td> TRUE</td><td> TRUE</td><td> TRUE</td><td>FALSE</td><td>0.9830457</td><td>  10.298289</td><td>-81.138939</td></tr>\n",
       "\t<tr><th scope=row>X7.2</th><td>TRUE</td><td> TRUE</td><td> TRUE</td><td> TRUE</td><td> TRUE</td><td> TRUE</td><td> TRUE</td><td>FALSE</td><td> TRUE</td><td>0.9818055</td><td>  11.636841</td><td>-79.444541</td></tr>\n",
       "\t<tr><th scope=row>X8</th><td>TRUE</td><td> TRUE</td><td> TRUE</td><td> TRUE</td><td> TRUE</td><td> TRUE</td><td> TRUE</td><td> TRUE</td><td> TRUE</td><td>0.9851752</td><td>   9.000000</td><td>-82.731062</td></tr>\n",
       "</tbody>\n",
       "</table>\n"
      ],
      "text/latex": [
       "A data.frame: 22 × 12\n",
       "\\begin{tabular}{r|llllllllllll}\n",
       "  & X.Intercept. & log.x1 & log.x2 & log.x3 & inv.x4 & sqrt.x5 & log.x2.cuad & inv.x4.cuad & x5 & R2adj & Cp & BIC\\\\\n",
       "  & <lgl> & <lgl> & <lgl> & <lgl> & <lgl> & <lgl> & <lgl> & <lgl> & <lgl> & <dbl> & <dbl> & <dbl>\\\\\n",
       "\\hline\n",
       "\tX1 & TRUE & FALSE & FALSE & FALSE & FALSE & FALSE &  TRUE & FALSE & FALSE & 0.4455603 &  802.788289 &  -8.865869\\\\\n",
       "\tX1.1 & TRUE & FALSE &  TRUE & FALSE & FALSE & FALSE & FALSE & FALSE & FALSE & 0.4289087 &  827.499244 &  -8.155685\\\\\n",
       "\tX1.2 & TRUE & FALSE & FALSE &  TRUE & FALSE & FALSE & FALSE & FALSE & FALSE & 0.2405361 & 1107.044139 &  -1.314155\\\\\n",
       "\tX2 & TRUE &  TRUE &  TRUE & FALSE & FALSE & FALSE & FALSE & FALSE & FALSE & 0.7892025 &  280.604182 & -30.013736\\\\\n",
       "\tX2.1 & TRUE &  TRUE & FALSE & FALSE & FALSE & FALSE &  TRUE & FALSE & FALSE & 0.7837995 &  288.257732 & -29.406341\\\\\n",
       "\tX2.2 & TRUE & FALSE & FALSE &  TRUE & FALSE & FALSE &  TRUE & FALSE & FALSE & 0.5604576 &  604.631669 & -12.377667\\\\\n",
       "\tX3 & TRUE &  TRUE &  TRUE & FALSE &  TRUE & FALSE & FALSE & FALSE & FALSE & 0.8445831 &  193.671487 & -35.321529\\\\\n",
       "\tX3.1 & TRUE &  TRUE &  TRUE & FALSE & FALSE & FALSE & FALSE &  TRUE & FALSE & 0.8269553 &  217.453000 & -32.742997\\\\\n",
       "\tX3.2 & TRUE &  TRUE & FALSE & FALSE &  TRUE & FALSE &  TRUE & FALSE & FALSE & 0.8193407 &  227.725810 & -31.709483\\\\\n",
       "\tX4 & TRUE &  TRUE & FALSE &  TRUE &  TRUE & FALSE &  TRUE & FALSE & FALSE & 0.9777136 &   14.563071 & -79.985730\\\\\n",
       "\tX4.1 & TRUE &  TRUE &  TRUE &  TRUE &  TRUE & FALSE & FALSE & FALSE & FALSE & 0.9703947 &   23.943198 & -73.170316\\\\\n",
       "\tX4.2 & TRUE &  TRUE & FALSE &  TRUE & FALSE & FALSE &  TRUE &  TRUE & FALSE & 0.9512210 &   48.516915 & -61.185990\\\\\n",
       "\tX5 & TRUE &  TRUE &  TRUE &  TRUE &  TRUE & FALSE &  TRUE & FALSE & FALSE & 0.9818600 &   10.025303 & -83.045821\\\\\n",
       "\tX5.1 & TRUE &  TRUE & FALSE &  TRUE &  TRUE & FALSE &  TRUE &  TRUE & FALSE & 0.9792127 &   13.239553 & -79.776532\\\\\n",
       "\tX5.2 & TRUE &  TRUE & FALSE &  TRUE &  TRUE & FALSE &  TRUE & FALSE &  TRUE & 0.9775057 &   15.312110 & -77.882503\\\\\n",
       "\tX6 & TRUE &  TRUE &  TRUE &  TRUE &  TRUE & FALSE &  TRUE &  TRUE & FALSE & 0.9839096 &    8.451321 & -84.117111\\\\\n",
       "\tX6.1 & TRUE &  TRUE &  TRUE &  TRUE &  TRUE & FALSE &  TRUE & FALSE &  TRUE & 0.9813598 &   11.375236 & -80.586781\\\\\n",
       "\tX6.2 & TRUE &  TRUE &  TRUE &  TRUE &  TRUE &  TRUE &  TRUE & FALSE & FALSE & 0.9809303 &   11.867690 & -80.040130\\\\\n",
       "\tX7 & TRUE &  TRUE &  TRUE &  TRUE &  TRUE & FALSE &  TRUE &  TRUE &  TRUE & 0.9836328 &    9.664692 & -81.984692\\\\\n",
       "\tX7.1 & TRUE &  TRUE &  TRUE &  TRUE &  TRUE &  TRUE &  TRUE &  TRUE & FALSE & 0.9830457 &   10.298289 & -81.138939\\\\\n",
       "\tX7.2 & TRUE &  TRUE &  TRUE &  TRUE &  TRUE &  TRUE &  TRUE & FALSE &  TRUE & 0.9818055 &   11.636841 & -79.444541\\\\\n",
       "\tX8 & TRUE &  TRUE &  TRUE &  TRUE &  TRUE &  TRUE &  TRUE &  TRUE &  TRUE & 0.9851752 &    9.000000 & -82.731062\\\\\n",
       "\\end{tabular}\n"
      ],
      "text/markdown": [
       "\n",
       "A data.frame: 22 × 12\n",
       "\n",
       "| <!--/--> | X.Intercept. &lt;lgl&gt; | log.x1 &lt;lgl&gt; | log.x2 &lt;lgl&gt; | log.x3 &lt;lgl&gt; | inv.x4 &lt;lgl&gt; | sqrt.x5 &lt;lgl&gt; | log.x2.cuad &lt;lgl&gt; | inv.x4.cuad &lt;lgl&gt; | x5 &lt;lgl&gt; | R2adj &lt;dbl&gt; | Cp &lt;dbl&gt; | BIC &lt;dbl&gt; |\n",
       "|---|---|---|---|---|---|---|---|---|---|---|---|---|\n",
       "| X1 | TRUE | FALSE | FALSE | FALSE | FALSE | FALSE |  TRUE | FALSE | FALSE | 0.4455603 |  802.788289 |  -8.865869 |\n",
       "| X1.1 | TRUE | FALSE |  TRUE | FALSE | FALSE | FALSE | FALSE | FALSE | FALSE | 0.4289087 |  827.499244 |  -8.155685 |\n",
       "| X1.2 | TRUE | FALSE | FALSE |  TRUE | FALSE | FALSE | FALSE | FALSE | FALSE | 0.2405361 | 1107.044139 |  -1.314155 |\n",
       "| X2 | TRUE |  TRUE |  TRUE | FALSE | FALSE | FALSE | FALSE | FALSE | FALSE | 0.7892025 |  280.604182 | -30.013736 |\n",
       "| X2.1 | TRUE |  TRUE | FALSE | FALSE | FALSE | FALSE |  TRUE | FALSE | FALSE | 0.7837995 |  288.257732 | -29.406341 |\n",
       "| X2.2 | TRUE | FALSE | FALSE |  TRUE | FALSE | FALSE |  TRUE | FALSE | FALSE | 0.5604576 |  604.631669 | -12.377667 |\n",
       "| X3 | TRUE |  TRUE |  TRUE | FALSE |  TRUE | FALSE | FALSE | FALSE | FALSE | 0.8445831 |  193.671487 | -35.321529 |\n",
       "| X3.1 | TRUE |  TRUE |  TRUE | FALSE | FALSE | FALSE | FALSE |  TRUE | FALSE | 0.8269553 |  217.453000 | -32.742997 |\n",
       "| X3.2 | TRUE |  TRUE | FALSE | FALSE |  TRUE | FALSE |  TRUE | FALSE | FALSE | 0.8193407 |  227.725810 | -31.709483 |\n",
       "| X4 | TRUE |  TRUE | FALSE |  TRUE |  TRUE | FALSE |  TRUE | FALSE | FALSE | 0.9777136 |   14.563071 | -79.985730 |\n",
       "| X4.1 | TRUE |  TRUE |  TRUE |  TRUE |  TRUE | FALSE | FALSE | FALSE | FALSE | 0.9703947 |   23.943198 | -73.170316 |\n",
       "| X4.2 | TRUE |  TRUE | FALSE |  TRUE | FALSE | FALSE |  TRUE |  TRUE | FALSE | 0.9512210 |   48.516915 | -61.185990 |\n",
       "| X5 | TRUE |  TRUE |  TRUE |  TRUE |  TRUE | FALSE |  TRUE | FALSE | FALSE | 0.9818600 |   10.025303 | -83.045821 |\n",
       "| X5.1 | TRUE |  TRUE | FALSE |  TRUE |  TRUE | FALSE |  TRUE |  TRUE | FALSE | 0.9792127 |   13.239553 | -79.776532 |\n",
       "| X5.2 | TRUE |  TRUE | FALSE |  TRUE |  TRUE | FALSE |  TRUE | FALSE |  TRUE | 0.9775057 |   15.312110 | -77.882503 |\n",
       "| X6 | TRUE |  TRUE |  TRUE |  TRUE |  TRUE | FALSE |  TRUE |  TRUE | FALSE | 0.9839096 |    8.451321 | -84.117111 |\n",
       "| X6.1 | TRUE |  TRUE |  TRUE |  TRUE |  TRUE | FALSE |  TRUE | FALSE |  TRUE | 0.9813598 |   11.375236 | -80.586781 |\n",
       "| X6.2 | TRUE |  TRUE |  TRUE |  TRUE |  TRUE |  TRUE |  TRUE | FALSE | FALSE | 0.9809303 |   11.867690 | -80.040130 |\n",
       "| X7 | TRUE |  TRUE |  TRUE |  TRUE |  TRUE | FALSE |  TRUE |  TRUE |  TRUE | 0.9836328 |    9.664692 | -81.984692 |\n",
       "| X7.1 | TRUE |  TRUE |  TRUE |  TRUE |  TRUE |  TRUE |  TRUE |  TRUE | FALSE | 0.9830457 |   10.298289 | -81.138939 |\n",
       "| X7.2 | TRUE |  TRUE |  TRUE |  TRUE |  TRUE |  TRUE |  TRUE | FALSE |  TRUE | 0.9818055 |   11.636841 | -79.444541 |\n",
       "| X8 | TRUE |  TRUE |  TRUE |  TRUE |  TRUE |  TRUE |  TRUE |  TRUE |  TRUE | 0.9851752 |    9.000000 | -82.731062 |\n",
       "\n"
      ],
      "text/plain": [
       "     X.Intercept. log.x1 log.x2 log.x3 inv.x4 sqrt.x5 log.x2.cuad inv.x4.cuad\n",
       "X1   TRUE         FALSE  FALSE  FALSE  FALSE  FALSE    TRUE       FALSE      \n",
       "X1.1 TRUE         FALSE   TRUE  FALSE  FALSE  FALSE   FALSE       FALSE      \n",
       "X1.2 TRUE         FALSE  FALSE   TRUE  FALSE  FALSE   FALSE       FALSE      \n",
       "X2   TRUE          TRUE   TRUE  FALSE  FALSE  FALSE   FALSE       FALSE      \n",
       "X2.1 TRUE          TRUE  FALSE  FALSE  FALSE  FALSE    TRUE       FALSE      \n",
       "X2.2 TRUE         FALSE  FALSE   TRUE  FALSE  FALSE    TRUE       FALSE      \n",
       "X3   TRUE          TRUE   TRUE  FALSE   TRUE  FALSE   FALSE       FALSE      \n",
       "X3.1 TRUE          TRUE   TRUE  FALSE  FALSE  FALSE   FALSE        TRUE      \n",
       "X3.2 TRUE          TRUE  FALSE  FALSE   TRUE  FALSE    TRUE       FALSE      \n",
       "X4   TRUE          TRUE  FALSE   TRUE   TRUE  FALSE    TRUE       FALSE      \n",
       "X4.1 TRUE          TRUE   TRUE   TRUE   TRUE  FALSE   FALSE       FALSE      \n",
       "X4.2 TRUE          TRUE  FALSE   TRUE  FALSE  FALSE    TRUE        TRUE      \n",
       "X5   TRUE          TRUE   TRUE   TRUE   TRUE  FALSE    TRUE       FALSE      \n",
       "X5.1 TRUE          TRUE  FALSE   TRUE   TRUE  FALSE    TRUE        TRUE      \n",
       "X5.2 TRUE          TRUE  FALSE   TRUE   TRUE  FALSE    TRUE       FALSE      \n",
       "X6   TRUE          TRUE   TRUE   TRUE   TRUE  FALSE    TRUE        TRUE      \n",
       "X6.1 TRUE          TRUE   TRUE   TRUE   TRUE  FALSE    TRUE       FALSE      \n",
       "X6.2 TRUE          TRUE   TRUE   TRUE   TRUE   TRUE    TRUE       FALSE      \n",
       "X7   TRUE          TRUE   TRUE   TRUE   TRUE  FALSE    TRUE        TRUE      \n",
       "X7.1 TRUE          TRUE   TRUE   TRUE   TRUE   TRUE    TRUE        TRUE      \n",
       "X7.2 TRUE          TRUE   TRUE   TRUE   TRUE   TRUE    TRUE       FALSE      \n",
       "X8   TRUE          TRUE   TRUE   TRUE   TRUE   TRUE    TRUE        TRUE      \n",
       "     x5    R2adj     Cp          BIC       \n",
       "X1   FALSE 0.4455603  802.788289  -8.865869\n",
       "X1.1 FALSE 0.4289087  827.499244  -8.155685\n",
       "X1.2 FALSE 0.2405361 1107.044139  -1.314155\n",
       "X2   FALSE 0.7892025  280.604182 -30.013736\n",
       "X2.1 FALSE 0.7837995  288.257732 -29.406341\n",
       "X2.2 FALSE 0.5604576  604.631669 -12.377667\n",
       "X3   FALSE 0.8445831  193.671487 -35.321529\n",
       "X3.1 FALSE 0.8269553  217.453000 -32.742997\n",
       "X3.2 FALSE 0.8193407  227.725810 -31.709483\n",
       "X4   FALSE 0.9777136   14.563071 -79.985730\n",
       "X4.1 FALSE 0.9703947   23.943198 -73.170316\n",
       "X4.2 FALSE 0.9512210   48.516915 -61.185990\n",
       "X5   FALSE 0.9818600   10.025303 -83.045821\n",
       "X5.1 FALSE 0.9792127   13.239553 -79.776532\n",
       "X5.2  TRUE 0.9775057   15.312110 -77.882503\n",
       "X6   FALSE 0.9839096    8.451321 -84.117111\n",
       "X6.1  TRUE 0.9813598   11.375236 -80.586781\n",
       "X6.2 FALSE 0.9809303   11.867690 -80.040130\n",
       "X7    TRUE 0.9836328    9.664692 -81.984692\n",
       "X7.1 FALSE 0.9830457   10.298289 -81.138939\n",
       "X7.2  TRUE 0.9818055   11.636841 -79.444541\n",
       "X8    TRUE 0.9851752    9.000000 -82.731062"
      ]
     },
     "metadata": {},
     "output_type": "display_data"
    }
   ],
   "source": [
    "data.frame(summary(all.submodels)$which, R2adj=R2adj, Cp=Cp, BIC=BIC)"
   ]
  },
  {
   "cell_type": "code",
   "execution_count": 43,
   "id": "c6b76a10",
   "metadata": {},
   "outputs": [
    {
     "data": {
      "text/plain": [
       "\n",
       "Call:\n",
       "lm(formula = log.y ~ log.x1 + log.x2 + log.x3 + inv.x4 + log.x2.cuad + \n",
       "    inv.x4.cuad, subset = -c(2))\n",
       "\n",
       "Residuals:\n",
       "     Min       1Q   Median       3Q      Max \n",
       "-0.27141 -0.09768 -0.01107  0.09111  0.24414 \n",
       "\n",
       "Coefficients:\n",
       "            Estimate Std. Error t value Pr(>|t|)    \n",
       "(Intercept) -3.44847    0.30761 -11.211 2.83e-09 ***\n",
       "log.x1      -1.16812    0.06550 -17.835 1.93e-12 ***\n",
       "log.x2       0.65105    0.26033   2.501  0.02291 *  \n",
       "log.x3       1.10519    0.08995  12.286 7.01e-10 ***\n",
       "inv.x4       8.42301    1.41896   5.936 1.63e-05 ***\n",
       "log.x2.cuad  0.24758    0.06579   3.763  0.00155 ** \n",
       "inv.x4.cuad -4.49155    2.47520  -1.815  0.08727 .  \n",
       "---\n",
       "Signif. codes:  0 '***' 0.001 '**' 0.01 '*' 0.05 '.' 0.1 ' ' 1\n",
       "\n",
       "Residual standard error: 0.1593 on 17 degrees of freedom\n",
       "Multiple R-squared:  0.9881,\tAdjusted R-squared:  0.9839 \n",
       "F-statistic: 235.4 on 6 and 17 DF,  p-value: 2.131e-15\n"
      ]
     },
     "metadata": {},
     "output_type": "display_data"
    }
   ],
   "source": [
    "regre7 <- lm( log.y ~ log.x1 + log.x2 + log.x3 + inv.x4 + log.x2.cuad + inv.x4.cuad, subset=-c(2) )\n",
    "summary(regre7)"
   ]
  },
  {
   "cell_type": "code",
   "execution_count": 44,
   "id": "7c692e2b",
   "metadata": {},
   "outputs": [
    {
     "name": "stdout",
     "output_type": "stream",
     "text": [
      "            Test stat Pr(>|Test stat|)\n",
      "log.x1        -0.2659           0.7937\n",
      "log.x2        -0.7660           0.4549\n",
      "log.x3        -0.6271           0.5395\n",
      "inv.x4        -1.5320           0.1450\n",
      "log.x2.cuad    0.5585           0.5843\n",
      "inv.x4.cuad    0.0941           0.9262\n",
      "Tukey test    -0.8320           0.4054\n"
     ]
    },
    {
     "data": {
      "image/png": "[encoded data removed]",
      "text/plain": [
       "plot without title"
      ]
     },
     "metadata": {
      "image/png": {
       "height": 420,
       "width": 420
      }
     },
     "output_type": "display_data"
    }
   ],
   "source": [
    "residualPlots(regre7, terms= ~. , type = \"rstudent\", quadratic=FALSE)"
   ]
  },
  {
   "cell_type": "code",
   "execution_count": 45,
   "id": "df923395",
   "metadata": {},
   "outputs": [
    {
     "data": {
      "text/plain": [
       "Non-constant Variance Score Test \n",
       "Variance formula: ~ fitted.values \n",
       "Chisquare = 1.081374, Df = 1, p = 0.29839"
      ]
     },
     "metadata": {},
     "output_type": "display_data"
    },
    {
     "data": {
      "text/plain": [
       "Non-constant Variance Score Test \n",
       "Variance formula: ~ log.x1[-2] \n",
       "Chisquare = 1.857408, Df = 1, p = 0.17292"
      ]
     },
     "metadata": {},
     "output_type": "display_data"
    },
    {
     "data": {
      "text/plain": [
       "Non-constant Variance Score Test \n",
       "Variance formula: ~ log.x2[-2] \n",
       "Chisquare = 5.03775, Df = 1, p = 0.024801"
      ]
     },
     "metadata": {},
     "output_type": "display_data"
    },
    {
     "data": {
      "text/plain": [
       "Non-constant Variance Score Test \n",
       "Variance formula: ~ log.x3[-2] \n",
       "Chisquare = 0.7948861, Df = 1, p = 0.37263"
      ]
     },
     "metadata": {},
     "output_type": "display_data"
    },
    {
     "data": {
      "text/plain": [
       "Non-constant Variance Score Test \n",
       "Variance formula: ~ inv.x4[-2] \n",
       "Chisquare = 1.332787, Df = 1, p = 0.24831"
      ]
     },
     "metadata": {},
     "output_type": "display_data"
    },
    {
     "data": {
      "text/plain": [
       "Non-constant Variance Score Test \n",
       "Variance formula: ~ log.x2.cuad[-2] \n",
       "Chisquare = 5.924061, Df = 1, p = 0.014935"
      ]
     },
     "metadata": {},
     "output_type": "display_data"
    },
    {
     "data": {
      "text/plain": [
       "Non-constant Variance Score Test \n",
       "Variance formula: ~ inv.x4.cuad[-2] \n",
       "Chisquare = 1.456829, Df = 1, p = 0.22744"
      ]
     },
     "metadata": {},
     "output_type": "display_data"
    }
   ],
   "source": [
    "ncvTest(regre7)\n",
    "ncvTest(regre7, ~ log.x1[-2])\n",
    "ncvTest(regre7, ~ log.x2[-2])\n",
    "ncvTest(regre7, ~ log.x3[-2])\n",
    "ncvTest(regre7, ~ inv.x4[-2])\n",
    "ncvTest(regre7, ~ log.x2.cuad[-2])\n",
    "ncvTest(regre7, ~ inv.x4.cuad[-2])"
   ]
  },
  {
   "cell_type": "code",
   "execution_count": 46,
   "id": "d352d57d",
   "metadata": {},
   "outputs": [
    {
     "data": {
      "text/html": [
       "<style>\n",
       ".dl-inline {width: auto; margin:0; padding: 0}\n",
       ".dl-inline>dt, .dl-inline>dd {float: none; width: auto; display: inline-block}\n",
       ".dl-inline>dt::after {content: \":\\0020\"; padding-right: .5ex}\n",
       ".dl-inline>dt:not(:first-of-type) {padding-left: .5ex}\n",
       "</style><dl class=dl-inline><dt>10</dt><dd>9</dd><dt>6</dt><dd>5</dd></dl>\n"
      ],
      "text/latex": [
       "\\begin{description*}\n",
       "\\item[10] 9\n",
       "\\item[6] 5\n",
       "\\end{description*}\n"
      ],
      "text/markdown": [
       "10\n",
       ":   96\n",
       ":   5\n",
       "\n"
      ],
      "text/plain": [
       "10  6 \n",
       " 9  5 "
      ]
     },
     "metadata": {},
     "output_type": "display_data"
    },
    {
     "data": {
      "text/html": [
       "<table class=\"dataframe\">\n",
       "<caption>A anova: 2 × 6</caption>\n",
       "<thead>\n",
       "\t<tr><th></th><th scope=col>Res.Df</th><th scope=col>RSS</th><th scope=col>Df</th><th scope=col>Sum of Sq</th><th scope=col>F</th><th scope=col>Pr(&gt;F)</th></tr>\n",
       "\t<tr><th></th><th scope=col>&lt;dbl&gt;</th><th scope=col>&lt;dbl&gt;</th><th scope=col>&lt;dbl&gt;</th><th scope=col>&lt;dbl&gt;</th><th scope=col>&lt;dbl&gt;</th><th scope=col>&lt;dbl&gt;</th></tr>\n",
       "</thead>\n",
       "<tbody>\n",
       "\t<tr><th scope=row>1</th><td>17</td><td>0.4314099</td><td>NA</td><td>        NA</td><td>      NA</td><td>       NA</td></tr>\n",
       "\t<tr><th scope=row>2</th><td>15</td><td>0.3507146</td><td> 2</td><td>0.08069526</td><td>1.725661</td><td>0.2115819</td></tr>\n",
       "</tbody>\n",
       "</table>\n"
      ],
      "text/latex": [
       "A anova: 2 × 6\n",
       "\\begin{tabular}{r|llllll}\n",
       "  & Res.Df & RSS & Df & Sum of Sq & F & Pr(>F)\\\\\n",
       "  & <dbl> & <dbl> & <dbl> & <dbl> & <dbl> & <dbl>\\\\\n",
       "\\hline\n",
       "\t1 & 17 & 0.4314099 & NA &         NA &       NA &        NA\\\\\n",
       "\t2 & 15 & 0.3507146 &  2 & 0.08069526 & 1.725661 & 0.2115819\\\\\n",
       "\\end{tabular}\n"
      ],
      "text/markdown": [
       "\n",
       "A anova: 2 × 6\n",
       "\n",
       "| <!--/--> | Res.Df &lt;dbl&gt; | RSS &lt;dbl&gt; | Df &lt;dbl&gt; | Sum of Sq &lt;dbl&gt; | F &lt;dbl&gt; | Pr(&gt;F) &lt;dbl&gt; |\n",
       "|---|---|---|---|---|---|---|\n",
       "| 1 | 17 | 0.4314099 | NA |         NA |       NA |        NA |\n",
       "| 2 | 15 | 0.3507146 |  2 | 0.08069526 | 1.725661 | 0.2115819 |\n",
       "\n"
      ],
      "text/plain": [
       "  Res.Df RSS       Df Sum of Sq  F        Pr(>F)   \n",
       "1 17     0.4314099 NA         NA       NA        NA\n",
       "2 15     0.3507146  2 0.08069526 1.725661 0.2115819"
      ]
     },
     "metadata": {},
     "output_type": "display_data"
    },
    {
     "data": {
      "image/png": "[encoded data removed]",
      "text/plain": [
       "plot without title"
      ]
     },
     "metadata": {
      "image/png": {
       "height": 420,
       "width": 420
      }
     },
     "output_type": "display_data"
    }
   ],
   "source": [
    "qqPlot(rstudent(regre7))\n",
    "\n",
    "linearHypothesis(regre6,c(\"sqrt.x5\",\"x5\") )"
   ]
  },
  {
   "cell_type": "code",
   "execution_count": null,
   "id": "cc20082f",
   "metadata": {},
   "outputs": [],
   "source": []
  }
 ],
 "metadata": {
  "kernelspec": {
   "display_name": "R",
   "language": "R",
   "name": "ir"
  },
  "language_info": {
   "codemirror_mode": "r",
   "file_extension": ".r",
   "mimetype": "text/x-r-source",
   "name": "R",
   "pygments_lexer": "r",
   "version": "4.3.2"
  }
 },
 "nbformat": 4,
 "nbformat_minor": 5
}
