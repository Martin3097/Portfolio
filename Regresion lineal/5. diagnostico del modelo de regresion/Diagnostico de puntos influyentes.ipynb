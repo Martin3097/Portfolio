{
 "cells": [
  {
   "cell_type": "markdown",
   "id": "4bed1d0c",
   "metadata": {},
   "source": [
    "# Ajuste de un modelo de regresion lineal multiple a los datos de peso-edad-presion"
   ]
  },
  {
   "cell_type": "markdown",
   "id": "e9e0f7e6",
   "metadata": {},
   "source": [
    "## cargando librerias"
   ]
  },
  {
   "cell_type": "code",
   "execution_count": 1,
   "id": "c3c4f7f9",
   "metadata": {},
   "outputs": [
    {
     "name": "stderr",
     "output_type": "stream",
     "text": [
      "Loading required package: car\n",
      "\n",
      "Loading required package: carData\n",
      "\n",
      "Loading required package: effects\n",
      "\n",
      "lattice theme set by effectsTheme()\n",
      "See ?effectsTheme for details.\n",
      "\n"
     ]
    }
   ],
   "source": [
    "library(alr4)"
   ]
  },
  {
   "cell_type": "markdown",
   "id": "fa970d1e",
   "metadata": {},
   "source": [
    "## cargando datos"
   ]
  },
  {
   "cell_type": "code",
   "execution_count": 2,
   "id": "e8a45182",
   "metadata": {},
   "outputs": [
    {
     "data": {
      "text/html": [
       "<table class=\"dataframe\">\n",
       "<caption>A data.frame: 13 × 3</caption>\n",
       "<thead>\n",
       "\t<tr><th scope=col>Peso</th><th scope=col>Edad</th><th scope=col>Presion</th></tr>\n",
       "\t<tr><th scope=col>&lt;int&gt;</th><th scope=col>&lt;int&gt;</th><th scope=col>&lt;int&gt;</th></tr>\n",
       "</thead>\n",
       "<tbody>\n",
       "\t<tr><td>152</td><td>50</td><td>120</td></tr>\n",
       "\t<tr><td>183</td><td>20</td><td>141</td></tr>\n",
       "\t<tr><td>171</td><td>20</td><td>124</td></tr>\n",
       "\t<tr><td>165</td><td>30</td><td>126</td></tr>\n",
       "\t<tr><td>158</td><td>30</td><td>117</td></tr>\n",
       "\t<tr><td>161</td><td>50</td><td>129</td></tr>\n",
       "\t<tr><td>149</td><td>60</td><td>123</td></tr>\n",
       "\t<tr><td>158</td><td>50</td><td>125</td></tr>\n",
       "\t<tr><td>170</td><td>40</td><td>132</td></tr>\n",
       "\t<tr><td>153</td><td>55</td><td>123</td></tr>\n",
       "\t<tr><td>164</td><td>40</td><td>132</td></tr>\n",
       "\t<tr><td>190</td><td>40</td><td>155</td></tr>\n",
       "\t<tr><td>185</td><td>20</td><td>147</td></tr>\n",
       "</tbody>\n",
       "</table>\n"
      ],
      "text/latex": [
       "A data.frame: 13 × 3\n",
       "\\begin{tabular}{lll}\n",
       " Peso & Edad & Presion\\\\\n",
       " <int> & <int> & <int>\\\\\n",
       "\\hline\n",
       "\t 152 & 50 & 120\\\\\n",
       "\t 183 & 20 & 141\\\\\n",
       "\t 171 & 20 & 124\\\\\n",
       "\t 165 & 30 & 126\\\\\n",
       "\t 158 & 30 & 117\\\\\n",
       "\t 161 & 50 & 129\\\\\n",
       "\t 149 & 60 & 123\\\\\n",
       "\t 158 & 50 & 125\\\\\n",
       "\t 170 & 40 & 132\\\\\n",
       "\t 153 & 55 & 123\\\\\n",
       "\t 164 & 40 & 132\\\\\n",
       "\t 190 & 40 & 155\\\\\n",
       "\t 185 & 20 & 147\\\\\n",
       "\\end{tabular}\n"
      ],
      "text/markdown": [
       "\n",
       "A data.frame: 13 × 3\n",
       "\n",
       "| Peso &lt;int&gt; | Edad &lt;int&gt; | Presion &lt;int&gt; |\n",
       "|---|---|---|\n",
       "| 152 | 50 | 120 |\n",
       "| 183 | 20 | 141 |\n",
       "| 171 | 20 | 124 |\n",
       "| 165 | 30 | 126 |\n",
       "| 158 | 30 | 117 |\n",
       "| 161 | 50 | 129 |\n",
       "| 149 | 60 | 123 |\n",
       "| 158 | 50 | 125 |\n",
       "| 170 | 40 | 132 |\n",
       "| 153 | 55 | 123 |\n",
       "| 164 | 40 | 132 |\n",
       "| 190 | 40 | 155 |\n",
       "| 185 | 20 | 147 |\n",
       "\n"
      ],
      "text/plain": [
       "   Peso Edad Presion\n",
       "1  152  50   120    \n",
       "2  183  20   141    \n",
       "3  171  20   124    \n",
       "4  165  30   126    \n",
       "5  158  30   117    \n",
       "6  161  50   129    \n",
       "7  149  60   123    \n",
       "8  158  50   125    \n",
       "9  170  40   132    \n",
       "10 153  55   123    \n",
       "11 164  40   132    \n",
       "12 190  40   155    \n",
       "13 185  20   147    "
      ]
     },
     "metadata": {},
     "output_type": "display_data"
    }
   ],
   "source": [
    "peso.edad.presion <- read.table(\"Peso-Edad-Presion.txt\",header=T)\n",
    "\n",
    "\n",
    "peso.edad.presion\n",
    "edad <- peso.edad.presion$Edad\n",
    "presion <- peso.edad.presion$Presion\n",
    "peso <- peso.edad.presion$Peso"
   ]
  },
  {
   "cell_type": "code",
   "execution_count": 3,
   "id": "24725b60",
   "metadata": {},
   "outputs": [],
   "source": [
    "pesoedadpresion <- lm (presion ~ peso + edad)"
   ]
  },
  {
   "cell_type": "markdown",
   "id": "cc85e136",
   "metadata": {},
   "source": [
    "## Prueba de puntos discrepantes"
   ]
  },
  {
   "cell_type": "code",
   "execution_count": 4,
   "id": "7ebc79f2",
   "metadata": {},
   "outputs": [
    {
     "data": {
      "text/plain": [
       "No Studentized residuals with Bonferroni p < 0.05\n",
       "Largest |rstudent|:\n",
       "   rstudent unadjusted p-value Bonferroni p\n",
       "13 2.487277           0.034576      0.44949"
      ]
     },
     "metadata": {},
     "output_type": "display_data"
    }
   ],
   "source": [
    "outlierTest(pesoedadpresion)"
   ]
  },
  {
   "cell_type": "markdown",
   "id": "74bc33a9",
   "metadata": {},
   "source": [
    "# Diagnosticos de influencia"
   ]
  },
  {
   "cell_type": "code",
   "execution_count": 5,
   "id": "6c3f4f3d",
   "metadata": {},
   "outputs": [
    {
     "data": {
      "image/png": "[encoded data removed]",
      "text/plain": [
       "plot without title"
      ]
     },
     "metadata": {
      "image/png": {
       "height": 420,
       "width": 420
      }
     },
     "output_type": "display_data"
    }
   ],
   "source": [
    "infIndexPlot(pesoedadpresion)"
   ]
  },
  {
   "cell_type": "code",
   "execution_count": 6,
   "id": "883a9a89",
   "metadata": {},
   "outputs": [
    {
     "data": {
      "text/html": [
       "<table class=\"dataframe\">\n",
       "<caption>A data.frame: 4 × 3</caption>\n",
       "<thead>\n",
       "\t<tr><th></th><th scope=col>StudRes</th><th scope=col>Hat</th><th scope=col>CookD</th></tr>\n",
       "\t<tr><th></th><th scope=col>&lt;dbl&gt;</th><th scope=col>&lt;dbl&gt;</th><th scope=col>&lt;dbl&gt;</th></tr>\n",
       "</thead>\n",
       "<tbody>\n",
       "\t<tr><th scope=row>3</th><td>-1.903618</td><td>0.2854012</td><td>0.38215821</td></tr>\n",
       "\t<tr><th scope=row>5</th><td>-0.383486</td><td>0.2946956</td><td>0.02239202</td></tr>\n",
       "\t<tr><th scope=row>12</th><td>-1.066978</td><td>0.6529019</td><td>0.70406702</td></tr>\n",
       "\t<tr><th scope=row>13</th><td> 2.487277</td><td>0.2694555</td><td>0.50085088</td></tr>\n",
       "</tbody>\n",
       "</table>\n"
      ],
      "text/latex": [
       "A data.frame: 4 × 3\n",
       "\\begin{tabular}{r|lll}\n",
       "  & StudRes & Hat & CookD\\\\\n",
       "  & <dbl> & <dbl> & <dbl>\\\\\n",
       "\\hline\n",
       "\t3 & -1.903618 & 0.2854012 & 0.38215821\\\\\n",
       "\t5 & -0.383486 & 0.2946956 & 0.02239202\\\\\n",
       "\t12 & -1.066978 & 0.6529019 & 0.70406702\\\\\n",
       "\t13 &  2.487277 & 0.2694555 & 0.50085088\\\\\n",
       "\\end{tabular}\n"
      ],
      "text/markdown": [
       "\n",
       "A data.frame: 4 × 3\n",
       "\n",
       "| <!--/--> | StudRes &lt;dbl&gt; | Hat &lt;dbl&gt; | CookD &lt;dbl&gt; |\n",
       "|---|---|---|---|\n",
       "| 3 | -1.903618 | 0.2854012 | 0.38215821 |\n",
       "| 5 | -0.383486 | 0.2946956 | 0.02239202 |\n",
       "| 12 | -1.066978 | 0.6529019 | 0.70406702 |\n",
       "| 13 |  2.487277 | 0.2694555 | 0.50085088 |\n",
       "\n"
      ],
      "text/plain": [
       "   StudRes   Hat       CookD     \n",
       "3  -1.903618 0.2854012 0.38215821\n",
       "5  -0.383486 0.2946956 0.02239202\n",
       "12 -1.066978 0.6529019 0.70406702\n",
       "13  2.487277 0.2694555 0.50085088"
      ]
     },
     "metadata": {},
     "output_type": "display_data"
    },
    {
     "data": {
      "image/png": "[encoded data removed]",
      "text/plain": [
       "plot without title"
      ]
     },
     "metadata": {
      "image/png": {
       "height": 420,
       "width": 420
      }
     },
     "output_type": "display_data"
    }
   ],
   "source": [
    "influencePlot(pesoedadpresion)"
   ]
  },
  {
   "cell_type": "code",
   "execution_count": 7,
   "id": "c813854b",
   "metadata": {},
   "outputs": [
    {
     "data": {
      "text/html": [
       "<style>\n",
       ".dl-inline {width: auto; margin:0; padding: 0}\n",
       ".dl-inline>dt, .dl-inline>dd {float: none; width: auto; display: inline-block}\n",
       ".dl-inline>dt::after {content: \":\\0020\"; padding-right: .5ex}\n",
       ".dl-inline>dt:not(:first-of-type) {padding-left: .5ex}\n",
       "</style><dl class=dl-inline><dt>1</dt><dd>0.172742804284078</dd><dt>2</dt><dd>0.249079690901997</dd><dt>3</dt><dd>0.28540122330317</dd><dt>4</dt><dd>0.156513900600325</dd><dt>5</dt><dd>0.294695558604025</dd><dt>6</dt><dd>0.135987074770001</dd><dt>7</dt><dd>0.279423147111016</dd><dt>8</dt><dd>0.131248662798746</dd><dt>9</dt><dd>0.0982622676416175</dd><dt>10</dt><dd>0.195168455894383</dd><dt>11</dt><dd>0.0791198384031615</dd><dt>12</dt><dd>0.652901884037908</dd><dt>13</dt><dd>0.269455491649572</dd></dl>\n"
      ],
      "text/latex": [
       "\\begin{description*}\n",
       "\\item[1] 0.172742804284078\n",
       "\\item[2] 0.249079690901997\n",
       "\\item[3] 0.28540122330317\n",
       "\\item[4] 0.156513900600325\n",
       "\\item[5] 0.294695558604025\n",
       "\\item[6] 0.135987074770001\n",
       "\\item[7] 0.279423147111016\n",
       "\\item[8] 0.131248662798746\n",
       "\\item[9] 0.0982622676416175\n",
       "\\item[10] 0.195168455894383\n",
       "\\item[11] 0.0791198384031615\n",
       "\\item[12] 0.652901884037908\n",
       "\\item[13] 0.269455491649572\n",
       "\\end{description*}\n"
      ],
      "text/markdown": [
       "1\n",
       ":   0.1727428042840782\n",
       ":   0.2490796909019973\n",
       ":   0.285401223303174\n",
       ":   0.1565139006003255\n",
       ":   0.2946955586040256\n",
       ":   0.1359870747700017\n",
       ":   0.2794231471110168\n",
       ":   0.1312486627987469\n",
       ":   0.098262267641617510\n",
       ":   0.19516845589438311\n",
       ":   0.079119838403161512\n",
       ":   0.65290188403790813\n",
       ":   0.269455491649572\n",
       "\n"
      ],
      "text/plain": [
       "         1          2          3          4          5          6          7 \n",
       "0.17274280 0.24907969 0.28540122 0.15651390 0.29469556 0.13598707 0.27942315 \n",
       "         8          9         10         11         12         13 \n",
       "0.13124866 0.09826227 0.19516846 0.07911984 0.65290188 0.26945549 "
      ]
     },
     "metadata": {},
     "output_type": "display_data"
    }
   ],
   "source": [
    "hatvalues(pesoedadpresion)"
   ]
  },
  {
   "cell_type": "code",
   "execution_count": 8,
   "id": "93705ba6",
   "metadata": {},
   "outputs": [
    {
     "data": {
      "text/html": [
       "<style>\n",
       ".dl-inline {width: auto; margin:0; padding: 0}\n",
       ".dl-inline>dt, .dl-inline>dd {float: none; width: auto; display: inline-block}\n",
       ".dl-inline>dt::after {content: \":\\0020\"; padding-right: .5ex}\n",
       ".dl-inline>dt:not(:first-of-type) {padding-left: .5ex}\n",
       "</style><dl class=dl-inline><dt>1</dt><dd>0.00016056146603945</dd><dt>2</dt><dd>0.00543219987007408</dd><dt>3</dt><dd>0.382158205649736</dd><dt>4</dt><dd>0.00441484978284372</dd><dt>5</dt><dd>0.022392018618119</dd><dt>6</dt><dd>0.00329443879250788</dd><dt>7</dt><dd>0.124124474263302</dd><dt>8</dt><dd>0.0168626715191184</dd><dt>9</dt><dd>0.0585372825127393</dd><dt>10</dt><dd>0.000142769185105133</dd><dt>11</dt><dd>0.0584292408764871</dd><dt>12</dt><dd>0.704067018438941</dd><dt>13</dt><dd>0.500850876691311</dd></dl>\n"
      ],
      "text/latex": [
       "\\begin{description*}\n",
       "\\item[1] 0.00016056146603945\n",
       "\\item[2] 0.00543219987007408\n",
       "\\item[3] 0.382158205649736\n",
       "\\item[4] 0.00441484978284372\n",
       "\\item[5] 0.022392018618119\n",
       "\\item[6] 0.00329443879250788\n",
       "\\item[7] 0.124124474263302\n",
       "\\item[8] 0.0168626715191184\n",
       "\\item[9] 0.0585372825127393\n",
       "\\item[10] 0.000142769185105133\n",
       "\\item[11] 0.0584292408764871\n",
       "\\item[12] 0.704067018438941\n",
       "\\item[13] 0.500850876691311\n",
       "\\end{description*}\n"
      ],
      "text/markdown": [
       "1\n",
       ":   0.000160561466039452\n",
       ":   0.005432199870074083\n",
       ":   0.3821582056497364\n",
       ":   0.004414849782843725\n",
       ":   0.0223920186181196\n",
       ":   0.003294438792507887\n",
       ":   0.1241244742633028\n",
       ":   0.01686267151911849\n",
       ":   0.058537282512739310\n",
       ":   0.00014276918510513311\n",
       ":   0.058429240876487112\n",
       ":   0.70406701843894113\n",
       ":   0.500850876691311\n",
       "\n"
      ],
      "text/plain": [
       "           1            2            3            4            5            6 \n",
       "0.0001605615 0.0054321999 0.3821582056 0.0044148498 0.0223920186 0.0032944388 \n",
       "           7            8            9           10           11           12 \n",
       "0.1241244743 0.0168626715 0.0585372825 0.0001427692 0.0584292409 0.7040670184 \n",
       "          13 \n",
       "0.5008508767 "
      ]
     },
     "metadata": {},
     "output_type": "display_data"
    }
   ],
   "source": [
    "cooks.distance(pesoedadpresion)"
   ]
  },
  {
   "cell_type": "code",
   "execution_count": 9,
   "id": "5e85a4ac",
   "metadata": {},
   "outputs": [
    {
     "data": {
      "text/html": [
       "<style>\n",
       ".dl-inline {width: auto; margin:0; padding: 0}\n",
       ".dl-inline>dt, .dl-inline>dd {float: none; width: auto; display: inline-block}\n",
       ".dl-inline>dt::after {content: \":\\0020\"; padding-right: .5ex}\n",
       ".dl-inline>dt:not(:first-of-type) {padding-left: .5ex}\n",
       "</style><dl class=dl-inline><dt>1</dt><dd>3.016020587134e-06</dd><dt>2</dt><dd>0.000589875756385345</dd><dt>3</dt><dd>0.231852145921846</dd><dt>4</dt><dd>0.000432699768066677</dd><dt>5</dt><dd>0.00484028851931183</dd><dt>6</dt><dd>0.000279288646124439</dd><dt>7</dt><dd>0.0562905627404811</dd><dt>8</dt><dd>0.00318351275980988</dd><dt>9</dt><dd>0.0196261131355667</dd><dt>10</dt><dd>2.52890826269917e-06</dd><dt>11</dt><dd>0.0195742147820868</dd><dt>12</dt><dd>0.428998379782782</dd><dt>13</dt><dd>0.309917056694755</dd></dl>\n"
      ],
      "text/latex": [
       "\\begin{description*}\n",
       "\\item[1] 3.016020587134e-06\n",
       "\\item[2] 0.000589875756385345\n",
       "\\item[3] 0.231852145921846\n",
       "\\item[4] 0.000432699768066677\n",
       "\\item[5] 0.00484028851931183\n",
       "\\item[6] 0.000279288646124439\n",
       "\\item[7] 0.0562905627404811\n",
       "\\item[8] 0.00318351275980988\n",
       "\\item[9] 0.0196261131355667\n",
       "\\item[10] 2.52890826269917e-06\n",
       "\\item[11] 0.0195742147820868\n",
       "\\item[12] 0.428998379782782\n",
       "\\item[13] 0.309917056694755\n",
       "\\end{description*}\n"
      ],
      "text/markdown": [
       "1\n",
       ":   3.016020587134e-062\n",
       ":   0.0005898757563853453\n",
       ":   0.2318521459218464\n",
       ":   0.0004326997680666775\n",
       ":   0.004840288519311836\n",
       ":   0.0002792886461244397\n",
       ":   0.05629056274048118\n",
       ":   0.003183512759809889\n",
       ":   0.019626113135566710\n",
       ":   2.52890826269917e-0611\n",
       ":   0.019574214782086812\n",
       ":   0.42899837978278213\n",
       ":   0.309917056694755\n",
       "\n"
      ],
      "text/plain": [
       "           1            2            3            4            5            6 \n",
       "3.016021e-06 5.898758e-04 2.318521e-01 4.326998e-04 4.840289e-03 2.792886e-04 \n",
       "           7            8            9           10           11           12 \n",
       "5.629056e-02 3.183513e-03 1.962611e-02 2.528908e-06 1.957421e-02 4.289984e-01 \n",
       "          13 \n",
       "3.099171e-01 "
      ]
     },
     "metadata": {},
     "output_type": "display_data"
    }
   ],
   "source": [
    "pf(cooks.distance(pesoedadpresion), 3, 10)"
   ]
  },
  {
   "cell_type": "code",
   "execution_count": 10,
   "id": "95d1258d",
   "metadata": {},
   "outputs": [
    {
     "data": {
      "text/html": [
       "<dl>\n",
       "\t<dt>$hat</dt>\n",
       "\t\t<dd><style>\n",
       ".dl-inline {width: auto; margin:0; padding: 0}\n",
       ".dl-inline>dt, .dl-inline>dd {float: none; width: auto; display: inline-block}\n",
       ".dl-inline>dt::after {content: \":\\0020\"; padding-right: .5ex}\n",
       ".dl-inline>dt:not(:first-of-type) {padding-left: .5ex}\n",
       "</style><dl class=dl-inline><dt>1</dt><dd>0.172742804284078</dd><dt>2</dt><dd>0.249079690901997</dd><dt>3</dt><dd>0.28540122330317</dd><dt>4</dt><dd>0.156513900600325</dd><dt>5</dt><dd>0.294695558604025</dd><dt>6</dt><dd>0.135987074770001</dd><dt>7</dt><dd>0.279423147111016</dd><dt>8</dt><dd>0.131248662798746</dd><dt>9</dt><dd>0.0982622676416175</dd><dt>10</dt><dd>0.195168455894383</dd><dt>11</dt><dd>0.0791198384031615</dd><dt>12</dt><dd>0.652901884037908</dd><dt>13</dt><dd>0.269455491649572</dd></dl>\n",
       "</dd>\n",
       "\t<dt>$coefficients</dt>\n",
       "\t\t<dd><table class=\"dataframe\">\n",
       "<caption>A matrix: 13 × 3 of type dbl</caption>\n",
       "<thead>\n",
       "\t<tr><th></th><th scope=col>(Intercept)</th><th scope=col>peso</th><th scope=col>edad</th></tr>\n",
       "</thead>\n",
       "<tbody>\n",
       "\t<tr><th scope=row>1</th><td> 0.14520113</td><td>-0.0008331730</td><td> 8.648494e-05</td></tr>\n",
       "\t<tr><th scope=row>2</th><td>-0.25808840</td><td> 0.0026629634</td><td>-3.470332e-03</td></tr>\n",
       "\t<tr><th scope=row>3</th><td>-8.90632947</td><td> 0.0360844975</td><td> 6.504543e-02</td></tr>\n",
       "\t<tr><th scope=row>4</th><td> 1.08434756</td><td>-0.0047918769</td><td>-5.982384e-03</td></tr>\n",
       "\t<tr><th scope=row>5</th><td>-3.29831708</td><td> 0.0157784554</td><td> 1.507866e-02</td></tr>\n",
       "\t<tr><th scope=row>6</th><td> 0.36119512</td><td>-0.0014916318</td><td>-4.260194e-03</td></tr>\n",
       "\t<tr><th scope=row>7</th><td> 0.77394290</td><td>-0.0082460848</td><td> 2.106533e-02</td></tr>\n",
       "\t<tr><th scope=row>8</th><td>-0.01451206</td><td> 0.0009751480</td><td>-6.879448e-03</td></tr>\n",
       "\t<tr><th scope=row>9</th><td> 2.65612400</td><td>-0.0148463154</td><td>-1.154467e-02</td></tr>\n",
       "\t<tr><th scope=row>10</th><td>-0.02689413</td><td> 0.0002595681</td><td>-6.501033e-04</td></tr>\n",
       "\t<tr><th scope=row>11</th><td> 1.10070181</td><td>-0.0046170723</td><td>-1.201849e-03</td></tr>\n",
       "\t<tr><th scope=row>12</th><td>19.91931705</td><td>-0.1051543107</td><td>-7.214861e-02</td></tr>\n",
       "\t<tr><th scope=row>13</th><td>-4.52865794</td><td> 0.0357674000</td><td>-2.460477e-02</td></tr>\n",
       "</tbody>\n",
       "</table>\n",
       "</dd>\n",
       "\t<dt>$sigma</dt>\n",
       "\t\t<dd><style>\n",
       ".dl-inline {width: auto; margin:0; padding: 0}\n",
       ".dl-inline>dt, .dl-inline>dd {float: none; width: auto; display: inline-block}\n",
       ".dl-inline>dt::after {content: \":\\0020\"; padding-right: .5ex}\n",
       ".dl-inline>dt:not(:first-of-type) {padding-left: .5ex}\n",
       "</style><dl class=dl-inline><dt>1</dt><dd>2.64400257141258</dd><dt>2</dt><dd>2.63780375264189</dd><dt>3</dt><dd>2.2327434433006</dd><dt>4</dt><dd>2.63485345607287</dd><dt>5</dt><dd>2.62296456655898</dd><dt>6</dt><dd>2.63599203442756</dd><dt>7</dt><dd>2.51414040104954</dd><dt>8</dt><dd>2.59965852100327</dd><dt>9</dt><dd>2.42187929731219</dd><dt>10</dt><dd>2.64407404353428</dd><dt>11</dt><dd>2.35919314987619</dd><dt>12</dt><dd>2.4914238650038</dd><dt>13</dt><dd>2.03565270125913</dd></dl>\n",
       "</dd>\n",
       "\t<dt>$wt.res</dt>\n",
       "\t\t<dd><style>\n",
       ".dl-inline {width: auto; margin:0; padding: 0}\n",
       ".dl-inline>dt, .dl-inline>dd {float: none; width: auto; display: inline-block}\n",
       ".dl-inline>dt::after {content: \":\\0020\"; padding-right: .5ex}\n",
       ".dl-inline>dt:not(:first-of-type) {padding-left: .5ex}\n",
       "</style><dl class=dl-inline><dt>1</dt><dd>0.109586002491825</dd><dt>2</dt><dd>0.481843953333258</dd><dt>3</dt><dd>-3.59293863347471</dd><dt>4</dt><dd>0.615535761481059</dd><dt>5</dt><dd>-0.844754080823578</dd><dt>6</dt><dd>-0.584327057402104</dd><dt>7</dt><dd>2.08675604414969</dd><dt>8</dt><dd>-1.35302270410409</dd><dt>9</dt><dd>-3.02410580565589</dd><dt>10</dt><dd>-0.0945826044275324</dd><dt>11</dt><dd>3.43850290094014</dd><dt>12</dt><dd>-1.56613482764264</dd><dt>13</dt><dd>4.32764105113457</dd></dl>\n",
       "</dd>\n",
       "</dl>\n"
      ],
      "text/latex": [
       "\\begin{description}\n",
       "\\item[\\$hat] \\begin{description*}\n",
       "\\item[1] 0.172742804284078\n",
       "\\item[2] 0.249079690901997\n",
       "\\item[3] 0.28540122330317\n",
       "\\item[4] 0.156513900600325\n",
       "\\item[5] 0.294695558604025\n",
       "\\item[6] 0.135987074770001\n",
       "\\item[7] 0.279423147111016\n",
       "\\item[8] 0.131248662798746\n",
       "\\item[9] 0.0982622676416175\n",
       "\\item[10] 0.195168455894383\n",
       "\\item[11] 0.0791198384031615\n",
       "\\item[12] 0.652901884037908\n",
       "\\item[13] 0.269455491649572\n",
       "\\end{description*}\n",
       "\n",
       "\\item[\\$coefficients] A matrix: 13 × 3 of type dbl\n",
       "\\begin{tabular}{r|lll}\n",
       "  & (Intercept) & peso & edad\\\\\n",
       "\\hline\n",
       "\t1 &  0.14520113 & -0.0008331730 &  8.648494e-05\\\\\n",
       "\t2 & -0.25808840 &  0.0026629634 & -3.470332e-03\\\\\n",
       "\t3 & -8.90632947 &  0.0360844975 &  6.504543e-02\\\\\n",
       "\t4 &  1.08434756 & -0.0047918769 & -5.982384e-03\\\\\n",
       "\t5 & -3.29831708 &  0.0157784554 &  1.507866e-02\\\\\n",
       "\t6 &  0.36119512 & -0.0014916318 & -4.260194e-03\\\\\n",
       "\t7 &  0.77394290 & -0.0082460848 &  2.106533e-02\\\\\n",
       "\t8 & -0.01451206 &  0.0009751480 & -6.879448e-03\\\\\n",
       "\t9 &  2.65612400 & -0.0148463154 & -1.154467e-02\\\\\n",
       "\t10 & -0.02689413 &  0.0002595681 & -6.501033e-04\\\\\n",
       "\t11 &  1.10070181 & -0.0046170723 & -1.201849e-03\\\\\n",
       "\t12 & 19.91931705 & -0.1051543107 & -7.214861e-02\\\\\n",
       "\t13 & -4.52865794 &  0.0357674000 & -2.460477e-02\\\\\n",
       "\\end{tabular}\n",
       "\n",
       "\\item[\\$sigma] \\begin{description*}\n",
       "\\item[1] 2.64400257141258\n",
       "\\item[2] 2.63780375264189\n",
       "\\item[3] 2.2327434433006\n",
       "\\item[4] 2.63485345607287\n",
       "\\item[5] 2.62296456655898\n",
       "\\item[6] 2.63599203442756\n",
       "\\item[7] 2.51414040104954\n",
       "\\item[8] 2.59965852100327\n",
       "\\item[9] 2.42187929731219\n",
       "\\item[10] 2.64407404353428\n",
       "\\item[11] 2.35919314987619\n",
       "\\item[12] 2.4914238650038\n",
       "\\item[13] 2.03565270125913\n",
       "\\end{description*}\n",
       "\n",
       "\\item[\\$wt.res] \\begin{description*}\n",
       "\\item[1] 0.109586002491825\n",
       "\\item[2] 0.481843953333258\n",
       "\\item[3] -3.59293863347471\n",
       "\\item[4] 0.615535761481059\n",
       "\\item[5] -0.844754080823578\n",
       "\\item[6] -0.584327057402104\n",
       "\\item[7] 2.08675604414969\n",
       "\\item[8] -1.35302270410409\n",
       "\\item[9] -3.02410580565589\n",
       "\\item[10] -0.0945826044275324\n",
       "\\item[11] 3.43850290094014\n",
       "\\item[12] -1.56613482764264\n",
       "\\item[13] 4.32764105113457\n",
       "\\end{description*}\n",
       "\n",
       "\\end{description}\n"
      ],
      "text/markdown": [
       "$hat\n",
       ":   1\n",
       ":   0.1727428042840782\n",
       ":   0.2490796909019973\n",
       ":   0.285401223303174\n",
       ":   0.1565139006003255\n",
       ":   0.2946955586040256\n",
       ":   0.1359870747700017\n",
       ":   0.2794231471110168\n",
       ":   0.1312486627987469\n",
       ":   0.098262267641617510\n",
       ":   0.19516845589438311\n",
       ":   0.079119838403161512\n",
       ":   0.65290188403790813\n",
       ":   0.269455491649572\n",
       "\n",
       "\n",
       "$coefficients\n",
       ":   \n",
       "A matrix: 13 × 3 of type dbl\n",
       "\n",
       "| <!--/--> | (Intercept) | peso | edad |\n",
       "|---|---|---|---|\n",
       "| 1 |  0.14520113 | -0.0008331730 |  8.648494e-05 |\n",
       "| 2 | -0.25808840 |  0.0026629634 | -3.470332e-03 |\n",
       "| 3 | -8.90632947 |  0.0360844975 |  6.504543e-02 |\n",
       "| 4 |  1.08434756 | -0.0047918769 | -5.982384e-03 |\n",
       "| 5 | -3.29831708 |  0.0157784554 |  1.507866e-02 |\n",
       "| 6 |  0.36119512 | -0.0014916318 | -4.260194e-03 |\n",
       "| 7 |  0.77394290 | -0.0082460848 |  2.106533e-02 |\n",
       "| 8 | -0.01451206 |  0.0009751480 | -6.879448e-03 |\n",
       "| 9 |  2.65612400 | -0.0148463154 | -1.154467e-02 |\n",
       "| 10 | -0.02689413 |  0.0002595681 | -6.501033e-04 |\n",
       "| 11 |  1.10070181 | -0.0046170723 | -1.201849e-03 |\n",
       "| 12 | 19.91931705 | -0.1051543107 | -7.214861e-02 |\n",
       "| 13 | -4.52865794 |  0.0357674000 | -2.460477e-02 |\n",
       "\n",
       "\n",
       "$sigma\n",
       ":   1\n",
       ":   2.644002571412582\n",
       ":   2.637803752641893\n",
       ":   2.23274344330064\n",
       ":   2.634853456072875\n",
       ":   2.622964566558986\n",
       ":   2.635992034427567\n",
       ":   2.514140401049548\n",
       ":   2.599658521003279\n",
       ":   2.4218792973121910\n",
       ":   2.6440740435342811\n",
       ":   2.3591931498761912\n",
       ":   2.491423865003813\n",
       ":   2.03565270125913\n",
       "\n",
       "\n",
       "$wt.res\n",
       ":   1\n",
       ":   0.1095860024918252\n",
       ":   0.4818439533332583\n",
       ":   -3.592938633474714\n",
       ":   0.6155357614810595\n",
       ":   -0.8447540808235786\n",
       ":   -0.5843270574021047\n",
       ":   2.086756044149698\n",
       ":   -1.353022704104099\n",
       ":   -3.0241058056558910\n",
       ":   -0.094582604427532411\n",
       ":   3.4385029009401412\n",
       ":   -1.5661348276426413\n",
       ":   4.32764105113457\n",
       "\n",
       "\n",
       "\n",
       "\n"
      ],
      "text/plain": [
       "$hat\n",
       "         1          2          3          4          5          6          7 \n",
       "0.17274280 0.24907969 0.28540122 0.15651390 0.29469556 0.13598707 0.27942315 \n",
       "         8          9         10         11         12         13 \n",
       "0.13124866 0.09826227 0.19516846 0.07911984 0.65290188 0.26945549 \n",
       "\n",
       "$coefficients\n",
       "   (Intercept)          peso          edad\n",
       "1   0.14520113 -0.0008331730  8.648494e-05\n",
       "2  -0.25808840  0.0026629634 -3.470332e-03\n",
       "3  -8.90632947  0.0360844975  6.504543e-02\n",
       "4   1.08434756 -0.0047918769 -5.982384e-03\n",
       "5  -3.29831708  0.0157784554  1.507866e-02\n",
       "6   0.36119512 -0.0014916318 -4.260194e-03\n",
       "7   0.77394290 -0.0082460848  2.106533e-02\n",
       "8  -0.01451206  0.0009751480 -6.879448e-03\n",
       "9   2.65612400 -0.0148463154 -1.154467e-02\n",
       "10 -0.02689413  0.0002595681 -6.501033e-04\n",
       "11  1.10070181 -0.0046170723 -1.201849e-03\n",
       "12 19.91931705 -0.1051543107 -7.214861e-02\n",
       "13 -4.52865794  0.0357674000 -2.460477e-02\n",
       "\n",
       "$sigma\n",
       "       1        2        3        4        5        6        7        8 \n",
       "2.644003 2.637804 2.232743 2.634853 2.622965 2.635992 2.514140 2.599659 \n",
       "       9       10       11       12       13 \n",
       "2.421879 2.644074 2.359193 2.491424 2.035653 \n",
       "\n",
       "$wt.res\n",
       "         1          2          3          4          5          6          7 \n",
       " 0.1095860  0.4818440 -3.5929386  0.6155358 -0.8447541 -0.5843271  2.0867560 \n",
       "         8          9         10         11         12         13 \n",
       "-1.3530227 -3.0241058 -0.0945826  3.4385029 -1.5661348  4.3276411 \n"
      ]
     },
     "metadata": {},
     "output_type": "display_data"
    }
   ],
   "source": [
    "influence(pesoedadpresion, do.coef=TRUE)"
   ]
  },
  {
   "cell_type": "code",
   "execution_count": 11,
   "id": "ac56e9d3",
   "metadata": {},
   "outputs": [
    {
     "data": {
      "text/plain": [
       "Influence measures of\n",
       "\t lm(formula = presion ~ peso + edad) :\n",
       "\n",
       "      dfb.1_ dfb.peso dfb.edad   dffit cov.r   cook.d    hat inf\n",
       "1   0.009218  -0.0103  0.00112  0.0208 1.657 0.000161 0.1727    \n",
       "2  -0.016424   0.0329 -0.04512  0.1214 1.800 0.005432 0.2491    \n",
       "3  -0.669591   0.5260  0.99904 -1.2030 0.696 0.382158 0.2854    \n",
       "4   0.069081  -0.0592 -0.07786  0.1096 1.592 0.004415 0.1565    \n",
       "5  -0.211081   0.1958  0.19714 -0.2479 1.853 0.022392 0.2947    \n",
       "6   0.023001  -0.0184 -0.05542 -0.0946 1.558 0.003294 0.1360    \n",
       "7   0.051674  -0.1068  0.28733  0.6089 1.406 0.124124 0.2794    \n",
       "8  -0.000937   0.0122 -0.09075 -0.2170 1.426 0.016863 0.1312    \n",
       "9   0.184096  -0.1995 -0.16347 -0.4341 0.898 0.058537 0.0983    \n",
       "10 -0.001707   0.0032 -0.00843 -0.0196 1.703 0.000143 0.1952    \n",
       "11  0.078317  -0.0637 -0.01747  0.4452 0.751 0.058429 0.0791    \n",
       "12  1.342074  -1.3738 -0.99308 -1.4634 2.765 0.704067 0.6529   *\n",
       "13 -0.373435   0.5719 -0.41450  1.5106 0.391 0.500851 0.2695    "
      ]
     },
     "metadata": {},
     "output_type": "display_data"
    }
   ],
   "source": [
    "influence.measures(pesoedadpresion)"
   ]
  },
  {
   "cell_type": "code",
   "execution_count": 12,
   "id": "84104bbd",
   "metadata": {},
   "outputs": [
    {
     "data": {
      "image/png": "[encoded data removed]",
      "text/plain": [
       "plot without title"
      ]
     },
     "metadata": {
      "image/png": {
       "height": 420,
       "width": 420
      }
     },
     "output_type": "display_data"
    }
   ],
   "source": [
    "dfbetaPlots( pesoedadpresion )"
   ]
  },
  {
   "cell_type": "code",
   "execution_count": null,
   "id": "d0fd734e",
   "metadata": {},
   "outputs": [],
   "source": []
  }
 ],
 "metadata": {
  "kernelspec": {
   "display_name": "R",
   "language": "R",
   "name": "ir"
  },
  "language_info": {
   "codemirror_mode": "r",
   "file_extension": ".r",
   "mimetype": "text/x-r-source",
   "name": "R",
   "pygments_lexer": "r",
   "version": "4.3.2"
  }
 },
 "nbformat": 4,
 "nbformat_minor": 5
}
