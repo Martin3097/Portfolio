{
 "cells": [
  {
   "cell_type": "code",
   "execution_count": 1,
   "id": "470a6252",
   "metadata": {},
   "outputs": [],
   "source": [
    "import pandas as pd\n",
    "import seaborn as sns\n",
    "import matplotlib.pyplot as plt\n",
    "import numpy as np"
   ]
  },
  {
   "cell_type": "code",
   "execution_count": 2,
   "id": "27c54645",
   "metadata": {},
   "outputs": [],
   "source": [
    "df_sin=pd.read_csv(\"C:/Users/marti/OneDrive/Escritorio/jupyter/database/dataset_datos_faltantes_categoricos.csv\")"
   ]
  },
  {
   "cell_type": "code",
   "execution_count": 4,
   "id": "b1f866f1",
   "metadata": {},
   "outputs": [
    {
     "data": {
      "text/html": [
       "<div>\n",
       "<style scoped>\n",
       "    .dataframe tbody tr th:only-of-type {\n",
       "        vertical-align: middle;\n",
       "    }\n",
       "\n",
       "    .dataframe tbody tr th {\n",
       "        vertical-align: top;\n",
       "    }\n",
       "\n",
       "    .dataframe thead th {\n",
       "        text-align: right;\n",
       "    }\n",
       "</style>\n",
       "<table border=\"1\" class=\"dataframe\">\n",
       "  <thead>\n",
       "    <tr style=\"text-align: right;\">\n",
       "      <th></th>\n",
       "      <th>sexo</th>\n",
       "      <th>peso (kg)</th>\n",
       "      <th>altura (cm)</th>\n",
       "    </tr>\n",
       "  </thead>\n",
       "  <tbody>\n",
       "    <tr>\n",
       "      <th>0</th>\n",
       "      <td>femenino</td>\n",
       "      <td>60.0</td>\n",
       "      <td>160.0</td>\n",
       "    </tr>\n",
       "    <tr>\n",
       "      <th>1</th>\n",
       "      <td>masculino</td>\n",
       "      <td>69.0</td>\n",
       "      <td>170.0</td>\n",
       "    </tr>\n",
       "    <tr>\n",
       "      <th>2</th>\n",
       "      <td>masculino</td>\n",
       "      <td>73.0</td>\n",
       "      <td>167.0</td>\n",
       "    </tr>\n",
       "    <tr>\n",
       "      <th>3</th>\n",
       "      <td>NaN</td>\n",
       "      <td>81.0</td>\n",
       "      <td>170.0</td>\n",
       "    </tr>\n",
       "    <tr>\n",
       "      <th>4</th>\n",
       "      <td>masculino</td>\n",
       "      <td>80.0</td>\n",
       "      <td>170.0</td>\n",
       "    </tr>\n",
       "  </tbody>\n",
       "</table>\n",
       "</div>"
      ],
      "text/plain": [
       "        sexo  peso (kg)  altura (cm)\n",
       "0   femenino       60.0        160.0\n",
       "1  masculino       69.0        170.0\n",
       "2  masculino       73.0        167.0\n",
       "3        NaN       81.0        170.0\n",
       "4  masculino       80.0        170.0"
      ]
     },
     "execution_count": 4,
     "metadata": {},
     "output_type": "execute_result"
    }
   ],
   "source": [
    "df_sin.head()"
   ]
  },
  {
   "cell_type": "code",
   "execution_count": 6,
   "id": "3b3d49a3",
   "metadata": {},
   "outputs": [
    {
     "data": {
      "text/html": [
       "<div>\n",
       "<style scoped>\n",
       "    .dataframe tbody tr th:only-of-type {\n",
       "        vertical-align: middle;\n",
       "    }\n",
       "\n",
       "    .dataframe tbody tr th {\n",
       "        vertical-align: top;\n",
       "    }\n",
       "\n",
       "    .dataframe thead th {\n",
       "        text-align: right;\n",
       "    }\n",
       "</style>\n",
       "<table border=\"1\" class=\"dataframe\">\n",
       "  <thead>\n",
       "    <tr style=\"text-align: right;\">\n",
       "      <th></th>\n",
       "      <th>sexo</th>\n",
       "      <th>peso (kg)</th>\n",
       "      <th>altura (cm)</th>\n",
       "    </tr>\n",
       "  </thead>\n",
       "  <tbody>\n",
       "    <tr>\n",
       "      <th>count</th>\n",
       "      <td>570</td>\n",
       "      <td>600.000000</td>\n",
       "      <td>600.000000</td>\n",
       "    </tr>\n",
       "    <tr>\n",
       "      <th>unique</th>\n",
       "      <td>2</td>\n",
       "      <td>NaN</td>\n",
       "      <td>NaN</td>\n",
       "    </tr>\n",
       "    <tr>\n",
       "      <th>top</th>\n",
       "      <td>masculino</td>\n",
       "      <td>NaN</td>\n",
       "      <td>NaN</td>\n",
       "    </tr>\n",
       "    <tr>\n",
       "      <th>freq</th>\n",
       "      <td>288</td>\n",
       "      <td>NaN</td>\n",
       "      <td>NaN</td>\n",
       "    </tr>\n",
       "    <tr>\n",
       "      <th>mean</th>\n",
       "      <td>NaN</td>\n",
       "      <td>67.423333</td>\n",
       "      <td>164.833333</td>\n",
       "    </tr>\n",
       "    <tr>\n",
       "      <th>std</th>\n",
       "      <td>NaN</td>\n",
       "      <td>6.708885</td>\n",
       "      <td>6.153481</td>\n",
       "    </tr>\n",
       "    <tr>\n",
       "      <th>min</th>\n",
       "      <td>NaN</td>\n",
       "      <td>51.000000</td>\n",
       "      <td>148.000000</td>\n",
       "    </tr>\n",
       "    <tr>\n",
       "      <th>25%</th>\n",
       "      <td>NaN</td>\n",
       "      <td>62.000000</td>\n",
       "      <td>160.000000</td>\n",
       "    </tr>\n",
       "    <tr>\n",
       "      <th>50%</th>\n",
       "      <td>NaN</td>\n",
       "      <td>67.000000</td>\n",
       "      <td>165.000000</td>\n",
       "    </tr>\n",
       "    <tr>\n",
       "      <th>75%</th>\n",
       "      <td>NaN</td>\n",
       "      <td>72.000000</td>\n",
       "      <td>170.000000</td>\n",
       "    </tr>\n",
       "    <tr>\n",
       "      <th>max</th>\n",
       "      <td>NaN</td>\n",
       "      <td>87.000000</td>\n",
       "      <td>182.000000</td>\n",
       "    </tr>\n",
       "  </tbody>\n",
       "</table>\n",
       "</div>"
      ],
      "text/plain": [
       "             sexo   peso (kg)  altura (cm)\n",
       "count         570  600.000000   600.000000\n",
       "unique          2         NaN          NaN\n",
       "top     masculino         NaN          NaN\n",
       "freq          288         NaN          NaN\n",
       "mean          NaN   67.423333   164.833333\n",
       "std           NaN    6.708885     6.153481\n",
       "min           NaN   51.000000   148.000000\n",
       "25%           NaN   62.000000   160.000000\n",
       "50%           NaN   67.000000   165.000000\n",
       "75%           NaN   72.000000   170.000000\n",
       "max           NaN   87.000000   182.000000"
      ]
     },
     "execution_count": 6,
     "metadata": {},
     "output_type": "execute_result"
    }
   ],
   "source": [
    "df_sin.describe(include=\"all\")"
   ]
  },
  {
   "cell_type": "code",
   "execution_count": 8,
   "id": "e30f43fd",
   "metadata": {},
   "outputs": [
    {
     "data": {
      "text/plain": [
       "sexo           30\n",
       "peso (kg)       0\n",
       "altura (cm)     0\n",
       "dtype: int64"
      ]
     },
     "execution_count": 8,
     "metadata": {},
     "output_type": "execute_result"
    }
   ],
   "source": [
    "df_sin.isnull().sum()"
   ]
  },
  {
   "cell_type": "code",
   "execution_count": 9,
   "id": "0e354b6d",
   "metadata": {},
   "outputs": [
    {
     "data": {
      "image/png": "[encoded data removed]",
      "text/plain": [
       "<Figure size 432x288 with 1 Axes>"
      ]
     },
     "metadata": {
      "needs_background": "light"
     },
     "output_type": "display_data"
    }
   ],
   "source": [
    "sns.histplot(data=df_sin, x='peso (kg)', hue='sexo');"
   ]
  },
  {
   "cell_type": "code",
   "execution_count": 10,
   "id": "50bb7f26",
   "metadata": {},
   "outputs": [
    {
     "data": {
      "image/png": "[encoded data removed]",
      "text/plain": [
       "<Figure size 432x288 with 1 Axes>"
      ]
     },
     "metadata": {
      "needs_background": "light"
     },
     "output_type": "display_data"
    }
   ],
   "source": [
    "sns.histplot(data=df_sin, x='altura (cm)', hue='sexo');"
   ]
  },
  {
   "cell_type": "code",
   "execution_count": 11,
   "id": "58e1dffa",
   "metadata": {},
   "outputs": [],
   "source": [
    "df=df_sin"
   ]
  },
  {
   "cell_type": "code",
   "execution_count": 12,
   "id": "254795ce",
   "metadata": {},
   "outputs": [],
   "source": [
    "df= df_sin.dropna()"
   ]
  },
  {
   "cell_type": "code",
   "execution_count": 13,
   "id": "9de89694",
   "metadata": {},
   "outputs": [
    {
     "data": {
      "image/png": "[encoded data removed]",
      "text/plain": [
       "<Figure size 432x288 with 1 Axes>"
      ]
     },
     "metadata": {
      "needs_background": "light"
     },
     "output_type": "display_data"
    }
   ],
   "source": [
    "# Datos de ejemplo\n",
    "x =df[\"peso (kg)\"].tolist()\n",
    "y= df[\"altura (cm)\"].tolist()\n",
    "categorias = df[\"sexo\"].tolist()  # Categorías asociadas a cada punto\n",
    "\n",
    "# Mapeo de categorías a colores\n",
    "color_map = {'femenino': 'blue', 'masculino': 'orange'}\n",
    "\n",
    "# Crear el gráfico\n",
    "plt.figure()\n",
    "\n",
    "# Graficar puntos con colores según su categoría\n",
    "for i in (0,1):\n",
    "    plt.scatter(x[i], y[i], color=color_map[categorias[i]],label=categorias[i])\n",
    "for i in range(2,len(x)):\n",
    "    plt.scatter(x[i], y[i], color=color_map[categorias[i]])\n",
    "\n",
    "# Agregar leyenda\n",
    "plt.legend(loc=\"lower right\")\n",
    "# Mostrar gráfico\n",
    "plt.show()"
   ]
  },
  {
   "cell_type": "code",
   "execution_count": 14,
   "id": "bcd5d647",
   "metadata": {},
   "outputs": [
    {
     "name": "stderr",
     "output_type": "stream",
     "text": [
      "C:\\Users\\marti\\AppData\\Local\\Temp\\ipykernel_34400\\1101231944.py:5: SettingWithCopyWarning: \n",
      "A value is trying to be set on a copy of a slice from a DataFrame.\n",
      "Try using .loc[row_indexer,col_indexer] = value instead\n",
      "\n",
      "See the caveats in the documentation: https://pandas.pydata.org/pandas-docs/stable/user_guide/indexing.html#returning-a-view-versus-a-copy\n",
      "  df['sexo_Numérico'] = df['sexo'].replace(mapeo)\n"
     ]
    }
   ],
   "source": [
    "# Mapeo de categorías a valores numéricos\n",
    "mapeo = {'masculino': 0, 'femenino': 1}\n",
    "\n",
    "# Reemplazar los valores en la columna 'Género' utilizando el mapeo\n",
    "df['sexo_Numérico'] = df['sexo'].replace(mapeo);"
   ]
  },
  {
   "cell_type": "code",
   "execution_count": 16,
   "id": "21b683a6",
   "metadata": {},
   "outputs": [],
   "source": [
    "X = df.iloc[:, [1, 2]].values\n",
    "y = df.iloc[:, 3].values"
   ]
  },
  {
   "cell_type": "code",
   "execution_count": 17,
   "id": "1f3f745d",
   "metadata": {},
   "outputs": [],
   "source": [
    "from sklearn.model_selection import train_test_split\n",
    "X_train, X_test, y_train, y_test = train_test_split(X, y, \n",
    "                                                    test_size = 0.25, \n",
    "                                                    random_state = 0)"
   ]
  },
  {
   "cell_type": "code",
   "execution_count": 18,
   "id": "9e028f72",
   "metadata": {},
   "outputs": [
    {
     "name": "stdout",
     "output_type": "stream",
     "text": [
      "Efectividad de el modelo es 0.9440559440559441\n"
     ]
    }
   ],
   "source": [
    "from sklearn.neighbors import KNeighborsClassifier\n",
    "from sklearn.metrics import confusion_matrix\n",
    "from matplotlib.colors import ListedColormap\n",
    "\n",
    "\n",
    "classifier = KNeighborsClassifier(n_neighbors = 5, metric = 'minkowski', p = 2)\n",
    "classifier.fit(X_train, y_train)\n",
    "    # Predicción del conjunto de prueba\n",
    "y_pred = classifier.predict(X_test)\n",
    "    # Matriz de confusion\n",
    "cm = confusion_matrix(y_test, y_pred)\n",
    "estimacion=classifier.score(X_test,y_test)\n",
    "print(f\"Efectividad de el modelo es {estimacion}\")"
   ]
  },
  {
   "cell_type": "code",
   "execution_count": 22,
   "id": "93b79ec5",
   "metadata": {},
   "outputs": [
    {
     "data": {
      "text/plain": [
       "array([1], dtype=int64)"
      ]
     },
     "execution_count": 22,
     "metadata": {},
     "output_type": "execute_result"
    }
   ],
   "source": [
    "classifier.predict([[1,1]])"
   ]
  },
  {
   "cell_type": "code",
   "execution_count": 35,
   "id": "eca44d63",
   "metadata": {},
   "outputs": [
    {
     "data": {
      "text/plain": [
       "Int64Index([  3,  77,  78, 130, 145, 149, 152, 238, 252, 253, 276, 279, 285,\n",
       "            305, 307, 371, 396, 400, 409, 448, 452, 481, 483, 501, 546, 547,\n",
       "            558, 569, 570, 594],\n",
       "           dtype='int64')"
      ]
     },
     "execution_count": 35,
     "metadata": {},
     "output_type": "execute_result"
    }
   ],
   "source": [
    "filas_con_nulos_en_A = df_sin.loc[df_sin['sexo'].isnull()]\n",
    "n=filas_con_nulos_en_A.index\n",
    "n"
   ]
  },
  {
   "cell_type": "code",
   "execution_count": 30,
   "id": "63d7d2f8",
   "metadata": {},
   "outputs": [],
   "source": [
    "pr=filas_con_nulos_en_A.iloc[:, [1, 2]].values\n"
   ]
  },
  {
   "cell_type": "code",
   "execution_count": 31,
   "id": "d2d28460",
   "metadata": {},
   "outputs": [
    {
     "data": {
      "text/plain": [
       "array([[ 81., 170.],\n",
       "       [ 68., 166.],\n",
       "       [ 62., 164.],\n",
       "       [ 63., 153.],\n",
       "       [ 57., 155.],\n",
       "       [ 63., 163.],\n",
       "       [ 73., 176.],\n",
       "       [ 64., 167.],\n",
       "       [ 71., 168.],\n",
       "       [ 80., 163.],\n",
       "       [ 69., 157.],\n",
       "       [ 58., 167.],\n",
       "       [ 72., 173.],\n",
       "       [ 62., 159.],\n",
       "       [ 66., 155.],\n",
       "       [ 66., 162.],\n",
       "       [ 58., 161.],\n",
       "       [ 87., 171.],\n",
       "       [ 68., 169.],\n",
       "       [ 67., 161.],\n",
       "       [ 58., 160.],\n",
       "       [ 62., 155.],\n",
       "       [ 63., 153.],\n",
       "       [ 70., 166.],\n",
       "       [ 60., 162.],\n",
       "       [ 65., 159.],\n",
       "       [ 71., 169.],\n",
       "       [ 70., 172.],\n",
       "       [ 63., 165.],\n",
       "       [ 63., 164.]])"
      ]
     },
     "execution_count": 31,
     "metadata": {},
     "output_type": "execute_result"
    }
   ],
   "source": [
    "pr"
   ]
  },
  {
   "cell_type": "code",
   "execution_count": 36,
   "id": "3443327e",
   "metadata": {},
   "outputs": [
    {
     "data": {
      "text/plain": [
       "array([0, 0, 1, 1, 1, 1, 0, 1, 0, 0, 1, 0, 0, 1, 1, 1, 1, 0, 0, 1, 1, 1,\n",
       "       1, 0, 1, 1, 0, 0, 1, 1], dtype=int64)"
      ]
     },
     "execution_count": 36,
     "metadata": {},
     "output_type": "execute_result"
    }
   ],
   "source": [
    "s=classifier.predict(pr)\n",
    "s"
   ]
  },
  {
   "cell_type": "code",
   "execution_count": 43,
   "id": "e1de4765",
   "metadata": {},
   "outputs": [
    {
     "name": "stderr",
     "output_type": "stream",
     "text": [
      "C:\\Users\\marti\\AppData\\Local\\Temp\\ipykernel_34400\\3028339092.py:3: SettingWithCopyWarning: \n",
      "A value is trying to be set on a copy of a slice from a DataFrame\n",
      "\n",
      "See the caveats in the documentation: https://pandas.pydata.org/pandas-docs/stable/user_guide/indexing.html#returning-a-view-versus-a-copy\n",
      "  df_sin[\"sexo\"][n[i]]=\"femenino\"\n",
      "C:\\Users\\marti\\AppData\\Local\\Temp\\ipykernel_34400\\3028339092.py:5: SettingWithCopyWarning: \n",
      "A value is trying to be set on a copy of a slice from a DataFrame\n",
      "\n",
      "See the caveats in the documentation: https://pandas.pydata.org/pandas-docs/stable/user_guide/indexing.html#returning-a-view-versus-a-copy\n",
      "  df_sin[\"sexo\"][n[i]]=\"masculino\"\n"
     ]
    },
    {
     "data": {
      "text/plain": [
       "''"
      ]
     },
     "execution_count": 43,
     "metadata": {},
     "output_type": "execute_result"
    }
   ],
   "source": [
    "for i in range(0,len(n)):\n",
    "    if(s[i]==0):\n",
    "        df_sin[\"sexo\"][n[i]]=\"femenino\"\n",
    "    else:\n",
    "        df_sin[\"sexo\"][n[i]]=\"masculino\" "
   ]
  },
  {
   "cell_type": "code",
   "execution_count": 42,
   "id": "1d2f5ab5",
   "metadata": {},
   "outputs": [
    {
     "data": {
      "text/html": [
       "<div>\n",
       "<style scoped>\n",
       "    .dataframe tbody tr th:only-of-type {\n",
       "        vertical-align: middle;\n",
       "    }\n",
       "\n",
       "    .dataframe tbody tr th {\n",
       "        vertical-align: top;\n",
       "    }\n",
       "\n",
       "    .dataframe thead th {\n",
       "        text-align: right;\n",
       "    }\n",
       "</style>\n",
       "<table border=\"1\" class=\"dataframe\">\n",
       "  <thead>\n",
       "    <tr style=\"text-align: right;\">\n",
       "      <th></th>\n",
       "      <th>sexo</th>\n",
       "      <th>peso (kg)</th>\n",
       "      <th>altura (cm)</th>\n",
       "    </tr>\n",
       "  </thead>\n",
       "  <tbody>\n",
       "    <tr>\n",
       "      <th>count</th>\n",
       "      <td>600</td>\n",
       "      <td>600.000000</td>\n",
       "      <td>600.000000</td>\n",
       "    </tr>\n",
       "    <tr>\n",
       "      <th>unique</th>\n",
       "      <td>2</td>\n",
       "      <td>NaN</td>\n",
       "      <td>NaN</td>\n",
       "    </tr>\n",
       "    <tr>\n",
       "      <th>top</th>\n",
       "      <td>masculino</td>\n",
       "      <td>NaN</td>\n",
       "      <td>NaN</td>\n",
       "    </tr>\n",
       "    <tr>\n",
       "      <th>freq</th>\n",
       "      <td>306</td>\n",
       "      <td>NaN</td>\n",
       "      <td>NaN</td>\n",
       "    </tr>\n",
       "    <tr>\n",
       "      <th>mean</th>\n",
       "      <td>NaN</td>\n",
       "      <td>67.423333</td>\n",
       "      <td>164.833333</td>\n",
       "    </tr>\n",
       "    <tr>\n",
       "      <th>std</th>\n",
       "      <td>NaN</td>\n",
       "      <td>6.708885</td>\n",
       "      <td>6.153481</td>\n",
       "    </tr>\n",
       "    <tr>\n",
       "      <th>min</th>\n",
       "      <td>NaN</td>\n",
       "      <td>51.000000</td>\n",
       "      <td>148.000000</td>\n",
       "    </tr>\n",
       "    <tr>\n",
       "      <th>25%</th>\n",
       "      <td>NaN</td>\n",
       "      <td>62.000000</td>\n",
       "      <td>160.000000</td>\n",
       "    </tr>\n",
       "    <tr>\n",
       "      <th>50%</th>\n",
       "      <td>NaN</td>\n",
       "      <td>67.000000</td>\n",
       "      <td>165.000000</td>\n",
       "    </tr>\n",
       "    <tr>\n",
       "      <th>75%</th>\n",
       "      <td>NaN</td>\n",
       "      <td>72.000000</td>\n",
       "      <td>170.000000</td>\n",
       "    </tr>\n",
       "    <tr>\n",
       "      <th>max</th>\n",
       "      <td>NaN</td>\n",
       "      <td>87.000000</td>\n",
       "      <td>182.000000</td>\n",
       "    </tr>\n",
       "  </tbody>\n",
       "</table>\n",
       "</div>"
      ],
      "text/plain": [
       "             sexo   peso (kg)  altura (cm)\n",
       "count         600  600.000000   600.000000\n",
       "unique          2         NaN          NaN\n",
       "top     masculino         NaN          NaN\n",
       "freq          306         NaN          NaN\n",
       "mean          NaN   67.423333   164.833333\n",
       "std           NaN    6.708885     6.153481\n",
       "min           NaN   51.000000   148.000000\n",
       "25%           NaN   62.000000   160.000000\n",
       "50%           NaN   67.000000   165.000000\n",
       "75%           NaN   72.000000   170.000000\n",
       "max           NaN   87.000000   182.000000"
      ]
     },
     "execution_count": 42,
     "metadata": {},
     "output_type": "execute_result"
    }
   ],
   "source": [
    "df_sin.describe(include=\"all\")"
   ]
  },
  {
   "cell_type": "code",
   "execution_count": null,
   "id": "80571ce0",
   "metadata": {},
   "outputs": [],
   "source": []
  }
 ],
 "metadata": {
  "kernelspec": {
   "display_name": "Python 3 (ipykernel)",
   "language": "python",
   "name": "python3"
  },
  "language_info": {
   "codemirror_mode": {
    "name": "ipython",
    "version": 3
   },
   "file_extension": ".py",
   "mimetype": "text/x-python",
   "name": "python",
   "nbconvert_exporter": "python",
   "pygments_lexer": "ipython3",
   "version": "3.10.5"
  }
 },
 "nbformat": 4,
 "nbformat_minor": 5
}
