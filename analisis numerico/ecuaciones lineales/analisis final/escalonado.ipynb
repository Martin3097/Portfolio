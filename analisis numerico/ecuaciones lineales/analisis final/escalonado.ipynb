{
 "cells": [
  {
   "cell_type": "code",
   "execution_count": 4,
   "id": "162cd242",
   "metadata": {},
   "outputs": [
    {
     "name": "stdout",
     "output_type": "stream",
     "text": [
      "----  ------  ------  -----\n",
      "2.11  -4.21    0.921   2.01\n",
      "4.01  10.2    -1.12   -3.09\n",
      "1.09   0.987   0.832   4.21\n",
      "----  ------  ------  -----\n",
      "E 2 <-----> E 0\n",
      "----  ------  ------  -----\n",
      "1.09   0.987   0.832   4.21\n",
      "4.01  10.2    -1.12   -3.09\n",
      "2.11  -4.21    0.921   2.01\n",
      "----  ------  ------  -----\n",
      "E 1 --->E 1 - [3.678899082568807] *E 0\n",
      "E 2 --->E 2 - [1.9357798165137612] *E 0\n",
      "----  --------  ---------  ---------\n",
      "1.09   0.987     0.832       4.21\n",
      "0      6.56893  -4.18084   -18.5782\n",
      "0     -6.12061  -0.689569   -6.13963\n",
      "----  --------  ---------  ---------\n",
      "E 2 --->E 2 - [-0.9317526357761661] *E 1\n",
      "----  -------  --------  --------\n",
      "1.09  0.987     0.832      4.21\n",
      "0     6.56893  -4.18084  -18.5782\n",
      "0     0        -4.58508  -23.4499\n",
      "----  -------  --------  --------\n",
      "x 0 = -0.4280044137258741\n",
      "x 1 = 0.4269032296075056\n",
      "x 2 = 5.114388609781965\n"
     ]
    }
   ],
   "source": [
    "from tabulate import tabulate\n",
    "import libreria as li\n",
    "matriz = [[2.11,-4.21,0.921,2.01], [4.01,10.2,-1.12,-3.09], [1.09,0.987,0.832,4.21]]\n",
    "n=len(matriz)-1 \n",
    "\n",
    "def gaussEscalonado(matriz,n):\n",
    "    z=[];\n",
    "    for j in range (n+1+1):\n",
    "        z.append(0)\n",
    "    for i in range(n):\n",
    "        a=0;\n",
    "        for j in range (n+1+1):\n",
    "            z[j]=0\n",
    "        print(tabulate(matriz))\n",
    "        for j in range(i,n+1):\n",
    "            z[j]=abs(matriz[j][i]/li.maxMAtrizRenglon(j,matriz,n))\n",
    "        m=max(z)\n",
    "        for j in range(n+1):\n",
    "            j=n-j\n",
    "            if(m==z[j]):\n",
    "                a=j\n",
    "        if (m==0):\n",
    "            print(\"no existe solucion unica\")\n",
    "            return 0\n",
    "        if (a!=i):\n",
    "            li.cambioMatriz(matriz,n,i,a)\n",
    "            print(\"E\",a,\"<----->\",\"E\",i)\n",
    "            print(tabulate(matriz))\n",
    "        li.EliminarFila(matriz,n,i)\n",
    "    print(tabulate(matriz))        \n",
    "        #Ej -division*Ei---->Ej\n",
    "    if(matriz[n][n]==0):\n",
    "        print(\"no existe solucion unica\")\n",
    "        return 0\n",
    "if (gaussEscalonado(matriz,n)!=0):\n",
    "    li.solucion(matriz,n)"
   ]
  },
  {
   "cell_type": "code",
   "execution_count": null,
   "id": "338f56b0",
   "metadata": {},
   "outputs": [],
   "source": []
  }
 ],
 "metadata": {
  "kernelspec": {
   "display_name": "Python 3 (ipykernel)",
   "language": "python",
   "name": "python3"
  },
  "language_info": {
   "codemirror_mode": {
    "name": "ipython",
    "version": 3
   },
   "file_extension": ".py",
   "mimetype": "text/x-python",
   "name": "python",
   "nbconvert_exporter": "python",
   "pygments_lexer": "ipython3",
   "version": "3.10.2"
  }
 },
 "nbformat": 4,
 "nbformat_minor": 5
}
