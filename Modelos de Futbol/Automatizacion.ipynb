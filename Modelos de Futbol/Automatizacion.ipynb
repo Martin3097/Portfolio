{
 "cells": [
  {
   "cell_type": "code",
   "execution_count": 41,
   "id": "9e45cda5-5815-4320-995f-96b01b39178d",
   "metadata": {},
   "outputs": [
    {
     "name": "stdout",
     "output_type": "stream",
     "text": [
      "dict_keys(['MX T', 'MX 5', 'MX bajo', 'Hoja1'])\n"
     ]
    }
   ],
   "source": [
    "import pandas as pd\n",
    "import proba as p\n",
    "\n",
    "# Cargar todas las hojas en un diccionario de DataFrames\n",
    "dfs = pd.read_excel('C:\\\\Users\\\\HP\\\\Desktop\\\\Futbol\\\\Fubol.xlsx', sheet_name=None)\n",
    "\n",
    "# Mostrar los nombres de las hojas\n",
    "print(dfs.keys())"
   ]
  },
  {
   "cell_type": "code",
   "execution_count": 43,
   "id": "e2981504-c3dc-499e-a417-c4e031351e7c",
   "metadata": {},
   "outputs": [
    {
     "name": "stdout",
     "output_type": "stream",
     "text": [
      "   Column1                   Club   P  G  E  P_1  G+  G-  Pts  Forma\n",
      "0        1                 Cancun  14  9  1    4  26  15   28    NaN\n",
      "1        2     Leones Negros UdeG  14  8  3    3  28  15   27    NaN\n",
      "2        3           Club Atlante  14  7  4    3  18   7   25    NaN\n",
      "3        4   Mineros de Zacatecas  14  7  3    4  33  21   24    NaN\n",
      "4        5  Tepatitlán de Morelos  14  6  5    3  23  19   23    NaN\n"
     ]
    }
   ],
   "source": [
    "# Acceder a una hoja específica por nombre\n",
    "df_hoja1 = dfs['MX bajo']\n",
    "\n",
    "# Mostrar las primeras filas de cada DataFrame\n",
    "print(df_hoja1.head())"
   ]
  },
  {
   "cell_type": "code",
   "execution_count": 44,
   "id": "9f35452b-3b4a-4603-87b6-09a4925e1f7b",
   "metadata": {},
   "outputs": [
    {
     "data": {
      "text/plain": [
       "0                    Cancun\n",
       "1        Leones Negros UdeG\n",
       "2              Club Atlante\n",
       "3      Mineros de Zacatecas\n",
       "4     Tepatitlán de Morelos\n",
       "5      Cimarrones de Sonora\n",
       "6          Monarcas Morelia\n",
       "7                   Venados\n",
       "8          Correcaminos UAT\n",
       "9           Atletico La Paz\n",
       "10                   Celaya\n",
       "11                  Tapatio\n",
       "12      Alebrijes de Oaxaca\n",
       "13       Dorados de Sinaloa\n",
       "14                 Tlaxcala\n",
       "Name: Club, dtype: object"
      ]
     },
     "execution_count": 44,
     "metadata": {},
     "output_type": "execute_result"
    }
   ],
   "source": [
    "# Seleccionar una columna por su nombre\n",
    "columna_especifica = df_hoja1[\"Club\"]\n",
    "columna_especifica"
   ]
  },
  {
   "cell_type": "code",
   "execution_count": 45,
   "id": "350fa2b2-91c7-49c8-a636-1fd0802e33aa",
   "metadata": {},
   "outputs": [],
   "source": [
    "def vs( local, visita):\n",
    "    # Seleccionar una fila por su índice\n",
    "    Local = df_hoja1.iloc[local].tolist()\n",
    "    L_Juegos = Local[2]\n",
    "    L_Ganados = Local[3]\n",
    "    L_Empatados = Local[4]\n",
    "    L_Perdidos = Local[5]\n",
    "    \n",
    "    L_Gol_anotado = Local[6]\n",
    "    L_Gol_recibido = Local[7]\n",
    "    print(L_Juegos, L_Ganados, L_Empatados, L_Perdidos, L_Gol_anotado, L_Gol_recibido)\n",
    "\n",
    "    # Seleccionar una fila por su índice\n",
    "    Visita = df_hoja1.iloc[visita].tolist()\n",
    "    V_Juegos = Visita[2]\n",
    "    V_Ganados = Visita[3]\n",
    "    V_Empatados = Visita[4]\n",
    "    V_Perdidos = Visita[5]\n",
    "    \n",
    "    V_Gol_anotado = Visita[6]\n",
    "    V_Gol_recibido = Visita[7]\n",
    "    print(V_Juegos, V_Ganados, V_Empatados, V_Perdidos, V_Gol_anotado, V_Gol_recibido)\n",
    "\n",
    "    print( Local[1] , \"VS\", Visita[1] )\n",
    "\n",
    "    p.metodo(L_Gol_anotado/L_Juegos, L_Gol_recibido/L_Juegos, L_Ganados, L_Empatados, L_Perdidos,\n",
    "         V_Gol_anotado/V_Juegos, V_Gol_recibido/V_Juegos, V_Ganados, V_Empatados, V_Perdidos)"
   ]
  },
  {
   "cell_type": "code",
   "execution_count": 46,
   "id": "ba4de43d-c5e0-4fc8-949a-4abcbfb3a084",
   "metadata": {},
   "outputs": [
    {
     "name": "stdout",
     "output_type": "stream",
     "text": [
      "14 7 0 7 26 28\n",
      "14 6 5 3 23 19\n",
      "Venados VS Tepatitlán de Morelos\n",
      "p(l)= 0.35167685757422684 p(e)= 0.19882028881139646 p(v)= 0.44950285361435616\n"
     ]
    }
   ],
   "source": [
    "vs(7,4)\n",
    "vs ( 1,9)"
   ]
  }
 ],
 "metadata": {
  "kernelspec": {
   "display_name": "Python 3 (ipykernel)",
   "language": "python",
   "name": "python3"
  },
  "language_info": {
   "codemirror_mode": {
    "name": "ipython",
    "version": 3
   },
   "file_extension": ".py",
   "mimetype": "text/x-python",
   "name": "python",
   "nbconvert_exporter": "python",
   "pygments_lexer": "ipython3",
   "version": "3.12.2"
  }
 },
 "nbformat": 4,
 "nbformat_minor": 5
}
