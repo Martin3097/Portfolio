{
 "cells": [
  {
   "cell_type": "code",
   "execution_count": 1,
   "id": "367e3854",
   "metadata": {},
   "outputs": [
    {
     "name": "stdout",
     "output_type": "stream",
     "text": [
      "n   xn   f(xn)\n",
      "0   0    -20\n",
      "0 1 -7\n",
      "1 1.5384615384615383 3.759672280382336\n",
      "2 1.3503109268581581 -0.3881361488704833\n",
      "3 1.3679173460168454 -0.018786790670663578\n",
      "4 1.368812888688982 0.00010085798882641939\n",
      "\n",
      "La raíz encontrada es: 1.368812888688982\n"
     ]
    }
   ],
   "source": [
    "import numpy as np\n",
    "\n",
    "fx = lambda x: x**3 + 2*x**2 + 10*x - 20\n",
    "\n",
    "print(\"n   xn   f(xn)\")\n",
    "print(\"0   0   \", fx(0))\n",
    "\n",
    "def secante(f, x0, x1, tol, n):\n",
    "    print(n, x1, f(x1))\n",
    "    if abs(f(x1)) > tol:  # Si el valor absoluto de la función es mayor que la tolerancia\n",
    "        n += 1\n",
    "        k = x1\n",
    "        x1 = x1 - ((f(x1)) * (x1 - x0)) / (f(x1) - f(x0))  # Fórmula de la secante\n",
    "        return secante(f, k, x1, tol, n)  # Llamada recursiva\n",
    "    else:\n",
    "        return x1  # Retorna la solución cuando la tolerancia es alcanzada\n",
    "\n",
    "# Llamamos al método con los valores iniciales\n",
    "raiz = secante(fx, 0, 1, 10**(-3), 0)\n",
    "print(f\"\\nLa raíz encontrada es: {raiz}\")"
   ]
  },
  {
   "cell_type": "code",
   "execution_count": null,
   "id": "e22d8c2e",
   "metadata": {},
   "outputs": [],
   "source": []
  }
 ],
 "metadata": {
  "kernelspec": {
   "display_name": "Python 3 (ipykernel)",
   "language": "python",
   "name": "python3"
  },
  "language_info": {
   "codemirror_mode": {
    "name": "ipython",
    "version": 3
   },
   "file_extension": ".py",
   "mimetype": "text/x-python",
   "name": "python",
   "nbconvert_exporter": "python",
   "pygments_lexer": "ipython3",
   "version": "3.12.2"
  }
 },
 "nbformat": 4,
 "nbformat_minor": 5
}
