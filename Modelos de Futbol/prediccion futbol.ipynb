{
 "cells": [
  {
   "cell_type": "code",
   "execution_count": 3,
   "id": "415c70c7",
   "metadata": {},
   "outputs": [
    {
     "name": "stdout",
     "output_type": "stream",
     "text": [
      "p(l)= 0.21277501737702267 p(e)= 0.2560448408946666 p(v)= 0.5311801417278881\n",
      "1.2 2.4 1.0 0.4\n"
     ]
    }
   ],
   "source": [
    "from math import factorial\n",
    "from math import e\n",
    "def poisson (x,lamda):\n",
    "    return e**(-lamda)*(lamda)**x/factorial(x)\n",
    "\n",
    "def probabilidad(la,va):\n",
    "    l=[];v=[];p=[1,2,3]\n",
    "    empate=0; visita=0; local=0;\n",
    "    for i in range(20):\n",
    "        l.append(poisson(i,la))\n",
    "        v.append(poisson(i,va))\n",
    "    for i in range (20):\n",
    "        empate += (l[i])*(v[i])\n",
    "    for i in range(20):\n",
    "        for k in range(20):\n",
    "            if k<i:\n",
    "                local += (l[i])*(v[k])\n",
    "    for i in range(20):\n",
    "        for k in range(20):\n",
    "            if k>i:\n",
    "                visita += (l[i])*(v[k])\n",
    "    p[0]=local;p[1]=empate;p[2]=visita;\n",
    "    return p\n",
    "def LEV(g1,e1,p1,g2,e2,p2):\n",
    "    proba2=[0,1,2]\n",
    "    total1=g1+e1+p1; total2=g2+e2+p2\n",
    "    g1=g1/total1; e1=e1/total1; p1=p1/total1\n",
    "    g2=g2/total2; e2=e2/total2; p2=p2/total2\n",
    "\n",
    "    g=g1*1/2+1/2*p2\n",
    "    e=e1*1/2+1/2*e2\n",
    "    p=g2*1/2+1/2*p1\n",
    "    proba2[0]=g; proba2[1]=e; proba2[2]=p\n",
    "    return proba2\n",
    "def metodo(la,lm,lg,le,lp,va,vm,vg,ve,vp):\n",
    "    p=[1,2,3]\n",
    "    L=(1/2)*((1/2)*(probabilidad(la,va)[0])+(1/2)*(probabilidad(lm,vm)[2]))+1/2*LEV(lg,le,lp,vg,ve,vp)[0]\n",
    "    E=(1/2)*((1/2)*(probabilidad(la,va)[1])+(1/2)*(probabilidad(lm,vm)[1]))+1/2*LEV(lg,le,lp,vg,ve,vp)[1]\n",
    "    V=(1/2)*((1/2)*(probabilidad(la,va)[2])+(1/2)*(probabilidad(lm,vm)[0]))+1/2*LEV(lg,le,lp,vg,ve,vp)[2]\n",
    "    p[0]=L;p[1]=E;p[2]=V;\n",
    "    print(\"p(l)=\",L,\"p(e)=\",E,\"p(v)=\",V)\n",
    "#local\n",
    "la=6  # media de goles anotados\n",
    "lm=12 #media de goles recibidos\n",
    "lg=1 #ganados\n",
    "le=2   #empatados\n",
    "lp=2   #perdidos\n",
    "\n",
    "#visita\n",
    "va=5  # media de goles anotados\n",
    "vm=2 #media de goles recibidos\n",
    "vg=3    #ganados\n",
    "ve=1   #empatados\n",
    "vp=1  #perdidos\n",
    "\n",
    "la=la/(lg+le+lp)\n",
    "lm=lm/(lg+le+lp)\n",
    "va=va/(vg+ve+vp)\n",
    "vm=vm/(vg+ve+vp)\n",
    "metodo(la,lm,lg,le,lp,va,vm,vg,ve,vp)\n",
    "print(la,lm,va,vm)"
   ]
  },
  {
   "cell_type": "code",
   "execution_count": 8,
   "id": "4ac5b80c",
   "metadata": {},
   "outputs": [
    {
     "name": "stdout",
     "output_type": "stream",
     "text": [
      "Número aleatorio: 1\n"
     ]
    }
   ],
   "source": [
    "#numero aleatorio, 1 o 2\n",
    "import random\n",
    "\n",
    "def generar_numero_aleatorio():\n",
    "    # Genera un número aleatorio entre 1 y 2 (ambos incluidos)\n",
    "    numero_aleatorio = random.randint(1, 2)\n",
    "    return numero_aleatorio\n",
    "\n",
    "# Ejemplo de uso\n",
    "resultado = generar_numero_aleatorio()\n",
    "print(\"Número aleatorio:\", resultado)"
   ]
  },
  {
   "cell_type": "code",
   "execution_count": 7,
   "id": "585fed2b",
   "metadata": {},
   "outputs": [
    {
     "name": "stdout",
     "output_type": "stream",
     "text": [
      "Número aleatorio: 3\n"
     ]
    }
   ],
   "source": [
    "#numero aleatorio, 1 o 2\n",
    "import random\n",
    "\n",
    "def generar_numero_aleatorio():\n",
    "    # Genera un número aleatorio entre 1 y 2 (ambos incluidos)\n",
    "    numero_aleatorio = random.randint(1, 3)\n",
    "    return numero_aleatorio\n",
    "\n",
    "# Ejemplo de uso\n",
    "resultado = generar_numero_aleatorio()\n",
    "print(\"Número aleatorio:\", resultado)"
   ]
  },
  {
   "cell_type": "code",
   "execution_count": null,
   "id": "0e95f928",
   "metadata": {},
   "outputs": [],
   "source": []
  },
  {
   "cell_type": "code",
   "execution_count": null,
   "id": "329c4336",
   "metadata": {},
   "outputs": [],
   "source": []
  }
 ],
 "metadata": {
  "kernelspec": {
   "display_name": "Python 3 (ipykernel)",
   "language": "python",
   "name": "python3"
  },
  "language_info": {
   "codemirror_mode": {
    "name": "ipython",
    "version": 3
   },
   "file_extension": ".py",
   "mimetype": "text/x-python",
   "name": "python",
   "nbconvert_exporter": "python",
   "pygments_lexer": "ipython3",
   "version": "3.12.2"
  }
 },
 "nbformat": 4,
 "nbformat_minor": 5
}
