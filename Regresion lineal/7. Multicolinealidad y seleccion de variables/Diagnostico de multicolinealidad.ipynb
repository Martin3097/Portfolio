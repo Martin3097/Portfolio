{
 "cells": [
  {
   "cell_type": "markdown",
   "id": "02949b33",
   "metadata": {},
   "source": [
    "# cargar librerias"
   ]
  },
  {
   "cell_type": "code",
   "execution_count": 8,
   "id": "e4f93e85",
   "metadata": {},
   "outputs": [
    {
     "name": "stderr",
     "output_type": "stream",
     "text": [
      "Loading required package: car\n",
      "\n",
      "Loading required package: carData\n",
      "\n",
      "Loading required package: effects\n",
      "\n",
      "lattice theme set by effectsTheme()\n",
      "See ?effectsTheme for details.\n",
      "\n"
     ]
    }
   ],
   "source": [
    "library(alr4)\n",
    "library(car)"
   ]
  },
  {
   "cell_type": "markdown",
   "id": "5bd47729",
   "metadata": {},
   "source": [
    "# cargar datos"
   ]
  },
  {
   "cell_type": "code",
   "execution_count": 1,
   "id": "23646aa3",
   "metadata": {},
   "outputs": [
    {
     "data": {
      "text/html": [
       "<table class=\"dataframe\">\n",
       "<caption>A data.frame: 6 × 5</caption>\n",
       "<thead>\n",
       "\t<tr><th></th><th scope=col>Y</th><th scope=col>x1</th><th scope=col>x2</th><th scope=col>x3</th><th scope=col>x4</th></tr>\n",
       "\t<tr><th></th><th scope=col>&lt;dbl&gt;</th><th scope=col>&lt;int&gt;</th><th scope=col>&lt;int&gt;</th><th scope=col>&lt;int&gt;</th><th scope=col>&lt;int&gt;</th></tr>\n",
       "</thead>\n",
       "<tbody>\n",
       "\t<tr><th scope=row>1</th><td> 78.5</td><td> 7</td><td>26</td><td> 6</td><td>60</td></tr>\n",
       "\t<tr><th scope=row>2</th><td> 74.3</td><td> 1</td><td>29</td><td>15</td><td>52</td></tr>\n",
       "\t<tr><th scope=row>3</th><td>104.3</td><td>11</td><td>56</td><td> 8</td><td>20</td></tr>\n",
       "\t<tr><th scope=row>4</th><td> 87.6</td><td>11</td><td>31</td><td> 8</td><td>47</td></tr>\n",
       "\t<tr><th scope=row>5</th><td> 95.9</td><td> 7</td><td>52</td><td> 6</td><td>33</td></tr>\n",
       "\t<tr><th scope=row>6</th><td>109.2</td><td>11</td><td>55</td><td> 9</td><td>22</td></tr>\n",
       "</tbody>\n",
       "</table>\n"
      ],
      "text/latex": [
       "A data.frame: 6 × 5\n",
       "\\begin{tabular}{r|lllll}\n",
       "  & Y & x1 & x2 & x3 & x4\\\\\n",
       "  & <dbl> & <int> & <int> & <int> & <int>\\\\\n",
       "\\hline\n",
       "\t1 &  78.5 &  7 & 26 &  6 & 60\\\\\n",
       "\t2 &  74.3 &  1 & 29 & 15 & 52\\\\\n",
       "\t3 & 104.3 & 11 & 56 &  8 & 20\\\\\n",
       "\t4 &  87.6 & 11 & 31 &  8 & 47\\\\\n",
       "\t5 &  95.9 &  7 & 52 &  6 & 33\\\\\n",
       "\t6 & 109.2 & 11 & 55 &  9 & 22\\\\\n",
       "\\end{tabular}\n"
      ],
      "text/markdown": [
       "\n",
       "A data.frame: 6 × 5\n",
       "\n",
       "| <!--/--> | Y &lt;dbl&gt; | x1 &lt;int&gt; | x2 &lt;int&gt; | x3 &lt;int&gt; | x4 &lt;int&gt; |\n",
       "|---|---|---|---|---|---|\n",
       "| 1 |  78.5 |  7 | 26 |  6 | 60 |\n",
       "| 2 |  74.3 |  1 | 29 | 15 | 52 |\n",
       "| 3 | 104.3 | 11 | 56 |  8 | 20 |\n",
       "| 4 |  87.6 | 11 | 31 |  8 | 47 |\n",
       "| 5 |  95.9 |  7 | 52 |  6 | 33 |\n",
       "| 6 | 109.2 | 11 | 55 |  9 | 22 |\n",
       "\n"
      ],
      "text/plain": [
       "  Y     x1 x2 x3 x4\n",
       "1  78.5  7 26  6 60\n",
       "2  74.3  1 29 15 52\n",
       "3 104.3 11 56  8 20\n",
       "4  87.6 11 31  8 47\n",
       "5  95.9  7 52  6 33\n",
       "6 109.2 11 55  9 22"
      ]
     },
     "metadata": {},
     "output_type": "display_data"
    }
   ],
   "source": [
    "cemento <- read.table(\"cemento.txt\",header=T)\n",
    "\n",
    "head(cemento)"
   ]
  },
  {
   "cell_type": "markdown",
   "id": "94d02959",
   "metadata": {},
   "source": [
    "# matriz de correlacion"
   ]
  },
  {
   "cell_type": "code",
   "execution_count": 2,
   "id": "3402f1c0",
   "metadata": {},
   "outputs": [
    {
     "data": {
      "text/html": [
       "<table class=\"dataframe\">\n",
       "<caption>A matrix: 4 × 4 of type dbl</caption>\n",
       "<thead>\n",
       "\t<tr><th></th><th scope=col>x1</th><th scope=col>x2</th><th scope=col>x3</th><th scope=col>x4</th></tr>\n",
       "</thead>\n",
       "<tbody>\n",
       "\t<tr><th scope=row>x1</th><td> 1.0000000</td><td> 0.2285795</td><td>-0.8241338</td><td>-0.2454451</td></tr>\n",
       "\t<tr><th scope=row>x2</th><td> 0.2285795</td><td> 1.0000000</td><td>-0.1392424</td><td>-0.9729550</td></tr>\n",
       "\t<tr><th scope=row>x3</th><td>-0.8241338</td><td>-0.1392424</td><td> 1.0000000</td><td> 0.0295370</td></tr>\n",
       "\t<tr><th scope=row>x4</th><td>-0.2454451</td><td>-0.9729550</td><td> 0.0295370</td><td> 1.0000000</td></tr>\n",
       "</tbody>\n",
       "</table>\n"
      ],
      "text/latex": [
       "A matrix: 4 × 4 of type dbl\n",
       "\\begin{tabular}{r|llll}\n",
       "  & x1 & x2 & x3 & x4\\\\\n",
       "\\hline\n",
       "\tx1 &  1.0000000 &  0.2285795 & -0.8241338 & -0.2454451\\\\\n",
       "\tx2 &  0.2285795 &  1.0000000 & -0.1392424 & -0.9729550\\\\\n",
       "\tx3 & -0.8241338 & -0.1392424 &  1.0000000 &  0.0295370\\\\\n",
       "\tx4 & -0.2454451 & -0.9729550 &  0.0295370 &  1.0000000\\\\\n",
       "\\end{tabular}\n"
      ],
      "text/markdown": [
       "\n",
       "A matrix: 4 × 4 of type dbl\n",
       "\n",
       "| <!--/--> | x1 | x2 | x3 | x4 |\n",
       "|---|---|---|---|---|\n",
       "| x1 |  1.0000000 |  0.2285795 | -0.8241338 | -0.2454451 |\n",
       "| x2 |  0.2285795 |  1.0000000 | -0.1392424 | -0.9729550 |\n",
       "| x3 | -0.8241338 | -0.1392424 |  1.0000000 |  0.0295370 |\n",
       "| x4 | -0.2454451 | -0.9729550 |  0.0295370 |  1.0000000 |\n",
       "\n"
      ],
      "text/plain": [
       "   x1         x2         x3         x4        \n",
       "x1  1.0000000  0.2285795 -0.8241338 -0.2454451\n",
       "x2  0.2285795  1.0000000 -0.1392424 -0.9729550\n",
       "x3 -0.8241338 -0.1392424  1.0000000  0.0295370\n",
       "x4 -0.2454451 -0.9729550  0.0295370  1.0000000"
      ]
     },
     "metadata": {},
     "output_type": "display_data"
    }
   ],
   "source": [
    "with( cemento, cor( cbind(x1,x2,x3,x4) )  )"
   ]
  },
  {
   "cell_type": "markdown",
   "id": "a05643b0",
   "metadata": {},
   "source": [
    "# ajuste de regresion"
   ]
  },
  {
   "cell_type": "code",
   "execution_count": 3,
   "id": "62a8fae8",
   "metadata": {},
   "outputs": [
    {
     "data": {
      "text/plain": [
       "\n",
       "Call:\n",
       "lm(formula = Y ~ x1 + x2 + x3 + x4, data = cemento)\n",
       "\n",
       "Residuals:\n",
       "    Min      1Q  Median      3Q     Max \n",
       "-3.1750 -1.6709  0.2508  1.3783  3.9254 \n",
       "\n",
       "Coefficients:\n",
       "            Estimate Std. Error t value Pr(>|t|)  \n",
       "(Intercept)  62.4054    70.0710   0.891   0.3991  \n",
       "x1            1.5511     0.7448   2.083   0.0708 .\n",
       "x2            0.5102     0.7238   0.705   0.5009  \n",
       "x3            0.1019     0.7547   0.135   0.8959  \n",
       "x4           -0.1441     0.7091  -0.203   0.8441  \n",
       "---\n",
       "Signif. codes:  0 '***' 0.001 '**' 0.01 '*' 0.05 '.' 0.1 ' ' 1\n",
       "\n",
       "Residual standard error: 2.446 on 8 degrees of freedom\n",
       "Multiple R-squared:  0.9824,\tAdjusted R-squared:  0.9736 \n",
       "F-statistic: 111.5 on 4 and 8 DF,  p-value: 4.756e-07\n"
      ]
     },
     "metadata": {},
     "output_type": "display_data"
    }
   ],
   "source": [
    "regre.cemento <- lm( Y ~ x1 + x2 + x3 + x4, data=cemento )\n",
    "\n",
    "summary(regre.cemento)"
   ]
  },
  {
   "cell_type": "markdown",
   "id": "d4c3a74b",
   "metadata": {},
   "source": [
    "# Factores de inflacion de varianza"
   ]
  },
  {
   "cell_type": "code",
   "execution_count": 9,
   "id": "bc0cebb3",
   "metadata": {},
   "outputs": [
    {
     "data": {
      "text/html": [
       "<style>\n",
       ".dl-inline {width: auto; margin:0; padding: 0}\n",
       ".dl-inline>dt, .dl-inline>dd {float: none; width: auto; display: inline-block}\n",
       ".dl-inline>dt::after {content: \":\\0020\"; padding-right: .5ex}\n",
       ".dl-inline>dt:not(:first-of-type) {padding-left: .5ex}\n",
       "</style><dl class=dl-inline><dt>x1</dt><dd>38.4962114906366</dd><dt>x2</dt><dd>254.423165850945</dd><dt>x3</dt><dd>46.8683863335743</dd><dt>x4</dt><dd>282.51286478859</dd></dl>\n"
      ],
      "text/latex": [
       "\\begin{description*}\n",
       "\\item[x1] 38.4962114906366\n",
       "\\item[x2] 254.423165850945\n",
       "\\item[x3] 46.8683863335743\n",
       "\\item[x4] 282.51286478859\n",
       "\\end{description*}\n"
      ],
      "text/markdown": [
       "x1\n",
       ":   38.4962114906366x2\n",
       ":   254.423165850945x3\n",
       ":   46.8683863335743x4\n",
       ":   282.51286478859\n",
       "\n"
      ],
      "text/plain": [
       "       x1        x2        x3        x4 \n",
       " 38.49621 254.42317  46.86839 282.51286 "
      ]
     },
     "metadata": {},
     "output_type": "display_data"
    }
   ],
   "source": [
    "vif(regre.cemento)"
   ]
  },
  {
   "cell_type": "markdown",
   "id": "845e82aa",
   "metadata": {},
   "source": [
    "# Matriz inv(X'x)"
   ]
  },
  {
   "cell_type": "code",
   "execution_count": 5,
   "id": "0e3a3289",
   "metadata": {},
   "outputs": [
    {
     "data": {
      "text/html": [
       "<table class=\"dataframe\">\n",
       "<caption>A matrix: 4 × 4 of type dbl</caption>\n",
       "<thead>\n",
       "\t<tr><th></th><th scope=col>x1</th><th scope=col>x2</th><th scope=col>x3</th><th scope=col>x4</th></tr>\n",
       "</thead>\n",
       "<tbody>\n",
       "\t<tr><th scope=row>x1</th><td>0.5546822</td><td>0.5126567</td><td>0.5542451</td><td>0.5052902</td></tr>\n",
       "\t<tr><th scope=row>x2</th><td>0.5126567</td><td>0.5238691</td><td>0.5257021</td><td>0.5121296</td></tr>\n",
       "\t<tr><th scope=row>x3</th><td>0.5542451</td><td>0.5257021</td><td>0.5695857</td><td>0.5168790</td></tr>\n",
       "\t<tr><th scope=row>x4</th><td>0.5052902</td><td>0.5121296</td><td>0.5168790</td><td>0.5027548</td></tr>\n",
       "</tbody>\n",
       "</table>\n"
      ],
      "text/latex": [
       "A matrix: 4 × 4 of type dbl\n",
       "\\begin{tabular}{r|llll}\n",
       "  & x1 & x2 & x3 & x4\\\\\n",
       "\\hline\n",
       "\tx1 & 0.5546822 & 0.5126567 & 0.5542451 & 0.5052902\\\\\n",
       "\tx2 & 0.5126567 & 0.5238691 & 0.5257021 & 0.5121296\\\\\n",
       "\tx3 & 0.5542451 & 0.5257021 & 0.5695857 & 0.5168790\\\\\n",
       "\tx4 & 0.5052902 & 0.5121296 & 0.5168790 & 0.5027548\\\\\n",
       "\\end{tabular}\n"
      ],
      "text/markdown": [
       "\n",
       "A matrix: 4 × 4 of type dbl\n",
       "\n",
       "| <!--/--> | x1 | x2 | x3 | x4 |\n",
       "|---|---|---|---|---|\n",
       "| x1 | 0.5546822 | 0.5126567 | 0.5542451 | 0.5052902 |\n",
       "| x2 | 0.5126567 | 0.5238691 | 0.5257021 | 0.5121296 |\n",
       "| x3 | 0.5542451 | 0.5257021 | 0.5695857 | 0.5168790 |\n",
       "| x4 | 0.5052902 | 0.5121296 | 0.5168790 | 0.5027548 |\n",
       "\n"
      ],
      "text/plain": [
       "   x1        x2        x3        x4       \n",
       "x1 0.5546822 0.5126567 0.5542451 0.5052902\n",
       "x2 0.5126567 0.5238691 0.5257021 0.5121296\n",
       "x3 0.5542451 0.5257021 0.5695857 0.5168790\n",
       "x4 0.5052902 0.5121296 0.5168790 0.5027548"
      ]
     },
     "metadata": {},
     "output_type": "display_data"
    }
   ],
   "source": [
    "vcov(regre.cemento)[2:5,2:5]"
   ]
  },
  {
   "cell_type": "markdown",
   "id": "07d6fb00",
   "metadata": {},
   "source": [
    "# Valores y vectores propios de inv(X'x)"
   ]
  },
  {
   "cell_type": "code",
   "execution_count": 6,
   "id": "c3c08241",
   "metadata": {},
   "outputs": [
    {
     "data": {
      "text/plain": [
       "eigen() decomposition\n",
       "$values\n",
       "[1] 1038.5441009  135.3774587   24.8815448    0.4756578\n",
       "\n",
       "$vectors\n",
       "            [,1]        [,2]       [,3]      [,4]\n",
       "[1,] -0.06779999  0.64601829 -0.5673145 0.5061796\n",
       "[2,] -0.67851624  0.01999334  0.5439693 0.4932681\n",
       "[3,]  0.02902083 -0.75530962 -0.4035535 0.5155674\n",
       "[4,]  0.73087391  0.10848048  0.4683975 0.4844162\n"
      ]
     },
     "metadata": {},
     "output_type": "display_data"
    }
   ],
   "source": [
    "eigen( solve(vcov(regre.cemento)[2:5,2:5]) )"
   ]
  },
  {
   "cell_type": "markdown",
   "id": "7e560519",
   "metadata": {},
   "source": [
    "# Indices de condicion"
   ]
  },
  {
   "cell_type": "code",
   "execution_count": 7,
   "id": "ed2381ae",
   "metadata": {},
   "outputs": [
    {
     "data": {
      "text/html": [
       "<style>\n",
       ".list-inline {list-style: none; margin:0; padding: 0}\n",
       ".list-inline>li {display: inline-block}\n",
       ".list-inline>li:not(:last-child)::after {content: \"\\00b7\"; padding: 0 .5ex}\n",
       "</style>\n",
       "<ol class=list-inline><li>1</li><li>7.67146990842854</li><li>41.7395347091614</li><li>2183.38498381564</li></ol>\n"
      ],
      "text/latex": [
       "\\begin{enumerate*}\n",
       "\\item 1\n",
       "\\item 7.67146990842854\n",
       "\\item 41.7395347091614\n",
       "\\item 2183.38498381564\n",
       "\\end{enumerate*}\n"
      ],
      "text/markdown": [
       "1. 1\n",
       "2. 7.67146990842854\n",
       "3. 41.7395347091614\n",
       "4. 2183.38498381564\n",
       "\n",
       "\n"
      ],
      "text/plain": [
       "[1]    1.00000    7.67147   41.73953 2183.38498"
      ]
     },
     "metadata": {},
     "output_type": "display_data"
    }
   ],
   "source": [
    "max( eigen( solve(vcov(regre.cemento)[2:5,2:5]) )$values  ) / eigen( solve(vcov(regre.cemento)[2:5,2:5]) )$values"
   ]
  },
  {
   "cell_type": "code",
   "execution_count": null,
   "id": "fd6bc353",
   "metadata": {},
   "outputs": [],
   "source": []
  }
 ],
 "metadata": {
  "kernelspec": {
   "display_name": "R",
   "language": "R",
   "name": "ir"
  },
  "language_info": {
   "codemirror_mode": "r",
   "file_extension": ".r",
   "mimetype": "text/x-r-source",
   "name": "R",
   "pygments_lexer": "r",
   "version": "4.3.2"
  }
 },
 "nbformat": 4,
 "nbformat_minor": 5
}
