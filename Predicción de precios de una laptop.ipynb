{
 "cells": [
  {
   "cell_type": "markdown",
   "id": "2ba130e7",
   "metadata": {},
   "source": [
    "<div style=\"text-align:center\">\n",
    "    <h1>Predicción de precios de una laptop</h1>\n",
    "</div>"
   ]
  },
  {
   "cell_type": "markdown",
   "id": "1a0f0003",
   "metadata": {},
   "source": [
    "### Cargando librerias"
   ]
  },
  {
   "cell_type": "code",
   "execution_count": 1,
   "id": "70aa4342",
   "metadata": {},
   "outputs": [
    {
     "name": "stderr",
     "output_type": "stream",
     "text": [
      "Loading required package: car\n",
      "\n",
      "Loading required package: carData\n",
      "\n",
      "Loading required package: effects\n",
      "\n",
      "lattice theme set by effectsTheme()\n",
      "See ?effectsTheme for details.\n",
      "\n"
     ]
    }
   ],
   "source": [
    "library(MASS)\n",
    "library(leaps)\n",
    "library(alr4)\n",
    "library(car)"
   ]
  },
  {
   "cell_type": "markdown",
   "id": "811ce593",
   "metadata": {},
   "source": [
    "### Cargando datos"
   ]
  },
  {
   "cell_type": "code",
   "execution_count": 2,
   "id": "89b2a650",
   "metadata": {},
   "outputs": [
    {
     "data": {
      "text/html": [
       "<table class=\"dataframe\">\n",
       "<caption>A data.frame: 6 × 7</caption>\n",
       "<thead>\n",
       "\t<tr><th></th><th scope=col>Brand</th><th scope=col>Processor_Speed</th><th scope=col>RAM_Size</th><th scope=col>Storage_Capacity</th><th scope=col>Screen_Size</th><th scope=col>Weight</th><th scope=col>Price</th></tr>\n",
       "\t<tr><th></th><th scope=col>&lt;chr&gt;</th><th scope=col>&lt;dbl&gt;</th><th scope=col>&lt;int&gt;</th><th scope=col>&lt;int&gt;</th><th scope=col>&lt;dbl&gt;</th><th scope=col>&lt;dbl&gt;</th><th scope=col>&lt;dbl&gt;</th></tr>\n",
       "</thead>\n",
       "<tbody>\n",
       "\t<tr><th scope=row>1</th><td>Asus  </td><td>3.830296</td><td>16</td><td> 512</td><td>11.18515</td><td>2.641094</td><td>17395.093</td></tr>\n",
       "\t<tr><th scope=row>2</th><td>Acer  </td><td>2.912833</td><td> 4</td><td>1000</td><td>11.31137</td><td>3.260012</td><td>31607.606</td></tr>\n",
       "\t<tr><th scope=row>3</th><td>Lenovo</td><td>3.241627</td><td> 4</td><td> 256</td><td>11.85302</td><td>2.029061</td><td> 9291.024</td></tr>\n",
       "\t<tr><th scope=row>4</th><td>Acer  </td><td>3.806248</td><td>16</td><td> 512</td><td>12.28036</td><td>4.573865</td><td>17436.728</td></tr>\n",
       "\t<tr><th scope=row>5</th><td>Acer  </td><td>3.268097</td><td>32</td><td>1000</td><td>14.99088</td><td>4.193472</td><td>32917.991</td></tr>\n",
       "\t<tr><th scope=row>6</th><td>HP    </td><td>1.881348</td><td>16</td><td> 256</td><td>11.94396</td><td>4.840268</td><td> 9543.720</td></tr>\n",
       "</tbody>\n",
       "</table>\n"
      ],
      "text/latex": [
       "A data.frame: 6 × 7\n",
       "\\begin{tabular}{r|lllllll}\n",
       "  & Brand & Processor\\_Speed & RAM\\_Size & Storage\\_Capacity & Screen\\_Size & Weight & Price\\\\\n",
       "  & <chr> & <dbl> & <int> & <int> & <dbl> & <dbl> & <dbl>\\\\\n",
       "\\hline\n",
       "\t1 & Asus   & 3.830296 & 16 &  512 & 11.18515 & 2.641094 & 17395.093\\\\\n",
       "\t2 & Acer   & 2.912833 &  4 & 1000 & 11.31137 & 3.260012 & 31607.606\\\\\n",
       "\t3 & Lenovo & 3.241627 &  4 &  256 & 11.85302 & 2.029061 &  9291.024\\\\\n",
       "\t4 & Acer   & 3.806248 & 16 &  512 & 12.28036 & 4.573865 & 17436.728\\\\\n",
       "\t5 & Acer   & 3.268097 & 32 & 1000 & 14.99088 & 4.193472 & 32917.991\\\\\n",
       "\t6 & HP     & 1.881348 & 16 &  256 & 11.94396 & 4.840268 &  9543.720\\\\\n",
       "\\end{tabular}\n"
      ],
      "text/markdown": [
       "\n",
       "A data.frame: 6 × 7\n",
       "\n",
       "| <!--/--> | Brand &lt;chr&gt; | Processor_Speed &lt;dbl&gt; | RAM_Size &lt;int&gt; | Storage_Capacity &lt;int&gt; | Screen_Size &lt;dbl&gt; | Weight &lt;dbl&gt; | Price &lt;dbl&gt; |\n",
       "|---|---|---|---|---|---|---|---|\n",
       "| 1 | Asus   | 3.830296 | 16 |  512 | 11.18515 | 2.641094 | 17395.093 |\n",
       "| 2 | Acer   | 2.912833 |  4 | 1000 | 11.31137 | 3.260012 | 31607.606 |\n",
       "| 3 | Lenovo | 3.241627 |  4 |  256 | 11.85302 | 2.029061 |  9291.024 |\n",
       "| 4 | Acer   | 3.806248 | 16 |  512 | 12.28036 | 4.573865 | 17436.728 |\n",
       "| 5 | Acer   | 3.268097 | 32 | 1000 | 14.99088 | 4.193472 | 32917.991 |\n",
       "| 6 | HP     | 1.881348 | 16 |  256 | 11.94396 | 4.840268 |  9543.720 |\n",
       "\n"
      ],
      "text/plain": [
       "  Brand  Processor_Speed RAM_Size Storage_Capacity Screen_Size Weight  \n",
       "1 Asus   3.830296        16        512             11.18515    2.641094\n",
       "2 Acer   2.912833         4       1000             11.31137    3.260012\n",
       "3 Lenovo 3.241627         4        256             11.85302    2.029061\n",
       "4 Acer   3.806248        16        512             12.28036    4.573865\n",
       "5 Acer   3.268097        32       1000             14.99088    4.193472\n",
       "6 HP     1.881348        16        256             11.94396    4.840268\n",
       "  Price    \n",
       "1 17395.093\n",
       "2 31607.606\n",
       "3  9291.024\n",
       "4 17436.728\n",
       "5 32917.991\n",
       "6  9543.720"
      ]
     },
     "metadata": {},
     "output_type": "display_data"
    }
   ],
   "source": [
    "datos <- read.csv(\"C:/Users/marti/OneDrive/Escritorio/jupyter/database/Laptop_price.csv\")\n",
    "\n",
    "head(datos)"
   ]
  },
  {
   "cell_type": "markdown",
   "id": "1f128107",
   "metadata": {},
   "source": [
    "### Convirtiendo en factor la variable Brand"
   ]
  },
  {
   "cell_type": "code",
   "execution_count": 3,
   "id": "329fe857",
   "metadata": {},
   "outputs": [
    {
     "data": {
      "text/html": [
       "<table class=\"dataframe\">\n",
       "<caption>A data.frame: 6 × 7</caption>\n",
       "<thead>\n",
       "\t<tr><th></th><th scope=col>Brand</th><th scope=col>Processor_Speed</th><th scope=col>RAM_Size</th><th scope=col>Storage_Capacity</th><th scope=col>Screen_Size</th><th scope=col>Weight</th><th scope=col>Price</th></tr>\n",
       "\t<tr><th></th><th scope=col>&lt;fct&gt;</th><th scope=col>&lt;dbl&gt;</th><th scope=col>&lt;int&gt;</th><th scope=col>&lt;int&gt;</th><th scope=col>&lt;dbl&gt;</th><th scope=col>&lt;dbl&gt;</th><th scope=col>&lt;dbl&gt;</th></tr>\n",
       "</thead>\n",
       "<tbody>\n",
       "\t<tr><th scope=row>1</th><td>Asus  </td><td>3.830296</td><td>16</td><td> 512</td><td>11.18515</td><td>2.641094</td><td>17395.093</td></tr>\n",
       "\t<tr><th scope=row>2</th><td>Acer  </td><td>2.912833</td><td> 4</td><td>1000</td><td>11.31137</td><td>3.260012</td><td>31607.606</td></tr>\n",
       "\t<tr><th scope=row>3</th><td>Lenovo</td><td>3.241627</td><td> 4</td><td> 256</td><td>11.85302</td><td>2.029061</td><td> 9291.024</td></tr>\n",
       "\t<tr><th scope=row>4</th><td>Acer  </td><td>3.806248</td><td>16</td><td> 512</td><td>12.28036</td><td>4.573865</td><td>17436.728</td></tr>\n",
       "\t<tr><th scope=row>5</th><td>Acer  </td><td>3.268097</td><td>32</td><td>1000</td><td>14.99088</td><td>4.193472</td><td>32917.991</td></tr>\n",
       "\t<tr><th scope=row>6</th><td>HP    </td><td>1.881348</td><td>16</td><td> 256</td><td>11.94396</td><td>4.840268</td><td> 9543.720</td></tr>\n",
       "</tbody>\n",
       "</table>\n"
      ],
      "text/latex": [
       "A data.frame: 6 × 7\n",
       "\\begin{tabular}{r|lllllll}\n",
       "  & Brand & Processor\\_Speed & RAM\\_Size & Storage\\_Capacity & Screen\\_Size & Weight & Price\\\\\n",
       "  & <fct> & <dbl> & <int> & <int> & <dbl> & <dbl> & <dbl>\\\\\n",
       "\\hline\n",
       "\t1 & Asus   & 3.830296 & 16 &  512 & 11.18515 & 2.641094 & 17395.093\\\\\n",
       "\t2 & Acer   & 2.912833 &  4 & 1000 & 11.31137 & 3.260012 & 31607.606\\\\\n",
       "\t3 & Lenovo & 3.241627 &  4 &  256 & 11.85302 & 2.029061 &  9291.024\\\\\n",
       "\t4 & Acer   & 3.806248 & 16 &  512 & 12.28036 & 4.573865 & 17436.728\\\\\n",
       "\t5 & Acer   & 3.268097 & 32 & 1000 & 14.99088 & 4.193472 & 32917.991\\\\\n",
       "\t6 & HP     & 1.881348 & 16 &  256 & 11.94396 & 4.840268 &  9543.720\\\\\n",
       "\\end{tabular}\n"
      ],
      "text/markdown": [
       "\n",
       "A data.frame: 6 × 7\n",
       "\n",
       "| <!--/--> | Brand &lt;fct&gt; | Processor_Speed &lt;dbl&gt; | RAM_Size &lt;int&gt; | Storage_Capacity &lt;int&gt; | Screen_Size &lt;dbl&gt; | Weight &lt;dbl&gt; | Price &lt;dbl&gt; |\n",
       "|---|---|---|---|---|---|---|---|\n",
       "| 1 | Asus   | 3.830296 | 16 |  512 | 11.18515 | 2.641094 | 17395.093 |\n",
       "| 2 | Acer   | 2.912833 |  4 | 1000 | 11.31137 | 3.260012 | 31607.606 |\n",
       "| 3 | Lenovo | 3.241627 |  4 |  256 | 11.85302 | 2.029061 |  9291.024 |\n",
       "| 4 | Acer   | 3.806248 | 16 |  512 | 12.28036 | 4.573865 | 17436.728 |\n",
       "| 5 | Acer   | 3.268097 | 32 | 1000 | 14.99088 | 4.193472 | 32917.991 |\n",
       "| 6 | HP     | 1.881348 | 16 |  256 | 11.94396 | 4.840268 |  9543.720 |\n",
       "\n"
      ],
      "text/plain": [
       "  Brand  Processor_Speed RAM_Size Storage_Capacity Screen_Size Weight  \n",
       "1 Asus   3.830296        16        512             11.18515    2.641094\n",
       "2 Acer   2.912833         4       1000             11.31137    3.260012\n",
       "3 Lenovo 3.241627         4        256             11.85302    2.029061\n",
       "4 Acer   3.806248        16        512             12.28036    4.573865\n",
       "5 Acer   3.268097        32       1000             14.99088    4.193472\n",
       "6 HP     1.881348        16        256             11.94396    4.840268\n",
       "  Price    \n",
       "1 17395.093\n",
       "2 31607.606\n",
       "3  9291.024\n",
       "4 17436.728\n",
       "5 32917.991\n",
       "6  9543.720"
      ]
     },
     "metadata": {},
     "output_type": "display_data"
    }
   ],
   "source": [
    "datos$Brand<-as.factor(datos$Brand)\n",
    "head(datos)"
   ]
  },
  {
   "cell_type": "markdown",
   "id": "613491d0",
   "metadata": {},
   "source": [
    "### Agregando variable indicadora"
   ]
  },
  {
   "cell_type": "code",
   "execution_count": 4,
   "id": "569c2863",
   "metadata": {},
   "outputs": [
    {
     "data": {
      "text/html": [
       "<table class=\"dataframe\">\n",
       "<caption>A data.frame: 6 × 12</caption>\n",
       "<thead>\n",
       "\t<tr><th></th><th scope=col>Brand</th><th scope=col>Processor_Speed</th><th scope=col>RAM_Size</th><th scope=col>Storage_Capacity</th><th scope=col>Screen_Size</th><th scope=col>Weight</th><th scope=col>Price</th><th scope=col>indic.BrandAcer</th><th scope=col>indic.BrandAsus</th><th scope=col>indic.BrandDell</th><th scope=col>indic.BrandHP</th><th scope=col>indic.BrandLenovo</th></tr>\n",
       "\t<tr><th></th><th scope=col>&lt;fct&gt;</th><th scope=col>&lt;dbl&gt;</th><th scope=col>&lt;int&gt;</th><th scope=col>&lt;int&gt;</th><th scope=col>&lt;dbl&gt;</th><th scope=col>&lt;dbl&gt;</th><th scope=col>&lt;dbl&gt;</th><th scope=col>&lt;dbl&gt;</th><th scope=col>&lt;dbl&gt;</th><th scope=col>&lt;dbl&gt;</th><th scope=col>&lt;dbl&gt;</th><th scope=col>&lt;dbl&gt;</th></tr>\n",
       "</thead>\n",
       "<tbody>\n",
       "\t<tr><th scope=row>1</th><td>Asus  </td><td>3.830296</td><td>16</td><td> 512</td><td>11.18515</td><td>2.641094</td><td>17395.093</td><td>0</td><td>1</td><td>0</td><td>0</td><td>0</td></tr>\n",
       "\t<tr><th scope=row>2</th><td>Acer  </td><td>2.912833</td><td> 4</td><td>1000</td><td>11.31137</td><td>3.260012</td><td>31607.606</td><td>1</td><td>0</td><td>0</td><td>0</td><td>0</td></tr>\n",
       "\t<tr><th scope=row>3</th><td>Lenovo</td><td>3.241627</td><td> 4</td><td> 256</td><td>11.85302</td><td>2.029061</td><td> 9291.024</td><td>0</td><td>0</td><td>0</td><td>0</td><td>1</td></tr>\n",
       "\t<tr><th scope=row>4</th><td>Acer  </td><td>3.806248</td><td>16</td><td> 512</td><td>12.28036</td><td>4.573865</td><td>17436.728</td><td>1</td><td>0</td><td>0</td><td>0</td><td>0</td></tr>\n",
       "\t<tr><th scope=row>5</th><td>Acer  </td><td>3.268097</td><td>32</td><td>1000</td><td>14.99088</td><td>4.193472</td><td>32917.991</td><td>1</td><td>0</td><td>0</td><td>0</td><td>0</td></tr>\n",
       "\t<tr><th scope=row>6</th><td>HP    </td><td>1.881348</td><td>16</td><td> 256</td><td>11.94396</td><td>4.840268</td><td> 9543.720</td><td>0</td><td>0</td><td>0</td><td>1</td><td>0</td></tr>\n",
       "</tbody>\n",
       "</table>\n"
      ],
      "text/latex": [
       "A data.frame: 6 × 12\n",
       "\\begin{tabular}{r|llllllllllll}\n",
       "  & Brand & Processor\\_Speed & RAM\\_Size & Storage\\_Capacity & Screen\\_Size & Weight & Price & indic.BrandAcer & indic.BrandAsus & indic.BrandDell & indic.BrandHP & indic.BrandLenovo\\\\\n",
       "  & <fct> & <dbl> & <int> & <int> & <dbl> & <dbl> & <dbl> & <dbl> & <dbl> & <dbl> & <dbl> & <dbl>\\\\\n",
       "\\hline\n",
       "\t1 & Asus   & 3.830296 & 16 &  512 & 11.18515 & 2.641094 & 17395.093 & 0 & 1 & 0 & 0 & 0\\\\\n",
       "\t2 & Acer   & 2.912833 &  4 & 1000 & 11.31137 & 3.260012 & 31607.606 & 1 & 0 & 0 & 0 & 0\\\\\n",
       "\t3 & Lenovo & 3.241627 &  4 &  256 & 11.85302 & 2.029061 &  9291.024 & 0 & 0 & 0 & 0 & 1\\\\\n",
       "\t4 & Acer   & 3.806248 & 16 &  512 & 12.28036 & 4.573865 & 17436.728 & 1 & 0 & 0 & 0 & 0\\\\\n",
       "\t5 & Acer   & 3.268097 & 32 & 1000 & 14.99088 & 4.193472 & 32917.991 & 1 & 0 & 0 & 0 & 0\\\\\n",
       "\t6 & HP     & 1.881348 & 16 &  256 & 11.94396 & 4.840268 &  9543.720 & 0 & 0 & 0 & 1 & 0\\\\\n",
       "\\end{tabular}\n"
      ],
      "text/markdown": [
       "\n",
       "A data.frame: 6 × 12\n",
       "\n",
       "| <!--/--> | Brand &lt;fct&gt; | Processor_Speed &lt;dbl&gt; | RAM_Size &lt;int&gt; | Storage_Capacity &lt;int&gt; | Screen_Size &lt;dbl&gt; | Weight &lt;dbl&gt; | Price &lt;dbl&gt; | indic.BrandAcer &lt;dbl&gt; | indic.BrandAsus &lt;dbl&gt; | indic.BrandDell &lt;dbl&gt; | indic.BrandHP &lt;dbl&gt; | indic.BrandLenovo &lt;dbl&gt; |\n",
       "|---|---|---|---|---|---|---|---|---|---|---|---|---|\n",
       "| 1 | Asus   | 3.830296 | 16 |  512 | 11.18515 | 2.641094 | 17395.093 | 0 | 1 | 0 | 0 | 0 |\n",
       "| 2 | Acer   | 2.912833 |  4 | 1000 | 11.31137 | 3.260012 | 31607.606 | 1 | 0 | 0 | 0 | 0 |\n",
       "| 3 | Lenovo | 3.241627 |  4 |  256 | 11.85302 | 2.029061 |  9291.024 | 0 | 0 | 0 | 0 | 1 |\n",
       "| 4 | Acer   | 3.806248 | 16 |  512 | 12.28036 | 4.573865 | 17436.728 | 1 | 0 | 0 | 0 | 0 |\n",
       "| 5 | Acer   | 3.268097 | 32 | 1000 | 14.99088 | 4.193472 | 32917.991 | 1 | 0 | 0 | 0 | 0 |\n",
       "| 6 | HP     | 1.881348 | 16 |  256 | 11.94396 | 4.840268 |  9543.720 | 0 | 0 | 0 | 1 | 0 |\n",
       "\n"
      ],
      "text/plain": [
       "  Brand  Processor_Speed RAM_Size Storage_Capacity Screen_Size Weight  \n",
       "1 Asus   3.830296        16        512             11.18515    2.641094\n",
       "2 Acer   2.912833         4       1000             11.31137    3.260012\n",
       "3 Lenovo 3.241627         4        256             11.85302    2.029061\n",
       "4 Acer   3.806248        16        512             12.28036    4.573865\n",
       "5 Acer   3.268097        32       1000             14.99088    4.193472\n",
       "6 HP     1.881348        16        256             11.94396    4.840268\n",
       "  Price     indic.BrandAcer indic.BrandAsus indic.BrandDell indic.BrandHP\n",
       "1 17395.093 0               1               0               0            \n",
       "2 31607.606 1               0               0               0            \n",
       "3  9291.024 0               0               0               0            \n",
       "4 17436.728 1               0               0               0            \n",
       "5 32917.991 1               0               0               0            \n",
       "6  9543.720 0               0               0               1            \n",
       "  indic.BrandLenovo\n",
       "1 0                \n",
       "2 0                \n",
       "3 1                \n",
       "4 0                \n",
       "5 0                \n",
       "6 0                "
      ]
     },
     "metadata": {},
     "output_type": "display_data"
    }
   ],
   "source": [
    "datos.trans <- transform(datos, indic=model.matrix(~ -1 + Brand, datos) )\n",
    "head(datos.trans)"
   ]
  },
  {
   "cell_type": "markdown",
   "id": "3419acf6",
   "metadata": {},
   "source": [
    "### Ajustando modelo de regrresion lineal, donde para cada marca obtenemos un distinto modelo"
   ]
  },
  {
   "cell_type": "code",
   "execution_count": 6,
   "id": "0bc0ce10",
   "metadata": {},
   "outputs": [
    {
     "data": {
      "text/plain": [
       "\n",
       "Call:\n",
       "lm(formula = Price ~ Brand * Processor_Speed * RAM_Size * Storage_Capacity * \n",
       "    Screen_Size, data = datos.trans)\n",
       "\n",
       "Residuals:\n",
       "    Min      1Q  Median      3Q     Max \n",
       "-579.29 -127.27    1.93  121.39  834.57 \n",
       "\n",
       "Coefficients:\n",
       "                                                                    Estimate\n",
       "(Intercept)                                                       -6.929e+02\n",
       "BrandAsus                                                          2.014e+03\n",
       "BrandDell                                                          2.639e+03\n",
       "BrandHP                                                           -2.205e+03\n",
       "BrandLenovo                                                        1.311e+03\n",
       "Processor_Speed                                                    3.576e+02\n",
       "RAM_Size                                                           1.499e+02\n",
       "Storage_Capacity                                                   3.171e+01\n",
       "Screen_Size                                                        1.218e+02\n",
       "BrandAsus:Processor_Speed                                         -6.596e+02\n",
       "BrandDell:Processor_Speed                                         -8.955e+02\n",
       "BrandHP:Processor_Speed                                            9.738e+02\n",
       "BrandLenovo:Processor_Speed                                       -1.394e+02\n",
       "BrandAsus:RAM_Size                                                -2.051e+02\n",
       "BrandDell:RAM_Size                                                -1.186e+02\n",
       "BrandHP:RAM_Size                                                   6.716e+01\n",
       "BrandLenovo:RAM_Size                                              -1.182e+02\n",
       "Processor_Speed:RAM_Size                                          -9.402e+00\n",
       "BrandAsus:Storage_Capacity                                        -3.713e+00\n",
       "BrandDell:Storage_Capacity                                        -3.789e+00\n",
       "BrandHP:Storage_Capacity                                           3.662e+00\n",
       "BrandLenovo:Storage_Capacity                                      -2.878e+00\n",
       "Processor_Speed:Storage_Capacity                                  -5.033e-01\n",
       "RAM_Size:Storage_Capacity                                         -1.122e-01\n",
       "BrandAsus:Screen_Size                                             -1.614e+02\n",
       "BrandDell:Screen_Size                                             -1.895e+02\n",
       "BrandHP:Screen_Size                                                1.362e+02\n",
       "BrandLenovo:Screen_Size                                           -1.133e+02\n",
       "Processor_Speed:Screen_Size                                       -1.554e+01\n",
       "RAM_Size:Screen_Size                                              -7.509e+00\n",
       "Storage_Capacity:Screen_Size                                      -1.481e-01\n",
       "BrandAsus:Processor_Speed:RAM_Size                                 5.803e+01\n",
       "BrandDell:Processor_Speed:RAM_Size                                 3.667e+01\n",
       "BrandHP:Processor_Speed:RAM_Size                                  -3.754e+01\n",
       "BrandLenovo:Processor_Speed:RAM_Size                               1.007e+01\n",
       "BrandAsus:Processor_Speed:Storage_Capacity                         1.510e+00\n",
       "BrandDell:Processor_Speed:Storage_Capacity                         1.590e+00\n",
       "BrandHP:Processor_Speed:Storage_Capacity                          -1.274e+00\n",
       "BrandLenovo:Processor_Speed:Storage_Capacity                       7.989e-01\n",
       "BrandAsus:RAM_Size:Storage_Capacity                                2.521e-01\n",
       "BrandDell:RAM_Size:Storage_Capacity                                1.670e-01\n",
       "BrandHP:RAM_Size:Storage_Capacity                                 -1.938e-01\n",
       "BrandLenovo:RAM_Size:Storage_Capacity                              1.668e-01\n",
       "Processor_Speed:RAM_Size:Storage_Capacity                          1.524e-02\n",
       "BrandAsus:Processor_Speed:Screen_Size                              5.096e+01\n",
       "BrandDell:Processor_Speed:Screen_Size                              6.158e+01\n",
       "BrandHP:Processor_Speed:Screen_Size                               -6.529e+01\n",
       "BrandLenovo:Processor_Speed:Screen_Size                            1.380e+01\n",
       "BrandAsus:RAM_Size:Screen_Size                                     1.559e+01\n",
       "BrandDell:RAM_Size:Screen_Size                                     8.296e+00\n",
       "BrandHP:RAM_Size:Screen_Size                                      -4.120e+00\n",
       "BrandLenovo:RAM_Size:Screen_Size                                   8.737e+00\n",
       "Processor_Speed:RAM_Size:Screen_Size                               6.948e-01\n",
       "BrandAsus:Storage_Capacity:Screen_Size                             2.917e-01\n",
       "BrandDell:Storage_Capacity:Screen_Size                             2.697e-01\n",
       "BrandHP:Storage_Capacity:Screen_Size                              -2.326e-01\n",
       "BrandLenovo:Storage_Capacity:Screen_Size                           2.318e-01\n",
       "Processor_Speed:Storage_Capacity:Screen_Size                       4.078e-02\n",
       "RAM_Size:Storage_Capacity:Screen_Size                              8.237e-03\n",
       "BrandAsus:Processor_Speed:RAM_Size:Storage_Capacity               -8.032e-02\n",
       "BrandDell:Processor_Speed:RAM_Size:Storage_Capacity               -6.229e-02\n",
       "BrandHP:Processor_Speed:RAM_Size:Storage_Capacity                  7.170e-02\n",
       "BrandLenovo:Processor_Speed:RAM_Size:Storage_Capacity             -2.384e-02\n",
       "BrandAsus:Processor_Speed:RAM_Size:Screen_Size                    -4.295e+00\n",
       "BrandDell:Processor_Speed:RAM_Size:Screen_Size                    -2.488e+00\n",
       "BrandHP:Processor_Speed:RAM_Size:Screen_Size                       2.648e+00\n",
       "BrandLenovo:Processor_Speed:RAM_Size:Screen_Size                  -6.814e-01\n",
       "BrandAsus:Processor_Speed:Storage_Capacity:Screen_Size            -1.128e-01\n",
       "BrandDell:Processor_Speed:Storage_Capacity:Screen_Size            -1.100e-01\n",
       "BrandHP:Processor_Speed:Storage_Capacity:Screen_Size               8.578e-02\n",
       "BrandLenovo:Processor_Speed:Storage_Capacity:Screen_Size          -6.284e-02\n",
       "BrandAsus:RAM_Size:Storage_Capacity:Screen_Size                   -1.863e-02\n",
       "BrandDell:RAM_Size:Storage_Capacity:Screen_Size                   -1.176e-02\n",
       "BrandHP:RAM_Size:Storage_Capacity:Screen_Size                      1.243e-02\n",
       "BrandLenovo:RAM_Size:Storage_Capacity:Screen_Size                 -1.198e-02\n",
       "Processor_Speed:RAM_Size:Storage_Capacity:Screen_Size             -9.726e-04\n",
       "BrandAsus:Processor_Speed:RAM_Size:Storage_Capacity:Screen_Size    5.646e-03\n",
       "BrandDell:Processor_Speed:RAM_Size:Storage_Capacity:Screen_Size    4.337e-03\n",
       "BrandHP:Processor_Speed:RAM_Size:Storage_Capacity:Screen_Size     -4.985e-03\n",
       "BrandLenovo:Processor_Speed:RAM_Size:Storage_Capacity:Screen_Size  1.553e-03\n",
       "                                                                  Std. Error\n",
       "(Intercept)                                                        1.950e+03\n",
       "BrandAsus                                                          2.402e+03\n",
       "BrandDell                                                          2.668e+03\n",
       "BrandHP                                                            2.763e+03\n",
       "BrandLenovo                                                        2.686e+03\n",
       "Processor_Speed                                                    6.673e+02\n",
       "RAM_Size                                                           1.033e+02\n",
       "Storage_Capacity                                                   2.675e+00\n",
       "Screen_Size                                                        1.334e+02\n",
       "BrandAsus:Processor_Speed                                          8.378e+02\n",
       "BrandDell:Processor_Speed                                          9.466e+02\n",
       "BrandHP:Processor_Speed                                            9.529e+02\n",
       "BrandLenovo:Processor_Speed                                        9.577e+02\n",
       "BrandAsus:RAM_Size                                                 1.343e+02\n",
       "BrandDell:RAM_Size                                                 1.367e+02\n",
       "BrandHP:RAM_Size                                                   1.568e+02\n",
       "BrandLenovo:RAM_Size                                               1.517e+02\n",
       "Processor_Speed:RAM_Size                                           3.408e+01\n",
       "BrandAsus:Storage_Capacity                                         3.452e+00\n",
       "BrandDell:Storage_Capacity                                         3.799e+00\n",
       "BrandHP:Storage_Capacity                                           3.993e+00\n",
       "BrandLenovo:Storage_Capacity                                       3.697e+00\n",
       "Processor_Speed:Storage_Capacity                                   9.749e-01\n",
       "RAM_Size:Storage_Capacity                                          1.444e-01\n",
       "BrandAsus:Screen_Size                                              1.661e+02\n",
       "BrandDell:Screen_Size                                              1.842e+02\n",
       "BrandHP:Screen_Size                                                1.938e+02\n",
       "BrandLenovo:Screen_Size                                            1.834e+02\n",
       "Processor_Speed:Screen_Size                                        4.563e+01\n",
       "RAM_Size:Screen_Size                                               7.233e+00\n",
       "Storage_Capacity:Screen_Size                                       1.858e-01\n",
       "BrandAsus:Processor_Speed:RAM_Size                                 4.643e+01\n",
       "BrandDell:Processor_Speed:RAM_Size                                 4.783e+01\n",
       "BrandHP:Processor_Speed:RAM_Size                                   5.293e+01\n",
       "BrandLenovo:Processor_Speed:RAM_Size                               5.171e+01\n",
       "BrandAsus:Processor_Speed:Storage_Capacity                         1.259e+00\n",
       "BrandDell:Processor_Speed:Storage_Capacity                         1.408e+00\n",
       "BrandHP:Processor_Speed:Storage_Capacity                           1.405e+00\n",
       "BrandLenovo:Processor_Speed:Storage_Capacity                       1.361e+00\n",
       "BrandAsus:RAM_Size:Storage_Capacity                                1.925e-01\n",
       "BrandDell:RAM_Size:Storage_Capacity                                2.009e-01\n",
       "BrandHP:RAM_Size:Storage_Capacity                                  2.254e-01\n",
       "BrandLenovo:RAM_Size:Storage_Capacity                              2.066e-01\n",
       "Processor_Speed:RAM_Size:Storage_Capacity                          5.051e-02\n",
       "BrandAsus:Processor_Speed:Screen_Size                              5.800e+01\n",
       "BrandDell:Processor_Speed:Screen_Size                              6.558e+01\n",
       "BrandHP:Processor_Speed:Screen_Size                                6.700e+01\n",
       "BrandLenovo:Processor_Speed:Screen_Size                            6.562e+01\n",
       "BrandAsus:RAM_Size:Screen_Size                                     9.595e+00\n",
       "BrandDell:RAM_Size:Screen_Size                                     9.581e+00\n",
       "BrandHP:RAM_Size:Screen_Size                                       1.108e+01\n",
       "BrandLenovo:RAM_Size:Screen_Size                                   1.056e+01\n",
       "Processor_Speed:RAM_Size:Screen_Size                               2.383e+00\n",
       "BrandAsus:Storage_Capacity:Screen_Size                             2.413e-01\n",
       "BrandDell:Storage_Capacity:Screen_Size                             2.657e-01\n",
       "BrandHP:Storage_Capacity:Screen_Size                               2.849e-01\n",
       "BrandLenovo:Storage_Capacity:Screen_Size                           2.562e-01\n",
       "Processor_Speed:Storage_Capacity:Screen_Size                       6.776e-02\n",
       "RAM_Size:Storage_Capacity:Screen_Size                              1.036e-02\n",
       "BrandAsus:Processor_Speed:RAM_Size:Storage_Capacity                6.959e-02\n",
       "BrandDell:Processor_Speed:RAM_Size:Storage_Capacity                7.524e-02\n",
       "BrandHP:Processor_Speed:RAM_Size:Storage_Capacity                  7.796e-02\n",
       "BrandLenovo:Processor_Speed:RAM_Size:Storage_Capacity              7.329e-02\n",
       "BrandAsus:Processor_Speed:RAM_Size:Screen_Size                     3.318e+00\n",
       "BrandDell:Processor_Speed:RAM_Size:Screen_Size                     3.352e+00\n",
       "BrandHP:Processor_Speed:RAM_Size:Screen_Size                       3.741e+00\n",
       "BrandLenovo:Processor_Speed:RAM_Size:Screen_Size                   3.612e+00\n",
       "BrandAsus:Processor_Speed:Storage_Capacity:Screen_Size             8.803e-02\n",
       "BrandDell:Processor_Speed:Storage_Capacity:Screen_Size             9.885e-02\n",
       "BrandHP:Processor_Speed:Storage_Capacity:Screen_Size               1.003e-01\n",
       "BrandLenovo:Processor_Speed:Storage_Capacity:Screen_Size           9.445e-02\n",
       "BrandAsus:RAM_Size:Storage_Capacity:Screen_Size                    1.388e-02\n",
       "BrandDell:RAM_Size:Storage_Capacity:Screen_Size                    1.421e-02\n",
       "BrandHP:RAM_Size:Storage_Capacity:Screen_Size                      1.609e-02\n",
       "BrandLenovo:RAM_Size:Storage_Capacity:Screen_Size                  1.469e-02\n",
       "Processor_Speed:RAM_Size:Storage_Capacity:Screen_Size              3.613e-03\n",
       "BrandAsus:Processor_Speed:RAM_Size:Storage_Capacity:Screen_Size    4.980e-03\n",
       "BrandDell:Processor_Speed:RAM_Size:Storage_Capacity:Screen_Size    5.306e-03\n",
       "BrandHP:Processor_Speed:RAM_Size:Storage_Capacity:Screen_Size      5.566e-03\n",
       "BrandLenovo:Processor_Speed:RAM_Size:Storage_Capacity:Screen_Size  5.219e-03\n",
       "                                                                  t value\n",
       "(Intercept)                                                        -0.355\n",
       "BrandAsus                                                           0.838\n",
       "BrandDell                                                           0.989\n",
       "BrandHP                                                            -0.798\n",
       "BrandLenovo                                                         0.488\n",
       "Processor_Speed                                                     0.536\n",
       "RAM_Size                                                            1.451\n",
       "Storage_Capacity                                                   11.855\n",
       "Screen_Size                                                         0.913\n",
       "BrandAsus:Processor_Speed                                          -0.787\n",
       "BrandDell:Processor_Speed                                          -0.946\n",
       "BrandHP:Processor_Speed                                             1.022\n",
       "BrandLenovo:Processor_Speed                                        -0.146\n",
       "BrandAsus:RAM_Size                                                 -1.528\n",
       "BrandDell:RAM_Size                                                 -0.868\n",
       "BrandHP:RAM_Size                                                    0.428\n",
       "BrandLenovo:RAM_Size                                               -0.779\n",
       "Processor_Speed:RAM_Size                                           -0.276\n",
       "BrandAsus:Storage_Capacity                                         -1.075\n",
       "BrandDell:Storage_Capacity                                         -0.997\n",
       "BrandHP:Storage_Capacity                                            0.917\n",
       "BrandLenovo:Storage_Capacity                                       -0.778\n",
       "Processor_Speed:Storage_Capacity                                   -0.516\n",
       "RAM_Size:Storage_Capacity                                          -0.777\n",
       "BrandAsus:Screen_Size                                              -0.972\n",
       "BrandDell:Screen_Size                                              -1.028\n",
       "BrandHP:Screen_Size                                                 0.702\n",
       "BrandLenovo:Screen_Size                                            -0.618\n",
       "Processor_Speed:Screen_Size                                        -0.341\n",
       "RAM_Size:Screen_Size                                               -1.038\n",
       "Storage_Capacity:Screen_Size                                       -0.797\n",
       "BrandAsus:Processor_Speed:RAM_Size                                  1.250\n",
       "BrandDell:Processor_Speed:RAM_Size                                  0.767\n",
       "BrandHP:Processor_Speed:RAM_Size                                   -0.709\n",
       "BrandLenovo:Processor_Speed:RAM_Size                                0.195\n",
       "BrandAsus:Processor_Speed:Storage_Capacity                          1.200\n",
       "BrandDell:Processor_Speed:Storage_Capacity                          1.129\n",
       "BrandHP:Processor_Speed:Storage_Capacity                           -0.907\n",
       "BrandLenovo:Processor_Speed:Storage_Capacity                        0.587\n",
       "BrandAsus:RAM_Size:Storage_Capacity                                 1.309\n",
       "BrandDell:RAM_Size:Storage_Capacity                                 0.831\n",
       "BrandHP:RAM_Size:Storage_Capacity                                  -0.860\n",
       "BrandLenovo:RAM_Size:Storage_Capacity                               0.808\n",
       "Processor_Speed:RAM_Size:Storage_Capacity                           0.302\n",
       "BrandAsus:Processor_Speed:Screen_Size                               0.879\n",
       "BrandDell:Processor_Speed:Screen_Size                               0.939\n",
       "BrandHP:Processor_Speed:Screen_Size                                -0.974\n",
       "BrandLenovo:Processor_Speed:Screen_Size                             0.210\n",
       "BrandAsus:RAM_Size:Screen_Size                                      1.625\n",
       "BrandDell:RAM_Size:Screen_Size                                      0.866\n",
       "BrandHP:RAM_Size:Screen_Size                                       -0.372\n",
       "BrandLenovo:RAM_Size:Screen_Size                                    0.827\n",
       "Processor_Speed:RAM_Size:Screen_Size                                0.292\n",
       "BrandAsus:Storage_Capacity:Screen_Size                              1.209\n",
       "BrandDell:Storage_Capacity:Screen_Size                              1.015\n",
       "BrandHP:Storage_Capacity:Screen_Size                               -0.816\n",
       "BrandLenovo:Storage_Capacity:Screen_Size                            0.904\n",
       "Processor_Speed:Storage_Capacity:Screen_Size                        0.602\n",
       "RAM_Size:Storage_Capacity:Screen_Size                               0.795\n",
       "BrandAsus:Processor_Speed:RAM_Size:Storage_Capacity                -1.154\n",
       "BrandDell:Processor_Speed:RAM_Size:Storage_Capacity                -0.828\n",
       "BrandHP:Processor_Speed:RAM_Size:Storage_Capacity                   0.920\n",
       "BrandLenovo:Processor_Speed:RAM_Size:Storage_Capacity              -0.325\n",
       "BrandAsus:Processor_Speed:RAM_Size:Screen_Size                     -1.294\n",
       "BrandDell:Processor_Speed:RAM_Size:Screen_Size                     -0.742\n",
       "BrandHP:Processor_Speed:RAM_Size:Screen_Size                        0.708\n",
       "BrandLenovo:Processor_Speed:RAM_Size:Screen_Size                   -0.189\n",
       "BrandAsus:Processor_Speed:Storage_Capacity:Screen_Size             -1.281\n",
       "BrandDell:Processor_Speed:Storage_Capacity:Screen_Size             -1.113\n",
       "BrandHP:Processor_Speed:Storage_Capacity:Screen_Size                0.855\n",
       "BrandLenovo:Processor_Speed:Storage_Capacity:Screen_Size           -0.665\n",
       "BrandAsus:RAM_Size:Storage_Capacity:Screen_Size                    -1.342\n",
       "BrandDell:RAM_Size:Storage_Capacity:Screen_Size                    -0.827\n",
       "BrandHP:RAM_Size:Storage_Capacity:Screen_Size                       0.773\n",
       "BrandLenovo:RAM_Size:Storage_Capacity:Screen_Size                  -0.815\n",
       "Processor_Speed:RAM_Size:Storage_Capacity:Screen_Size              -0.269\n",
       "BrandAsus:Processor_Speed:RAM_Size:Storage_Capacity:Screen_Size     1.134\n",
       "BrandDell:Processor_Speed:RAM_Size:Storage_Capacity:Screen_Size     0.817\n",
       "BrandHP:Processor_Speed:RAM_Size:Storage_Capacity:Screen_Size      -0.896\n",
       "BrandLenovo:Processor_Speed:RAM_Size:Storage_Capacity:Screen_Size   0.298\n",
       "                                                                  Pr(>|t|)    \n",
       "(Intercept)                                                          0.722    \n",
       "BrandAsus                                                            0.402    \n",
       "BrandDell                                                            0.323    \n",
       "BrandHP                                                              0.425    \n",
       "BrandLenovo                                                          0.625    \n",
       "Processor_Speed                                                      0.592    \n",
       "RAM_Size                                                             0.147    \n",
       "Storage_Capacity                                                    <2e-16 ***\n",
       "Screen_Size                                                          0.361    \n",
       "BrandAsus:Processor_Speed                                            0.431    \n",
       "BrandDell:Processor_Speed                                            0.344    \n",
       "BrandHP:Processor_Speed                                              0.307    \n",
       "BrandLenovo:Processor_Speed                                          0.884    \n",
       "BrandAsus:RAM_Size                                                   0.127    \n",
       "BrandDell:RAM_Size                                                   0.386    \n",
       "BrandHP:RAM_Size                                                     0.669    \n",
       "BrandLenovo:RAM_Size                                                 0.436    \n",
       "Processor_Speed:RAM_Size                                             0.783    \n",
       "BrandAsus:Storage_Capacity                                           0.282    \n",
       "BrandDell:Storage_Capacity                                           0.319    \n",
       "BrandHP:Storage_Capacity                                             0.359    \n",
       "BrandLenovo:Storage_Capacity                                         0.436    \n",
       "Processor_Speed:Storage_Capacity                                     0.606    \n",
       "RAM_Size:Storage_Capacity                                            0.437    \n",
       "BrandAsus:Screen_Size                                                0.331    \n",
       "BrandDell:Screen_Size                                                0.304    \n",
       "BrandHP:Screen_Size                                                  0.483    \n",
       "BrandLenovo:Screen_Size                                              0.537    \n",
       "Processor_Speed:Screen_Size                                          0.734    \n",
       "RAM_Size:Screen_Size                                                 0.299    \n",
       "Storage_Capacity:Screen_Size                                         0.426    \n",
       "BrandAsus:Processor_Speed:RAM_Size                                   0.212    \n",
       "BrandDell:Processor_Speed:RAM_Size                                   0.443    \n",
       "BrandHP:Processor_Speed:RAM_Size                                     0.478    \n",
       "BrandLenovo:Processor_Speed:RAM_Size                                 0.846    \n",
       "BrandAsus:Processor_Speed:Storage_Capacity                           0.230    \n",
       "BrandDell:Processor_Speed:Storage_Capacity                           0.259    \n",
       "BrandHP:Processor_Speed:Storage_Capacity                             0.365    \n",
       "BrandLenovo:Processor_Speed:Storage_Capacity                         0.557    \n",
       "BrandAsus:RAM_Size:Storage_Capacity                                  0.191    \n",
       "BrandDell:RAM_Size:Storage_Capacity                                  0.406    \n",
       "BrandHP:RAM_Size:Storage_Capacity                                    0.390    \n",
       "BrandLenovo:RAM_Size:Storage_Capacity                                0.420    \n",
       "Processor_Speed:RAM_Size:Storage_Capacity                            0.763    \n",
       "BrandAsus:Processor_Speed:Screen_Size                                0.380    \n",
       "BrandDell:Processor_Speed:Screen_Size                                0.348    \n",
       "BrandHP:Processor_Speed:Screen_Size                                  0.330    \n",
       "BrandLenovo:Processor_Speed:Screen_Size                              0.833    \n",
       "BrandAsus:RAM_Size:Screen_Size                                       0.105    \n",
       "BrandDell:RAM_Size:Screen_Size                                       0.387    \n",
       "BrandHP:RAM_Size:Screen_Size                                         0.710    \n",
       "BrandLenovo:RAM_Size:Screen_Size                                     0.408    \n",
       "Processor_Speed:RAM_Size:Screen_Size                                 0.771    \n",
       "BrandAsus:Storage_Capacity:Screen_Size                               0.227    \n",
       "BrandDell:Storage_Capacity:Screen_Size                               0.310    \n",
       "BrandHP:Storage_Capacity:Screen_Size                                 0.415    \n",
       "BrandLenovo:Storage_Capacity:Screen_Size                             0.366    \n",
       "Processor_Speed:Storage_Capacity:Screen_Size                         0.547    \n",
       "RAM_Size:Storage_Capacity:Screen_Size                                0.427    \n",
       "BrandAsus:Processor_Speed:RAM_Size:Storage_Capacity                  0.249    \n",
       "BrandDell:Processor_Speed:RAM_Size:Storage_Capacity                  0.408    \n",
       "BrandHP:Processor_Speed:RAM_Size:Storage_Capacity                    0.358    \n",
       "BrandLenovo:Processor_Speed:RAM_Size:Storage_Capacity                0.745    \n",
       "BrandAsus:Processor_Speed:RAM_Size:Screen_Size                       0.196    \n",
       "BrandDell:Processor_Speed:RAM_Size:Screen_Size                       0.458    \n",
       "BrandHP:Processor_Speed:RAM_Size:Screen_Size                         0.479    \n",
       "BrandLenovo:Processor_Speed:RAM_Size:Screen_Size                     0.850    \n",
       "BrandAsus:Processor_Speed:Storage_Capacity:Screen_Size               0.201    \n",
       "BrandDell:Processor_Speed:Storage_Capacity:Screen_Size               0.266    \n",
       "BrandHP:Processor_Speed:Storage_Capacity:Screen_Size                 0.393    \n",
       "BrandLenovo:Processor_Speed:Storage_Capacity:Screen_Size             0.506    \n",
       "BrandAsus:RAM_Size:Storage_Capacity:Screen_Size                      0.180    \n",
       "BrandDell:RAM_Size:Storage_Capacity:Screen_Size                      0.408    \n",
       "BrandHP:RAM_Size:Storage_Capacity:Screen_Size                        0.440    \n",
       "BrandLenovo:RAM_Size:Storage_Capacity:Screen_Size                    0.415    \n",
       "Processor_Speed:RAM_Size:Storage_Capacity:Screen_Size                0.788    \n",
       "BrandAsus:Processor_Speed:RAM_Size:Storage_Capacity:Screen_Size      0.257    \n",
       "BrandDell:Processor_Speed:RAM_Size:Storage_Capacity:Screen_Size      0.414    \n",
       "BrandHP:Processor_Speed:RAM_Size:Storage_Capacity:Screen_Size        0.371    \n",
       "BrandLenovo:Processor_Speed:RAM_Size:Storage_Capacity:Screen_Size    0.766    \n",
       "---\n",
       "Signif. codes:  0 '***' 0.001 '**' 0.01 '*' 0.05 '.' 0.1 ' ' 1\n",
       "\n",
       "Residual standard error: 196.9 on 920 degrees of freedom\n",
       "Multiple R-squared:  0.9996,\tAdjusted R-squared:  0.9996 \n",
       "F-statistic: 2.884e+04 on 79 and 920 DF,  p-value: < 2.2e-16\n"
      ]
     },
     "metadata": {},
     "output_type": "display_data"
    }
   ],
   "source": [
    "regre_1 <- lm(Price ~ Brand*Processor_Speed*RAM_Size*Storage_Capacity*Screen_Size, data=datos.trans)\n",
    "summary(regre_1)"
   ]
  },
  {
   "cell_type": "markdown",
   "id": "9c24be51",
   "metadata": {},
   "source": [
    "### Ajustando un modelo de regresion lineal pero para cada marca que solo tenga distinto intercepto"
   ]
  },
  {
   "cell_type": "code",
   "execution_count": 7,
   "id": "812319f9",
   "metadata": {},
   "outputs": [
    {
     "data": {
      "text/plain": [
       "\n",
       "Call:\n",
       "lm(formula = Price ~ Brand + Processor_Speed + RAM_Size + Storage_Capacity + \n",
       "    Screen_Size, data = datos.trans)\n",
       "\n",
       "Residuals:\n",
       "   Min     1Q Median     3Q    Max \n",
       "-601.4 -128.8    0.1  130.2  851.7 \n",
       "\n",
       "Coefficients:\n",
       "                  Estimate Std. Error  t value Pr(>|t|)    \n",
       "(Intercept)      514.23003   61.38269    8.377  < 2e-16 ***\n",
       "BrandAsus         14.96369   19.45485    0.769    0.442    \n",
       "BrandDell        -17.74494   19.34688   -0.917    0.359    \n",
       "BrandHP          -12.93297   19.85960   -0.651    0.515    \n",
       "BrandLenovo      -12.77443   19.82720   -0.644    0.520    \n",
       "Processor_Speed  199.23882    8.53364   23.347  < 2e-16 ***\n",
       "RAM_Size          50.48657    0.56885   88.752  < 2e-16 ***\n",
       "Storage_Capacity  29.97563    0.01992 1505.094  < 2e-16 ***\n",
       "Screen_Size       17.20746    3.65341    4.710 2.83e-06 ***\n",
       "---\n",
       "Signif. codes:  0 '***' 0.001 '**' 0.01 '*' 0.05 '.' 0.1 ' ' 1\n",
       "\n",
       "Residual standard error: 196.5 on 991 degrees of freedom\n",
       "Multiple R-squared:  0.9996,\tAdjusted R-squared:  0.9996 \n",
       "F-statistic: 2.859e+05 on 8 and 991 DF,  p-value: < 2.2e-16\n"
      ]
     },
     "metadata": {},
     "output_type": "display_data"
    }
   ],
   "source": [
    "regre_2 <- lm(Price ~ Brand+Processor_Speed+RAM_Size+Storage_Capacity+Screen_Size, data=datos.trans)\n",
    "summary(regre_2)"
   ]
  },
  {
   "cell_type": "markdown",
   "id": "2be768cd",
   "metadata": {},
   "source": [
    "### Prueba de hipotesis"
   ]
  },
  {
   "cell_type": "code",
   "execution_count": 8,
   "id": "29aa5d99",
   "metadata": {},
   "outputs": [
    {
     "data": {
      "text/html": [
       "<table class=\"dataframe\">\n",
       "<caption>A anova: 2 × 6</caption>\n",
       "<thead>\n",
       "\t<tr><th></th><th scope=col>Res.Df</th><th scope=col>RSS</th><th scope=col>Df</th><th scope=col>Sum of Sq</th><th scope=col>F</th><th scope=col>Pr(&gt;F)</th></tr>\n",
       "\t<tr><th></th><th scope=col>&lt;dbl&gt;</th><th scope=col>&lt;dbl&gt;</th><th scope=col>&lt;dbl&gt;</th><th scope=col>&lt;dbl&gt;</th><th scope=col>&lt;dbl&gt;</th><th scope=col>&lt;dbl&gt;</th></tr>\n",
       "</thead>\n",
       "<tbody>\n",
       "\t<tr><th scope=row>1</th><td>920</td><td>35677960</td><td> NA</td><td>      NA</td><td>       NA</td><td>       NA</td></tr>\n",
       "\t<tr><th scope=row>2</th><td>991</td><td>38279636</td><td>-71</td><td>-2601676</td><td>0.9448931</td><td>0.6074363</td></tr>\n",
       "</tbody>\n",
       "</table>\n"
      ],
      "text/latex": [
       "A anova: 2 × 6\n",
       "\\begin{tabular}{r|llllll}\n",
       "  & Res.Df & RSS & Df & Sum of Sq & F & Pr(>F)\\\\\n",
       "  & <dbl> & <dbl> & <dbl> & <dbl> & <dbl> & <dbl>\\\\\n",
       "\\hline\n",
       "\t1 & 920 & 35677960 &  NA &       NA &        NA &        NA\\\\\n",
       "\t2 & 991 & 38279636 & -71 & -2601676 & 0.9448931 & 0.6074363\\\\\n",
       "\\end{tabular}\n"
      ],
      "text/markdown": [
       "\n",
       "A anova: 2 × 6\n",
       "\n",
       "| <!--/--> | Res.Df &lt;dbl&gt; | RSS &lt;dbl&gt; | Df &lt;dbl&gt; | Sum of Sq &lt;dbl&gt; | F &lt;dbl&gt; | Pr(&gt;F) &lt;dbl&gt; |\n",
       "|---|---|---|---|---|---|---|\n",
       "| 1 | 920 | 35677960 |  NA |       NA |        NA |        NA |\n",
       "| 2 | 991 | 38279636 | -71 | -2601676 | 0.9448931 | 0.6074363 |\n",
       "\n"
      ],
      "text/plain": [
       "  Res.Df RSS      Df  Sum of Sq F         Pr(>F)   \n",
       "1 920    35677960  NA       NA         NA        NA\n",
       "2 991    38279636 -71 -2601676  0.9448931 0.6074363"
      ]
     },
     "metadata": {},
     "output_type": "display_data"
    }
   ],
   "source": [
    "anova(regre_1,regre_2)"
   ]
  },
  {
   "cell_type": "markdown",
   "id": "050e0869",
   "metadata": {},
   "source": [
    " Como el valor p es 0.6074363, que no es significativo a un nivel del 5%, lo que sugiere que no hay evidencia suficiente para rechazar la hipótesis nula, entonces no hay diferencias significativas entre los grupos.\n",
    " \n",
    "En conclusion es mejor tomar el modelo con distinto intercepto"
   ]
  },
  {
   "cell_type": "markdown",
   "id": "8121cb44",
   "metadata": {},
   "source": [
    "# Ahora encontremos un modelo para el cual no tomemos la variable regresora de Brand"
   ]
  },
  {
   "cell_type": "markdown",
   "id": "5a2839d4",
   "metadata": {},
   "source": [
    "### Escojamos las variables"
   ]
  },
  {
   "cell_type": "code",
   "execution_count": 9,
   "id": "462875f1",
   "metadata": {},
   "outputs": [],
   "source": [
    " all.submodels <- regsubsets(Price ~ Processor_Speed + RAM_Size + Storage_Capacity + \n",
    "    Screen_Size + Weight, data=datos,  nbest=3)"
   ]
  },
  {
   "cell_type": "code",
   "execution_count": 10,
   "id": "c1129a6d",
   "metadata": {},
   "outputs": [
    {
     "data": {
      "text/plain": [
       "Subset selection object\n",
       "Call: regsubsets.formula(Price ~ Processor_Speed + RAM_Size + Storage_Capacity + \n",
       "    Screen_Size + Weight, data = datos, nbest = 3)\n",
       "5 Variables  (and intercept)\n",
       "                 Forced in Forced out\n",
       "Processor_Speed      FALSE      FALSE\n",
       "RAM_Size             FALSE      FALSE\n",
       "Storage_Capacity     FALSE      FALSE\n",
       "Screen_Size          FALSE      FALSE\n",
       "Weight               FALSE      FALSE\n",
       "3 subsets of each size up to 5\n",
       "Selection Algorithm: exhaustive\n",
       "         Processor_Speed RAM_Size Storage_Capacity Screen_Size Weight\n",
       "1  ( 1 ) \" \"             \" \"      \"*\"              \" \"         \" \"   \n",
       "1  ( 2 ) \" \"             \"*\"      \" \"              \" \"         \" \"   \n",
       "1  ( 3 ) \"*\"             \" \"      \" \"              \" \"         \" \"   \n",
       "2  ( 1 ) \" \"             \"*\"      \"*\"              \" \"         \" \"   \n",
       "2  ( 2 ) \"*\"             \" \"      \"*\"              \" \"         \" \"   \n",
       "2  ( 3 ) \" \"             \" \"      \"*\"              \" \"         \"*\"   \n",
       "3  ( 1 ) \"*\"             \"*\"      \"*\"              \" \"         \" \"   \n",
       "3  ( 2 ) \" \"             \"*\"      \"*\"              \"*\"         \" \"   \n",
       "3  ( 3 ) \" \"             \"*\"      \"*\"              \" \"         \"*\"   \n",
       "4  ( 1 ) \"*\"             \"*\"      \"*\"              \"*\"         \" \"   \n",
       "4  ( 2 ) \"*\"             \"*\"      \"*\"              \" \"         \"*\"   \n",
       "4  ( 3 ) \" \"             \"*\"      \"*\"              \"*\"         \"*\"   \n",
       "5  ( 1 ) \"*\"             \"*\"      \"*\"              \"*\"         \"*\"   "
      ]
     },
     "metadata": {},
     "output_type": "display_data"
    }
   ],
   "source": [
    " summary(all.submodels)"
   ]
  },
  {
   "cell_type": "code",
   "execution_count": 11,
   "id": "df47ad14",
   "metadata": {},
   "outputs": [
    {
     "data": {
      "image/png": "[encoded data removed]",
      "text/plain": [
       "plot without title"
      ]
     },
     "metadata": {
      "image/png": {
       "height": 420,
       "width": 420
      }
     },
     "output_type": "display_data"
    }
   ],
   "source": [
    " plot(all.submodels, scale=\"Cp\")"
   ]
  },
  {
   "cell_type": "markdown",
   "id": "b90168f2",
   "metadata": {},
   "source": [
    "- Por el algoritmo concluimos que el mejor modelo toma como variables regresoras Processor_Speed, RAM_Size, Storage_Capacity y Screen_Size.\n",
    "- Era esperado que la variable peso no fuera tan significativa para el modelo ya que hoy en dia las Latops las hacen muy ligeras por defecto."
   ]
  },
  {
   "cell_type": "markdown",
   "id": "d3f1131a",
   "metadata": {},
   "source": [
    "### Ajustando el modelo de regresion lineal multiple donde solo tomemos las varibles regresoras, Processor_Speed, RAM_Size, Storage_Capacity y Screen_Size."
   ]
  },
  {
   "cell_type": "code",
   "execution_count": 12,
   "id": "4007bbb3",
   "metadata": {},
   "outputs": [
    {
     "data": {
      "text/plain": [
       "\n",
       "Call:\n",
       "lm(formula = Price ~ Processor_Speed + RAM_Size + Storage_Capacity + \n",
       "    Screen_Size, data = datos.trans)\n",
       "\n",
       "Residuals:\n",
       "    Min      1Q  Median      3Q     Max \n",
       "-610.46 -128.89   -0.74  132.21  843.06 \n",
       "\n",
       "Coefficients:\n",
       "                  Estimate Std. Error  t value Pr(>|t|)    \n",
       "(Intercept)      507.34279   59.66054    8.504  < 2e-16 ***\n",
       "Processor_Speed  199.84390    8.51832   23.460  < 2e-16 ***\n",
       "RAM_Size          50.42369    0.56629   89.043  < 2e-16 ***\n",
       "Storage_Capacity  29.97688    0.01989 1507.174  < 2e-16 ***\n",
       "Screen_Size       17.20327    3.64877    4.715 2.76e-06 ***\n",
       "---\n",
       "Signif. codes:  0 '***' 0.001 '**' 0.01 '*' 0.05 '.' 0.1 ' ' 1\n",
       "\n",
       "Residual standard error: 196.5 on 995 degrees of freedom\n",
       "Multiple R-squared:  0.9996,\tAdjusted R-squared:  0.9996 \n",
       "F-statistic: 5.72e+05 on 4 and 995 DF,  p-value: < 2.2e-16\n"
      ]
     },
     "metadata": {},
     "output_type": "display_data"
    }
   ],
   "source": [
    "regre_3 <- lm(Price ~ Processor_Speed+RAM_Size+Storage_Capacity+Screen_Size, data=datos.trans)\n",
    "summary(regre_3)"
   ]
  },
  {
   "cell_type": "markdown",
   "id": "3dc1fa24",
   "metadata": {},
   "source": [
    "# Prueba de hipotesis"
   ]
  },
  {
   "cell_type": "code",
   "execution_count": 13,
   "id": "3d93a6b4",
   "metadata": {},
   "outputs": [
    {
     "data": {
      "text/html": [
       "<table class=\"dataframe\">\n",
       "<caption>A anova: 2 × 6</caption>\n",
       "<thead>\n",
       "\t<tr><th></th><th scope=col>Res.Df</th><th scope=col>RSS</th><th scope=col>Df</th><th scope=col>Sum of Sq</th><th scope=col>F</th><th scope=col>Pr(&gt;F)</th></tr>\n",
       "\t<tr><th></th><th scope=col>&lt;dbl&gt;</th><th scope=col>&lt;dbl&gt;</th><th scope=col>&lt;dbl&gt;</th><th scope=col>&lt;dbl&gt;</th><th scope=col>&lt;dbl&gt;</th><th scope=col>&lt;dbl&gt;</th></tr>\n",
       "</thead>\n",
       "<tbody>\n",
       "\t<tr><th scope=row>1</th><td>991</td><td>38279636</td><td>NA</td><td>       NA</td><td>       NA</td><td>       NA</td></tr>\n",
       "\t<tr><th scope=row>2</th><td>995</td><td>38423323</td><td>-4</td><td>-143686.5</td><td>0.9299549</td><td>0.4457162</td></tr>\n",
       "</tbody>\n",
       "</table>\n"
      ],
      "text/latex": [
       "A anova: 2 × 6\n",
       "\\begin{tabular}{r|llllll}\n",
       "  & Res.Df & RSS & Df & Sum of Sq & F & Pr(>F)\\\\\n",
       "  & <dbl> & <dbl> & <dbl> & <dbl> & <dbl> & <dbl>\\\\\n",
       "\\hline\n",
       "\t1 & 991 & 38279636 & NA &        NA &        NA &        NA\\\\\n",
       "\t2 & 995 & 38423323 & -4 & -143686.5 & 0.9299549 & 0.4457162\\\\\n",
       "\\end{tabular}\n"
      ],
      "text/markdown": [
       "\n",
       "A anova: 2 × 6\n",
       "\n",
       "| <!--/--> | Res.Df &lt;dbl&gt; | RSS &lt;dbl&gt; | Df &lt;dbl&gt; | Sum of Sq &lt;dbl&gt; | F &lt;dbl&gt; | Pr(&gt;F) &lt;dbl&gt; |\n",
       "|---|---|---|---|---|---|---|\n",
       "| 1 | 991 | 38279636 | NA |        NA |        NA |        NA |\n",
       "| 2 | 995 | 38423323 | -4 | -143686.5 | 0.9299549 | 0.4457162 |\n",
       "\n"
      ],
      "text/plain": [
       "  Res.Df RSS      Df Sum of Sq F         Pr(>F)   \n",
       "1 991    38279636 NA        NA        NA        NA\n",
       "2 995    38423323 -4 -143686.5 0.9299549 0.4457162"
      ]
     },
     "metadata": {},
     "output_type": "display_data"
    }
   ],
   "source": [
    "anova(regre_2,regre_3)"
   ]
  },
  {
   "cell_type": "markdown",
   "id": "29071c63",
   "metadata": {},
   "source": [
    "- Con esto conclumos que el mejor modelo es tomar el modelo en donde solo se tomen las variables regresoras, Processor_Speed, RAM_Size, Storage_Capacity y Screen_Size.\n",
    "- Al parecer la variable Brand no tiene efecto, lo mas probables es que las marcas den la misma calidad del producto. "
   ]
  },
  {
   "cell_type": "markdown",
   "id": "ea12c40c",
   "metadata": {},
   "source": [
    "# Comprobacion de supuestos"
   ]
  },
  {
   "cell_type": "markdown",
   "id": "7c599651",
   "metadata": {},
   "source": [
    "## supuesto de normalidad"
   ]
  },
  {
   "cell_type": "markdown",
   "id": "f3781c24",
   "metadata": {},
   "source": [
    "### graficas de residuo"
   ]
  },
  {
   "cell_type": "code",
   "execution_count": 14,
   "id": "a4766dda",
   "metadata": {},
   "outputs": [
    {
     "name": "stdout",
     "output_type": "stream",
     "text": [
      "[1] \"media de los residuos 1.50773005191951e-14\"\n"
     ]
    },
    {
     "data": {
      "image/png": "[encoded data removed]",
      "text/plain": [
       "plot without title"
      ]
     },
     "metadata": {
      "image/png": {
       "height": 420,
       "width": 420
      }
     },
     "output_type": "display_data"
    }
   ],
   "source": [
    "plot(fitted.values(regre_3),rstudent(regre_3))\n",
    "abline(h=0)\n",
    "print(paste(\"media de los residuos\", mean(residuals(regre_3))))"
   ]
  },
  {
   "cell_type": "markdown",
   "id": "05042d1c",
   "metadata": {},
   "source": [
    "### graficas matrginales"
   ]
  },
  {
   "cell_type": "code",
   "execution_count": 15,
   "id": "89db00a8",
   "metadata": {},
   "outputs": [
    {
     "data": {
      "image/png": "[encoded data removed]",
      "text/plain": [
       "plot without title"
      ]
     },
     "metadata": {
      "image/png": {
       "height": 420,
       "width": 420
      }
     },
     "output_type": "display_data"
    }
   ],
   "source": [
    "marginalModelPlots(regre_3)"
   ]
  },
  {
   "cell_type": "markdown",
   "id": "0cb49218",
   "metadata": {},
   "source": [
    "# supuesto de normalidad"
   ]
  },
  {
   "cell_type": "markdown",
   "id": "b5d7d75e",
   "metadata": {},
   "source": [
    "## grafica de probabilidad normal"
   ]
  },
  {
   "cell_type": "code",
   "execution_count": 16,
   "id": "105b3581",
   "metadata": {},
   "outputs": [
    {
     "data": {
      "image/png": "[encoded data removed]",
      "text/plain": [
       "Plot with title \"Normal Q-Q Plot\""
      ]
     },
     "metadata": {
      "image/png": {
       "height": 420,
       "width": 420
      }
     },
     "output_type": "display_data"
    }
   ],
   "source": [
    "qqnorm(rstudent(regre_3))\n",
    "qqline(rstudent(regre_3))"
   ]
  },
  {
   "cell_type": "code",
   "execution_count": 17,
   "id": "10fd3811",
   "metadata": {},
   "outputs": [
    {
     "data": {
      "text/plain": [
       "\n",
       "\tAsymptotic one-sample Kolmogorov-Smirnov test\n",
       "\n",
       "data:  residuals(regre_3)\n",
       "D = 0.49563, p-value < 2.2e-16\n",
       "alternative hypothesis: two-sided\n"
      ]
     },
     "metadata": {},
     "output_type": "display_data"
    }
   ],
   "source": [
    "ks.test(residuals(regre_3),pnorm)"
   ]
  },
  {
   "cell_type": "code",
   "execution_count": 18,
   "id": "75e80dcb",
   "metadata": {},
   "outputs": [
    {
     "data": {
      "image/png": "[encoded data removed]",
      "text/plain": [
       "Plot with title \"Distribucion de residuos studentizados\""
      ]
     },
     "metadata": {
      "image/png": {
       "height": 420,
       "width": 420
      }
     },
     "output_type": "display_data"
    }
   ],
   "source": [
    "hist(rstudent(regre_3),freq=FALSE, main=\"Distribucion de residuos studentizados\")\n",
    "xfit<-seq(min(rstudent(regre_3)),max(rstudent(regre_3)),length=40)\n",
    "yfit<-dnorm(xfit)\n",
    "lines(xfit,yfit)"
   ]
  },
  {
   "cell_type": "markdown",
   "id": "b2ca4548",
   "metadata": {},
   "source": [
    "Conclusion los residuos siguen una distribucion normal"
   ]
  },
  {
   "cell_type": "markdown",
   "id": "698c91f8",
   "metadata": {},
   "source": [
    "## Supuesto de homocedasticidad"
   ]
  },
  {
   "cell_type": "code",
   "execution_count": 29,
   "id": "c876d60d",
   "metadata": {},
   "outputs": [
    {
     "data": {
      "text/plain": [
       "Non-constant Variance Score Test \n",
       "Variance formula: ~ fitted.values \n",
       "Chisquare = 0.03909594, Df = 1, p = 0.84326"
      ]
     },
     "metadata": {},
     "output_type": "display_data"
    }
   ],
   "source": [
    "ncvTest(regre_3)"
   ]
  },
  {
   "cell_type": "markdown",
   "id": "88339007",
   "metadata": {},
   "source": [
    "## Supuesto de independencia"
   ]
  },
  {
   "cell_type": "code",
   "execution_count": 30,
   "id": "17d18250",
   "metadata": {},
   "outputs": [
    {
     "data": {
      "text/plain": [
       " lag Autocorrelation D-W Statistic p-value\n",
       "   1      0.01707386      1.963467   0.616\n",
       " Alternative hypothesis: rho != 0"
      ]
     },
     "metadata": {},
     "output_type": "display_data"
    }
   ],
   "source": [
    "durbinWatsonTest(regre_3)"
   ]
  },
  {
   "cell_type": "markdown",
   "id": "e7a156ee",
   "metadata": {},
   "source": [
    "- nuestro modelo final no viola los supuestos de Gauss-Markov"
   ]
  },
  {
   "cell_type": "code",
   "execution_count": null,
   "id": "59b7f840",
   "metadata": {},
   "outputs": [],
   "source": []
  }
 ],
 "metadata": {
  "kernelspec": {
   "display_name": "R",
   "language": "R",
   "name": "ir"
  },
  "language_info": {
   "codemirror_mode": "r",
   "file_extension": ".r",
   "mimetype": "text/x-r-source",
   "name": "R",
   "pygments_lexer": "r",
   "version": "4.3.2"
  }
 },
 "nbformat": 4,
 "nbformat_minor": 5
}
