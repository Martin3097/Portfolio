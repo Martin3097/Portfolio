{
 "cells": [
  {
   "cell_type": "code",
   "execution_count": 1,
   "id": "af79bad7",
   "metadata": {},
   "outputs": [
    {
     "name": "stdout",
     "output_type": "stream",
     "text": [
      "r1 = 1.00762939453125\n",
      "r01 = 1.0078125\n",
      "f(r1) = -2.4859498553020387e-05\n",
      "f(r01) = -0.000864425201642316\n",
      "r2 = 1.0\n"
     ]
    }
   ],
   "source": [
    "import numpy as np\n",
    "from math import cos, e\n",
    "\n",
    "# Definimos la función de bisección\n",
    "def biseccion(f, a, b, tol): \n",
    "    if np.sign(f(a)) == np.sign(f(b)):\n",
    "        raise Exception(\"Los valores a y b no encierran una raíz\")\n",
    "        \n",
    "    # Obtener el punto medio\n",
    "    m = (a + b) / 2\n",
    "    \n",
    "    if np.abs(f(m)) < tol:\n",
    "        # Condición de parada: reportamos m como raíz\n",
    "        return m\n",
    "    elif np.sign(f(a)) == np.sign(f(m)):\n",
    "        # Caso en el que m mejora a\n",
    "        # Llamada recursiva con a = m\n",
    "        return biseccion(f, m, b, tol)\n",
    "    elif np.sign(f(b)) == np.sign(f(m)):\n",
    "        # Caso en el que m mejora a b\n",
    "        # Llamada recursiva con b = m\n",
    "        return biseccion(f, a, m, tol)\n",
    "\n",
    "# Definimos la función que se quiere resolver\n",
    "f = lambda x: 2 + cos(e**x - 2) - e**x\n",
    "\n",
    "# Llamada a la función con tolerancia 0.0001\n",
    "r1 = biseccion(f, 0, 2, 0.0001)\n",
    "print(\"r1 =\", r1)\n",
    "\n",
    "# Llamada a la función con tolerancia 0.01\n",
    "r01 = biseccion(f, 0, 2, 0.01)\n",
    "print(\"r01 =\", r01)\n",
    "\n",
    "# Evaluamos la función en los puntos encontrados\n",
    "print(\"f(r1) =\", f(r1))\n",
    "print(\"f(r01) =\", f(r01))\n",
    "\n",
    "# Llamada adicional con otro intervalo y tolerancia\n",
    "r2 = biseccion(f, 0.5, 1.5, 0.1)\n",
    "print(\"r2 =\", r2)\n"
   ]
  },
  {
   "cell_type": "code",
   "execution_count": null,
   "id": "374217bd",
   "metadata": {},
   "outputs": [],
   "source": [
    "f = lambda x: 2 + cos(e**x - 2) - e**x\n",
    "\n",
    "r1 = my_bisection(f, 0, 2, 0.0001)\n",
    "print(\"r1 =\", r1)\n",
    "r01 = my_bisection(f, 0, 2, 0.01)\n",
    "print(\"r01 =\", r01)\n",
    "\n",
    "print(\"f(r1) =\", f(r1))\n",
    "print(\"f(r01) =\", f(r01))"
   ]
  },
  {
   "cell_type": "code",
   "execution_count": 1,
   "id": "bc864221",
   "metadata": {
    "scrolled": true
   },
   "outputs": [
    {
     "ename": "NameError",
     "evalue": "name 'my_bisection' is not defined",
     "output_type": "error",
     "traceback": [
      "\u001b[1;31m---------------------------------------------------------------------------\u001b[0m",
      "\u001b[1;31mNameError\u001b[0m                                 Traceback (most recent call last)",
      "Input \u001b[1;32mIn [1]\u001b[0m, in \u001b[0;36m<module>\u001b[1;34m\u001b[0m\n\u001b[1;32m----> 1\u001b[0m \u001b[43mmy_bisection\u001b[49m(f, \u001b[38;5;241m0.5\u001b[39m, \u001b[38;5;241m1.5\u001b[39m, \u001b[38;5;241m0.1\u001b[39m)\n",
      "\u001b[1;31mNameError\u001b[0m: name 'my_bisection' is not defined"
     ]
    }
   ],
   "source": [
    "my_bisection(f, 0.5, 1.5, 0.1)"
   ]
  },
  {
   "cell_type": "code",
   "execution_count": null,
   "id": "8fb642ee",
   "metadata": {},
   "outputs": [],
   "source": []
  }
 ],
 "metadata": {
  "kernelspec": {
   "display_name": "Python 3 (ipykernel)",
   "language": "python",
   "name": "python3"
  },
  "language_info": {
   "codemirror_mode": {
    "name": "ipython",
    "version": 3
   },
   "file_extension": ".py",
   "mimetype": "text/x-python",
   "name": "python",
   "nbconvert_exporter": "python",
   "pygments_lexer": "ipython3",
   "version": "3.12.2"
  }
 },
 "nbformat": 4,
 "nbformat_minor": 5
}
