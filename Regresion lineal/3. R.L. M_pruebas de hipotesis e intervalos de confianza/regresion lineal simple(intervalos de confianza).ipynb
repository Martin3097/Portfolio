{
 "cells": [
  {
   "cell_type": "markdown",
   "id": "e944df73",
   "metadata": {},
   "source": [
    "## Cargar libreria alr4"
   ]
  },
  {
   "cell_type": "code",
   "execution_count": 2,
   "id": "96ba50f7",
   "metadata": {},
   "outputs": [
    {
     "name": "stderr",
     "output_type": "stream",
     "text": [
      "Loading required package: car\n",
      "\n",
      "Loading required package: carData\n",
      "\n",
      "Loading required package: effects\n",
      "\n",
      "lattice theme set by effectsTheme()\n",
      "See ?effectsTheme for details.\n",
      "\n"
     ]
    }
   ],
   "source": [
    "library(alr4)"
   ]
  },
  {
   "cell_type": "markdown",
   "id": "289c5b5d",
   "metadata": {},
   "source": [
    "## Visualizar primeras lineas de la base de datos Forbes"
   ]
  },
  {
   "cell_type": "code",
   "execution_count": 3,
   "id": "d2845786",
   "metadata": {},
   "outputs": [
    {
     "data": {
      "text/html": [
       "<table class=\"dataframe\">\n",
       "<caption>A data.frame: 6 × 3</caption>\n",
       "<thead>\n",
       "\t<tr><th></th><th scope=col>bp</th><th scope=col>pres</th><th scope=col>lpres</th></tr>\n",
       "\t<tr><th></th><th scope=col>&lt;dbl&gt;</th><th scope=col>&lt;dbl&gt;</th><th scope=col>&lt;dbl&gt;</th></tr>\n",
       "</thead>\n",
       "<tbody>\n",
       "\t<tr><th scope=row>1</th><td>194.5</td><td>20.79</td><td>131.79</td></tr>\n",
       "\t<tr><th scope=row>2</th><td>194.3</td><td>20.79</td><td>131.79</td></tr>\n",
       "\t<tr><th scope=row>3</th><td>197.9</td><td>22.40</td><td>135.02</td></tr>\n",
       "\t<tr><th scope=row>4</th><td>198.4</td><td>22.67</td><td>135.55</td></tr>\n",
       "\t<tr><th scope=row>5</th><td>199.4</td><td>23.15</td><td>136.46</td></tr>\n",
       "\t<tr><th scope=row>6</th><td>199.9</td><td>23.35</td><td>136.83</td></tr>\n",
       "</tbody>\n",
       "</table>\n"
      ],
      "text/latex": [
       "A data.frame: 6 × 3\n",
       "\\begin{tabular}{r|lll}\n",
       "  & bp & pres & lpres\\\\\n",
       "  & <dbl> & <dbl> & <dbl>\\\\\n",
       "\\hline\n",
       "\t1 & 194.5 & 20.79 & 131.79\\\\\n",
       "\t2 & 194.3 & 20.79 & 131.79\\\\\n",
       "\t3 & 197.9 & 22.40 & 135.02\\\\\n",
       "\t4 & 198.4 & 22.67 & 135.55\\\\\n",
       "\t5 & 199.4 & 23.15 & 136.46\\\\\n",
       "\t6 & 199.9 & 23.35 & 136.83\\\\\n",
       "\\end{tabular}\n"
      ],
      "text/markdown": [
       "\n",
       "A data.frame: 6 × 3\n",
       "\n",
       "| <!--/--> | bp &lt;dbl&gt; | pres &lt;dbl&gt; | lpres &lt;dbl&gt; |\n",
       "|---|---|---|---|\n",
       "| 1 | 194.5 | 20.79 | 131.79 |\n",
       "| 2 | 194.3 | 20.79 | 131.79 |\n",
       "| 3 | 197.9 | 22.40 | 135.02 |\n",
       "| 4 | 198.4 | 22.67 | 135.55 |\n",
       "| 5 | 199.4 | 23.15 | 136.46 |\n",
       "| 6 | 199.9 | 23.35 | 136.83 |\n",
       "\n"
      ],
      "text/plain": [
       "  bp    pres  lpres \n",
       "1 194.5 20.79 131.79\n",
       "2 194.3 20.79 131.79\n",
       "3 197.9 22.40 135.02\n",
       "4 198.4 22.67 135.55\n",
       "5 199.4 23.15 136.46\n",
       "6 199.9 23.35 136.83"
      ]
     },
     "metadata": {},
     "output_type": "display_data"
    }
   ],
   "source": [
    "head(Forbes)"
   ]
  },
  {
   "cell_type": "markdown",
   "id": "3810f9d1",
   "metadata": {},
   "source": [
    "## Obtener variables de la base de datos Forbes"
   ]
  },
  {
   "cell_type": "code",
   "execution_count": 4,
   "id": "fcaf6dca",
   "metadata": {},
   "outputs": [],
   "source": [
    "temp.ebullicion <- Forbes$bp\n",
    "\n",
    "presion <- Forbes$pres"
   ]
  },
  {
   "cell_type": "markdown",
   "id": "2b25d292",
   "metadata": {},
   "source": [
    "## Graficar"
   ]
  },
  {
   "cell_type": "code",
   "execution_count": 5,
   "id": "a2d16ab4",
   "metadata": {},
   "outputs": [
    {
     "data": {
      "image/png": "[encoded data removed]",
      "text/plain": [
       "plot without title"
      ]
     },
     "metadata": {
      "image/png": {
       "height": 420,
       "width": 420
      }
     },
     "output_type": "display_data"
    }
   ],
   "source": [
    "plot(temp.ebullicion, presion)"
   ]
  },
  {
   "cell_type": "markdown",
   "id": "6cab4145",
   "metadata": {},
   "source": [
    "## Ejecutar la regresion de presion sobre temp.ebullicion"
   ]
  },
  {
   "cell_type": "code",
   "execution_count": 6,
   "id": "62a29b6e",
   "metadata": {},
   "outputs": [],
   "source": [
    "Forbes.regresion <- lm(presion ~ temp.ebullicion)"
   ]
  },
  {
   "cell_type": "markdown",
   "id": "b31ea66f",
   "metadata": {},
   "source": [
    "## Coeficientes estimados"
   ]
  },
  {
   "cell_type": "code",
   "execution_count": 7,
   "id": "2d6e02cf",
   "metadata": {},
   "outputs": [
    {
     "data": {
      "text/html": [
       "<style>\n",
       ".dl-inline {width: auto; margin:0; padding: 0}\n",
       ".dl-inline>dt, .dl-inline>dd {float: none; width: auto; display: inline-block}\n",
       ".dl-inline>dt::after {content: \":\\0020\"; padding-right: .5ex}\n",
       ".dl-inline>dt:not(:first-of-type) {padding-left: .5ex}\n",
       "</style><dl class=dl-inline><dt>(Intercept)</dt><dd>-81.063727128656</dd><dt>temp.ebullicion</dt><dd>0.522892400784636</dd></dl>\n"
      ],
      "text/latex": [
       "\\begin{description*}\n",
       "\\item[(Intercept)] -81.063727128656\n",
       "\\item[temp.ebullicion] 0.522892400784636\n",
       "\\end{description*}\n"
      ],
      "text/markdown": [
       "(Intercept)\n",
       ":   -81.063727128656temp.ebullicion\n",
       ":   0.522892400784636\n",
       "\n"
      ],
      "text/plain": [
       "    (Intercept) temp.ebullicion \n",
       "    -81.0637271       0.5228924 "
      ]
     },
     "metadata": {},
     "output_type": "display_data"
    }
   ],
   "source": [
    "coef(Forbes.regresion)"
   ]
  },
  {
   "cell_type": "markdown",
   "id": "52a257f5",
   "metadata": {},
   "source": [
    "## Informacion del modelo ajustado"
   ]
  },
  {
   "cell_type": "code",
   "execution_count": 8,
   "id": "9cf300aa",
   "metadata": {},
   "outputs": [
    {
     "data": {
      "text/plain": [
       "\n",
       "Call:\n",
       "lm(formula = presion ~ temp.ebullicion)\n",
       "\n",
       "Residuals:\n",
       "     Min       1Q   Median       3Q      Max \n",
       "-0.25717 -0.11246 -0.05102  0.14283  0.64994 \n",
       "\n",
       "Coefficients:\n",
       "                 Estimate Std. Error t value Pr(>|t|)    \n",
       "(Intercept)     -81.06373    2.05182  -39.51   <2e-16 ***\n",
       "temp.ebullicion   0.52289    0.01011   51.74   <2e-16 ***\n",
       "---\n",
       "Signif. codes:  0 '***' 0.001 '**' 0.01 '*' 0.05 '.' 0.1 ' ' 1\n",
       "\n",
       "Residual standard error: 0.2328 on 15 degrees of freedom\n",
       "Multiple R-squared:  0.9944,\tAdjusted R-squared:  0.9941 \n",
       "F-statistic:  2677 on 1 and 15 DF,  p-value: < 2.2e-16\n"
      ]
     },
     "metadata": {},
     "output_type": "display_data"
    }
   ],
   "source": [
    "summary(Forbes.regresion)"
   ]
  },
  {
   "cell_type": "markdown",
   "id": "76607434",
   "metadata": {},
   "source": [
    "## Valores ajustados"
   ]
  },
  {
   "cell_type": "code",
   "execution_count": 9,
   "id": "11412b23",
   "metadata": {},
   "outputs": [],
   "source": [
    "pres.estim <- fitted.values(Forbes.regresion)"
   ]
  },
  {
   "cell_type": "markdown",
   "id": "5ef12136",
   "metadata": {},
   "source": [
    "## Residuos"
   ]
  },
  {
   "cell_type": "code",
   "execution_count": 10,
   "id": "d4e99f43",
   "metadata": {},
   "outputs": [
    {
     "data": {
      "text/html": [
       "<style>\n",
       ".dl-inline {width: auto; margin:0; padding: 0}\n",
       ".dl-inline>dt, .dl-inline>dd {float: none; width: auto; display: inline-block}\n",
       ".dl-inline>dt::after {content: \":\\0020\"; padding-right: .5ex}\n",
       ".dl-inline>dt:not(:first-of-type) {padding-left: .5ex}\n",
       "</style><dl class=dl-inline><dt>1</dt><dd>0.151155176044229</dd><dt>2</dt><dd>0.255733656201168</dd><dt>3</dt><dd>-0.016678986623518</dd><dt>4</dt><dd>-0.00812518701583312</dd><dt>5</dt><dd>-0.0510175878004721</dd><dt>6</dt><dd>-0.112463788192787</dd><dt>7</dt><dd>-0.0953561889774241</dd><dt>8</dt><dd>-0.0999346691343475</dd><dt>9</dt><dd>-0.226802389369743</dd><dt>10</dt><dd>-0.184513149291281</dd><dt>11</dt><dd>-0.257165671095936</dd><dt>12</dt><dd>0.649941928119428</dd><dt>13</dt><dd>0.0077691642747068</dd><dt>14</dt><dd>-0.251627675019114</dd><dt>15</dt><dd>-0.0697017166668497</dd><dt>16</dt><dd>0.142827402391578</dd><dt>17</dt><dd>0.165959682156196</dd></dl>\n"
      ],
      "text/latex": [
       "\\begin{description*}\n",
       "\\item[1] 0.151155176044229\n",
       "\\item[2] 0.255733656201168\n",
       "\\item[3] -0.016678986623518\n",
       "\\item[4] -0.00812518701583312\n",
       "\\item[5] -0.0510175878004721\n",
       "\\item[6] -0.112463788192787\n",
       "\\item[7] -0.0953561889774241\n",
       "\\item[8] -0.0999346691343475\n",
       "\\item[9] -0.226802389369743\n",
       "\\item[10] -0.184513149291281\n",
       "\\item[11] -0.257165671095936\n",
       "\\item[12] 0.649941928119428\n",
       "\\item[13] 0.0077691642747068\n",
       "\\item[14] -0.251627675019114\n",
       "\\item[15] -0.0697017166668497\n",
       "\\item[16] 0.142827402391578\n",
       "\\item[17] 0.165959682156196\n",
       "\\end{description*}\n"
      ],
      "text/markdown": [
       "1\n",
       ":   0.1511551760442292\n",
       ":   0.2557336562011683\n",
       ":   -0.0166789866235184\n",
       ":   -0.008125187015833125\n",
       ":   -0.05101758780047216\n",
       ":   -0.1124637881927877\n",
       ":   -0.09535618897742418\n",
       ":   -0.09993466913434759\n",
       ":   -0.22680238936974310\n",
       ":   -0.18451314929128111\n",
       ":   -0.25716567109593612\n",
       ":   0.64994192811942813\n",
       ":   0.007769164274706814\n",
       ":   -0.25162767501911415\n",
       ":   -0.069701716666849716\n",
       ":   0.14282740239157817\n",
       ":   0.165959682156196\n",
       "\n"
      ],
      "text/plain": [
       "           1            2            3            4            5            6 \n",
       " 0.151155176  0.255733656 -0.016678987 -0.008125187 -0.051017588 -0.112463788 \n",
       "           7            8            9           10           11           12 \n",
       "-0.095356189 -0.099934669 -0.226802389 -0.184513149 -0.257165671  0.649941928 \n",
       "          13           14           15           16           17 \n",
       " 0.007769164 -0.251627675 -0.069701717  0.142827402  0.165959682 "
      ]
     },
     "metadata": {},
     "output_type": "display_data"
    }
   ],
   "source": [
    "residuals(Forbes.regresion)"
   ]
  },
  {
   "cell_type": "markdown",
   "id": "81797a8c",
   "metadata": {},
   "source": [
    "## Grafica de temp.ebullicion vs valores ajustados"
   ]
  },
  {
   "cell_type": "code",
   "execution_count": 11,
   "id": "0683bad5",
   "metadata": {},
   "outputs": [
    {
     "ename": "ERROR",
     "evalue": "Error in plot.xy(xy.coords(x, y), type = type, ...): plot.new has not been called yet\n",
     "output_type": "error",
     "traceback": [
      "Error in plot.xy(xy.coords(x, y), type = type, ...): plot.new has not been called yet\nTraceback:\n",
      "1. lines(temp.ebullicion, pres.estim)",
      "2. lines.default(temp.ebullicion, pres.estim)",
      "3. plot.xy(xy.coords(x, y), type = type, ...)"
     ]
    }
   ],
   "source": [
    "lines(temp.ebullicion,pres.estim)\n",
    "\n",
    "plot(temp.ebullicion,pres.estim)\n",
    "lines(temp.ebullicion,pres.estim)"
   ]
  },
  {
   "cell_type": "markdown",
   "id": "4aced85f",
   "metadata": {},
   "source": [
    "## Otra opcion para usar la base de datos Forbes sin necesidad de extraer las variables"
   ]
  },
  {
   "cell_type": "code",
   "execution_count": 12,
   "id": "3c9fdd98",
   "metadata": {},
   "outputs": [
    {
     "data": {
      "text/plain": [
       "\n",
       "Call:\n",
       "lm(formula = pres ~ bp, data = Forbes)\n",
       "\n",
       "Coefficients:\n",
       "(Intercept)           bp  \n",
       "   -81.0637       0.5229  \n"
      ]
     },
     "metadata": {},
     "output_type": "display_data"
    },
    {
     "data": {
      "image/png": "[encoded data removed]",
      "text/plain": [
       "plot without title"
      ]
     },
     "metadata": {
      "image/png": {
       "height": 420,
       "width": 420
      }
     },
     "output_type": "display_data"
    }
   ],
   "source": [
    "with(Forbes, plot(bp,pres) )\n",
    "\n",
    "lm(pres ~ bp, data=Forbes)"
   ]
  },
  {
   "cell_type": "markdown",
   "id": "e00b09ac",
   "metadata": {},
   "source": [
    "## Accesando los datos desde un archivo excel"
   ]
  },
  {
   "cell_type": "code",
   "execution_count": 13,
   "id": "af27e411",
   "metadata": {},
   "outputs": [
    {
     "data": {
      "text/plain": [
       "\n",
       "Call:\n",
       "lm(formula = pres ~ bp, data = Forbes.datos)\n",
       "\n",
       "Coefficients:\n",
       "(Intercept)           bp  \n",
       "   -81.0637       0.5229  \n"
      ]
     },
     "metadata": {},
     "output_type": "display_data"
    },
    {
     "data": {
      "image/png": "[encoded data removed]",
      "text/plain": [
       "plot without title"
      ]
     },
     "metadata": {
      "image/png": {
       "height": 420,
       "width": 420
      }
     },
     "output_type": "display_data"
    }
   ],
   "source": [
    "Forbes.datos <- read.csv(\"Forbes (1).csv\", header=TRUE)\n",
    "\n",
    "with(Forbes.datos, plot(bp,pres) )\n",
    "\n",
    "lm(pres ~ bp, data=Forbes.datos)"
   ]
  },
  {
   "cell_type": "markdown",
   "id": "85d84553",
   "metadata": {},
   "source": [
    "# Modelo centrado"
   ]
  },
  {
   "cell_type": "code",
   "execution_count": 14,
   "id": "750e4187",
   "metadata": {},
   "outputs": [
    {
     "data": {
      "text/html": [
       "<style>\n",
       ".dl-inline {width: auto; margin:0; padding: 0}\n",
       ".dl-inline>dt, .dl-inline>dd {float: none; width: auto; display: inline-block}\n",
       ".dl-inline>dt::after {content: \":\\0020\"; padding-right: .5ex}\n",
       ".dl-inline>dt:not(:first-of-type) {padding-left: .5ex}\n",
       "</style><dl class=dl-inline><dt>(Intercept)</dt><dd>25.0588235294118</dd><dt>temp.ebu.centrada</dt><dd>0.522892400784636</dd></dl>\n"
      ],
      "text/latex": [
       "\\begin{description*}\n",
       "\\item[(Intercept)] 25.0588235294118\n",
       "\\item[temp.ebu.centrada] 0.522892400784636\n",
       "\\end{description*}\n"
      ],
      "text/markdown": [
       "(Intercept)\n",
       ":   25.0588235294118temp.ebu.centrada\n",
       ":   0.522892400784636\n",
       "\n"
      ],
      "text/plain": [
       "      (Intercept) temp.ebu.centrada \n",
       "       25.0588235         0.5228924 "
      ]
     },
     "metadata": {},
     "output_type": "display_data"
    }
   ],
   "source": [
    "temp.ebu.centrada <- temp.ebullicion - mean(temp.ebullicion)\n",
    "\n",
    "\n",
    "Forbes.regresion.centrada <- lm(presion ~ temp.ebu.centrada)\n",
    "\n",
    "coef(Forbes.regresion.centrada)"
   ]
  },
  {
   "cell_type": "markdown",
   "id": "2271ff25",
   "metadata": {},
   "source": [
    "# Datos de estaturas de madres e hijas"
   ]
  },
  {
   "cell_type": "code",
   "execution_count": 15,
   "id": "62deed7b",
   "metadata": {
    "scrolled": true
   },
   "outputs": [
    {
     "data": {
      "text/html": [
       "<table class=\"dataframe\">\n",
       "<caption>A data.frame: 6 × 2</caption>\n",
       "<thead>\n",
       "\t<tr><th></th><th scope=col>mheight</th><th scope=col>dheight</th></tr>\n",
       "\t<tr><th></th><th scope=col>&lt;dbl&gt;</th><th scope=col>&lt;dbl&gt;</th></tr>\n",
       "</thead>\n",
       "<tbody>\n",
       "\t<tr><th scope=row>1</th><td>59.7</td><td>55.1</td></tr>\n",
       "\t<tr><th scope=row>2</th><td>58.2</td><td>56.5</td></tr>\n",
       "\t<tr><th scope=row>3</th><td>60.6</td><td>56.0</td></tr>\n",
       "\t<tr><th scope=row>4</th><td>60.7</td><td>56.8</td></tr>\n",
       "\t<tr><th scope=row>5</th><td>61.8</td><td>56.0</td></tr>\n",
       "\t<tr><th scope=row>6</th><td>55.5</td><td>57.9</td></tr>\n",
       "</tbody>\n",
       "</table>\n"
      ],
      "text/latex": [
       "A data.frame: 6 × 2\n",
       "\\begin{tabular}{r|ll}\n",
       "  & mheight & dheight\\\\\n",
       "  & <dbl> & <dbl>\\\\\n",
       "\\hline\n",
       "\t1 & 59.7 & 55.1\\\\\n",
       "\t2 & 58.2 & 56.5\\\\\n",
       "\t3 & 60.6 & 56.0\\\\\n",
       "\t4 & 60.7 & 56.8\\\\\n",
       "\t5 & 61.8 & 56.0\\\\\n",
       "\t6 & 55.5 & 57.9\\\\\n",
       "\\end{tabular}\n"
      ],
      "text/markdown": [
       "\n",
       "A data.frame: 6 × 2\n",
       "\n",
       "| <!--/--> | mheight &lt;dbl&gt; | dheight &lt;dbl&gt; |\n",
       "|---|---|---|\n",
       "| 1 | 59.7 | 55.1 |\n",
       "| 2 | 58.2 | 56.5 |\n",
       "| 3 | 60.6 | 56.0 |\n",
       "| 4 | 60.7 | 56.8 |\n",
       "| 5 | 61.8 | 56.0 |\n",
       "| 6 | 55.5 | 57.9 |\n",
       "\n"
      ],
      "text/plain": [
       "  mheight dheight\n",
       "1 59.7    55.1   \n",
       "2 58.2    56.5   \n",
       "3 60.6    56.0   \n",
       "4 60.7    56.8   \n",
       "5 61.8    56.0   \n",
       "6 55.5    57.9   "
      ]
     },
     "metadata": {},
     "output_type": "display_data"
    },
    {
     "data": {
      "text/html": [
       "<strong>mheight:</strong> 1.02010801121591"
      ],
      "text/latex": [
       "\\textbf{mheight:} 1.02010801121591"
      ],
      "text/markdown": [
       "**mheight:** 1.02010801121591"
      ],
      "text/plain": [
       " mheight \n",
       "1.020108 "
      ]
     },
     "metadata": {},
     "output_type": "display_data"
    },
    {
     "data": {
      "image/png": "[encoded data removed]",
      "text/plain": [
       "plot without title"
      ]
     },
     "metadata": {
      "image/png": {
       "height": 420,
       "width": 420
      }
     },
     "output_type": "display_data"
    },
    {
     "data": {
      "image/png": "[encoded data removed]",
      "text/plain": [
       "plot without title"
      ]
     },
     "metadata": {
      "image/png": {
       "height": 420,
       "width": 420
      }
     },
     "output_type": "display_data"
    }
   ],
   "source": [
    "head(Heights)\n",
    "\n",
    "with(Heights, plot(mheight,dheight))\n",
    "\n",
    "estatura <- lm(dheight ~ mheight -1, data=Heights)\n",
    "\n",
    "coefficients(estatura)\n",
    "\n",
    "with( Heights, lines(mheight,fitted.values(estatura) ) )\n",
    "\n",
    "with(Heights, plot(mheight,dheight))\n",
    "\n",
    "abline(estatura)"
   ]
  },
  {
   "cell_type": "markdown",
   "id": "8d028dc6",
   "metadata": {},
   "source": [
    "# Valores ajustados con intervalos de confianza de las medias condicionales y de observaciones futuras "
   ]
  },
  {
   "cell_type": "markdown",
   "id": "b57a6ed9",
   "metadata": {},
   "source": [
    "## Sin ajuste de Scheffe"
   ]
  },
  {
   "cell_type": "code",
   "execution_count": 16,
   "id": "a316b4d3",
   "metadata": {},
   "outputs": [
    {
     "name": "stderr",
     "output_type": "stream",
     "text": [
      "Warning message in predict.lm(estatura, interval = \"prediction\"):\n",
      "\"predictions on current data refer to _future_ responses\n",
      "\"\n"
     ]
    }
   ],
   "source": [
    "est.media <- predict(estatura,interval=\"confidence\")\n",
    "pred.resp <- predict(estatura,interval=\"prediction\")\n",
    "\n",
    "sigma.est <- summary(estatura)$sigma"
   ]
  },
  {
   "cell_type": "markdown",
   "id": "54621354",
   "metadata": {},
   "source": [
    "## Con ajuste de Scheffe"
   ]
  },
  {
   "cell_type": "code",
   "execution_count": 17,
   "id": "475fa517",
   "metadata": {},
   "outputs": [
    {
     "ename": "ERROR",
     "evalue": "Error in plot.xy(xy.coords(x, y), type = type, ...): plot.new has not been called yet\n",
     "output_type": "error",
     "traceback": [
      "Error in plot.xy(xy.coords(x, y), type = type, ...): plot.new has not been called yet\nTraceback:\n",
      "1. with(Heights, lines(mheight, est.media[, 3], col = \"red\"))",
      "2. with.default(Heights, lines(mheight, est.media[, 3], col = \"red\"))",
      "3. eval(substitute(expr), data, enclos = parent.frame())",
      "4. eval(substitute(expr), data, enclos = parent.frame())",
      "5. lines(mheight, est.media[, 3], col = \"red\")",
      "6. lines.default(mheight, est.media[, 3], col = \"red\")",
      "7. plot.xy(xy.coords(x, y), type = type, ...)"
     ]
    }
   ],
   "source": [
    "est.media[,3] <- est.media[,1]+sigma.est*sqrt(hatvalues(estatura))*sqrt(1*qf(.95,df1=1,df2=1374))\n",
    "est.media[,2] <- est.media[,1]-sigma.est*sqrt(hatvalues(estatura))*sqrt(1*qf(.95,df1=1,df2=1374))\n",
    "\n",
    "pred.resp[,3] <- pred.resp[,1]+sigma.est*sqrt(1+hatvalues(estatura))*sqrt(1*qf(.95,df1=1,df2=1374))\n",
    "pred.resp[,2] <- pred.resp[,1]-sigma.est*sqrt(1+hatvalues(estatura))*sqrt(1*qf(.95,df1=1,df2=1374))\n",
    "\n",
    "with(Heights, lines(mheight,est.media[,3], col=\"red\") )\n",
    "with(Heights, lines(mheight,est.media[,2], col=\"red\") )\n",
    "\n",
    "with(Heights, lines(mheight,pred.resp[,3], col=\"green\") )\n",
    "with(Heights, lines(mheight,pred.resp[,2], col=\"green\") )"
   ]
  },
  {
   "cell_type": "code",
   "execution_count": null,
   "id": "b60e4aee",
   "metadata": {},
   "outputs": [],
   "source": []
  }
 ],
 "metadata": {
  "kernelspec": {
   "display_name": "R",
   "language": "R",
   "name": "ir"
  },
  "language_info": {
   "codemirror_mode": "r",
   "file_extension": ".r",
   "mimetype": "text/x-r-source",
   "name": "R",
   "pygments_lexer": "r",
   "version": "4.3.2"
  }
 },
 "nbformat": 4,
 "nbformat_minor": 5
}
