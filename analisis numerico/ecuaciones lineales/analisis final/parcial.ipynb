{
 "cells": [
  {
   "cell_type": "code",
   "execution_count": 1,
   "id": "a7506731",
   "metadata": {},
   "outputs": [
    {
     "name": "stdout",
     "output_type": "stream",
     "text": [
      "-  --  --  -\n",
      "1   1  -1  1\n",
      "1   1   4  2\n",
      "2  -1   2  3\n",
      "-  --  --  -\n",
      "E 0 <-----> E 0\n",
      "-  --  --  -\n",
      "2  -1   2  3\n",
      "1   1   4  2\n",
      "1   1  -1  1\n",
      "-  --  --  -\n",
      "E 1 --->E 1 - [0.5] *E 0\n",
      "E 2 --->E 2 - [0.5] *E 0\n",
      "-  ----  --  ----\n",
      "2  -1     2   3\n",
      "0   1.5   3   0.5\n",
      "0   1.5  -2  -0.5\n",
      "-  ----  --  ----\n",
      "E 2 --->E 2 - [1.0] *E 1\n",
      "-  ----  --  ----\n",
      "2  -1     2   3\n",
      "0   1.5   3   0.5\n",
      "0   0    -5  -1\n",
      "-  ----  --  ----\n",
      "x 0 = 1.2666666666666666\n",
      "x 1 = -0.06666666666666672\n",
      "x 2 = 0.2\n"
     ]
    }
   ],
   "source": [
    "from tabulate import tabulate\n",
    "import libreria as li\n",
    "matriz = [[1,1,-1,1,], [1,1,4,2], [2,-1,2,3]]\n",
    "n=len(matriz)-1 \n",
    "\n",
    "def gaussPivoteoParcial(matriz,n):\n",
    "    z=[];\n",
    "    for j in range (n+1+1):\n",
    "        z.append(0)\n",
    "    for i in range(n):\n",
    "        a=0;\n",
    "        for j in range (n+1+1):\n",
    "            z[j]=0\n",
    "        print(tabulate(matriz))\n",
    "        for j in range(i,n+1):\n",
    "            z[j]=abs(matriz[j][i])\n",
    "        m=max(z)\n",
    "        if (m==0):\n",
    "            print(\"no existe solucion unica\")\n",
    "            return 0\n",
    "        for p in range(n+1):\n",
    "            p=n-p\n",
    "            if(i<=p):\n",
    "                if(matriz[p][i]==m):\n",
    "                    a=p\n",
    "        if (a!=i):\n",
    "            li.cambioMatriz(matriz,n,i,m)\n",
    "            print(\"E\",p,\"<----->\",\"E\",i)\n",
    "            print(tabulate(matriz))\n",
    "        li.EliminarFila(matriz,n,i)\n",
    "    print(tabulate(matriz))        \n",
    "        #Ej -division*Ei---->Ej\n",
    "    if(matriz[n][n]==0):\n",
    "        print(\"no existe solucion unica\")\n",
    "        return 0\n",
    "if (gaussPivoteoParcial(matriz,n)!=0):\n",
    "    li.solucion(matriz,n)"
   ]
  },
  {
   "cell_type": "code",
   "execution_count": null,
   "id": "0d15a37c",
   "metadata": {},
   "outputs": [],
   "source": []
  }
 ],
 "metadata": {
  "kernelspec": {
   "display_name": "Python 3 (ipykernel)",
   "language": "python",
   "name": "python3"
  },
  "language_info": {
   "codemirror_mode": {
    "name": "ipython",
    "version": 3
   },
   "file_extension": ".py",
   "mimetype": "text/x-python",
   "name": "python",
   "nbconvert_exporter": "python",
   "pygments_lexer": "ipython3",
   "version": "3.10.2"
  }
 },
 "nbformat": 4,
 "nbformat_minor": 5
}
