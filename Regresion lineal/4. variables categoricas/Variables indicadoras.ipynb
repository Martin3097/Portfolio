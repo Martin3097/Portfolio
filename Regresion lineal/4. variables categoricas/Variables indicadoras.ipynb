{
 "cells": [
  {
   "cell_type": "markdown",
   "id": "3fc331a3",
   "metadata": {},
   "source": [
    "## carcando libreria"
   ]
  },
  {
   "cell_type": "code",
   "execution_count": 1,
   "id": "91504a6d",
   "metadata": {},
   "outputs": [
    {
     "name": "stderr",
     "output_type": "stream",
     "text": [
      "Loading required package: car\n",
      "\n",
      "Loading required package: carData\n",
      "\n",
      "Loading required package: effects\n",
      "\n",
      "lattice theme set by effectsTheme()\n",
      "See ?effectsTheme for details.\n",
      "\n"
     ]
    }
   ],
   "source": [
    "library(alr4)"
   ]
  },
  {
   "cell_type": "markdown",
   "id": "7086d9a7",
   "metadata": {},
   "source": [
    "## visualizando los datos"
   ]
  },
  {
   "cell_type": "code",
   "execution_count": 2,
   "id": "54b8684e",
   "metadata": {},
   "outputs": [
    {
     "data": {
      "text/html": [
       "<table class=\"dataframe\">\n",
       "<caption>A data.frame: 6 × 6</caption>\n",
       "<thead>\n",
       "\t<tr><th></th><th scope=col>region</th><th scope=col>group</th><th scope=col>fertility</th><th scope=col>ppgdp</th><th scope=col>lifeExpF</th><th scope=col>pctUrban</th></tr>\n",
       "\t<tr><th></th><th scope=col>&lt;fct&gt;</th><th scope=col>&lt;fct&gt;</th><th scope=col>&lt;dbl&gt;</th><th scope=col>&lt;dbl&gt;</th><th scope=col>&lt;dbl&gt;</th><th scope=col>&lt;dbl&gt;</th></tr>\n",
       "</thead>\n",
       "<tbody>\n",
       "\t<tr><th scope=row>Afghanistan</th><td>Asia      </td><td>other </td><td>5.968</td><td>  499.0</td><td>49.49</td><td> 23</td></tr>\n",
       "\t<tr><th scope=row>Albania</th><td>Europe    </td><td>other </td><td>1.525</td><td> 3677.2</td><td>80.40</td><td> 53</td></tr>\n",
       "\t<tr><th scope=row>Algeria</th><td>Africa    </td><td>africa</td><td>2.142</td><td> 4473.0</td><td>75.00</td><td> 67</td></tr>\n",
       "\t<tr><th scope=row>Angola</th><td>Africa    </td><td>africa</td><td>5.135</td><td> 4321.9</td><td>53.17</td><td> 59</td></tr>\n",
       "\t<tr><th scope=row>Anguilla</th><td>Caribbean </td><td>other </td><td>2.000</td><td>13750.1</td><td>81.10</td><td>100</td></tr>\n",
       "\t<tr><th scope=row>Argentina</th><td>Latin Amer</td><td>other </td><td>2.172</td><td> 9162.1</td><td>79.89</td><td> 93</td></tr>\n",
       "</tbody>\n",
       "</table>\n"
      ],
      "text/latex": [
       "A data.frame: 6 × 6\n",
       "\\begin{tabular}{r|llllll}\n",
       "  & region & group & fertility & ppgdp & lifeExpF & pctUrban\\\\\n",
       "  & <fct> & <fct> & <dbl> & <dbl> & <dbl> & <dbl>\\\\\n",
       "\\hline\n",
       "\tAfghanistan & Asia       & other  & 5.968 &   499.0 & 49.49 &  23\\\\\n",
       "\tAlbania & Europe     & other  & 1.525 &  3677.2 & 80.40 &  53\\\\\n",
       "\tAlgeria & Africa     & africa & 2.142 &  4473.0 & 75.00 &  67\\\\\n",
       "\tAngola & Africa     & africa & 5.135 &  4321.9 & 53.17 &  59\\\\\n",
       "\tAnguilla & Caribbean  & other  & 2.000 & 13750.1 & 81.10 & 100\\\\\n",
       "\tArgentina & Latin Amer & other  & 2.172 &  9162.1 & 79.89 &  93\\\\\n",
       "\\end{tabular}\n"
      ],
      "text/markdown": [
       "\n",
       "A data.frame: 6 × 6\n",
       "\n",
       "| <!--/--> | region &lt;fct&gt; | group &lt;fct&gt; | fertility &lt;dbl&gt; | ppgdp &lt;dbl&gt; | lifeExpF &lt;dbl&gt; | pctUrban &lt;dbl&gt; |\n",
       "|---|---|---|---|---|---|---|\n",
       "| Afghanistan | Asia       | other  | 5.968 |   499.0 | 49.49 |  23 |\n",
       "| Albania | Europe     | other  | 1.525 |  3677.2 | 80.40 |  53 |\n",
       "| Algeria | Africa     | africa | 2.142 |  4473.0 | 75.00 |  67 |\n",
       "| Angola | Africa     | africa | 5.135 |  4321.9 | 53.17 |  59 |\n",
       "| Anguilla | Caribbean  | other  | 2.000 | 13750.1 | 81.10 | 100 |\n",
       "| Argentina | Latin Amer | other  | 2.172 |  9162.1 | 79.89 |  93 |\n",
       "\n"
      ],
      "text/plain": [
       "            region     group  fertility ppgdp   lifeExpF pctUrban\n",
       "Afghanistan Asia       other  5.968       499.0 49.49     23     \n",
       "Albania     Europe     other  1.525      3677.2 80.40     53     \n",
       "Algeria     Africa     africa 2.142      4473.0 75.00     67     \n",
       "Angola      Africa     africa 5.135      4321.9 53.17     59     \n",
       "Anguilla    Caribbean  other  2.000     13750.1 81.10    100     \n",
       "Argentina   Latin Amer other  2.172      9162.1 79.89     93     "
      ]
     },
     "metadata": {},
     "output_type": "display_data"
    }
   ],
   "source": [
    "head(UN11)"
   ]
  },
  {
   "cell_type": "code",
   "execution_count": 3,
   "id": "4bfc7183",
   "metadata": {},
   "outputs": [
    {
     "data": {
      "text/html": [
       "'factor'"
      ],
      "text/latex": [
       "'factor'"
      ],
      "text/markdown": [
       "'factor'"
      ],
      "text/plain": [
       "[1] \"factor\""
      ]
     },
     "metadata": {},
     "output_type": "display_data"
    }
   ],
   "source": [
    "class(UN11$group)"
   ]
  },
  {
   "cell_type": "code",
   "execution_count": 4,
   "id": "57a47feb",
   "metadata": {},
   "outputs": [
    {
     "data": {
      "text/html": [
       "<style>\n",
       ".list-inline {list-style: none; margin:0; padding: 0}\n",
       ".list-inline>li {display: inline-block}\n",
       ".list-inline>li:not(:last-child)::after {content: \"\\00b7\"; padding: 0 .5ex}\n",
       "</style>\n",
       "<ol class=list-inline><li>'oecd'</li><li>'other'</li><li>'africa'</li></ol>\n"
      ],
      "text/latex": [
       "\\begin{enumerate*}\n",
       "\\item 'oecd'\n",
       "\\item 'other'\n",
       "\\item 'africa'\n",
       "\\end{enumerate*}\n"
      ],
      "text/markdown": [
       "1. 'oecd'\n",
       "2. 'other'\n",
       "3. 'africa'\n",
       "\n",
       "\n"
      ],
      "text/plain": [
       "[1] \"oecd\"   \"other\"  \"africa\""
      ]
     },
     "metadata": {},
     "output_type": "display_data"
    }
   ],
   "source": [
    "levels(UN11$group)"
   ]
  },
  {
   "cell_type": "markdown",
   "id": "b14a4a08",
   "metadata": {},
   "source": [
    "## Definicion de variables indicadoras a partir de la variable group"
   ]
  },
  {
   "cell_type": "code",
   "execution_count": 5,
   "id": "230bf524",
   "metadata": {},
   "outputs": [
    {
     "data": {
      "text/html": [
       "<table class=\"dataframe\">\n",
       "<caption>A data.frame: 6 × 9</caption>\n",
       "<thead>\n",
       "\t<tr><th></th><th scope=col>region</th><th scope=col>group</th><th scope=col>fertility</th><th scope=col>ppgdp</th><th scope=col>lifeExpF</th><th scope=col>pctUrban</th><th scope=col>indic.groupoecd</th><th scope=col>indic.groupother</th><th scope=col>indic.groupafrica</th></tr>\n",
       "\t<tr><th></th><th scope=col>&lt;fct&gt;</th><th scope=col>&lt;fct&gt;</th><th scope=col>&lt;dbl&gt;</th><th scope=col>&lt;dbl&gt;</th><th scope=col>&lt;dbl&gt;</th><th scope=col>&lt;dbl&gt;</th><th scope=col>&lt;dbl&gt;</th><th scope=col>&lt;dbl&gt;</th><th scope=col>&lt;dbl&gt;</th></tr>\n",
       "</thead>\n",
       "<tbody>\n",
       "\t<tr><th scope=row>Afghanistan</th><td>Asia      </td><td>other </td><td>5.968</td><td>  499.0</td><td>49.49</td><td> 23</td><td>0</td><td>1</td><td>0</td></tr>\n",
       "\t<tr><th scope=row>Albania</th><td>Europe    </td><td>other </td><td>1.525</td><td> 3677.2</td><td>80.40</td><td> 53</td><td>0</td><td>1</td><td>0</td></tr>\n",
       "\t<tr><th scope=row>Algeria</th><td>Africa    </td><td>africa</td><td>2.142</td><td> 4473.0</td><td>75.00</td><td> 67</td><td>0</td><td>0</td><td>1</td></tr>\n",
       "\t<tr><th scope=row>Angola</th><td>Africa    </td><td>africa</td><td>5.135</td><td> 4321.9</td><td>53.17</td><td> 59</td><td>0</td><td>0</td><td>1</td></tr>\n",
       "\t<tr><th scope=row>Anguilla</th><td>Caribbean </td><td>other </td><td>2.000</td><td>13750.1</td><td>81.10</td><td>100</td><td>0</td><td>1</td><td>0</td></tr>\n",
       "\t<tr><th scope=row>Argentina</th><td>Latin Amer</td><td>other </td><td>2.172</td><td> 9162.1</td><td>79.89</td><td> 93</td><td>0</td><td>1</td><td>0</td></tr>\n",
       "</tbody>\n",
       "</table>\n"
      ],
      "text/latex": [
       "A data.frame: 6 × 9\n",
       "\\begin{tabular}{r|lllllllll}\n",
       "  & region & group & fertility & ppgdp & lifeExpF & pctUrban & indic.groupoecd & indic.groupother & indic.groupafrica\\\\\n",
       "  & <fct> & <fct> & <dbl> & <dbl> & <dbl> & <dbl> & <dbl> & <dbl> & <dbl>\\\\\n",
       "\\hline\n",
       "\tAfghanistan & Asia       & other  & 5.968 &   499.0 & 49.49 &  23 & 0 & 1 & 0\\\\\n",
       "\tAlbania & Europe     & other  & 1.525 &  3677.2 & 80.40 &  53 & 0 & 1 & 0\\\\\n",
       "\tAlgeria & Africa     & africa & 2.142 &  4473.0 & 75.00 &  67 & 0 & 0 & 1\\\\\n",
       "\tAngola & Africa     & africa & 5.135 &  4321.9 & 53.17 &  59 & 0 & 0 & 1\\\\\n",
       "\tAnguilla & Caribbean  & other  & 2.000 & 13750.1 & 81.10 & 100 & 0 & 1 & 0\\\\\n",
       "\tArgentina & Latin Amer & other  & 2.172 &  9162.1 & 79.89 &  93 & 0 & 1 & 0\\\\\n",
       "\\end{tabular}\n"
      ],
      "text/markdown": [
       "\n",
       "A data.frame: 6 × 9\n",
       "\n",
       "| <!--/--> | region &lt;fct&gt; | group &lt;fct&gt; | fertility &lt;dbl&gt; | ppgdp &lt;dbl&gt; | lifeExpF &lt;dbl&gt; | pctUrban &lt;dbl&gt; | indic.groupoecd &lt;dbl&gt; | indic.groupother &lt;dbl&gt; | indic.groupafrica &lt;dbl&gt; |\n",
       "|---|---|---|---|---|---|---|---|---|---|\n",
       "| Afghanistan | Asia       | other  | 5.968 |   499.0 | 49.49 |  23 | 0 | 1 | 0 |\n",
       "| Albania | Europe     | other  | 1.525 |  3677.2 | 80.40 |  53 | 0 | 1 | 0 |\n",
       "| Algeria | Africa     | africa | 2.142 |  4473.0 | 75.00 |  67 | 0 | 0 | 1 |\n",
       "| Angola | Africa     | africa | 5.135 |  4321.9 | 53.17 |  59 | 0 | 0 | 1 |\n",
       "| Anguilla | Caribbean  | other  | 2.000 | 13750.1 | 81.10 | 100 | 0 | 1 | 0 |\n",
       "| Argentina | Latin Amer | other  | 2.172 |  9162.1 | 79.89 |  93 | 0 | 1 | 0 |\n",
       "\n"
      ],
      "text/plain": [
       "            region     group  fertility ppgdp   lifeExpF pctUrban\n",
       "Afghanistan Asia       other  5.968       499.0 49.49     23     \n",
       "Albania     Europe     other  1.525      3677.2 80.40     53     \n",
       "Algeria     Africa     africa 2.142      4473.0 75.00     67     \n",
       "Angola      Africa     africa 5.135      4321.9 53.17     59     \n",
       "Anguilla    Caribbean  other  2.000     13750.1 81.10    100     \n",
       "Argentina   Latin Amer other  2.172      9162.1 79.89     93     \n",
       "            indic.groupoecd indic.groupother indic.groupafrica\n",
       "Afghanistan 0               1                0                \n",
       "Albania     0               1                0                \n",
       "Algeria     0               0                1                \n",
       "Angola      0               0                1                \n",
       "Anguilla    0               1                0                \n",
       "Argentina   0               1                0                "
      ]
     },
     "metadata": {},
     "output_type": "display_data"
    }
   ],
   "source": [
    "UN11.trans <- transform(UN11, indic=model.matrix(~ -1 + group, UN11) )\n",
    "head(UN11.trans)"
   ]
  },
  {
   "cell_type": "code",
   "execution_count": 6,
   "id": "7fe087a7",
   "metadata": {},
   "outputs": [
    {
     "data": {
      "image/png": "[encoded data removed]",
      "text/plain": [
       "plot without title"
      ]
     },
     "metadata": {
      "image/png": {
       "height": 420,
       "width": 420
      }
     },
     "output_type": "display_data"
    }
   ],
   "source": [
    "with( UN11.trans, boxplot(lifeExpF ~ indic.groupoecd+indic.groupother + indic.groupafrica) )"
   ]
  },
  {
   "cell_type": "markdown",
   "id": "0904cd28",
   "metadata": {},
   "source": [
    "## Modelo en terminos de variables indicadoras con intercepto"
   ]
  },
  {
   "cell_type": "code",
   "execution_count": 7,
   "id": "d196da29",
   "metadata": {},
   "outputs": [
    {
     "data": {
      "text/plain": [
       "\n",
       "Call:\n",
       "lm(formula = lifeExpF ~ indic.groupother + indic.groupafrica, \n",
       "    data = UN11.trans)\n",
       "\n",
       "Residuals:\n",
       "     Min       1Q   Median       3Q      Max \n",
       "-25.8367  -3.3045   0.3635   2.7183  18.2277 \n",
       "\n",
       "Coefficients:\n",
       "                  Estimate Std. Error t value Pr(>|t|)    \n",
       "(Intercept)         82.446      1.128  73.095  < 2e-16 ***\n",
       "indic.groupother    -7.120      1.271  -5.602  7.1e-08 ***\n",
       "indic.groupafrica  -22.674      1.420 -15.968  < 2e-16 ***\n",
       "---\n",
       "Signif. codes:  0 '***' 0.001 '**' 0.01 '*' 0.05 '.' 0.1 ' ' 1\n",
       "\n",
       "Residual standard error: 6.28 on 196 degrees of freedom\n",
       "Multiple R-squared:  0.6191,\tAdjusted R-squared:  0.6152 \n",
       "F-statistic: 159.3 on 2 and 196 DF,  p-value: < 2.2e-16\n"
      ]
     },
     "metadata": {},
     "output_type": "display_data"
    }
   ],
   "source": [
    "results1 <- lm(lifeExpF ~ indic.groupother + indic.groupafrica, data=UN11.trans)\n",
    "\n",
    "summary(results1)"
   ]
  },
  {
   "cell_type": "markdown",
   "id": "b9785b49",
   "metadata": {},
   "source": [
    "## Modelo en terminos de variables indicadoras sin intercepto\n",
    "### Nota: Los coeficientes de cada variable representan las medias de cada grupo"
   ]
  },
  {
   "cell_type": "code",
   "execution_count": 8,
   "id": "ed092422",
   "metadata": {},
   "outputs": [
    {
     "data": {
      "text/plain": [
       "\n",
       "Call:\n",
       "lm(formula = lifeExpF ~ 0 + indic.groupoecd + indic.groupother + \n",
       "    indic.groupafrica, data = UN11.trans)\n",
       "\n",
       "Residuals:\n",
       "     Min       1Q   Median       3Q      Max \n",
       "-25.8367  -3.3045   0.3635   2.7183  18.2277 \n",
       "\n",
       "Coefficients:\n",
       "                  Estimate Std. Error t value Pr(>|t|)    \n",
       "indic.groupoecd    82.4465     1.1279   73.09   <2e-16 ***\n",
       "indic.groupother   75.3267     0.5856  128.63   <2e-16 ***\n",
       "indic.groupafrica  59.7723     0.8626   69.29   <2e-16 ***\n",
       "---\n",
       "Signif. codes:  0 '***' 0.001 '**' 0.01 '*' 0.05 '.' 0.1 ' ' 1\n",
       "\n",
       "Residual standard error: 6.28 on 196 degrees of freedom\n",
       "Multiple R-squared:  0.9927,\tAdjusted R-squared:  0.9926 \n",
       "F-statistic:  8896 on 3 and 196 DF,  p-value: < 2.2e-16\n"
      ]
     },
     "metadata": {},
     "output_type": "display_data"
    }
   ],
   "source": [
    "results2 <- lm(lifeExpF ~ 0 + indic.groupoecd + indic.groupother + indic.groupafrica, data=UN11.trans)\n",
    "\n",
    "summary(results2)"
   ]
  },
  {
   "cell_type": "code",
   "execution_count": 9,
   "id": "8a97d614",
   "metadata": {},
   "outputs": [
    {
     "data": {
      "text/html": [
       "<table class=\"dataframe\">\n",
       "<caption>A anova: 2 × 6</caption>\n",
       "<thead>\n",
       "\t<tr><th></th><th scope=col>Res.Df</th><th scope=col>RSS</th><th scope=col>Df</th><th scope=col>Sum of Sq</th><th scope=col>F</th><th scope=col>Pr(&gt;F)</th></tr>\n",
       "\t<tr><th></th><th scope=col>&lt;dbl&gt;</th><th scope=col>&lt;dbl&gt;</th><th scope=col>&lt;dbl&gt;</th><th scope=col>&lt;dbl&gt;</th><th scope=col>&lt;dbl&gt;</th><th scope=col>&lt;dbl&gt;</th></tr>\n",
       "</thead>\n",
       "<tbody>\n",
       "\t<tr><th scope=row>1</th><td>197</td><td>8967.933</td><td>NA</td><td>      NA</td><td>      NA</td><td>          NA</td></tr>\n",
       "\t<tr><th scope=row>2</th><td>196</td><td>7730.188</td><td> 1</td><td>1237.745</td><td>31.38319</td><td>7.100658e-08</td></tr>\n",
       "</tbody>\n",
       "</table>\n"
      ],
      "text/latex": [
       "A anova: 2 × 6\n",
       "\\begin{tabular}{r|llllll}\n",
       "  & Res.Df & RSS & Df & Sum of Sq & F & Pr(>F)\\\\\n",
       "  & <dbl> & <dbl> & <dbl> & <dbl> & <dbl> & <dbl>\\\\\n",
       "\\hline\n",
       "\t1 & 197 & 8967.933 & NA &       NA &       NA &           NA\\\\\n",
       "\t2 & 196 & 7730.188 &  1 & 1237.745 & 31.38319 & 7.100658e-08\\\\\n",
       "\\end{tabular}\n"
      ],
      "text/markdown": [
       "\n",
       "A anova: 2 × 6\n",
       "\n",
       "| <!--/--> | Res.Df &lt;dbl&gt; | RSS &lt;dbl&gt; | Df &lt;dbl&gt; | Sum of Sq &lt;dbl&gt; | F &lt;dbl&gt; | Pr(&gt;F) &lt;dbl&gt; |\n",
       "|---|---|---|---|---|---|---|\n",
       "| 1 | 197 | 8967.933 | NA |       NA |       NA |           NA |\n",
       "| 2 | 196 | 7730.188 |  1 | 1237.745 | 31.38319 | 7.100658e-08 |\n",
       "\n"
      ],
      "text/plain": [
       "  Res.Df RSS      Df Sum of Sq F        Pr(>F)      \n",
       "1 197    8967.933 NA       NA        NA           NA\n",
       "2 196    7730.188  1 1237.745  31.38319 7.100658e-08"
      ]
     },
     "metadata": {},
     "output_type": "display_data"
    }
   ],
   "source": [
    "linearHypothesis(results2, c(\"indic.groupoecd = indic.groupother\"))"
   ]
  },
  {
   "cell_type": "markdown",
   "id": "3f5b4cc1",
   "metadata": {},
   "source": [
    "## Modelo en terminos del factor group con intercepto"
   ]
  },
  {
   "cell_type": "code",
   "execution_count": 10,
   "id": "fb367206",
   "metadata": {},
   "outputs": [
    {
     "data": {
      "text/plain": [
       "\n",
       "Call:\n",
       "lm(formula = lifeExpF ~ group, data = UN11.trans)\n",
       "\n",
       "Residuals:\n",
       "     Min       1Q   Median       3Q      Max \n",
       "-25.8367  -3.3045   0.3635   2.7183  18.2277 \n",
       "\n",
       "Coefficients:\n",
       "            Estimate Std. Error t value Pr(>|t|)    \n",
       "(Intercept)   82.446      1.128  73.095  < 2e-16 ***\n",
       "groupother    -7.120      1.271  -5.602  7.1e-08 ***\n",
       "groupafrica  -22.674      1.420 -15.968  < 2e-16 ***\n",
       "---\n",
       "Signif. codes:  0 '***' 0.001 '**' 0.01 '*' 0.05 '.' 0.1 ' ' 1\n",
       "\n",
       "Residual standard error: 6.28 on 196 degrees of freedom\n",
       "Multiple R-squared:  0.6191,\tAdjusted R-squared:  0.6152 \n",
       "F-statistic: 159.3 on 2 and 196 DF,  p-value: < 2.2e-16\n"
      ]
     },
     "metadata": {},
     "output_type": "display_data"
    }
   ],
   "source": [
    "results3 <- lm(lifeExpF ~ group, data=UN11.trans)\n",
    "\n",
    "summary(results3)"
   ]
  },
  {
   "cell_type": "markdown",
   "id": "5f5049dd",
   "metadata": {},
   "source": [
    "## Modelo en terminos del factor group sin intercepto\n",
    "## Nota: Los coeficientes de cada variable representan las medias de cada grupo"
   ]
  },
  {
   "cell_type": "code",
   "execution_count": 11,
   "id": "ac85530e",
   "metadata": {},
   "outputs": [
    {
     "data": {
      "text/plain": [
       "\n",
       "Call:\n",
       "lm(formula = lifeExpF ~ 0 + group, data = UN11.trans)\n",
       "\n",
       "Residuals:\n",
       "     Min       1Q   Median       3Q      Max \n",
       "-25.8367  -3.3045   0.3635   2.7183  18.2277 \n",
       "\n",
       "Coefficients:\n",
       "            Estimate Std. Error t value Pr(>|t|)    \n",
       "groupoecd    82.4465     1.1279   73.09   <2e-16 ***\n",
       "groupother   75.3267     0.5856  128.63   <2e-16 ***\n",
       "groupafrica  59.7723     0.8626   69.29   <2e-16 ***\n",
       "---\n",
       "Signif. codes:  0 '***' 0.001 '**' 0.01 '*' 0.05 '.' 0.1 ' ' 1\n",
       "\n",
       "Residual standard error: 6.28 on 196 degrees of freedom\n",
       "Multiple R-squared:  0.9927,\tAdjusted R-squared:  0.9926 \n",
       "F-statistic:  8896 on 3 and 196 DF,  p-value: < 2.2e-16\n"
      ]
     },
     "metadata": {},
     "output_type": "display_data"
    }
   ],
   "source": [
    "results4 <- lm(lifeExpF ~ 0 + group, data=UN11.trans)\n",
    "\n",
    "summary(results4)"
   ]
  },
  {
   "cell_type": "code",
   "execution_count": 12,
   "id": "7fa10fe0",
   "metadata": {},
   "outputs": [
    {
     "data": {
      "text/html": [
       "<table class=\"dataframe\">\n",
       "<caption>A data.frame: 6 × 10</caption>\n",
       "<thead>\n",
       "\t<tr><th></th><th scope=col>region</th><th scope=col>group</th><th scope=col>fertility</th><th scope=col>ppgdp</th><th scope=col>lifeExpF</th><th scope=col>pctUrban</th><th scope=col>indic.groupoecd</th><th scope=col>indic.groupother</th><th scope=col>indic.groupafrica</th><th scope=col>group.unordered</th></tr>\n",
       "\t<tr><th></th><th scope=col>&lt;fct&gt;</th><th scope=col>&lt;fct&gt;</th><th scope=col>&lt;dbl&gt;</th><th scope=col>&lt;dbl&gt;</th><th scope=col>&lt;dbl&gt;</th><th scope=col>&lt;dbl&gt;</th><th scope=col>&lt;dbl&gt;</th><th scope=col>&lt;dbl&gt;</th><th scope=col>&lt;dbl&gt;</th><th scope=col>&lt;fct&gt;</th></tr>\n",
       "</thead>\n",
       "<tbody>\n",
       "\t<tr><th scope=row>Afghanistan</th><td>Asia      </td><td>other </td><td>5.968</td><td>  499.0</td><td>49.49</td><td> 23</td><td>0</td><td>1</td><td>0</td><td>other </td></tr>\n",
       "\t<tr><th scope=row>Albania</th><td>Europe    </td><td>other </td><td>1.525</td><td> 3677.2</td><td>80.40</td><td> 53</td><td>0</td><td>1</td><td>0</td><td>other </td></tr>\n",
       "\t<tr><th scope=row>Algeria</th><td>Africa    </td><td>africa</td><td>2.142</td><td> 4473.0</td><td>75.00</td><td> 67</td><td>0</td><td>0</td><td>1</td><td>africa</td></tr>\n",
       "\t<tr><th scope=row>Angola</th><td>Africa    </td><td>africa</td><td>5.135</td><td> 4321.9</td><td>53.17</td><td> 59</td><td>0</td><td>0</td><td>1</td><td>africa</td></tr>\n",
       "\t<tr><th scope=row>Anguilla</th><td>Caribbean </td><td>other </td><td>2.000</td><td>13750.1</td><td>81.10</td><td>100</td><td>0</td><td>1</td><td>0</td><td>other </td></tr>\n",
       "\t<tr><th scope=row>Argentina</th><td>Latin Amer</td><td>other </td><td>2.172</td><td> 9162.1</td><td>79.89</td><td> 93</td><td>0</td><td>1</td><td>0</td><td>other </td></tr>\n",
       "</tbody>\n",
       "</table>\n"
      ],
      "text/latex": [
       "A data.frame: 6 × 10\n",
       "\\begin{tabular}{r|llllllllll}\n",
       "  & region & group & fertility & ppgdp & lifeExpF & pctUrban & indic.groupoecd & indic.groupother & indic.groupafrica & group.unordered\\\\\n",
       "  & <fct> & <fct> & <dbl> & <dbl> & <dbl> & <dbl> & <dbl> & <dbl> & <dbl> & <fct>\\\\\n",
       "\\hline\n",
       "\tAfghanistan & Asia       & other  & 5.968 &   499.0 & 49.49 &  23 & 0 & 1 & 0 & other \\\\\n",
       "\tAlbania & Europe     & other  & 1.525 &  3677.2 & 80.40 &  53 & 0 & 1 & 0 & other \\\\\n",
       "\tAlgeria & Africa     & africa & 2.142 &  4473.0 & 75.00 &  67 & 0 & 0 & 1 & africa\\\\\n",
       "\tAngola & Africa     & africa & 5.135 &  4321.9 & 53.17 &  59 & 0 & 0 & 1 & africa\\\\\n",
       "\tAnguilla & Caribbean  & other  & 2.000 & 13750.1 & 81.10 & 100 & 0 & 1 & 0 & other \\\\\n",
       "\tArgentina & Latin Amer & other  & 2.172 &  9162.1 & 79.89 &  93 & 0 & 1 & 0 & other \\\\\n",
       "\\end{tabular}\n"
      ],
      "text/markdown": [
       "\n",
       "A data.frame: 6 × 10\n",
       "\n",
       "| <!--/--> | region &lt;fct&gt; | group &lt;fct&gt; | fertility &lt;dbl&gt; | ppgdp &lt;dbl&gt; | lifeExpF &lt;dbl&gt; | pctUrban &lt;dbl&gt; | indic.groupoecd &lt;dbl&gt; | indic.groupother &lt;dbl&gt; | indic.groupafrica &lt;dbl&gt; | group.unordered &lt;fct&gt; |\n",
       "|---|---|---|---|---|---|---|---|---|---|---|\n",
       "| Afghanistan | Asia       | other  | 5.968 |   499.0 | 49.49 |  23 | 0 | 1 | 0 | other  |\n",
       "| Albania | Europe     | other  | 1.525 |  3677.2 | 80.40 |  53 | 0 | 1 | 0 | other  |\n",
       "| Algeria | Africa     | africa | 2.142 |  4473.0 | 75.00 |  67 | 0 | 0 | 1 | africa |\n",
       "| Angola | Africa     | africa | 5.135 |  4321.9 | 53.17 |  59 | 0 | 0 | 1 | africa |\n",
       "| Anguilla | Caribbean  | other  | 2.000 | 13750.1 | 81.10 | 100 | 0 | 1 | 0 | other  |\n",
       "| Argentina | Latin Amer | other  | 2.172 |  9162.1 | 79.89 |  93 | 0 | 1 | 0 | other  |\n",
       "\n"
      ],
      "text/plain": [
       "            region     group  fertility ppgdp   lifeExpF pctUrban\n",
       "Afghanistan Asia       other  5.968       499.0 49.49     23     \n",
       "Albania     Europe     other  1.525      3677.2 80.40     53     \n",
       "Algeria     Africa     africa 2.142      4473.0 75.00     67     \n",
       "Angola      Africa     africa 5.135      4321.9 53.17     59     \n",
       "Anguilla    Caribbean  other  2.000     13750.1 81.10    100     \n",
       "Argentina   Latin Amer other  2.172      9162.1 79.89     93     \n",
       "            indic.groupoecd indic.groupother indic.groupafrica group.unordered\n",
       "Afghanistan 0               1                0                 other          \n",
       "Albania     0               1                0                 other          \n",
       "Algeria     0               0                1                 africa         \n",
       "Angola      0               0                1                 africa         \n",
       "Anguilla    0               1                0                 other          \n",
       "Argentina   0               1                0                 other          "
      ]
     },
     "metadata": {},
     "output_type": "display_data"
    }
   ],
   "source": [
    "UN11.trans <- transform(UN11.trans,group.unordered=relevel(group, \"africa\") )\n",
    "head(UN11.trans)"
   ]
  },
  {
   "cell_type": "markdown",
   "id": "31193d14",
   "metadata": {},
   "source": [
    "## Modelo en terminos del factor group con intercepto con africa como grupo de referencia"
   ]
  },
  {
   "cell_type": "code",
   "execution_count": 13,
   "id": "7f386e25",
   "metadata": {},
   "outputs": [
    {
     "data": {
      "text/plain": [
       "\n",
       "Call:\n",
       "lm(formula = lifeExpF ~ group.unordered, data = UN11.trans)\n",
       "\n",
       "Residuals:\n",
       "     Min       1Q   Median       3Q      Max \n",
       "-25.8367  -3.3045   0.3635   2.7183  18.2277 \n",
       "\n",
       "Coefficients:\n",
       "                     Estimate Std. Error t value Pr(>|t|)    \n",
       "(Intercept)           59.7723     0.8626   69.29   <2e-16 ***\n",
       "group.unorderedoecd   22.6742     1.4200   15.97   <2e-16 ***\n",
       "group.unorderedother  15.5545     1.0426   14.92   <2e-16 ***\n",
       "---\n",
       "Signif. codes:  0 '***' 0.001 '**' 0.01 '*' 0.05 '.' 0.1 ' ' 1\n",
       "\n",
       "Residual standard error: 6.28 on 196 degrees of freedom\n",
       "Multiple R-squared:  0.6191,\tAdjusted R-squared:  0.6152 \n",
       "F-statistic: 159.3 on 2 and 196 DF,  p-value: < 2.2e-16\n"
      ]
     },
     "metadata": {},
     "output_type": "display_data"
    }
   ],
   "source": [
    "results5 <- lm(lifeExpF ~ group.unordered, data=UN11.trans)\n",
    "\n",
    "summary(results5)"
   ]
  },
  {
   "cell_type": "markdown",
   "id": "267c6204",
   "metadata": {},
   "source": [
    "## Grafica de lifeEXpF vs log(ppgdp) diferenciando grupos"
   ]
  },
  {
   "cell_type": "code",
   "execution_count": 14,
   "id": "4c223286",
   "metadata": {},
   "outputs": [
    {
     "data": {
      "image/png": "[encoded data removed]",
      "text/plain": [
       "plot without title"
      ]
     },
     "metadata": {
      "image/png": {
       "height": 420,
       "width": 420
      }
     },
     "output_type": "display_data"
    }
   ],
   "source": [
    "with(UN11.trans, plot(log(ppgdp),lifeExpF, pch=as.numeric(group) ) )\n",
    "legend(\"bottomright\", legend=c( \"oecd\", \"other\", \"africa\"), pch=1:3 )"
   ]
  },
  {
   "cell_type": "markdown",
   "id": "1b705a7b",
   "metadata": {},
   "source": [
    "## Modelo diferente para cada grupo con predictor log(ppgpd) usando variables indicadoras"
   ]
  },
  {
   "cell_type": "code",
   "execution_count": 15,
   "id": "a970df72",
   "metadata": {},
   "outputs": [
    {
     "data": {
      "text/plain": [
       "\n",
       "Call:\n",
       "lm(formula = lifeExpF ~ indic.groupother + indic.groupafrica + \n",
       "    log(ppgdp) + indic.groupother * log(ppgdp) + indic.groupafrica * \n",
       "    log(ppgdp), data = UN11.trans)\n",
       "\n",
       "Residuals:\n",
       "    Min      1Q  Median      3Q     Max \n",
       "-18.634  -2.089   0.301   2.255  14.489 \n",
       "\n",
       "Coefficients:\n",
       "                             Estimate Std. Error t value Pr(>|t|)    \n",
       "(Intercept)                   59.2137    15.2203   3.890 0.000138 ***\n",
       "indic.groupother             -11.1731    15.5948  -0.716 0.474572    \n",
       "indic.groupafrica            -22.9848    15.7838  -1.456 0.146954    \n",
       "log(ppgdp)                     2.2425     1.4664   1.529 0.127844    \n",
       "indic.groupother:log(ppgdp)    0.9294     1.5177   0.612 0.540986    \n",
       "indic.groupafrica:log(ppgdp)   1.0950     1.5785   0.694 0.488703    \n",
       "---\n",
       "Signif. codes:  0 '***' 0.001 '**' 0.01 '*' 0.05 '.' 0.1 ' ' 1\n",
       "\n",
       "Residual standard error: 5.129 on 193 degrees of freedom\n",
       "Multiple R-squared:  0.7498,\tAdjusted R-squared:  0.7433 \n",
       "F-statistic: 115.7 on 5 and 193 DF,  p-value: < 2.2e-16\n"
      ]
     },
     "metadata": {},
     "output_type": "display_data"
    }
   ],
   "source": [
    "results6 <- lm( lifeExpF ~ indic.groupother + indic.groupafrica + log(ppgdp) +\n",
    "                  indic.groupother*log(ppgdp) + indic.groupafrica*log(ppgdp), data=UN11.trans  )\n",
    "summary(results6)"
   ]
  },
  {
   "cell_type": "markdown",
   "id": "6570356f",
   "metadata": {},
   "source": [
    "## Modelo diferente para cada grupo con predictor log(ppgpd) usando factor group"
   ]
  },
  {
   "cell_type": "code",
   "execution_count": 16,
   "id": "2099dc6b",
   "metadata": {},
   "outputs": [
    {
     "data": {
      "text/plain": [
       "\n",
       "Call:\n",
       "lm(formula = lifeExpF ~ group * log(ppgdp), data = UN11.trans)\n",
       "\n",
       "Residuals:\n",
       "    Min      1Q  Median      3Q     Max \n",
       "-18.634  -2.089   0.301   2.255  14.489 \n",
       "\n",
       "Coefficients:\n",
       "                       Estimate Std. Error t value Pr(>|t|)    \n",
       "(Intercept)             59.2137    15.2203   3.890 0.000138 ***\n",
       "groupother             -11.1731    15.5948  -0.716 0.474572    \n",
       "groupafrica            -22.9848    15.7838  -1.456 0.146954    \n",
       "log(ppgdp)               2.2425     1.4664   1.529 0.127844    \n",
       "groupother:log(ppgdp)    0.9294     1.5177   0.612 0.540986    \n",
       "groupafrica:log(ppgdp)   1.0950     1.5785   0.694 0.488703    \n",
       "---\n",
       "Signif. codes:  0 '***' 0.001 '**' 0.01 '*' 0.05 '.' 0.1 ' ' 1\n",
       "\n",
       "Residual standard error: 5.129 on 193 degrees of freedom\n",
       "Multiple R-squared:  0.7498,\tAdjusted R-squared:  0.7433 \n",
       "F-statistic: 115.7 on 5 and 193 DF,  p-value: < 2.2e-16\n"
      ]
     },
     "metadata": {},
     "output_type": "display_data"
    }
   ],
   "source": [
    "results7 <- lm( lifeExpF ~ group * log(ppgdp), data=UN11.trans  )\n",
    "summary(results7)"
   ]
  },
  {
   "cell_type": "code",
   "execution_count": 17,
   "id": "eec5b8cc",
   "metadata": {},
   "outputs": [
    {
     "ename": "ERROR",
     "evalue": "Error in plot.xy(xy.coords(x, y), type = type, ...): plot.new has not been called yet\n",
     "output_type": "error",
     "traceback": [
      "Error in plot.xy(xy.coords(x, y), type = type, ...): plot.new has not been called yet\nTraceback:\n",
      "1. with(UN11.trans, lines(log(ppgdp[group == \"africa\"]), fitted.values(results7)[group == \n .     \"africa\"]))",
      "2. with.default(UN11.trans, lines(log(ppgdp[group == \"africa\"]), \n .     fitted.values(results7)[group == \"africa\"]))",
      "3. eval(substitute(expr), data, enclos = parent.frame())",
      "4. eval(substitute(expr), data, enclos = parent.frame())",
      "5. lines(log(ppgdp[group == \"africa\"]), fitted.values(results7)[group == \n .     \"africa\"])",
      "6. lines.default(log(ppgdp[group == \"africa\"]), fitted.values(results7)[group == \n .     \"africa\"])",
      "7. plot.xy(xy.coords(x, y), type = type, ...)"
     ]
    }
   ],
   "source": [
    "with(UN11.trans, lines(log(ppgdp[group==\"africa\"]), fitted.values(results7)[group==\"africa\"]) )\n",
    "\n",
    "with(UN11.trans, lines(log(ppgdp[group==\"other\"]), fitted.values(results7)[group==\"other\"]) )\n",
    "\n",
    "with(UN11.trans, lines(log(ppgdp[group==\"oecd\"]), fitted.values(results7)[group==\"oecd\"]) )"
   ]
  },
  {
   "cell_type": "markdown",
   "id": "3e3db126",
   "metadata": {},
   "source": [
    "## Prueba de que las pendientes de las lineas de los grupos africa y other son iguales"
   ]
  },
  {
   "cell_type": "code",
   "execution_count": 18,
   "id": "485bb462",
   "metadata": {},
   "outputs": [
    {
     "data": {
      "text/html": [
       "<table class=\"dataframe\">\n",
       "<caption>A anova: 2 × 6</caption>\n",
       "<thead>\n",
       "\t<tr><th></th><th scope=col>Res.Df</th><th scope=col>RSS</th><th scope=col>Df</th><th scope=col>Sum of Sq</th><th scope=col>F</th><th scope=col>Pr(&gt;F)</th></tr>\n",
       "\t<tr><th></th><th scope=col>&lt;dbl&gt;</th><th scope=col>&lt;dbl&gt;</th><th scope=col>&lt;dbl&gt;</th><th scope=col>&lt;dbl&gt;</th><th scope=col>&lt;dbl&gt;</th><th scope=col>&lt;dbl&gt;</th></tr>\n",
       "</thead>\n",
       "<tbody>\n",
       "\t<tr><th scope=row>1</th><td>194</td><td>5079.158</td><td>NA</td><td>      NA</td><td>        NA</td><td>       NA</td></tr>\n",
       "\t<tr><th scope=row>2</th><td>193</td><td>5077.698</td><td> 1</td><td>1.459704</td><td>0.05548241</td><td>0.8140339</td></tr>\n",
       "</tbody>\n",
       "</table>\n"
      ],
      "text/latex": [
       "A anova: 2 × 6\n",
       "\\begin{tabular}{r|llllll}\n",
       "  & Res.Df & RSS & Df & Sum of Sq & F & Pr(>F)\\\\\n",
       "  & <dbl> & <dbl> & <dbl> & <dbl> & <dbl> & <dbl>\\\\\n",
       "\\hline\n",
       "\t1 & 194 & 5079.158 & NA &       NA &         NA &        NA\\\\\n",
       "\t2 & 193 & 5077.698 &  1 & 1.459704 & 0.05548241 & 0.8140339\\\\\n",
       "\\end{tabular}\n"
      ],
      "text/markdown": [
       "\n",
       "A anova: 2 × 6\n",
       "\n",
       "| <!--/--> | Res.Df &lt;dbl&gt; | RSS &lt;dbl&gt; | Df &lt;dbl&gt; | Sum of Sq &lt;dbl&gt; | F &lt;dbl&gt; | Pr(&gt;F) &lt;dbl&gt; |\n",
       "|---|---|---|---|---|---|---|\n",
       "| 1 | 194 | 5079.158 | NA |       NA |         NA |        NA |\n",
       "| 2 | 193 | 5077.698 |  1 | 1.459704 | 0.05548241 | 0.8140339 |\n",
       "\n"
      ],
      "text/plain": [
       "  Res.Df RSS      Df Sum of Sq F          Pr(>F)   \n",
       "1 194    5079.158 NA       NA          NA        NA\n",
       "2 193    5077.698  1 1.459704  0.05548241 0.8140339"
      ]
     },
     "metadata": {},
     "output_type": "display_data"
    }
   ],
   "source": [
    "linearHypothesis(results7, c(\"groupother:log(ppgdp) = groupafrica:log(ppgdp)\"))"
   ]
  },
  {
   "cell_type": "markdown",
   "id": "da77aa95",
   "metadata": {},
   "source": [
    "## Modelo diferente para cada grupo pero mismo coeficiente de log(ppgpd) para grupos africa y other\n"
   ]
  },
  {
   "cell_type": "code",
   "execution_count": 19,
   "id": "61e64ccc",
   "metadata": {},
   "outputs": [],
   "source": [
    "UN11.trans$indica.group.other.africa.log.ppgpd <- (UN11.trans$indic.groupother + UN11.trans$indic.groupafrica)*\n",
    "                                                  log(UN11.trans$ppgdp)"
   ]
  },
  {
   "cell_type": "code",
   "execution_count": 20,
   "id": "33aea6ad",
   "metadata": {},
   "outputs": [
    {
     "data": {
      "text/plain": [
       "\n",
       "Call:\n",
       "lm(formula = lifeExpF ~ indic.groupother + indic.groupafrica + \n",
       "    log(ppgdp) + indica.group.other.africa.log.ppgpd, data = UN11.trans)\n",
       "\n",
       "Residuals:\n",
       "     Min       1Q   Median       3Q      Max \n",
       "-18.6407  -2.1809   0.2879   2.2338  14.6066 \n",
       "\n",
       "Coefficients:\n",
       "                                    Estimate Std. Error t value Pr(>|t|)    \n",
       "(Intercept)                          59.2137    15.1832   3.900 0.000133 ***\n",
       "indic.groupother                    -11.6138    15.4445  -0.752 0.452979    \n",
       "indic.groupafrica                   -22.1785    15.3705  -1.443 0.150654    \n",
       "log(ppgdp)                            2.2425     1.4629   1.533 0.126912    \n",
       "indica.group.other.africa.log.ppgpd   0.9807     1.4983   0.655 0.513564    \n",
       "---\n",
       "Signif. codes:  0 '***' 0.001 '**' 0.01 '*' 0.05 '.' 0.1 ' ' 1\n",
       "\n",
       "Residual standard error: 5.117 on 194 degrees of freedom\n",
       "Multiple R-squared:  0.7497,\tAdjusted R-squared:  0.7446 \n",
       "F-statistic: 145.3 on 4 and 194 DF,  p-value: < 2.2e-16\n"
      ]
     },
     "metadata": {},
     "output_type": "display_data"
    }
   ],
   "source": [
    "results8 <- lm( lifeExpF ~ indic.groupother + indic.groupafrica + log(ppgdp) +\n",
    "                indica.group.other.africa.log.ppgpd, data=UN11.trans  )\n",
    "summary(results8)"
   ]
  },
  {
   "cell_type": "markdown",
   "id": "64eccdb4",
   "metadata": {},
   "source": [
    "## Prueba de que las pendientes de las lineas de los tres grupos son iguales"
   ]
  },
  {
   "cell_type": "code",
   "execution_count": 21,
   "id": "950ca29d",
   "metadata": {},
   "outputs": [
    {
     "data": {
      "text/html": [
       "<table class=\"dataframe\">\n",
       "<caption>A anova: 2 × 6</caption>\n",
       "<thead>\n",
       "\t<tr><th></th><th scope=col>Res.Df</th><th scope=col>RSS</th><th scope=col>Df</th><th scope=col>Sum of Sq</th><th scope=col>F</th><th scope=col>Pr(&gt;F)</th></tr>\n",
       "\t<tr><th></th><th scope=col>&lt;dbl&gt;</th><th scope=col>&lt;dbl&gt;</th><th scope=col>&lt;dbl&gt;</th><th scope=col>&lt;dbl&gt;</th><th scope=col>&lt;dbl&gt;</th><th scope=col>&lt;dbl&gt;</th></tr>\n",
       "</thead>\n",
       "<tbody>\n",
       "\t<tr><th scope=row>1</th><td>195</td><td>5090.373</td><td>NA</td><td>      NA</td><td>       NA</td><td>      NA</td></tr>\n",
       "\t<tr><th scope=row>2</th><td>193</td><td>5077.698</td><td> 2</td><td>12.67503</td><td>0.2408849</td><td>0.786168</td></tr>\n",
       "</tbody>\n",
       "</table>\n"
      ],
      "text/latex": [
       "A anova: 2 × 6\n",
       "\\begin{tabular}{r|llllll}\n",
       "  & Res.Df & RSS & Df & Sum of Sq & F & Pr(>F)\\\\\n",
       "  & <dbl> & <dbl> & <dbl> & <dbl> & <dbl> & <dbl>\\\\\n",
       "\\hline\n",
       "\t1 & 195 & 5090.373 & NA &       NA &        NA &       NA\\\\\n",
       "\t2 & 193 & 5077.698 &  2 & 12.67503 & 0.2408849 & 0.786168\\\\\n",
       "\\end{tabular}\n"
      ],
      "text/markdown": [
       "\n",
       "A anova: 2 × 6\n",
       "\n",
       "| <!--/--> | Res.Df &lt;dbl&gt; | RSS &lt;dbl&gt; | Df &lt;dbl&gt; | Sum of Sq &lt;dbl&gt; | F &lt;dbl&gt; | Pr(&gt;F) &lt;dbl&gt; |\n",
       "|---|---|---|---|---|---|---|\n",
       "| 1 | 195 | 5090.373 | NA |       NA |        NA |       NA |\n",
       "| 2 | 193 | 5077.698 |  2 | 12.67503 | 0.2408849 | 0.786168 |\n",
       "\n"
      ],
      "text/plain": [
       "  Res.Df RSS      Df Sum of Sq F         Pr(>F)  \n",
       "1 195    5090.373 NA       NA         NA       NA\n",
       "2 193    5077.698  2 12.67503  0.2408849 0.786168"
      ]
     },
     "metadata": {},
     "output_type": "display_data"
    }
   ],
   "source": [
    "linearHypothesis(results7, c(\"groupother:log(ppgdp) =0\", \"groupafrica:log(ppgdp)=0\"))"
   ]
  },
  {
   "cell_type": "markdown",
   "id": "9a544780",
   "metadata": {},
   "source": [
    "## Modelo de 3 lineas paralelas usando variables indicadoras"
   ]
  },
  {
   "cell_type": "code",
   "execution_count": 22,
   "id": "90be9b1b",
   "metadata": {},
   "outputs": [
    {
     "data": {
      "text/plain": [
       "\n",
       "Call:\n",
       "lm(formula = lifeExpF ~ indic.groupother + indic.groupafrica + \n",
       "    log(ppgdp), data = UN11.trans)\n",
       "\n",
       "Residuals:\n",
       "     Min       1Q   Median       3Q      Max \n",
       "-18.6348  -2.1741   0.2441   2.3537  14.6539 \n",
       "\n",
       "Coefficients:\n",
       "                  Estimate Std. Error t value Pr(>|t|)    \n",
       "(Intercept)         49.529      3.400  14.569  < 2e-16 ***\n",
       "indic.groupother    -1.535      1.174  -1.308    0.193    \n",
       "indic.groupafrica  -12.170      1.557  -7.814 3.35e-13 ***\n",
       "log(ppgdp)           3.177      0.316  10.056  < 2e-16 ***\n",
       "---\n",
       "Signif. codes:  0 '***' 0.001 '**' 0.01 '*' 0.05 '.' 0.1 ' ' 1\n",
       "\n",
       "Residual standard error: 5.109 on 195 degrees of freedom\n",
       "Multiple R-squared:  0.7492,\tAdjusted R-squared:  0.7453 \n",
       "F-statistic: 194.1 on 3 and 195 DF,  p-value: < 2.2e-16\n"
      ]
     },
     "metadata": {},
     "output_type": "display_data"
    }
   ],
   "source": [
    "results9 <- lm( lifeExpF ~ indic.groupother + indic.groupafrica + log(ppgdp), data=UN11.trans  )\n",
    "summary(results9)"
   ]
  },
  {
   "cell_type": "markdown",
   "id": "dd19feaa",
   "metadata": {},
   "source": [
    "## Modelo de 3 lineas paralelas usando factor group"
   ]
  },
  {
   "cell_type": "code",
   "execution_count": 23,
   "id": "f252c764",
   "metadata": {},
   "outputs": [
    {
     "data": {
      "text/plain": [
       "\n",
       "Call:\n",
       "lm(formula = lifeExpF ~ group + log(ppgdp), data = UN11.trans)\n",
       "\n",
       "Residuals:\n",
       "     Min       1Q   Median       3Q      Max \n",
       "-18.6348  -2.1741   0.2441   2.3537  14.6539 \n",
       "\n",
       "Coefficients:\n",
       "            Estimate Std. Error t value Pr(>|t|)    \n",
       "(Intercept)   49.529      3.400  14.569  < 2e-16 ***\n",
       "groupother    -1.535      1.174  -1.308    0.193    \n",
       "groupafrica  -12.170      1.557  -7.814 3.35e-13 ***\n",
       "log(ppgdp)     3.177      0.316  10.056  < 2e-16 ***\n",
       "---\n",
       "Signif. codes:  0 '***' 0.001 '**' 0.01 '*' 0.05 '.' 0.1 ' ' 1\n",
       "\n",
       "Residual standard error: 5.109 on 195 degrees of freedom\n",
       "Multiple R-squared:  0.7492,\tAdjusted R-squared:  0.7453 \n",
       "F-statistic: 194.1 on 3 and 195 DF,  p-value: < 2.2e-16\n"
      ]
     },
     "metadata": {},
     "output_type": "display_data"
    }
   ],
   "source": [
    "results10 <- lm( lifeExpF ~ group + log(ppgdp), data=UN11.trans  )\n",
    "summary(results10)"
   ]
  },
  {
   "cell_type": "markdown",
   "id": "5bdb100b",
   "metadata": {},
   "source": [
    "# otros metodos"
   ]
  },
  {
   "cell_type": "markdown",
   "id": "344c2961",
   "metadata": {},
   "source": [
    "## cargando datos"
   ]
  },
  {
   "cell_type": "code",
   "execution_count": 24,
   "id": "f4a1224f",
   "metadata": {},
   "outputs": [],
   "source": [
    "salaries <- read.table(\"C:/Users/marti/OneDrive/Escritorio/jupyter/database/salario.txt\",header=T)"
   ]
  },
  {
   "cell_type": "code",
   "execution_count": 25,
   "id": "739a47d4",
   "metadata": {},
   "outputs": [
    {
     "data": {
      "image/png": "[encoded data removed]",
      "text/plain": [
       "plot without title"
      ]
     },
     "metadata": {
      "image/png": {
       "height": 420,
       "width": 420
      }
     },
     "output_type": "display_data"
    }
   ],
   "source": [
    "with(salaries, pairs(~S+X+E+M) )"
   ]
  },
  {
   "cell_type": "markdown",
   "id": "9d460fc8",
   "metadata": {},
   "source": [
    "## Definicion de variables indicadoras a partir de la variable nivel de educacion E"
   ]
  },
  {
   "cell_type": "code",
   "execution_count": 26,
   "id": "5e095f12",
   "metadata": {},
   "outputs": [
    {
     "data": {
      "text/html": [
       "<table class=\"dataframe\">\n",
       "<caption>A data.frame: 46 × 4</caption>\n",
       "<thead>\n",
       "\t<tr><th scope=col>S</th><th scope=col>X</th><th scope=col>E</th><th scope=col>M</th></tr>\n",
       "\t<tr><th scope=col>&lt;int&gt;</th><th scope=col>&lt;int&gt;</th><th scope=col>&lt;int&gt;</th><th scope=col>&lt;int&gt;</th></tr>\n",
       "</thead>\n",
       "<tbody>\n",
       "\t<tr><td>13876</td><td> 1</td><td>1</td><td>1</td></tr>\n",
       "\t<tr><td>11608</td><td> 1</td><td>3</td><td>0</td></tr>\n",
       "\t<tr><td>18701</td><td> 1</td><td>3</td><td>1</td></tr>\n",
       "\t<tr><td>11283</td><td> 1</td><td>2</td><td>0</td></tr>\n",
       "\t<tr><td>11767</td><td> 1</td><td>3</td><td>0</td></tr>\n",
       "\t<tr><td>20872</td><td> 2</td><td>2</td><td>1</td></tr>\n",
       "\t<tr><td>11772</td><td> 2</td><td>2</td><td>0</td></tr>\n",
       "\t<tr><td>10535</td><td> 2</td><td>1</td><td>0</td></tr>\n",
       "\t<tr><td>12195</td><td> 2</td><td>3</td><td>0</td></tr>\n",
       "\t<tr><td>12313</td><td> 3</td><td>2</td><td>0</td></tr>\n",
       "\t<tr><td>14975</td><td> 3</td><td>1</td><td>1</td></tr>\n",
       "\t<tr><td>21371</td><td> 3</td><td>2</td><td>1</td></tr>\n",
       "\t<tr><td>19800</td><td> 3</td><td>3</td><td>1</td></tr>\n",
       "\t<tr><td>11417</td><td> 4</td><td>1</td><td>0</td></tr>\n",
       "\t<tr><td>20263</td><td> 4</td><td>3</td><td>1</td></tr>\n",
       "\t<tr><td>13231</td><td> 4</td><td>3</td><td>0</td></tr>\n",
       "\t<tr><td>12884</td><td> 4</td><td>2</td><td>0</td></tr>\n",
       "\t<tr><td>13245</td><td> 5</td><td>2</td><td>0</td></tr>\n",
       "\t<tr><td>13677</td><td> 5</td><td>3</td><td>0</td></tr>\n",
       "\t<tr><td>15965</td><td> 5</td><td>1</td><td>1</td></tr>\n",
       "\t<tr><td>12336</td><td> 6</td><td>1</td><td>0</td></tr>\n",
       "\t<tr><td>21352</td><td> 6</td><td>3</td><td>1</td></tr>\n",
       "\t<tr><td>13839</td><td> 6</td><td>2</td><td>0</td></tr>\n",
       "\t<tr><td>22884</td><td> 6</td><td>2</td><td>1</td></tr>\n",
       "\t<tr><td>16978</td><td> 7</td><td>1</td><td>1</td></tr>\n",
       "\t<tr><td>14803</td><td> 8</td><td>2</td><td>0</td></tr>\n",
       "\t<tr><td>17404</td><td> 8</td><td>1</td><td>1</td></tr>\n",
       "\t<tr><td>22184</td><td> 8</td><td>3</td><td>1</td></tr>\n",
       "\t<tr><td>13548</td><td> 8</td><td>1</td><td>0</td></tr>\n",
       "\t<tr><td>14467</td><td>10</td><td>1</td><td>0</td></tr>\n",
       "\t<tr><td>15942</td><td>10</td><td>2</td><td>0</td></tr>\n",
       "\t<tr><td>23174</td><td>10</td><td>3</td><td>1</td></tr>\n",
       "\t<tr><td>23780</td><td>10</td><td>2</td><td>1</td></tr>\n",
       "\t<tr><td>25410</td><td>11</td><td>2</td><td>1</td></tr>\n",
       "\t<tr><td>14861</td><td>11</td><td>1</td><td>0</td></tr>\n",
       "\t<tr><td>16882</td><td>12</td><td>2</td><td>0</td></tr>\n",
       "\t<tr><td>24170</td><td>12</td><td>3</td><td>1</td></tr>\n",
       "\t<tr><td>15990</td><td>13</td><td>1</td><td>0</td></tr>\n",
       "\t<tr><td>26330</td><td>13</td><td>2</td><td>1</td></tr>\n",
       "\t<tr><td>17949</td><td>14</td><td>2</td><td>0</td></tr>\n",
       "\t<tr><td>25685</td><td>15</td><td>3</td><td>1</td></tr>\n",
       "\t<tr><td>27837</td><td>16</td><td>2</td><td>1</td></tr>\n",
       "\t<tr><td>18838</td><td>16</td><td>2</td><td>0</td></tr>\n",
       "\t<tr><td>17483</td><td>16</td><td>1</td><td>0</td></tr>\n",
       "\t<tr><td>19207</td><td>17</td><td>2</td><td>0</td></tr>\n",
       "\t<tr><td>19346</td><td>20</td><td>1</td><td>0</td></tr>\n",
       "</tbody>\n",
       "</table>\n"
      ],
      "text/latex": [
       "A data.frame: 46 × 4\n",
       "\\begin{tabular}{llll}\n",
       " S & X & E & M\\\\\n",
       " <int> & <int> & <int> & <int>\\\\\n",
       "\\hline\n",
       "\t 13876 &  1 & 1 & 1\\\\\n",
       "\t 11608 &  1 & 3 & 0\\\\\n",
       "\t 18701 &  1 & 3 & 1\\\\\n",
       "\t 11283 &  1 & 2 & 0\\\\\n",
       "\t 11767 &  1 & 3 & 0\\\\\n",
       "\t 20872 &  2 & 2 & 1\\\\\n",
       "\t 11772 &  2 & 2 & 0\\\\\n",
       "\t 10535 &  2 & 1 & 0\\\\\n",
       "\t 12195 &  2 & 3 & 0\\\\\n",
       "\t 12313 &  3 & 2 & 0\\\\\n",
       "\t 14975 &  3 & 1 & 1\\\\\n",
       "\t 21371 &  3 & 2 & 1\\\\\n",
       "\t 19800 &  3 & 3 & 1\\\\\n",
       "\t 11417 &  4 & 1 & 0\\\\\n",
       "\t 20263 &  4 & 3 & 1\\\\\n",
       "\t 13231 &  4 & 3 & 0\\\\\n",
       "\t 12884 &  4 & 2 & 0\\\\\n",
       "\t 13245 &  5 & 2 & 0\\\\\n",
       "\t 13677 &  5 & 3 & 0\\\\\n",
       "\t 15965 &  5 & 1 & 1\\\\\n",
       "\t 12336 &  6 & 1 & 0\\\\\n",
       "\t 21352 &  6 & 3 & 1\\\\\n",
       "\t 13839 &  6 & 2 & 0\\\\\n",
       "\t 22884 &  6 & 2 & 1\\\\\n",
       "\t 16978 &  7 & 1 & 1\\\\\n",
       "\t 14803 &  8 & 2 & 0\\\\\n",
       "\t 17404 &  8 & 1 & 1\\\\\n",
       "\t 22184 &  8 & 3 & 1\\\\\n",
       "\t 13548 &  8 & 1 & 0\\\\\n",
       "\t 14467 & 10 & 1 & 0\\\\\n",
       "\t 15942 & 10 & 2 & 0\\\\\n",
       "\t 23174 & 10 & 3 & 1\\\\\n",
       "\t 23780 & 10 & 2 & 1\\\\\n",
       "\t 25410 & 11 & 2 & 1\\\\\n",
       "\t 14861 & 11 & 1 & 0\\\\\n",
       "\t 16882 & 12 & 2 & 0\\\\\n",
       "\t 24170 & 12 & 3 & 1\\\\\n",
       "\t 15990 & 13 & 1 & 0\\\\\n",
       "\t 26330 & 13 & 2 & 1\\\\\n",
       "\t 17949 & 14 & 2 & 0\\\\\n",
       "\t 25685 & 15 & 3 & 1\\\\\n",
       "\t 27837 & 16 & 2 & 1\\\\\n",
       "\t 18838 & 16 & 2 & 0\\\\\n",
       "\t 17483 & 16 & 1 & 0\\\\\n",
       "\t 19207 & 17 & 2 & 0\\\\\n",
       "\t 19346 & 20 & 1 & 0\\\\\n",
       "\\end{tabular}\n"
      ],
      "text/markdown": [
       "\n",
       "A data.frame: 46 × 4\n",
       "\n",
       "| S &lt;int&gt; | X &lt;int&gt; | E &lt;int&gt; | M &lt;int&gt; |\n",
       "|---|---|---|---|\n",
       "| 13876 |  1 | 1 | 1 |\n",
       "| 11608 |  1 | 3 | 0 |\n",
       "| 18701 |  1 | 3 | 1 |\n",
       "| 11283 |  1 | 2 | 0 |\n",
       "| 11767 |  1 | 3 | 0 |\n",
       "| 20872 |  2 | 2 | 1 |\n",
       "| 11772 |  2 | 2 | 0 |\n",
       "| 10535 |  2 | 1 | 0 |\n",
       "| 12195 |  2 | 3 | 0 |\n",
       "| 12313 |  3 | 2 | 0 |\n",
       "| 14975 |  3 | 1 | 1 |\n",
       "| 21371 |  3 | 2 | 1 |\n",
       "| 19800 |  3 | 3 | 1 |\n",
       "| 11417 |  4 | 1 | 0 |\n",
       "| 20263 |  4 | 3 | 1 |\n",
       "| 13231 |  4 | 3 | 0 |\n",
       "| 12884 |  4 | 2 | 0 |\n",
       "| 13245 |  5 | 2 | 0 |\n",
       "| 13677 |  5 | 3 | 0 |\n",
       "| 15965 |  5 | 1 | 1 |\n",
       "| 12336 |  6 | 1 | 0 |\n",
       "| 21352 |  6 | 3 | 1 |\n",
       "| 13839 |  6 | 2 | 0 |\n",
       "| 22884 |  6 | 2 | 1 |\n",
       "| 16978 |  7 | 1 | 1 |\n",
       "| 14803 |  8 | 2 | 0 |\n",
       "| 17404 |  8 | 1 | 1 |\n",
       "| 22184 |  8 | 3 | 1 |\n",
       "| 13548 |  8 | 1 | 0 |\n",
       "| 14467 | 10 | 1 | 0 |\n",
       "| 15942 | 10 | 2 | 0 |\n",
       "| 23174 | 10 | 3 | 1 |\n",
       "| 23780 | 10 | 2 | 1 |\n",
       "| 25410 | 11 | 2 | 1 |\n",
       "| 14861 | 11 | 1 | 0 |\n",
       "| 16882 | 12 | 2 | 0 |\n",
       "| 24170 | 12 | 3 | 1 |\n",
       "| 15990 | 13 | 1 | 0 |\n",
       "| 26330 | 13 | 2 | 1 |\n",
       "| 17949 | 14 | 2 | 0 |\n",
       "| 25685 | 15 | 3 | 1 |\n",
       "| 27837 | 16 | 2 | 1 |\n",
       "| 18838 | 16 | 2 | 0 |\n",
       "| 17483 | 16 | 1 | 0 |\n",
       "| 19207 | 17 | 2 | 0 |\n",
       "| 19346 | 20 | 1 | 0 |\n",
       "\n"
      ],
      "text/plain": [
       "   S     X  E M\n",
       "1  13876  1 1 1\n",
       "2  11608  1 3 0\n",
       "3  18701  1 3 1\n",
       "4  11283  1 2 0\n",
       "5  11767  1 3 0\n",
       "6  20872  2 2 1\n",
       "7  11772  2 2 0\n",
       "8  10535  2 1 0\n",
       "9  12195  2 3 0\n",
       "10 12313  3 2 0\n",
       "11 14975  3 1 1\n",
       "12 21371  3 2 1\n",
       "13 19800  3 3 1\n",
       "14 11417  4 1 0\n",
       "15 20263  4 3 1\n",
       "16 13231  4 3 0\n",
       "17 12884  4 2 0\n",
       "18 13245  5 2 0\n",
       "19 13677  5 3 0\n",
       "20 15965  5 1 1\n",
       "21 12336  6 1 0\n",
       "22 21352  6 3 1\n",
       "23 13839  6 2 0\n",
       "24 22884  6 2 1\n",
       "25 16978  7 1 1\n",
       "26 14803  8 2 0\n",
       "27 17404  8 1 1\n",
       "28 22184  8 3 1\n",
       "29 13548  8 1 0\n",
       "30 14467 10 1 0\n",
       "31 15942 10 2 0\n",
       "32 23174 10 3 1\n",
       "33 23780 10 2 1\n",
       "34 25410 11 2 1\n",
       "35 14861 11 1 0\n",
       "36 16882 12 2 0\n",
       "37 24170 12 3 1\n",
       "38 15990 13 1 0\n",
       "39 26330 13 2 1\n",
       "40 17949 14 2 0\n",
       "41 25685 15 3 1\n",
       "42 27837 16 2 1\n",
       "43 18838 16 2 0\n",
       "44 17483 16 1 0\n",
       "45 19207 17 2 0\n",
       "46 19346 20 1 0"
      ]
     },
     "metadata": {},
     "output_type": "display_data"
    }
   ],
   "source": [
    "salaries"
   ]
  },
  {
   "cell_type": "code",
   "execution_count": 28,
   "id": "e18333ce",
   "metadata": {},
   "outputs": [
    {
     "data": {
      "text/html": [
       "<table class=\"dataframe\">\n",
       "<caption>A data.frame: 46 × 7</caption>\n",
       "<thead>\n",
       "\t<tr><th></th><th scope=col>S</th><th scope=col>X</th><th scope=col>E</th><th scope=col>M</th><th scope=col>indic.E1</th><th scope=col>indic.E2</th><th scope=col>indic.E3</th></tr>\n",
       "\t<tr><th></th><th scope=col>&lt;int&gt;</th><th scope=col>&lt;int&gt;</th><th scope=col>&lt;fct&gt;</th><th scope=col>&lt;int&gt;</th><th scope=col>&lt;dbl&gt;</th><th scope=col>&lt;dbl&gt;</th><th scope=col>&lt;dbl&gt;</th></tr>\n",
       "</thead>\n",
       "<tbody>\n",
       "\t<tr><th scope=row>1</th><td>13876</td><td> 1</td><td>1</td><td>1</td><td>1</td><td>0</td><td>0</td></tr>\n",
       "\t<tr><th scope=row>2</th><td>11608</td><td> 1</td><td>3</td><td>0</td><td>0</td><td>0</td><td>1</td></tr>\n",
       "\t<tr><th scope=row>3</th><td>18701</td><td> 1</td><td>3</td><td>1</td><td>0</td><td>0</td><td>1</td></tr>\n",
       "\t<tr><th scope=row>4</th><td>11283</td><td> 1</td><td>2</td><td>0</td><td>0</td><td>1</td><td>0</td></tr>\n",
       "\t<tr><th scope=row>5</th><td>11767</td><td> 1</td><td>3</td><td>0</td><td>0</td><td>0</td><td>1</td></tr>\n",
       "\t<tr><th scope=row>6</th><td>20872</td><td> 2</td><td>2</td><td>1</td><td>0</td><td>1</td><td>0</td></tr>\n",
       "\t<tr><th scope=row>7</th><td>11772</td><td> 2</td><td>2</td><td>0</td><td>0</td><td>1</td><td>0</td></tr>\n",
       "\t<tr><th scope=row>8</th><td>10535</td><td> 2</td><td>1</td><td>0</td><td>1</td><td>0</td><td>0</td></tr>\n",
       "\t<tr><th scope=row>9</th><td>12195</td><td> 2</td><td>3</td><td>0</td><td>0</td><td>0</td><td>1</td></tr>\n",
       "\t<tr><th scope=row>10</th><td>12313</td><td> 3</td><td>2</td><td>0</td><td>0</td><td>1</td><td>0</td></tr>\n",
       "\t<tr><th scope=row>11</th><td>14975</td><td> 3</td><td>1</td><td>1</td><td>1</td><td>0</td><td>0</td></tr>\n",
       "\t<tr><th scope=row>12</th><td>21371</td><td> 3</td><td>2</td><td>1</td><td>0</td><td>1</td><td>0</td></tr>\n",
       "\t<tr><th scope=row>13</th><td>19800</td><td> 3</td><td>3</td><td>1</td><td>0</td><td>0</td><td>1</td></tr>\n",
       "\t<tr><th scope=row>14</th><td>11417</td><td> 4</td><td>1</td><td>0</td><td>1</td><td>0</td><td>0</td></tr>\n",
       "\t<tr><th scope=row>15</th><td>20263</td><td> 4</td><td>3</td><td>1</td><td>0</td><td>0</td><td>1</td></tr>\n",
       "\t<tr><th scope=row>16</th><td>13231</td><td> 4</td><td>3</td><td>0</td><td>0</td><td>0</td><td>1</td></tr>\n",
       "\t<tr><th scope=row>17</th><td>12884</td><td> 4</td><td>2</td><td>0</td><td>0</td><td>1</td><td>0</td></tr>\n",
       "\t<tr><th scope=row>18</th><td>13245</td><td> 5</td><td>2</td><td>0</td><td>0</td><td>1</td><td>0</td></tr>\n",
       "\t<tr><th scope=row>19</th><td>13677</td><td> 5</td><td>3</td><td>0</td><td>0</td><td>0</td><td>1</td></tr>\n",
       "\t<tr><th scope=row>20</th><td>15965</td><td> 5</td><td>1</td><td>1</td><td>1</td><td>0</td><td>0</td></tr>\n",
       "\t<tr><th scope=row>21</th><td>12336</td><td> 6</td><td>1</td><td>0</td><td>1</td><td>0</td><td>0</td></tr>\n",
       "\t<tr><th scope=row>22</th><td>21352</td><td> 6</td><td>3</td><td>1</td><td>0</td><td>0</td><td>1</td></tr>\n",
       "\t<tr><th scope=row>23</th><td>13839</td><td> 6</td><td>2</td><td>0</td><td>0</td><td>1</td><td>0</td></tr>\n",
       "\t<tr><th scope=row>24</th><td>22884</td><td> 6</td><td>2</td><td>1</td><td>0</td><td>1</td><td>0</td></tr>\n",
       "\t<tr><th scope=row>25</th><td>16978</td><td> 7</td><td>1</td><td>1</td><td>1</td><td>0</td><td>0</td></tr>\n",
       "\t<tr><th scope=row>26</th><td>14803</td><td> 8</td><td>2</td><td>0</td><td>0</td><td>1</td><td>0</td></tr>\n",
       "\t<tr><th scope=row>27</th><td>17404</td><td> 8</td><td>1</td><td>1</td><td>1</td><td>0</td><td>0</td></tr>\n",
       "\t<tr><th scope=row>28</th><td>22184</td><td> 8</td><td>3</td><td>1</td><td>0</td><td>0</td><td>1</td></tr>\n",
       "\t<tr><th scope=row>29</th><td>13548</td><td> 8</td><td>1</td><td>0</td><td>1</td><td>0</td><td>0</td></tr>\n",
       "\t<tr><th scope=row>30</th><td>14467</td><td>10</td><td>1</td><td>0</td><td>1</td><td>0</td><td>0</td></tr>\n",
       "\t<tr><th scope=row>31</th><td>15942</td><td>10</td><td>2</td><td>0</td><td>0</td><td>1</td><td>0</td></tr>\n",
       "\t<tr><th scope=row>32</th><td>23174</td><td>10</td><td>3</td><td>1</td><td>0</td><td>0</td><td>1</td></tr>\n",
       "\t<tr><th scope=row>33</th><td>23780</td><td>10</td><td>2</td><td>1</td><td>0</td><td>1</td><td>0</td></tr>\n",
       "\t<tr><th scope=row>34</th><td>25410</td><td>11</td><td>2</td><td>1</td><td>0</td><td>1</td><td>0</td></tr>\n",
       "\t<tr><th scope=row>35</th><td>14861</td><td>11</td><td>1</td><td>0</td><td>1</td><td>0</td><td>0</td></tr>\n",
       "\t<tr><th scope=row>36</th><td>16882</td><td>12</td><td>2</td><td>0</td><td>0</td><td>1</td><td>0</td></tr>\n",
       "\t<tr><th scope=row>37</th><td>24170</td><td>12</td><td>3</td><td>1</td><td>0</td><td>0</td><td>1</td></tr>\n",
       "\t<tr><th scope=row>38</th><td>15990</td><td>13</td><td>1</td><td>0</td><td>1</td><td>0</td><td>0</td></tr>\n",
       "\t<tr><th scope=row>39</th><td>26330</td><td>13</td><td>2</td><td>1</td><td>0</td><td>1</td><td>0</td></tr>\n",
       "\t<tr><th scope=row>40</th><td>17949</td><td>14</td><td>2</td><td>0</td><td>0</td><td>1</td><td>0</td></tr>\n",
       "\t<tr><th scope=row>41</th><td>25685</td><td>15</td><td>3</td><td>1</td><td>0</td><td>0</td><td>1</td></tr>\n",
       "\t<tr><th scope=row>42</th><td>27837</td><td>16</td><td>2</td><td>1</td><td>0</td><td>1</td><td>0</td></tr>\n",
       "\t<tr><th scope=row>43</th><td>18838</td><td>16</td><td>2</td><td>0</td><td>0</td><td>1</td><td>0</td></tr>\n",
       "\t<tr><th scope=row>44</th><td>17483</td><td>16</td><td>1</td><td>0</td><td>1</td><td>0</td><td>0</td></tr>\n",
       "\t<tr><th scope=row>45</th><td>19207</td><td>17</td><td>2</td><td>0</td><td>0</td><td>1</td><td>0</td></tr>\n",
       "\t<tr><th scope=row>46</th><td>19346</td><td>20</td><td>1</td><td>0</td><td>1</td><td>0</td><td>0</td></tr>\n",
       "</tbody>\n",
       "</table>\n"
      ],
      "text/latex": [
       "A data.frame: 46 × 7\n",
       "\\begin{tabular}{r|lllllll}\n",
       "  & S & X & E & M & indic.E1 & indic.E2 & indic.E3\\\\\n",
       "  & <int> & <int> & <fct> & <int> & <dbl> & <dbl> & <dbl>\\\\\n",
       "\\hline\n",
       "\t1 & 13876 &  1 & 1 & 1 & 1 & 0 & 0\\\\\n",
       "\t2 & 11608 &  1 & 3 & 0 & 0 & 0 & 1\\\\\n",
       "\t3 & 18701 &  1 & 3 & 1 & 0 & 0 & 1\\\\\n",
       "\t4 & 11283 &  1 & 2 & 0 & 0 & 1 & 0\\\\\n",
       "\t5 & 11767 &  1 & 3 & 0 & 0 & 0 & 1\\\\\n",
       "\t6 & 20872 &  2 & 2 & 1 & 0 & 1 & 0\\\\\n",
       "\t7 & 11772 &  2 & 2 & 0 & 0 & 1 & 0\\\\\n",
       "\t8 & 10535 &  2 & 1 & 0 & 1 & 0 & 0\\\\\n",
       "\t9 & 12195 &  2 & 3 & 0 & 0 & 0 & 1\\\\\n",
       "\t10 & 12313 &  3 & 2 & 0 & 0 & 1 & 0\\\\\n",
       "\t11 & 14975 &  3 & 1 & 1 & 1 & 0 & 0\\\\\n",
       "\t12 & 21371 &  3 & 2 & 1 & 0 & 1 & 0\\\\\n",
       "\t13 & 19800 &  3 & 3 & 1 & 0 & 0 & 1\\\\\n",
       "\t14 & 11417 &  4 & 1 & 0 & 1 & 0 & 0\\\\\n",
       "\t15 & 20263 &  4 & 3 & 1 & 0 & 0 & 1\\\\\n",
       "\t16 & 13231 &  4 & 3 & 0 & 0 & 0 & 1\\\\\n",
       "\t17 & 12884 &  4 & 2 & 0 & 0 & 1 & 0\\\\\n",
       "\t18 & 13245 &  5 & 2 & 0 & 0 & 1 & 0\\\\\n",
       "\t19 & 13677 &  5 & 3 & 0 & 0 & 0 & 1\\\\\n",
       "\t20 & 15965 &  5 & 1 & 1 & 1 & 0 & 0\\\\\n",
       "\t21 & 12336 &  6 & 1 & 0 & 1 & 0 & 0\\\\\n",
       "\t22 & 21352 &  6 & 3 & 1 & 0 & 0 & 1\\\\\n",
       "\t23 & 13839 &  6 & 2 & 0 & 0 & 1 & 0\\\\\n",
       "\t24 & 22884 &  6 & 2 & 1 & 0 & 1 & 0\\\\\n",
       "\t25 & 16978 &  7 & 1 & 1 & 1 & 0 & 0\\\\\n",
       "\t26 & 14803 &  8 & 2 & 0 & 0 & 1 & 0\\\\\n",
       "\t27 & 17404 &  8 & 1 & 1 & 1 & 0 & 0\\\\\n",
       "\t28 & 22184 &  8 & 3 & 1 & 0 & 0 & 1\\\\\n",
       "\t29 & 13548 &  8 & 1 & 0 & 1 & 0 & 0\\\\\n",
       "\t30 & 14467 & 10 & 1 & 0 & 1 & 0 & 0\\\\\n",
       "\t31 & 15942 & 10 & 2 & 0 & 0 & 1 & 0\\\\\n",
       "\t32 & 23174 & 10 & 3 & 1 & 0 & 0 & 1\\\\\n",
       "\t33 & 23780 & 10 & 2 & 1 & 0 & 1 & 0\\\\\n",
       "\t34 & 25410 & 11 & 2 & 1 & 0 & 1 & 0\\\\\n",
       "\t35 & 14861 & 11 & 1 & 0 & 1 & 0 & 0\\\\\n",
       "\t36 & 16882 & 12 & 2 & 0 & 0 & 1 & 0\\\\\n",
       "\t37 & 24170 & 12 & 3 & 1 & 0 & 0 & 1\\\\\n",
       "\t38 & 15990 & 13 & 1 & 0 & 1 & 0 & 0\\\\\n",
       "\t39 & 26330 & 13 & 2 & 1 & 0 & 1 & 0\\\\\n",
       "\t40 & 17949 & 14 & 2 & 0 & 0 & 1 & 0\\\\\n",
       "\t41 & 25685 & 15 & 3 & 1 & 0 & 0 & 1\\\\\n",
       "\t42 & 27837 & 16 & 2 & 1 & 0 & 1 & 0\\\\\n",
       "\t43 & 18838 & 16 & 2 & 0 & 0 & 1 & 0\\\\\n",
       "\t44 & 17483 & 16 & 1 & 0 & 1 & 0 & 0\\\\\n",
       "\t45 & 19207 & 17 & 2 & 0 & 0 & 1 & 0\\\\\n",
       "\t46 & 19346 & 20 & 1 & 0 & 1 & 0 & 0\\\\\n",
       "\\end{tabular}\n"
      ],
      "text/markdown": [
       "\n",
       "A data.frame: 46 × 7\n",
       "\n",
       "| <!--/--> | S &lt;int&gt; | X &lt;int&gt; | E &lt;fct&gt; | M &lt;int&gt; | indic.E1 &lt;dbl&gt; | indic.E2 &lt;dbl&gt; | indic.E3 &lt;dbl&gt; |\n",
       "|---|---|---|---|---|---|---|---|\n",
       "| 1 | 13876 |  1 | 1 | 1 | 1 | 0 | 0 |\n",
       "| 2 | 11608 |  1 | 3 | 0 | 0 | 0 | 1 |\n",
       "| 3 | 18701 |  1 | 3 | 1 | 0 | 0 | 1 |\n",
       "| 4 | 11283 |  1 | 2 | 0 | 0 | 1 | 0 |\n",
       "| 5 | 11767 |  1 | 3 | 0 | 0 | 0 | 1 |\n",
       "| 6 | 20872 |  2 | 2 | 1 | 0 | 1 | 0 |\n",
       "| 7 | 11772 |  2 | 2 | 0 | 0 | 1 | 0 |\n",
       "| 8 | 10535 |  2 | 1 | 0 | 1 | 0 | 0 |\n",
       "| 9 | 12195 |  2 | 3 | 0 | 0 | 0 | 1 |\n",
       "| 10 | 12313 |  3 | 2 | 0 | 0 | 1 | 0 |\n",
       "| 11 | 14975 |  3 | 1 | 1 | 1 | 0 | 0 |\n",
       "| 12 | 21371 |  3 | 2 | 1 | 0 | 1 | 0 |\n",
       "| 13 | 19800 |  3 | 3 | 1 | 0 | 0 | 1 |\n",
       "| 14 | 11417 |  4 | 1 | 0 | 1 | 0 | 0 |\n",
       "| 15 | 20263 |  4 | 3 | 1 | 0 | 0 | 1 |\n",
       "| 16 | 13231 |  4 | 3 | 0 | 0 | 0 | 1 |\n",
       "| 17 | 12884 |  4 | 2 | 0 | 0 | 1 | 0 |\n",
       "| 18 | 13245 |  5 | 2 | 0 | 0 | 1 | 0 |\n",
       "| 19 | 13677 |  5 | 3 | 0 | 0 | 0 | 1 |\n",
       "| 20 | 15965 |  5 | 1 | 1 | 1 | 0 | 0 |\n",
       "| 21 | 12336 |  6 | 1 | 0 | 1 | 0 | 0 |\n",
       "| 22 | 21352 |  6 | 3 | 1 | 0 | 0 | 1 |\n",
       "| 23 | 13839 |  6 | 2 | 0 | 0 | 1 | 0 |\n",
       "| 24 | 22884 |  6 | 2 | 1 | 0 | 1 | 0 |\n",
       "| 25 | 16978 |  7 | 1 | 1 | 1 | 0 | 0 |\n",
       "| 26 | 14803 |  8 | 2 | 0 | 0 | 1 | 0 |\n",
       "| 27 | 17404 |  8 | 1 | 1 | 1 | 0 | 0 |\n",
       "| 28 | 22184 |  8 | 3 | 1 | 0 | 0 | 1 |\n",
       "| 29 | 13548 |  8 | 1 | 0 | 1 | 0 | 0 |\n",
       "| 30 | 14467 | 10 | 1 | 0 | 1 | 0 | 0 |\n",
       "| 31 | 15942 | 10 | 2 | 0 | 0 | 1 | 0 |\n",
       "| 32 | 23174 | 10 | 3 | 1 | 0 | 0 | 1 |\n",
       "| 33 | 23780 | 10 | 2 | 1 | 0 | 1 | 0 |\n",
       "| 34 | 25410 | 11 | 2 | 1 | 0 | 1 | 0 |\n",
       "| 35 | 14861 | 11 | 1 | 0 | 1 | 0 | 0 |\n",
       "| 36 | 16882 | 12 | 2 | 0 | 0 | 1 | 0 |\n",
       "| 37 | 24170 | 12 | 3 | 1 | 0 | 0 | 1 |\n",
       "| 38 | 15990 | 13 | 1 | 0 | 1 | 0 | 0 |\n",
       "| 39 | 26330 | 13 | 2 | 1 | 0 | 1 | 0 |\n",
       "| 40 | 17949 | 14 | 2 | 0 | 0 | 1 | 0 |\n",
       "| 41 | 25685 | 15 | 3 | 1 | 0 | 0 | 1 |\n",
       "| 42 | 27837 | 16 | 2 | 1 | 0 | 1 | 0 |\n",
       "| 43 | 18838 | 16 | 2 | 0 | 0 | 1 | 0 |\n",
       "| 44 | 17483 | 16 | 1 | 0 | 1 | 0 | 0 |\n",
       "| 45 | 19207 | 17 | 2 | 0 | 0 | 1 | 0 |\n",
       "| 46 | 19346 | 20 | 1 | 0 | 1 | 0 | 0 |\n",
       "\n"
      ],
      "text/plain": [
       "   S     X  E M indic.E1 indic.E2 indic.E3\n",
       "1  13876  1 1 1 1        0        0       \n",
       "2  11608  1 3 0 0        0        1       \n",
       "3  18701  1 3 1 0        0        1       \n",
       "4  11283  1 2 0 0        1        0       \n",
       "5  11767  1 3 0 0        0        1       \n",
       "6  20872  2 2 1 0        1        0       \n",
       "7  11772  2 2 0 0        1        0       \n",
       "8  10535  2 1 0 1        0        0       \n",
       "9  12195  2 3 0 0        0        1       \n",
       "10 12313  3 2 0 0        1        0       \n",
       "11 14975  3 1 1 1        0        0       \n",
       "12 21371  3 2 1 0        1        0       \n",
       "13 19800  3 3 1 0        0        1       \n",
       "14 11417  4 1 0 1        0        0       \n",
       "15 20263  4 3 1 0        0        1       \n",
       "16 13231  4 3 0 0        0        1       \n",
       "17 12884  4 2 0 0        1        0       \n",
       "18 13245  5 2 0 0        1        0       \n",
       "19 13677  5 3 0 0        0        1       \n",
       "20 15965  5 1 1 1        0        0       \n",
       "21 12336  6 1 0 1        0        0       \n",
       "22 21352  6 3 1 0        0        1       \n",
       "23 13839  6 2 0 0        1        0       \n",
       "24 22884  6 2 1 0        1        0       \n",
       "25 16978  7 1 1 1        0        0       \n",
       "26 14803  8 2 0 0        1        0       \n",
       "27 17404  8 1 1 1        0        0       \n",
       "28 22184  8 3 1 0        0        1       \n",
       "29 13548  8 1 0 1        0        0       \n",
       "30 14467 10 1 0 1        0        0       \n",
       "31 15942 10 2 0 0        1        0       \n",
       "32 23174 10 3 1 0        0        1       \n",
       "33 23780 10 2 1 0        1        0       \n",
       "34 25410 11 2 1 0        1        0       \n",
       "35 14861 11 1 0 1        0        0       \n",
       "36 16882 12 2 0 0        1        0       \n",
       "37 24170 12 3 1 0        0        1       \n",
       "38 15990 13 1 0 1        0        0       \n",
       "39 26330 13 2 1 0        1        0       \n",
       "40 17949 14 2 0 0        1        0       \n",
       "41 25685 15 3 1 0        0        1       \n",
       "42 27837 16 2 1 0        1        0       \n",
       "43 18838 16 2 0 0        1        0       \n",
       "44 17483 16 1 0 1        0        0       \n",
       "45 19207 17 2 0 0        1        0       \n",
       "46 19346 20 1 0 1        0        0       "
      ]
     },
     "metadata": {},
     "output_type": "display_data"
    }
   ],
   "source": [
    "salaries$E <- as.factor(salaries$E)\n",
    "\n",
    "salaries.trans <- transform(salaries, indic=model.matrix(~ -1 + E, salaries) )\n",
    "salaries.trans"
   ]
  },
  {
   "cell_type": "markdown",
   "id": "6c4c9b73",
   "metadata": {},
   "source": [
    "## Modelo con misma pendiente y sin interaccion usando variables indicadoras"
   ]
  },
  {
   "cell_type": "code",
   "execution_count": 31,
   "id": "d2bf562d",
   "metadata": {},
   "outputs": [
    {
     "data": {
      "text/plain": [
       "\n",
       "Call:\n",
       "lm(formula = S ~ X + indic.E2 + indic.E3 + M, data = salaries.trans)\n",
       "\n",
       "Residuals:\n",
       "     Min       1Q   Median       3Q      Max \n",
       "-1884.60  -653.60    22.23   844.85  1716.47 \n",
       "\n",
       "Coefficients:\n",
       "            Estimate Std. Error t value Pr(>|t|)    \n",
       "(Intercept)  8035.60     386.69  20.781  < 2e-16 ***\n",
       "X             546.18      30.52  17.896  < 2e-16 ***\n",
       "indic.E2     3144.04     361.97   8.686 7.73e-11 ***\n",
       "indic.E3     2996.21     411.75   7.277 6.72e-09 ***\n",
       "M            6883.53     313.92  21.928  < 2e-16 ***\n",
       "---\n",
       "Signif. codes:  0 '***' 0.001 '**' 0.01 '*' 0.05 '.' 0.1 ' ' 1\n",
       "\n",
       "Residual standard error: 1027 on 41 degrees of freedom\n",
       "Multiple R-squared:  0.9568,\tAdjusted R-squared:  0.9525 \n",
       "F-statistic: 226.8 on 4 and 41 DF,  p-value: < 2.2e-16\n"
      ]
     },
     "metadata": {},
     "output_type": "display_data"
    }
   ],
   "source": [
    "regre1 <- lm(S ~ X + indic.E2 + indic.E3 + M, data=salaries.trans)\n",
    "summary(regre1)"
   ]
  },
  {
   "cell_type": "markdown",
   "id": "e9a05340",
   "metadata": {},
   "source": [
    "## Modelo con misma pendiente y con interaccion usando variables indicadoras"
   ]
  },
  {
   "cell_type": "code",
   "execution_count": 32,
   "id": "c863dc77",
   "metadata": {},
   "outputs": [
    {
     "data": {
      "text/plain": [
       "\n",
       "Call:\n",
       "lm(formula = S ~ X + indic.E2 + indic.E3 + M + indic.E2 * M + \n",
       "    indic.E3 * M, data = salaries.trans)\n",
       "\n",
       "Residuals:\n",
       "    Min      1Q  Median      3Q     Max \n",
       "-928.13  -46.21   24.33   65.88  204.89 \n",
       "\n",
       "Coefficients:\n",
       "            Estimate Std. Error t value Pr(>|t|)    \n",
       "(Intercept) 9472.685     80.344  117.90   <2e-16 ***\n",
       "X            496.987      5.566   89.28   <2e-16 ***\n",
       "indic.E2    1381.671     77.319   17.87   <2e-16 ***\n",
       "indic.E3    1730.748    105.334   16.43   <2e-16 ***\n",
       "M           3981.377    101.175   39.35   <2e-16 ***\n",
       "indic.E2:M  4902.523    131.359   37.32   <2e-16 ***\n",
       "indic.E3:M  3066.035    149.330   20.53   <2e-16 ***\n",
       "---\n",
       "Signif. codes:  0 '***' 0.001 '**' 0.01 '*' 0.05 '.' 0.1 ' ' 1\n",
       "\n",
       "Residual standard error: 173.8 on 39 degrees of freedom\n",
       "Multiple R-squared:  0.9988,\tAdjusted R-squared:  0.9986 \n",
       "F-statistic:  5517 on 6 and 39 DF,  p-value: < 2.2e-16\n"
      ]
     },
     "metadata": {},
     "output_type": "display_data"
    }
   ],
   "source": [
    "regre2 <- lm(S ~ X + indic.E2 + indic.E3 + M + indic.E2*M + indic.E3*M, data=salaries.trans)\n",
    "summary(regre2)"
   ]
  },
  {
   "cell_type": "markdown",
   "id": "f52a746f",
   "metadata": {},
   "source": [
    "## Modelo con misma pendiente y con interaccion usando facores E y M"
   ]
  },
  {
   "cell_type": "code",
   "execution_count": 33,
   "id": "24ab158f",
   "metadata": {},
   "outputs": [],
   "source": [
    "salaries$M <- as.factor(salaries$M)"
   ]
  },
  {
   "cell_type": "code",
   "execution_count": 34,
   "id": "3853486a",
   "metadata": {},
   "outputs": [
    {
     "data": {
      "text/plain": [
       "\n",
       "Call:\n",
       "lm(formula = S ~ X + E * M, data = salaries.trans)\n",
       "\n",
       "Residuals:\n",
       "    Min      1Q  Median      3Q     Max \n",
       "-928.13  -46.21   24.33   65.88  204.89 \n",
       "\n",
       "Coefficients:\n",
       "            Estimate Std. Error t value Pr(>|t|)    \n",
       "(Intercept) 9472.685     80.344  117.90   <2e-16 ***\n",
       "X            496.987      5.566   89.28   <2e-16 ***\n",
       "E2          1381.671     77.319   17.87   <2e-16 ***\n",
       "E3          1730.748    105.334   16.43   <2e-16 ***\n",
       "M           3981.377    101.175   39.35   <2e-16 ***\n",
       "E2:M        4902.523    131.359   37.32   <2e-16 ***\n",
       "E3:M        3066.035    149.330   20.53   <2e-16 ***\n",
       "---\n",
       "Signif. codes:  0 '***' 0.001 '**' 0.01 '*' 0.05 '.' 0.1 ' ' 1\n",
       "\n",
       "Residual standard error: 173.8 on 39 degrees of freedom\n",
       "Multiple R-squared:  0.9988,\tAdjusted R-squared:  0.9986 \n",
       "F-statistic:  5517 on 6 and 39 DF,  p-value: < 2.2e-16\n"
      ]
     },
     "metadata": {},
     "output_type": "display_data"
    }
   ],
   "source": [
    "regre3 <- lm(S ~ X + E*M, data=salaries.trans)\n",
    "summary(regre3)"
   ]
  },
  {
   "cell_type": "markdown",
   "id": "3525acb2",
   "metadata": {},
   "source": [
    "## Modelo con interaccion entre las tres variables"
   ]
  },
  {
   "cell_type": "code",
   "execution_count": 35,
   "id": "588e0dcb",
   "metadata": {},
   "outputs": [
    {
     "data": {
      "text/plain": [
       "\n",
       "Call:\n",
       "lm(formula = S ~ X * E * M, data = salaries.trans)\n",
       "\n",
       "Residuals:\n",
       "    Min      1Q  Median      3Q     Max \n",
       "-918.00  -41.23   14.18   64.78  222.88 \n",
       "\n",
       "Coefficients:\n",
       "            Estimate Std. Error t value Pr(>|t|)    \n",
       "(Intercept) 9481.390    128.438  73.821  < 2e-16 ***\n",
       "X            496.117     11.284  43.966  < 2e-16 ***\n",
       "E2          1327.046    161.150   8.235 1.31e-09 ***\n",
       "E3          1708.064    201.534   8.475 6.73e-10 ***\n",
       "M           3935.732    216.937  18.142  < 2e-16 ***\n",
       "X:E2           6.493     15.068   0.431    0.669    \n",
       "X:E3           6.247     51.896   0.120    0.905    \n",
       "X:M            8.566     34.058   0.252    0.803    \n",
       "E2:M        5062.692    277.689  18.232  < 2e-16 ***\n",
       "E3:M        3158.650    294.852  10.713 1.94e-12 ***\n",
       "X:E2:M       -22.062     38.300  -0.576    0.568    \n",
       "X:E3:M       -18.416     62.751  -0.293    0.771    \n",
       "---\n",
       "Signif. codes:  0 '***' 0.001 '**' 0.01 '*' 0.05 '.' 0.1 ' ' 1\n",
       "\n",
       "Residual standard error: 184 on 34 degrees of freedom\n",
       "Multiple R-squared:  0.9988,\tAdjusted R-squared:  0.9985 \n",
       "F-statistic:  2684 on 11 and 34 DF,  p-value: < 2.2e-16\n"
      ]
     },
     "metadata": {},
     "output_type": "display_data"
    }
   ],
   "source": [
    "regre4 <- lm(S ~ X*E*M, data=salaries.trans)\n",
    "summary(regre4)"
   ]
  },
  {
   "cell_type": "markdown",
   "id": "9badbd08",
   "metadata": {},
   "source": [
    "## Prueba de que las pendientes son iguales "
   ]
  },
  {
   "cell_type": "code",
   "execution_count": 36,
   "id": "5ce8d049",
   "metadata": {},
   "outputs": [
    {
     "data": {
      "text/html": [
       "<table class=\"dataframe\">\n",
       "<caption>A anova: 2 × 6</caption>\n",
       "<thead>\n",
       "\t<tr><th></th><th scope=col>Res.Df</th><th scope=col>RSS</th><th scope=col>Df</th><th scope=col>Sum of Sq</th><th scope=col>F</th><th scope=col>Pr(&gt;F)</th></tr>\n",
       "\t<tr><th></th><th scope=col>&lt;dbl&gt;</th><th scope=col>&lt;dbl&gt;</th><th scope=col>&lt;dbl&gt;</th><th scope=col>&lt;dbl&gt;</th><th scope=col>&lt;dbl&gt;</th><th scope=col>&lt;dbl&gt;</th></tr>\n",
       "</thead>\n",
       "<tbody>\n",
       "\t<tr><th scope=row>1</th><td>39</td><td>1178168</td><td>NA</td><td>      NA</td><td>       NA</td><td>       NA</td></tr>\n",
       "\t<tr><th scope=row>2</th><td>34</td><td>1151575</td><td> 5</td><td>26592.93</td><td>0.1570301</td><td>0.9764015</td></tr>\n",
       "</tbody>\n",
       "</table>\n"
      ],
      "text/latex": [
       "A anova: 2 × 6\n",
       "\\begin{tabular}{r|llllll}\n",
       "  & Res.Df & RSS & Df & Sum of Sq & F & Pr(>F)\\\\\n",
       "  & <dbl> & <dbl> & <dbl> & <dbl> & <dbl> & <dbl>\\\\\n",
       "\\hline\n",
       "\t1 & 39 & 1178168 & NA &       NA &        NA &        NA\\\\\n",
       "\t2 & 34 & 1151575 &  5 & 26592.93 & 0.1570301 & 0.9764015\\\\\n",
       "\\end{tabular}\n"
      ],
      "text/markdown": [
       "\n",
       "A anova: 2 × 6\n",
       "\n",
       "| <!--/--> | Res.Df &lt;dbl&gt; | RSS &lt;dbl&gt; | Df &lt;dbl&gt; | Sum of Sq &lt;dbl&gt; | F &lt;dbl&gt; | Pr(&gt;F) &lt;dbl&gt; |\n",
       "|---|---|---|---|---|---|---|\n",
       "| 1 | 39 | 1178168 | NA |       NA |        NA |        NA |\n",
       "| 2 | 34 | 1151575 |  5 | 26592.93 | 0.1570301 | 0.9764015 |\n",
       "\n"
      ],
      "text/plain": [
       "  Res.Df RSS     Df Sum of Sq F         Pr(>F)   \n",
       "1 39     1178168 NA       NA         NA        NA\n",
       "2 34     1151575  5 26592.93  0.1570301 0.9764015"
      ]
     },
     "metadata": {},
     "output_type": "display_data"
    }
   ],
   "source": [
    "anova(regre3,regre4)"
   ]
  }
 ],
 "metadata": {
  "kernelspec": {
   "display_name": "R",
   "language": "R",
   "name": "ir"
  },
  "language_info": {
   "codemirror_mode": "r",
   "file_extension": ".r",
   "mimetype": "text/x-r-source",
   "name": "R",
   "pygments_lexer": "r",
   "version": "4.3.2"
  }
 },
 "nbformat": 4,
 "nbformat_minor": 5
}
