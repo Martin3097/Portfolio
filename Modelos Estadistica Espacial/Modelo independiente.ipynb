{
 "cells": [
  {
   "cell_type": "code",
   "execution_count": 1,
   "id": "6af2787f-e44c-40e3-98eb-6b7c4b847446",
   "metadata": {},
   "outputs": [],
   "source": [
    "import pandas as pd\n",
    "import matplotlib.pyplot as plt\n",
    "import numpy as np\n",
    "from tabulate import tabulate\n",
    "import math\n",
    "from scipy.optimize import minimize\n",
    "import seaborn as sns\n",
    "import time\n",
    "import random"
   ]
  },
  {
   "cell_type": "code",
   "execution_count": 2,
   "id": "e3b14915-776f-481b-a093-e2551b997eaf",
   "metadata": {},
   "outputs": [
    {
     "name": "stdout",
     "output_type": "stream",
     "text": [
      "WARNING *** OLE2 inconsistency: SSCS size is 0 but SSAT size is non-zero\n"
     ]
    }
   ],
   "source": [
    "df = pd.read_excel(\"C:/Users/HP/Desktop/Desk/jupyter/database/pole.xls\",header=None)\n",
    "valor1 = df[2].tolist()\n",
    "valor2 = df[3].tolist()\n",
    "x = df[0].tolist()\n",
    "y = df[1].tolist()"
   ]
  },
  {
   "cell_type": "code",
   "execution_count": 3,
   "id": "2c5627d5-4794-4ecc-a39a-72132196459d",
   "metadata": {},
   "outputs": [
    {
     "data": {
      "text/html": [
       "<div>\n",
       "<style scoped>\n",
       "    .dataframe tbody tr th:only-of-type {\n",
       "        vertical-align: middle;\n",
       "    }\n",
       "\n",
       "    .dataframe tbody tr th {\n",
       "        vertical-align: top;\n",
       "    }\n",
       "\n",
       "    .dataframe thead th {\n",
       "        text-align: right;\n",
       "    }\n",
       "</style>\n",
       "<table border=\"1\" class=\"dataframe\">\n",
       "  <thead>\n",
       "    <tr style=\"text-align: right;\">\n",
       "      <th></th>\n",
       "      <th>0</th>\n",
       "      <th>1</th>\n",
       "      <th>2</th>\n",
       "      <th>3</th>\n",
       "    </tr>\n",
       "  </thead>\n",
       "  <tbody>\n",
       "    <tr>\n",
       "      <th>0</th>\n",
       "      <td>-11</td>\n",
       "      <td>-5.4</td>\n",
       "      <td>0.179050</td>\n",
       "      <td>12.253980</td>\n",
       "    </tr>\n",
       "    <tr>\n",
       "      <th>1</th>\n",
       "      <td>-10</td>\n",
       "      <td>-5.4</td>\n",
       "      <td>0.227646</td>\n",
       "      <td>11.364860</td>\n",
       "    </tr>\n",
       "    <tr>\n",
       "      <th>2</th>\n",
       "      <td>-9</td>\n",
       "      <td>-5.4</td>\n",
       "      <td>0.281210</td>\n",
       "      <td>10.495710</td>\n",
       "    </tr>\n",
       "    <tr>\n",
       "      <th>3</th>\n",
       "      <td>-8</td>\n",
       "      <td>-5.4</td>\n",
       "      <td>0.340821</td>\n",
       "      <td>9.651943</td>\n",
       "    </tr>\n",
       "    <tr>\n",
       "      <th>4</th>\n",
       "      <td>-7</td>\n",
       "      <td>-5.4</td>\n",
       "      <td>0.412311</td>\n",
       "      <td>8.840814</td>\n",
       "    </tr>\n",
       "    <tr>\n",
       "      <th>...</th>\n",
       "      <td>...</td>\n",
       "      <td>...</td>\n",
       "      <td>...</td>\n",
       "      <td>...</td>\n",
       "    </tr>\n",
       "    <tr>\n",
       "      <th>155</th>\n",
       "      <td>4</td>\n",
       "      <td>1.6</td>\n",
       "      <td>1.290713</td>\n",
       "      <td>4.308132</td>\n",
       "    </tr>\n",
       "    <tr>\n",
       "      <th>156</th>\n",
       "      <td>5</td>\n",
       "      <td>1.6</td>\n",
       "      <td>0.898272</td>\n",
       "      <td>5.249762</td>\n",
       "    </tr>\n",
       "    <tr>\n",
       "      <th>157</th>\n",
       "      <td>6</td>\n",
       "      <td>1.6</td>\n",
       "      <td>0.622030</td>\n",
       "      <td>6.209670</td>\n",
       "    </tr>\n",
       "    <tr>\n",
       "      <th>158</th>\n",
       "      <td>7</td>\n",
       "      <td>1.6</td>\n",
       "      <td>0.482289</td>\n",
       "      <td>7.180529</td>\n",
       "    </tr>\n",
       "    <tr>\n",
       "      <th>159</th>\n",
       "      <td>8</td>\n",
       "      <td>1.6</td>\n",
       "      <td>0.388985</td>\n",
       "      <td>8.158431</td>\n",
       "    </tr>\n",
       "  </tbody>\n",
       "</table>\n",
       "<p>160 rows × 4 columns</p>\n",
       "</div>"
      ],
      "text/plain": [
       "      0    1         2          3\n",
       "0   -11 -5.4  0.179050  12.253980\n",
       "1   -10 -5.4  0.227646  11.364860\n",
       "2    -9 -5.4  0.281210  10.495710\n",
       "3    -8 -5.4  0.340821   9.651943\n",
       "4    -7 -5.4  0.412311   8.840814\n",
       "..   ..  ...       ...        ...\n",
       "155   4  1.6  1.290713   4.308132\n",
       "156   5  1.6  0.898272   5.249762\n",
       "157   6  1.6  0.622030   6.209670\n",
       "158   7  1.6  0.482289   7.180529\n",
       "159   8  1.6  0.388985   8.158431\n",
       "\n",
       "[160 rows x 4 columns]"
      ]
     },
     "execution_count": 3,
     "metadata": {},
     "output_type": "execute_result"
    }
   ],
   "source": [
    "df"
   ]
  },
  {
   "cell_type": "code",
   "execution_count": 4,
   "id": "bd847a54-e9a5-41fe-84a0-7a34c116c622",
   "metadata": {},
   "outputs": [],
   "source": [
    "def distancia( x1, y1, x2, y2 ):\n",
    "    return math.sqrt( (x1-x2)**2 + (y1-y2)**2 )"
   ]
  },
  {
   "cell_type": "code",
   "execution_count": 5,
   "id": "6a9574c6-681e-441e-b889-df220e3929a7",
   "metadata": {},
   "outputs": [],
   "source": [
    "def list_selec( valor, puntos ):\n",
    "    X = []\n",
    "    \n",
    "    for i in puntos:\n",
    "        X.append(valor[i])\n",
    "\n",
    "    return X  "
   ]
  },
  {
   "cell_type": "code",
   "execution_count": 6,
   "id": "7dbfc133-969e-47c6-8972-0834d5196603",
   "metadata": {},
   "outputs": [],
   "source": [
    "def distancias_al_punto( x , y, j ):\n",
    "    d = []\n",
    "    N = len(x)\n",
    "    \n",
    "    for i in range (0,N):\n",
    "            d.append( [distancia( x[j], y[j], x[i], y[i] ), i] )\n",
    "        \n",
    "    return d"
   ]
  },
  {
   "cell_type": "code",
   "execution_count": 7,
   "id": "2d3528e8-066c-4fc7-8919-ed53b950a73d",
   "metadata": {},
   "outputs": [],
   "source": [
    "def graficar_circunferencia( x1, y1, h, k, radio):\n",
    "    # Crear un conjunto de ángulos (en radianes) desde 0 hasta 2*pi\n",
    "    theta = np.linspace(0, 2*np.pi, 100)\n",
    "\n",
    "    # Calcular las coordenadas (x, y) de la circunferencia\n",
    "    x = radio * np.cos(theta)+h\n",
    "    y = radio * np.sin(theta)+k\n",
    "\n",
    "    # Crear el gráfico de la circunferencia\n",
    "    \n",
    "    plt.figure(figsize=(9,9))\n",
    "    plt.xlim(min(x), max(x))\n",
    "    plt.ylim(min(y), max(y))\n",
    "    plt.plot(x1,y1,\"o\",color=\"red\")\n",
    "    plt.plot(x, y, label='Circunferencia')\n",
    "    # Especificar los límites en los ejes x e y\n",
    "    plt.axis('scaled')\n",
    "    \n",
    "    # Mostrar el gráfico\n",
    "    plt.show()"
   ]
  },
  {
   "cell_type": "code",
   "execution_count": 8,
   "id": "5423ff56-dfac-444e-851f-15fb47be3cf6",
   "metadata": {},
   "outputs": [],
   "source": [
    "def dentro_fuera( punto, r, X, Y ):\n",
    "    dentro = []; fuera = []\n",
    "    N = len(X)\n",
    "    Distancia = distancias_al_punto( X, Y, punto )\n",
    "    \n",
    "    for i in range(0,N):\n",
    "        if( Distancia[i][0] <= r ):\n",
    "            dentro.append( Distancia[i][1] )\n",
    "        else:\n",
    "            fuera.append( Distancia[i][1] )\n",
    "            \n",
    "    return [dentro,fuera]"
   ]
  },
  {
   "cell_type": "code",
   "execution_count": 9,
   "id": "e04b5640-91da-45ef-bc66-63236ff19e33",
   "metadata": {},
   "outputs": [],
   "source": [
    "def L_Z( punto, r, x, y, valor):\n",
    "    dentroFuera = dentro_fuera(punto, r, x, y)\n",
    "    fuera = dentroFuera[1]\n",
    "    dentro = dentroFuera[0]\n",
    "    N = len(valor)\n",
    "    v_fuera = len(list_selec(valor, fuera) ) * np.var( list_selec(valor, fuera) )\n",
    "    v_dentro = len( list_selec(valor, dentro) ) * np.var( list_selec(valor, dentro) )\n",
    "    sigma_z = ( v_fuera + v_dentro) / N\n",
    "    \n",
    "    return -N/2 *math.log(2*math.pi ) -N/2 * math.log(sigma_z)-N/2"
   ]
  },
  {
   "cell_type": "code",
   "execution_count": 10,
   "id": "4aaf966c-788c-49b7-a07b-f7e02e894d9c",
   "metadata": {},
   "outputs": [],
   "source": [
    "def max_L_Z( x, y, valor, circulos ):\n",
    "    N = len(valor) ; L = []\n",
    "        \n",
    "    L0 = -N * math.log(math.sqrt(2* math.pi)) - N*math.log(np.std(valor))- N/2\n",
    "    \n",
    "    for i in range (0, len(circulos)):\n",
    "        Lamda =  L_Z( circulos[i][0], circulos[i][1], x, y, valor ) - L0\n",
    "        L.append( [ Lamda, circulos[i][0], circulos[i][1] ] )\n",
    "        \n",
    "    m = sorted(L)\n",
    "    return m[len(m)-1]"
   ]
  },
  {
   "cell_type": "code",
   "execution_count": 11,
   "id": "5fed6910-6cdc-48a3-852b-00392a1831aa",
   "metadata": {},
   "outputs": [],
   "source": [
    "def Circulos( limite_inf, limite_sup, x, y ):\n",
    "    x_sin_repetidos = []; circulos=[]\n",
    "    n= len(x)\n",
    "    \n",
    "    for i in range (0, n):\n",
    "        d = distancias_al_punto( x, y, i )\n",
    "        d = sorted(d) \n",
    "        for j in range(0, n):\n",
    "            if (round(d[j][0] > 0)):\n",
    "                q= len(dentro_fuera( i, d[j][0], x, y )[0])/n\n",
    "                if( q <= limite_sup and limite_inf<= q):\n",
    "                    circulos.append( [i, round(d[j][0], 3)] )\n",
    "    \n",
    "    for elemento in circulos:\n",
    "        if elemento not in x_sin_repetidos:\n",
    "            x_sin_repetidos.append(elemento)\n",
    "\n",
    "    return x_sin_repetidos"
   ]
  },
  {
   "cell_type": "code",
   "execution_count": 27,
   "id": "c6dd6082-be6b-4b8d-ae97-b5a51d9bd130",
   "metadata": {},
   "outputs": [],
   "source": [
    "def significancia(numero_de_simulaciones, valor2,x,y,circulos,Estimaciones):\n",
    "    estadistico=[]\n",
    "    \n",
    "    for i in range(0, numero_de_simulaciones):\n",
    "        conjunto_de_datos = np.random.normal(loc=np.mean(valor2), scale= np.std(valor2), size=len(valor2))\n",
    "        random.shuffle(conjunto_de_datos)\n",
    "        Estimacion_simulacion = max_L_Z(x,y,conjunto_de_datos,circulos)\n",
    "        estadistico.append(Estimacion_simulacion[0])\n",
    "\n",
    "    sns.histplot(estadistico, bins=13, kde=True)\n",
    "    plt.title('Distribucion del estadistico')\n",
    "    plt.xlabel('intensidad')\n",
    "    plt.ylabel('Frequency')\n",
    "    plt.show()\n",
    "    estadistico = sorted(estadistico)  \n",
    "    estadistico.append(Estimaciones[0])\n",
    "    estadistico = sorted(estadistico,  reverse=True)\n",
    "    \n",
    "    for i in range ( 0, len(estadistico) ):\n",
    "        if (estadistico[i] == Estimaciones[0]):\n",
    "            c = i\n",
    "            \n",
    "    sigficancia =  (c + 1)/(numero_de_simulaciones + 1) \n",
    "    \n",
    "    print(\"la significancia es\", sigficancia)\n",
    "\n",
    "    "
   ]
  },
  {
   "cell_type": "code",
   "execution_count": 12,
   "id": "bcf25cfe-3cc5-4907-b5d9-4497a5b7dfb6",
   "metadata": {},
   "outputs": [
    {
     "name": "stdout",
     "output_type": "stream",
     "text": [
      "Tiempo de ejecución:  2.167534112930298 segundos\n",
      "Centro  111\n",
      "Radio  3.606\n",
      "media fuera  7.233508408333334\n",
      "media dentro  2.48659325\n",
      "Desviacion estandar global  2.7922129968920837\n"
     ]
    }
   ],
   "source": [
    "# Inicio del contador de tiempo\n",
    "start_time = time.time()\n",
    "\n",
    "# código que quieres medir\n",
    "circulos = Circulos( 0.15, 0.25, x, y)\n",
    "Estimaciones = max_L_Z( x, y, valor2, circulos )\n",
    "\n",
    "# Fin del contador de tiempo\n",
    "end_time = time.time()\n",
    "\n",
    "# Tiempo transcurrido\n",
    "execution_time = end_time - start_time\n",
    "print(\"Tiempo de ejecución: \", execution_time, \"segundos\")\n",
    "\n",
    "centro = Estimaciones[1]\n",
    "radio = Estimaciones[2]\n",
    "\n",
    "dentroFuera = dentro_fuera(centro, radio, x, y)\n",
    "fuera = dentroFuera[1]\n",
    "dentro = dentroFuera[0]\n",
    "\n",
    "print(\"Centro \", centro)\n",
    "print(\"Radio \", radio)\n",
    "print(\"media fuera \", np.mean(list_selec(valor2, fuera)))\n",
    "print(\"media dentro \",np.mean(list_selec(valor2, dentro)))\n",
    "print(\"Desviacion estandar global \" ,np.std(valor2))"
   ]
  },
  {
   "cell_type": "code",
   "execution_count": 13,
   "id": "51af60cc-6e78-4527-a9f4-1f766f6fcae2",
   "metadata": {},
   "outputs": [
    {
     "data": {
      "image/png": "[encoded data removed]",
      "text/plain": [
       "<Figure size 900x900 with 1 Axes>"
      ]
     },
     "metadata": {},
     "output_type": "display_data"
    }
   ],
   "source": [
    "graficar_circunferencia( x, y , x[111], y[111], 3.606)"
   ]
  },
  {
   "cell_type": "code",
   "execution_count": 28,
   "id": "58ebec45-97b5-41fa-98d2-d1a72ab6e162",
   "metadata": {},
   "outputs": [
    {
     "data": {
      "image/png": "[encoded data removed]",
      "text/plain": [
       "<Figure size 640x480 with 1 Axes>"
      ]
     },
     "metadata": {},
     "output_type": "display_data"
    },
    {
     "name": "stdout",
     "output_type": "stream",
     "text": [
      "la significancia es 0.001\n"
     ]
    }
   ],
   "source": [
    "significancia(999, valor2,x,y,circulos)"
   ]
  },
  {
   "cell_type": "markdown",
   "id": "200a7306-1992-4893-81dd-4ec9eb336ecb",
   "metadata": {},
   "source": [
    "## A partir de los resultados obtenidos, podemos concluir que existe una fuente puntual, y el punto 111 es identificado como dicha fuente."
   ]
  },
  {
   "cell_type": "code",
   "execution_count": null,
   "id": "83b4e8eb-278a-44eb-9e7a-7f982dc40128",
   "metadata": {},
   "outputs": [],
   "source": []
  }
 ],
 "metadata": {
  "kernelspec": {
   "display_name": "Python 3 (ipykernel)",
   "language": "python",
   "name": "python3"
  },
  "language_info": {
   "codemirror_mode": {
    "name": "ipython",
    "version": 3
   },
   "file_extension": ".py",
   "mimetype": "text/x-python",
   "name": "python",
   "nbconvert_exporter": "python",
   "pygments_lexer": "ipython3",
   "version": "3.12.2"
  }
 },
 "nbformat": 4,
 "nbformat_minor": 5
}
