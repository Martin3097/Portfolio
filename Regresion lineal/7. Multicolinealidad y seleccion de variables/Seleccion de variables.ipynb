{
 "cells": [
  {
   "cell_type": "markdown",
   "id": "eedd4355",
   "metadata": {},
   "source": [
    "#  cargando librerias"
   ]
  },
  {
   "cell_type": "code",
   "execution_count": 1,
   "id": "d00bab4b",
   "metadata": {},
   "outputs": [
    {
     "name": "stderr",
     "output_type": "stream",
     "text": [
      "Loading required package: car\n",
      "\n",
      "Loading required package: carData\n",
      "\n",
      "Loading required package: effects\n",
      "\n",
      "lattice theme set by effectsTheme()\n",
      "See ?effectsTheme for details.\n",
      "\n"
     ]
    }
   ],
   "source": [
    "library(MASS)\n",
    "library(leaps)\n",
    "library(alr4)"
   ]
  },
  {
   "cell_type": "markdown",
   "id": "c1dab676",
   "metadata": {},
   "source": [
    "# cargando datos"
   ]
  },
  {
   "cell_type": "code",
   "execution_count": 4,
   "id": "3300f64c",
   "metadata": {},
   "outputs": [
    {
     "data": {
      "text/html": [
       "<table class=\"dataframe\">\n",
       "<caption>A data.frame: 6 × 5</caption>\n",
       "<thead>\n",
       "\t<tr><th></th><th scope=col>Y</th><th scope=col>x1</th><th scope=col>x2</th><th scope=col>x3</th><th scope=col>x4</th></tr>\n",
       "\t<tr><th></th><th scope=col>&lt;dbl&gt;</th><th scope=col>&lt;int&gt;</th><th scope=col>&lt;int&gt;</th><th scope=col>&lt;int&gt;</th><th scope=col>&lt;int&gt;</th></tr>\n",
       "</thead>\n",
       "<tbody>\n",
       "\t<tr><th scope=row>1</th><td> 78.5</td><td> 7</td><td>26</td><td> 6</td><td>60</td></tr>\n",
       "\t<tr><th scope=row>2</th><td> 74.3</td><td> 1</td><td>29</td><td>15</td><td>52</td></tr>\n",
       "\t<tr><th scope=row>3</th><td>104.3</td><td>11</td><td>56</td><td> 8</td><td>20</td></tr>\n",
       "\t<tr><th scope=row>4</th><td> 87.6</td><td>11</td><td>31</td><td> 8</td><td>47</td></tr>\n",
       "\t<tr><th scope=row>5</th><td> 95.9</td><td> 7</td><td>52</td><td> 6</td><td>33</td></tr>\n",
       "\t<tr><th scope=row>6</th><td>109.2</td><td>11</td><td>55</td><td> 9</td><td>22</td></tr>\n",
       "</tbody>\n",
       "</table>\n"
      ],
      "text/latex": [
       "A data.frame: 6 × 5\n",
       "\\begin{tabular}{r|lllll}\n",
       "  & Y & x1 & x2 & x3 & x4\\\\\n",
       "  & <dbl> & <int> & <int> & <int> & <int>\\\\\n",
       "\\hline\n",
       "\t1 &  78.5 &  7 & 26 &  6 & 60\\\\\n",
       "\t2 &  74.3 &  1 & 29 & 15 & 52\\\\\n",
       "\t3 & 104.3 & 11 & 56 &  8 & 20\\\\\n",
       "\t4 &  87.6 & 11 & 31 &  8 & 47\\\\\n",
       "\t5 &  95.9 &  7 & 52 &  6 & 33\\\\\n",
       "\t6 & 109.2 & 11 & 55 &  9 & 22\\\\\n",
       "\\end{tabular}\n"
      ],
      "text/markdown": [
       "\n",
       "A data.frame: 6 × 5\n",
       "\n",
       "| <!--/--> | Y &lt;dbl&gt; | x1 &lt;int&gt; | x2 &lt;int&gt; | x3 &lt;int&gt; | x4 &lt;int&gt; |\n",
       "|---|---|---|---|---|---|\n",
       "| 1 |  78.5 |  7 | 26 |  6 | 60 |\n",
       "| 2 |  74.3 |  1 | 29 | 15 | 52 |\n",
       "| 3 | 104.3 | 11 | 56 |  8 | 20 |\n",
       "| 4 |  87.6 | 11 | 31 |  8 | 47 |\n",
       "| 5 |  95.9 |  7 | 52 |  6 | 33 |\n",
       "| 6 | 109.2 | 11 | 55 |  9 | 22 |\n",
       "\n"
      ],
      "text/plain": [
       "  Y     x1 x2 x3 x4\n",
       "1  78.5  7 26  6 60\n",
       "2  74.3  1 29 15 52\n",
       "3 104.3 11 56  8 20\n",
       "4  87.6 11 31  8 47\n",
       "5  95.9  7 52  6 33\n",
       "6 109.2 11 55  9 22"
      ]
     },
     "metadata": {},
     "output_type": "display_data"
    }
   ],
   "source": [
    "cemento <- read.table(\"C:/Users/marti/OneDrive/Escritorio/jupyter/database/cemento.txt\",header=T)\n",
    "\n",
    "head(cemento)\n"
   ]
  },
  {
   "cell_type": "markdown",
   "id": "8578ce2b",
   "metadata": {},
   "source": [
    "# Forward selection"
   ]
  },
  {
   "cell_type": "code",
   "execution_count": 3,
   "id": "201a0a7e",
   "metadata": {},
   "outputs": [
    {
     "data": {
      "text/plain": [
       "\n",
       "Call:\n",
       "lm(formula = Y ~ 1, data = cemento)\n",
       "\n",
       "Residuals:\n",
       "     Min       1Q   Median       3Q      Max \n",
       "-22.9231 -11.6231   0.4769  13.7769  20.4769 \n",
       "\n",
       "Coefficients:\n",
       "            Estimate Std. Error t value Pr(>|t|)    \n",
       "(Intercept)   95.423      4.172   22.87  2.9e-11 ***\n",
       "---\n",
       "Signif. codes:  0 '***' 0.001 '**' 0.01 '*' 0.05 '.' 0.1 ' ' 1\n",
       "\n",
       "Residual standard error: 15.04 on 12 degrees of freedom\n"
      ]
     },
     "metadata": {},
     "output_type": "display_data"
    }
   ],
   "source": [
    " regre1 <- lm(Y ~ 1, data=cemento)\n",
    " summary(regre1)"
   ]
  },
  {
   "cell_type": "markdown",
   "id": "9173e5a1",
   "metadata": {},
   "source": [
    "# Usando paquete MASS"
   ]
  },
  {
   "cell_type": "code",
   "execution_count": 4,
   "id": "0ee22fc0",
   "metadata": {},
   "outputs": [
    {
     "name": "stdout",
     "output_type": "stream",
     "text": [
      "Start:  AIC=71.44\n",
      "Y ~ 1\n",
      "\n",
      "       Df Sum of Sq     RSS    AIC\n",
      "+ x4    1   1831.90  883.87 58.852\n",
      "+ x2    1   1809.43  906.34 59.178\n",
      "+ x1    1   1450.08 1265.69 63.519\n",
      "+ x3    1    776.36 1939.40 69.067\n",
      "<none>              2715.76 71.444\n",
      "\n",
      "Step:  AIC=58.85\n",
      "Y ~ x4\n",
      "\n",
      "       Df Sum of Sq    RSS    AIC\n",
      "+ x1    1    809.10  74.76 28.742\n",
      "+ x3    1    708.13 175.74 39.853\n",
      "<none>              883.87 58.852\n",
      "+ x2    1     14.99 868.88 60.629\n",
      "\n",
      "Step:  AIC=28.74\n",
      "Y ~ x4 + x1\n",
      "\n",
      "       Df Sum of Sq    RSS    AIC\n",
      "+ x2    1    26.789 47.973 24.974\n",
      "+ x3    1    23.926 50.836 25.728\n",
      "<none>              74.762 28.742\n",
      "\n",
      "Step:  AIC=24.97\n",
      "Y ~ x4 + x1 + x2\n",
      "\n",
      "       Df Sum of Sq    RSS    AIC\n",
      "<none>              47.973 24.974\n",
      "+ x3    1   0.10909 47.864 26.944\n"
     ]
    },
    {
     "data": {
      "text/plain": [
       "\n",
       "Call:\n",
       "lm(formula = Y ~ x4 + x1 + x2, data = cemento)\n",
       "\n",
       "Coefficients:\n",
       "(Intercept)           x4           x1           x2  \n",
       "    71.6483      -0.2365       1.4519       0.4161  \n"
      ]
     },
     "metadata": {},
     "output_type": "display_data"
    }
   ],
   "source": [
    "stepAIC(regre1,  direction=\"forward\", data=cemento, \n",
    "         scope=list(lower=~1,upper=~x1+x2+x3+x4),trace=1)"
   ]
  },
  {
   "cell_type": "markdown",
   "id": "7a81bb07",
   "metadata": {},
   "source": [
    "# Usando paquete alr4"
   ]
  },
  {
   "cell_type": "code",
   "execution_count": 5,
   "id": "447951df",
   "metadata": {},
   "outputs": [
    {
     "name": "stdout",
     "output_type": "stream",
     "text": [
      "Start:  AIC=71.44\n",
      "Y ~ 1\n",
      "\n",
      "       Df Sum of Sq     RSS    AIC\n",
      "+ x4    1   1831.90  883.87 58.852\n",
      "+ x2    1   1809.43  906.34 59.178\n",
      "+ x1    1   1450.08 1265.69 63.519\n",
      "+ x3    1    776.36 1939.40 69.067\n",
      "<none>              2715.76 71.444\n",
      "\n",
      "Step:  AIC=58.85\n",
      "Y ~ x4\n",
      "\n",
      "       Df Sum of Sq    RSS    AIC\n",
      "+ x1    1    809.10  74.76 28.742\n",
      "+ x3    1    708.13 175.74 39.853\n",
      "<none>              883.87 58.852\n",
      "+ x2    1     14.99 868.88 60.629\n",
      "\n",
      "Step:  AIC=28.74\n",
      "Y ~ x4 + x1\n",
      "\n",
      "       Df Sum of Sq    RSS    AIC\n",
      "+ x2    1    26.789 47.973 24.974\n",
      "+ x3    1    23.926 50.836 25.728\n",
      "<none>              74.762 28.742\n",
      "\n",
      "Step:  AIC=24.97\n",
      "Y ~ x4 + x1 + x2\n",
      "\n",
      "       Df Sum of Sq    RSS    AIC\n",
      "<none>              47.973 24.974\n",
      "+ x3    1   0.10909 47.864 26.944\n"
     ]
    }
   ],
   "source": [
    " f <- with(cemento, ~x1+x2+x3+x4)\n",
    " \n",
    " m.forward <- step(regre1, scope=f, direction=\"forward\")"
   ]
  },
  {
   "cell_type": "markdown",
   "id": "664ce133",
   "metadata": {},
   "source": [
    "# Backward elimination "
   ]
  },
  {
   "cell_type": "code",
   "execution_count": 6,
   "id": "d0f1983a",
   "metadata": {},
   "outputs": [
    {
     "data": {
      "text/plain": [
       "\n",
       "Call:\n",
       "lm(formula = Y ~ x1 + x2 + x3 + x4, data = cemento)\n",
       "\n",
       "Residuals:\n",
       "    Min      1Q  Median      3Q     Max \n",
       "-3.1750 -1.6709  0.2508  1.3783  3.9254 \n",
       "\n",
       "Coefficients:\n",
       "            Estimate Std. Error t value Pr(>|t|)  \n",
       "(Intercept)  62.4054    70.0710   0.891   0.3991  \n",
       "x1            1.5511     0.7448   2.083   0.0708 .\n",
       "x2            0.5102     0.7238   0.705   0.5009  \n",
       "x3            0.1019     0.7547   0.135   0.8959  \n",
       "x4           -0.1441     0.7091  -0.203   0.8441  \n",
       "---\n",
       "Signif. codes:  0 '***' 0.001 '**' 0.01 '*' 0.05 '.' 0.1 ' ' 1\n",
       "\n",
       "Residual standard error: 2.446 on 8 degrees of freedom\n",
       "Multiple R-squared:  0.9824,\tAdjusted R-squared:  0.9736 \n",
       "F-statistic: 111.5 on 4 and 8 DF,  p-value: 4.756e-07\n"
      ]
     },
     "metadata": {},
     "output_type": "display_data"
    }
   ],
   "source": [
    "regre2 <- lm(Y ~ x1+x2+x3+x4, data=cemento)\n",
    "summary(regre2) "
   ]
  },
  {
   "cell_type": "markdown",
   "id": "a69a60ec",
   "metadata": {},
   "source": [
    "# Usando paquete MASS"
   ]
  },
  {
   "cell_type": "code",
   "execution_count": 7,
   "id": "01cc8ccb",
   "metadata": {},
   "outputs": [
    {
     "name": "stdout",
     "output_type": "stream",
     "text": [
      "Start:  AIC=26.94\n",
      "Y ~ x1 + x2 + x3 + x4\n",
      "\n",
      "       Df Sum of Sq    RSS    AIC\n",
      "- x3    1    0.1091 47.973 24.974\n",
      "- x4    1    0.2470 48.111 25.011\n",
      "- x2    1    2.9725 50.836 25.728\n",
      "<none>              47.864 26.944\n",
      "- x1    1   25.9509 73.815 30.576\n",
      "\n",
      "Step:  AIC=24.97\n",
      "Y ~ x1 + x2 + x4\n",
      "\n",
      "       Df Sum of Sq    RSS    AIC\n",
      "<none>               47.97 24.974\n",
      "- x4    1      9.93  57.90 25.420\n",
      "- x2    1     26.79  74.76 28.742\n",
      "- x1    1    820.91 868.88 60.629\n"
     ]
    },
    {
     "data": {
      "text/plain": [
       "\n",
       "Call:\n",
       "lm(formula = Y ~ x1 + x2 + x4, data = cemento)\n",
       "\n",
       "Coefficients:\n",
       "(Intercept)           x1           x2           x4  \n",
       "    71.6483       1.4519       0.4161      -0.2365  \n"
      ]
     },
     "metadata": {},
     "output_type": "display_data"
    }
   ],
   "source": [
    "stepAIC(regre2,  direction=\"backward\", data=cemento, trace=1)"
   ]
  },
  {
   "cell_type": "markdown",
   "id": "2338c21b",
   "metadata": {},
   "source": [
    "# Usando paquete alr4"
   ]
  },
  {
   "cell_type": "code",
   "execution_count": 8,
   "id": "14b9a025",
   "metadata": {},
   "outputs": [
    {
     "name": "stdout",
     "output_type": "stream",
     "text": [
      "Start:  AIC=26.94\n",
      "Y ~ x1 + x2 + x3 + x4\n",
      "\n",
      "       Df Sum of Sq    RSS    AIC\n",
      "- x3    1    0.1091 47.973 24.974\n",
      "- x4    1    0.2470 48.111 25.011\n",
      "- x2    1    2.9725 50.836 25.728\n",
      "<none>              47.864 26.944\n",
      "- x1    1   25.9509 73.815 30.576\n",
      "\n",
      "Step:  AIC=24.97\n",
      "Y ~ x1 + x2 + x4\n",
      "\n",
      "       Df Sum of Sq    RSS    AIC\n",
      "<none>               47.97 24.974\n",
      "- x4    1      9.93  57.90 25.420\n",
      "- x2    1     26.79  74.76 28.742\n",
      "- x1    1    820.91 868.88 60.629\n"
     ]
    }
   ],
   "source": [
    "m.backward <- step(regre2, scope = c(lower = ~ 1), direction=\"backward\")"
   ]
  },
  {
   "cell_type": "markdown",
   "id": "8001a0eb",
   "metadata": {},
   "source": [
    "# Stepwise"
   ]
  },
  {
   "cell_type": "markdown",
   "id": "573da0d5",
   "metadata": {},
   "source": [
    "# Usando paquete MASS"
   ]
  },
  {
   "cell_type": "code",
   "execution_count": 9,
   "id": "a5534394",
   "metadata": {},
   "outputs": [
    {
     "name": "stdout",
     "output_type": "stream",
     "text": [
      "Start:  AIC=71.44\n",
      "Y ~ 1\n",
      "\n",
      "       Df Sum of Sq     RSS    AIC\n",
      "+ x4    1   1831.90  883.87 58.852\n",
      "+ x2    1   1809.43  906.34 59.178\n",
      "+ x1    1   1450.08 1265.69 63.519\n",
      "+ x3    1    776.36 1939.40 69.067\n",
      "<none>              2715.76 71.444\n",
      "\n",
      "Step:  AIC=58.85\n",
      "Y ~ x4\n",
      "\n",
      "       Df Sum of Sq     RSS    AIC\n",
      "+ x1    1    809.10   74.76 28.742\n",
      "+ x3    1    708.13  175.74 39.853\n",
      "<none>               883.87 58.852\n",
      "+ x2    1     14.99  868.88 60.629\n",
      "- x4    1   1831.90 2715.76 71.444\n",
      "\n",
      "Step:  AIC=28.74\n",
      "Y ~ x4 + x1\n",
      "\n",
      "       Df Sum of Sq     RSS    AIC\n",
      "+ x2    1     26.79   47.97 24.974\n",
      "+ x3    1     23.93   50.84 25.728\n",
      "<none>                74.76 28.742\n",
      "- x1    1    809.10  883.87 58.852\n",
      "- x4    1   1190.92 1265.69 63.519\n",
      "\n",
      "Step:  AIC=24.97\n",
      "Y ~ x4 + x1 + x2\n",
      "\n",
      "       Df Sum of Sq    RSS    AIC\n",
      "<none>               47.97 24.974\n",
      "- x4    1      9.93  57.90 25.420\n",
      "+ x3    1      0.11  47.86 26.944\n",
      "- x2    1     26.79  74.76 28.742\n",
      "- x1    1    820.91 868.88 60.629\n"
     ]
    },
    {
     "data": {
      "text/plain": [
       "\n",
       "Call:\n",
       "lm(formula = Y ~ x4 + x1 + x2, data = cemento)\n",
       "\n",
       "Coefficients:\n",
       "(Intercept)           x4           x1           x2  \n",
       "    71.6483      -0.2365       1.4519       0.4161  \n"
      ]
     },
     "metadata": {},
     "output_type": "display_data"
    },
    {
     "name": "stdout",
     "output_type": "stream",
     "text": [
      "Start:  AIC=26.94\n",
      "Y ~ x1 + x2 + x3 + x4\n",
      "\n",
      "       Df Sum of Sq    RSS    AIC\n",
      "- x3    1    0.1091 47.973 24.974\n",
      "- x4    1    0.2470 48.111 25.011\n",
      "- x2    1    2.9725 50.836 25.728\n",
      "<none>              47.864 26.944\n",
      "- x1    1   25.9509 73.815 30.576\n",
      "\n",
      "Step:  AIC=24.97\n",
      "Y ~ x1 + x2 + x4\n",
      "\n",
      "       Df Sum of Sq    RSS    AIC\n",
      "<none>               47.97 24.974\n",
      "- x4    1      9.93  57.90 25.420\n",
      "+ x3    1      0.11  47.86 26.944\n",
      "- x2    1     26.79  74.76 28.742\n",
      "- x1    1    820.91 868.88 60.629\n"
     ]
    },
    {
     "data": {
      "text/plain": [
       "\n",
       "Call:\n",
       "lm(formula = Y ~ x1 + x2 + x4, data = cemento)\n",
       "\n",
       "Coefficients:\n",
       "(Intercept)           x1           x2           x4  \n",
       "    71.6483       1.4519       0.4161      -0.2365  \n"
      ]
     },
     "metadata": {},
     "output_type": "display_data"
    },
    {
     "data": {
      "text/plain": [
       "\n",
       "Call:\n",
       "lm(formula = Y ~ x1 + x2 + x4, data = cemento)\n",
       "\n",
       "Residuals:\n",
       "    Min      1Q  Median      3Q     Max \n",
       "-3.0919 -1.8016  0.2562  1.2818  3.8982 \n",
       "\n",
       "Coefficients:\n",
       "            Estimate Std. Error t value Pr(>|t|)    \n",
       "(Intercept)  71.6483    14.1424   5.066 0.000675 ***\n",
       "x1            1.4519     0.1170  12.410 5.78e-07 ***\n",
       "x2            0.4161     0.1856   2.242 0.051687 .  \n",
       "x4           -0.2365     0.1733  -1.365 0.205395    \n",
       "---\n",
       "Signif. codes:  0 '***' 0.001 '**' 0.01 '*' 0.05 '.' 0.1 ' ' 1\n",
       "\n",
       "Residual standard error: 2.309 on 9 degrees of freedom\n",
       "Multiple R-squared:  0.9823,\tAdjusted R-squared:  0.9764 \n",
       "F-statistic: 166.8 on 3 and 9 DF,  p-value: 3.323e-08\n"
      ]
     },
     "metadata": {},
     "output_type": "display_data"
    }
   ],
   "source": [
    "stepAIC(regre1,  direction=\"both\", data=cemento, \n",
    "        scope=list(lower=~1,upper=~x1+x2+x3+x4), trace=1)\n",
    "\n",
    "stepAIC(regre2,  direction=\"both\", data=cemento, trace=1)\n",
    "\n",
    "summary(lm(Y~x1+x2+x4,data=cemento))\n"
   ]
  },
  {
   "cell_type": "markdown",
   "id": "a4544b2d",
   "metadata": {},
   "source": [
    "# Usando paquete alr4"
   ]
  },
  {
   "cell_type": "code",
   "execution_count": 10,
   "id": "a08b3a5c",
   "metadata": {},
   "outputs": [
    {
     "name": "stdout",
     "output_type": "stream",
     "text": [
      "Start:  AIC=71.44\n",
      "Y ~ 1\n",
      "\n",
      "       Df Sum of Sq     RSS    AIC\n",
      "+ x4    1   1831.90  883.87 58.852\n",
      "+ x2    1   1809.43  906.34 59.178\n",
      "+ x1    1   1450.08 1265.69 63.519\n",
      "+ x3    1    776.36 1939.40 69.067\n",
      "<none>              2715.76 71.444\n",
      "\n",
      "Step:  AIC=58.85\n",
      "Y ~ x4\n",
      "\n",
      "       Df Sum of Sq     RSS    AIC\n",
      "+ x1    1    809.10   74.76 28.742\n",
      "+ x3    1    708.13  175.74 39.853\n",
      "<none>               883.87 58.852\n",
      "+ x2    1     14.99  868.88 60.629\n",
      "- x4    1   1831.90 2715.76 71.444\n",
      "\n",
      "Step:  AIC=28.74\n",
      "Y ~ x4 + x1\n",
      "\n",
      "       Df Sum of Sq     RSS    AIC\n",
      "+ x2    1     26.79   47.97 24.974\n",
      "+ x3    1     23.93   50.84 25.728\n",
      "<none>                74.76 28.742\n",
      "- x1    1    809.10  883.87 58.852\n",
      "- x4    1   1190.92 1265.69 63.519\n",
      "\n",
      "Step:  AIC=24.97\n",
      "Y ~ x4 + x1 + x2\n",
      "\n",
      "       Df Sum of Sq    RSS    AIC\n",
      "<none>               47.97 24.974\n",
      "- x4    1      9.93  57.90 25.420\n",
      "+ x3    1      0.11  47.86 26.944\n",
      "- x2    1     26.79  74.76 28.742\n",
      "- x1    1    820.91 868.88 60.629\n",
      "Start:  AIC=26.94\n",
      "Y ~ x1 + x2 + x3 + x4\n",
      "\n",
      "       Df Sum of Sq    RSS    AIC\n",
      "- x3    1    0.1091 47.973 24.974\n",
      "- x4    1    0.2470 48.111 25.011\n",
      "- x2    1    2.9725 50.836 25.728\n",
      "<none>              47.864 26.944\n",
      "- x1    1   25.9509 73.815 30.576\n",
      "\n",
      "Step:  AIC=24.97\n",
      "Y ~ x1 + x2 + x4\n",
      "\n",
      "       Df Sum of Sq    RSS    AIC\n",
      "<none>               47.97 24.974\n",
      "- x4    1      9.93  57.90 25.420\n",
      "- x2    1     26.79  74.76 28.742\n",
      "- x1    1    820.91 868.88 60.629\n"
     ]
    }
   ],
   "source": [
    "m.stepup <- step(regre1, scope=f)\n",
    "\n",
    "m.stepdown <- step(regre2, scope = c(lower = ~ 1) )"
   ]
  },
  {
   "cell_type": "markdown",
   "id": "0a23088f",
   "metadata": {},
   "source": [
    "# Todos los submodelos"
   ]
  },
  {
   "cell_type": "markdown",
   "id": "89c4c092",
   "metadata": {},
   "source": [
    "# Usando paquete leaps"
   ]
  },
  {
   "cell_type": "code",
   "execution_count": 12,
   "id": "704011ac",
   "metadata": {},
   "outputs": [],
   "source": [
    " all.submodels <- regsubsets(Y ~ x1+x2+x3+x4, data=cemento,  nbest=3)"
   ]
  },
  {
   "cell_type": "markdown",
   "id": "43cb56ad",
   "metadata": {},
   "source": [
    "# plot a table of models showing variables in each model. "
   ]
  },
  {
   "cell_type": "code",
   "execution_count": 13,
   "id": "21e67375",
   "metadata": {},
   "outputs": [
    {
     "data": {
      "text/plain": [
       "Subset selection object\n",
       "Call: regsubsets.formula(Y ~ x1 + x2 + x3 + x4, data = cemento, nbest = 3)\n",
       "4 Variables  (and intercept)\n",
       "   Forced in Forced out\n",
       "x1     FALSE      FALSE\n",
       "x2     FALSE      FALSE\n",
       "x3     FALSE      FALSE\n",
       "x4     FALSE      FALSE\n",
       "3 subsets of each size up to 4\n",
       "Selection Algorithm: exhaustive\n",
       "         x1  x2  x3  x4 \n",
       "1  ( 1 ) \" \" \" \" \" \" \"*\"\n",
       "1  ( 2 ) \" \" \"*\" \" \" \" \"\n",
       "1  ( 3 ) \"*\" \" \" \" \" \" \"\n",
       "2  ( 1 ) \"*\" \"*\" \" \" \" \"\n",
       "2  ( 2 ) \"*\" \" \" \" \" \"*\"\n",
       "2  ( 3 ) \" \" \" \" \"*\" \"*\"\n",
       "3  ( 1 ) \"*\" \"*\" \" \" \"*\"\n",
       "3  ( 2 ) \"*\" \"*\" \"*\" \" \"\n",
       "3  ( 3 ) \"*\" \" \" \"*\" \"*\"\n",
       "4  ( 1 ) \"*\" \"*\" \"*\" \"*\""
      ]
     },
     "metadata": {},
     "output_type": "display_data"
    }
   ],
   "source": [
    " summary(all.submodels)"
   ]
  },
  {
   "cell_type": "markdown",
   "id": "9fc5710b",
   "metadata": {},
   "source": [
    "# models are ordered by the selection statistic."
   ]
  },
  {
   "cell_type": "code",
   "execution_count": 14,
   "id": "e1554343",
   "metadata": {},
   "outputs": [
    {
     "data": {
      "image/png": "[encoded data removed]",
      "text/plain": [
       "plot without title"
      ]
     },
     "metadata": {
      "image/png": {
       "height": 420,
       "width": 420
      }
     },
     "output_type": "display_data"
    }
   ],
   "source": [
    " plot(all.submodels, scale=\"Cp\")"
   ]
  },
  {
   "cell_type": "markdown",
   "id": "a1d199cc",
   "metadata": {},
   "source": [
    "# plot statistic by subset size "
   ]
  },
  {
   "cell_type": "markdown",
   "id": "2f1088b3",
   "metadata": {},
   "source": [
    "# subsets(all.submodels, statistic=\"cp\")"
   ]
  },
  {
   "cell_type": "code",
   "execution_count": 15,
   "id": "3f626cc2",
   "metadata": {},
   "outputs": [
    {
     "data": {
      "text/html": [
       "<table class=\"dataframe\">\n",
       "<caption>A data.frame: 10 × 8</caption>\n",
       "<thead>\n",
       "\t<tr><th></th><th scope=col>X.Intercept.</th><th scope=col>x1</th><th scope=col>x2</th><th scope=col>x3</th><th scope=col>x4</th><th scope=col>R2adj</th><th scope=col>Cp</th><th scope=col>BIC</th></tr>\n",
       "\t<tr><th></th><th scope=col>&lt;lgl&gt;</th><th scope=col>&lt;lgl&gt;</th><th scope=col>&lt;lgl&gt;</th><th scope=col>&lt;lgl&gt;</th><th scope=col>&lt;lgl&gt;</th><th scope=col>&lt;dbl&gt;</th><th scope=col>&lt;dbl&gt;</th><th scope=col>&lt;dbl&gt;</th></tr>\n",
       "</thead>\n",
       "<tbody>\n",
       "\t<tr><th scope=row>X1</th><td>TRUE</td><td>FALSE</td><td>FALSE</td><td>FALSE</td><td> TRUE</td><td>0.6449549</td><td>138.730833</td><td> -9.462884</td></tr>\n",
       "\t<tr><th scope=row>X1.1</th><td>TRUE</td><td>FALSE</td><td> TRUE</td><td>FALSE</td><td>FALSE</td><td>0.6359290</td><td>142.486407</td><td> -9.136532</td></tr>\n",
       "\t<tr><th scope=row>X1.2</th><td>TRUE</td><td> TRUE</td><td>FALSE</td><td>FALSE</td><td>FALSE</td><td>0.4915797</td><td>202.548769</td><td> -4.795057</td></tr>\n",
       "\t<tr><th scope=row>X2</th><td>TRUE</td><td> TRUE</td><td> TRUE</td><td>FALSE</td><td>FALSE</td><td>0.9744140</td><td>  2.678242</td><td>-42.329587</td></tr>\n",
       "\t<tr><th scope=row>X2.1</th><td>TRUE</td><td> TRUE</td><td>FALSE</td><td>FALSE</td><td> TRUE</td><td>0.9669653</td><td>  5.495851</td><td>-39.007873</td></tr>\n",
       "\t<tr><th scope=row>X2.2</th><td>TRUE</td><td>FALSE</td><td>FALSE</td><td> TRUE</td><td> TRUE</td><td>0.9223476</td><td> 22.373112</td><td>-27.896994</td></tr>\n",
       "\t<tr><th scope=row>X3</th><td>TRUE</td><td> TRUE</td><td> TRUE</td><td>FALSE</td><td> TRUE</td><td>0.9764473</td><td>  3.018233</td><td>-42.210745</td></tr>\n",
       "\t<tr><th scope=row>X3.1</th><td>TRUE</td><td> TRUE</td><td> TRUE</td><td> TRUE</td><td>FALSE</td><td>0.9763796</td><td>  3.041280</td><td>-42.173433</td></tr>\n",
       "\t<tr><th scope=row>X3.2</th><td>TRUE</td><td> TRUE</td><td>FALSE</td><td> TRUE</td><td> TRUE</td><td>0.9750415</td><td>  3.496824</td><td>-41.457078</td></tr>\n",
       "\t<tr><th scope=row>X4</th><td>TRUE</td><td> TRUE</td><td> TRUE</td><td> TRUE</td><td> TRUE</td><td>0.9735634</td><td>  5.000000</td><td>-39.675391</td></tr>\n",
       "</tbody>\n",
       "</table>\n"
      ],
      "text/latex": [
       "A data.frame: 10 × 8\n",
       "\\begin{tabular}{r|llllllll}\n",
       "  & X.Intercept. & x1 & x2 & x3 & x4 & R2adj & Cp & BIC\\\\\n",
       "  & <lgl> & <lgl> & <lgl> & <lgl> & <lgl> & <dbl> & <dbl> & <dbl>\\\\\n",
       "\\hline\n",
       "\tX1 & TRUE & FALSE & FALSE & FALSE &  TRUE & 0.6449549 & 138.730833 &  -9.462884\\\\\n",
       "\tX1.1 & TRUE & FALSE &  TRUE & FALSE & FALSE & 0.6359290 & 142.486407 &  -9.136532\\\\\n",
       "\tX1.2 & TRUE &  TRUE & FALSE & FALSE & FALSE & 0.4915797 & 202.548769 &  -4.795057\\\\\n",
       "\tX2 & TRUE &  TRUE &  TRUE & FALSE & FALSE & 0.9744140 &   2.678242 & -42.329587\\\\\n",
       "\tX2.1 & TRUE &  TRUE & FALSE & FALSE &  TRUE & 0.9669653 &   5.495851 & -39.007873\\\\\n",
       "\tX2.2 & TRUE & FALSE & FALSE &  TRUE &  TRUE & 0.9223476 &  22.373112 & -27.896994\\\\\n",
       "\tX3 & TRUE &  TRUE &  TRUE & FALSE &  TRUE & 0.9764473 &   3.018233 & -42.210745\\\\\n",
       "\tX3.1 & TRUE &  TRUE &  TRUE &  TRUE & FALSE & 0.9763796 &   3.041280 & -42.173433\\\\\n",
       "\tX3.2 & TRUE &  TRUE & FALSE &  TRUE &  TRUE & 0.9750415 &   3.496824 & -41.457078\\\\\n",
       "\tX4 & TRUE &  TRUE &  TRUE &  TRUE &  TRUE & 0.9735634 &   5.000000 & -39.675391\\\\\n",
       "\\end{tabular}\n"
      ],
      "text/markdown": [
       "\n",
       "A data.frame: 10 × 8\n",
       "\n",
       "| <!--/--> | X.Intercept. &lt;lgl&gt; | x1 &lt;lgl&gt; | x2 &lt;lgl&gt; | x3 &lt;lgl&gt; | x4 &lt;lgl&gt; | R2adj &lt;dbl&gt; | Cp &lt;dbl&gt; | BIC &lt;dbl&gt; |\n",
       "|---|---|---|---|---|---|---|---|---|\n",
       "| X1 | TRUE | FALSE | FALSE | FALSE |  TRUE | 0.6449549 | 138.730833 |  -9.462884 |\n",
       "| X1.1 | TRUE | FALSE |  TRUE | FALSE | FALSE | 0.6359290 | 142.486407 |  -9.136532 |\n",
       "| X1.2 | TRUE |  TRUE | FALSE | FALSE | FALSE | 0.4915797 | 202.548769 |  -4.795057 |\n",
       "| X2 | TRUE |  TRUE |  TRUE | FALSE | FALSE | 0.9744140 |   2.678242 | -42.329587 |\n",
       "| X2.1 | TRUE |  TRUE | FALSE | FALSE |  TRUE | 0.9669653 |   5.495851 | -39.007873 |\n",
       "| X2.2 | TRUE | FALSE | FALSE |  TRUE |  TRUE | 0.9223476 |  22.373112 | -27.896994 |\n",
       "| X3 | TRUE |  TRUE |  TRUE | FALSE |  TRUE | 0.9764473 |   3.018233 | -42.210745 |\n",
       "| X3.1 | TRUE |  TRUE |  TRUE |  TRUE | FALSE | 0.9763796 |   3.041280 | -42.173433 |\n",
       "| X3.2 | TRUE |  TRUE | FALSE |  TRUE |  TRUE | 0.9750415 |   3.496824 | -41.457078 |\n",
       "| X4 | TRUE |  TRUE |  TRUE |  TRUE |  TRUE | 0.9735634 |   5.000000 | -39.675391 |\n",
       "\n"
      ],
      "text/plain": [
       "     X.Intercept. x1    x2    x3    x4    R2adj     Cp         BIC       \n",
       "X1   TRUE         FALSE FALSE FALSE  TRUE 0.6449549 138.730833  -9.462884\n",
       "X1.1 TRUE         FALSE  TRUE FALSE FALSE 0.6359290 142.486407  -9.136532\n",
       "X1.2 TRUE          TRUE FALSE FALSE FALSE 0.4915797 202.548769  -4.795057\n",
       "X2   TRUE          TRUE  TRUE FALSE FALSE 0.9744140   2.678242 -42.329587\n",
       "X2.1 TRUE          TRUE FALSE FALSE  TRUE 0.9669653   5.495851 -39.007873\n",
       "X2.2 TRUE         FALSE FALSE  TRUE  TRUE 0.9223476  22.373112 -27.896994\n",
       "X3   TRUE          TRUE  TRUE FALSE  TRUE 0.9764473   3.018233 -42.210745\n",
       "X3.1 TRUE          TRUE  TRUE  TRUE FALSE 0.9763796   3.041280 -42.173433\n",
       "X3.2 TRUE          TRUE FALSE  TRUE  TRUE 0.9750415   3.496824 -41.457078\n",
       "X4   TRUE          TRUE  TRUE  TRUE  TRUE 0.9735634   5.000000 -39.675391"
      ]
     },
     "metadata": {},
     "output_type": "display_data"
    },
    {
     "data": {
      "text/plain": [
       "Subset selection object\n",
       "Call: regsubsets.formula(Y ~ x1 + x2 + x3 + x4, data = cemento, method = \"forward\")\n",
       "4 Variables  (and intercept)\n",
       "   Forced in Forced out\n",
       "x1     FALSE      FALSE\n",
       "x2     FALSE      FALSE\n",
       "x3     FALSE      FALSE\n",
       "x4     FALSE      FALSE\n",
       "1 subsets of each size up to 4\n",
       "Selection Algorithm: forward\n",
       "         x1  x2  x3  x4 \n",
       "1  ( 1 ) \" \" \" \" \" \" \"*\"\n",
       "2  ( 1 ) \"*\" \" \" \" \" \"*\"\n",
       "3  ( 1 ) \"*\" \"*\" \" \" \"*\"\n",
       "4  ( 1 ) \"*\" \"*\" \"*\" \"*\""
      ]
     },
     "metadata": {},
     "output_type": "display_data"
    },
    {
     "data": {
      "text/plain": [
       "Subset selection object\n",
       "Call: regsubsets.formula(Y ~ x1 + x2 + x3 + x4, data = cemento, method = \"backward\")\n",
       "4 Variables  (and intercept)\n",
       "   Forced in Forced out\n",
       "x1     FALSE      FALSE\n",
       "x2     FALSE      FALSE\n",
       "x3     FALSE      FALSE\n",
       "x4     FALSE      FALSE\n",
       "1 subsets of each size up to 4\n",
       "Selection Algorithm: backward\n",
       "         x1  x2  x3  x4 \n",
       "1  ( 1 ) \" \" \"*\" \" \" \" \"\n",
       "2  ( 1 ) \"*\" \"*\" \" \" \" \"\n",
       "3  ( 1 ) \"*\" \"*\" \" \" \"*\"\n",
       "4  ( 1 ) \"*\" \"*\" \"*\" \"*\""
      ]
     },
     "metadata": {},
     "output_type": "display_data"
    }
   ],
   "source": [
    " R2adj <- summary(all.submodels)$adjr2\n",
    " Cp <- summary(all.submodels)$cp\n",
    " BIC <- summary(all.submodels)$bic\n",
    "\n",
    " \n",
    " data.frame(summary(all.submodels)$which, R2adj=R2adj, Cp=Cp, BIC=BIC)\n",
    "\n",
    " \n",
    " forward <- regsubsets(Y ~ x1+x2+x3+x4, data=cemento,  method=\"forward\")\n",
    " summary(forward)\n",
    " \n",
    " \n",
    " backward <- regsubsets(Y ~ x1+x2+x3+x4, data=cemento,  method=\"backward\")\n",
    " summary(backward)"
   ]
  },
  {
   "cell_type": "code",
   "execution_count": null,
   "id": "829bc40c",
   "metadata": {},
   "outputs": [],
   "source": []
  }
 ],
 "metadata": {
  "kernelspec": {
   "display_name": "R",
   "language": "R",
   "name": "ir"
  },
  "language_info": {
   "codemirror_mode": "r",
   "file_extension": ".r",
   "mimetype": "text/x-r-source",
   "name": "R",
   "pygments_lexer": "r",
   "version": "4.3.2"
  }
 },
 "nbformat": 4,
 "nbformat_minor": 5
}
