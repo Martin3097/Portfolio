{
 "cells": [
  {
   "cell_type": "markdown",
   "id": "5a196926",
   "metadata": {},
   "source": [
    "<h1 style=\"text-align: center;\">Predicción del precio de los vuelos</h1>"
   ]
  },
  {
   "cell_type": "markdown",
   "id": "0a14444c",
   "metadata": {},
   "source": [
    "# Importamos las librerias"
   ]
  },
  {
   "cell_type": "code",
   "execution_count": 1,
   "id": "591b504e",
   "metadata": {},
   "outputs": [
    {
     "name": "stderr",
     "output_type": "stream",
     "text": [
      "Loading required package: car\n",
      "\n",
      "Loading required package: carData\n",
      "\n",
      "Loading required package: effects\n",
      "\n",
      "lattice theme set by effectsTheme()\n",
      "See ?effectsTheme for details.\n",
      "\n"
     ]
    }
   ],
   "source": [
    "library(MASS)\n",
    "library(leaps)\n",
    "library(alr4)\n",
    "library(car)"
   ]
  },
  {
   "cell_type": "markdown",
   "id": "131f1b10",
   "metadata": {},
   "source": [
    "# Cargamos el conjunto de datos"
   ]
  },
  {
   "cell_type": "code",
   "execution_count": 2,
   "id": "f77acec8",
   "metadata": {},
   "outputs": [
    {
     "data": {
      "text/html": [
       "<table class=\"dataframe\">\n",
       "<caption>A data.frame: 6 × 12</caption>\n",
       "<thead>\n",
       "\t<tr><th></th><th scope=col>X</th><th scope=col>airline</th><th scope=col>flight</th><th scope=col>source_city</th><th scope=col>departure_time</th><th scope=col>stops</th><th scope=col>arrival_time</th><th scope=col>destination_city</th><th scope=col>class</th><th scope=col>duration</th><th scope=col>days_left</th><th scope=col>price</th></tr>\n",
       "\t<tr><th></th><th scope=col>&lt;int&gt;</th><th scope=col>&lt;chr&gt;</th><th scope=col>&lt;chr&gt;</th><th scope=col>&lt;chr&gt;</th><th scope=col>&lt;chr&gt;</th><th scope=col>&lt;chr&gt;</th><th scope=col>&lt;chr&gt;</th><th scope=col>&lt;chr&gt;</th><th scope=col>&lt;chr&gt;</th><th scope=col>&lt;dbl&gt;</th><th scope=col>&lt;int&gt;</th><th scope=col>&lt;int&gt;</th></tr>\n",
       "</thead>\n",
       "<tbody>\n",
       "\t<tr><th scope=row>1</th><td>0</td><td>SpiceJet</td><td>SG-8709</td><td>Delhi</td><td>Evening      </td><td>zero</td><td>Night        </td><td>Mumbai</td><td>Economy</td><td>2.17</td><td>1</td><td>5953</td></tr>\n",
       "\t<tr><th scope=row>2</th><td>1</td><td>SpiceJet</td><td>SG-8157</td><td>Delhi</td><td>Early_Morning</td><td>zero</td><td>Morning      </td><td>Mumbai</td><td>Economy</td><td>2.33</td><td>1</td><td>5953</td></tr>\n",
       "\t<tr><th scope=row>3</th><td>2</td><td>AirAsia </td><td>I5-764 </td><td>Delhi</td><td>Early_Morning</td><td>zero</td><td>Early_Morning</td><td>Mumbai</td><td>Economy</td><td>2.17</td><td>1</td><td>5956</td></tr>\n",
       "\t<tr><th scope=row>4</th><td>3</td><td>Vistara </td><td>UK-995 </td><td>Delhi</td><td>Morning      </td><td>zero</td><td>Afternoon    </td><td>Mumbai</td><td>Economy</td><td>2.25</td><td>1</td><td>5955</td></tr>\n",
       "\t<tr><th scope=row>5</th><td>4</td><td>Vistara </td><td>UK-963 </td><td>Delhi</td><td>Morning      </td><td>zero</td><td>Morning      </td><td>Mumbai</td><td>Economy</td><td>2.33</td><td>1</td><td>5955</td></tr>\n",
       "\t<tr><th scope=row>6</th><td>5</td><td>Vistara </td><td>UK-945 </td><td>Delhi</td><td>Morning      </td><td>zero</td><td>Afternoon    </td><td>Mumbai</td><td>Economy</td><td>2.33</td><td>1</td><td>5955</td></tr>\n",
       "</tbody>\n",
       "</table>\n"
      ],
      "text/latex": [
       "A data.frame: 6 × 12\n",
       "\\begin{tabular}{r|llllllllllll}\n",
       "  & X & airline & flight & source\\_city & departure\\_time & stops & arrival\\_time & destination\\_city & class & duration & days\\_left & price\\\\\n",
       "  & <int> & <chr> & <chr> & <chr> & <chr> & <chr> & <chr> & <chr> & <chr> & <dbl> & <int> & <int>\\\\\n",
       "\\hline\n",
       "\t1 & 0 & SpiceJet & SG-8709 & Delhi & Evening       & zero & Night         & Mumbai & Economy & 2.17 & 1 & 5953\\\\\n",
       "\t2 & 1 & SpiceJet & SG-8157 & Delhi & Early\\_Morning & zero & Morning       & Mumbai & Economy & 2.33 & 1 & 5953\\\\\n",
       "\t3 & 2 & AirAsia  & I5-764  & Delhi & Early\\_Morning & zero & Early\\_Morning & Mumbai & Economy & 2.17 & 1 & 5956\\\\\n",
       "\t4 & 3 & Vistara  & UK-995  & Delhi & Morning       & zero & Afternoon     & Mumbai & Economy & 2.25 & 1 & 5955\\\\\n",
       "\t5 & 4 & Vistara  & UK-963  & Delhi & Morning       & zero & Morning       & Mumbai & Economy & 2.33 & 1 & 5955\\\\\n",
       "\t6 & 5 & Vistara  & UK-945  & Delhi & Morning       & zero & Afternoon     & Mumbai & Economy & 2.33 & 1 & 5955\\\\\n",
       "\\end{tabular}\n"
      ],
      "text/markdown": [
       "\n",
       "A data.frame: 6 × 12\n",
       "\n",
       "| <!--/--> | X &lt;int&gt; | airline &lt;chr&gt; | flight &lt;chr&gt; | source_city &lt;chr&gt; | departure_time &lt;chr&gt; | stops &lt;chr&gt; | arrival_time &lt;chr&gt; | destination_city &lt;chr&gt; | class &lt;chr&gt; | duration &lt;dbl&gt; | days_left &lt;int&gt; | price &lt;int&gt; |\n",
       "|---|---|---|---|---|---|---|---|---|---|---|---|---|\n",
       "| 1 | 0 | SpiceJet | SG-8709 | Delhi | Evening       | zero | Night         | Mumbai | Economy | 2.17 | 1 | 5953 |\n",
       "| 2 | 1 | SpiceJet | SG-8157 | Delhi | Early_Morning | zero | Morning       | Mumbai | Economy | 2.33 | 1 | 5953 |\n",
       "| 3 | 2 | AirAsia  | I5-764  | Delhi | Early_Morning | zero | Early_Morning | Mumbai | Economy | 2.17 | 1 | 5956 |\n",
       "| 4 | 3 | Vistara  | UK-995  | Delhi | Morning       | zero | Afternoon     | Mumbai | Economy | 2.25 | 1 | 5955 |\n",
       "| 5 | 4 | Vistara  | UK-963  | Delhi | Morning       | zero | Morning       | Mumbai | Economy | 2.33 | 1 | 5955 |\n",
       "| 6 | 5 | Vistara  | UK-945  | Delhi | Morning       | zero | Afternoon     | Mumbai | Economy | 2.33 | 1 | 5955 |\n",
       "\n"
      ],
      "text/plain": [
       "  X airline  flight  source_city departure_time stops arrival_time \n",
       "1 0 SpiceJet SG-8709 Delhi       Evening        zero  Night        \n",
       "2 1 SpiceJet SG-8157 Delhi       Early_Morning  zero  Morning      \n",
       "3 2 AirAsia  I5-764  Delhi       Early_Morning  zero  Early_Morning\n",
       "4 3 Vistara  UK-995  Delhi       Morning        zero  Afternoon    \n",
       "5 4 Vistara  UK-963  Delhi       Morning        zero  Morning      \n",
       "6 5 Vistara  UK-945  Delhi       Morning        zero  Afternoon    \n",
       "  destination_city class   duration days_left price\n",
       "1 Mumbai           Economy 2.17     1         5953 \n",
       "2 Mumbai           Economy 2.33     1         5953 \n",
       "3 Mumbai           Economy 2.17     1         5956 \n",
       "4 Mumbai           Economy 2.25     1         5955 \n",
       "5 Mumbai           Economy 2.33     1         5955 \n",
       "6 Mumbai           Economy 2.33     1         5955 "
      ]
     },
     "metadata": {},
     "output_type": "display_data"
    }
   ],
   "source": [
    "datos_3 <- read.csv(\"C:/Users/marti/OneDrive/Escritorio/jupyter/database/Clean_Dataset.csv\")\n",
    "\n",
    "head(datos_3)"
   ]
  },
  {
   "cell_type": "markdown",
   "id": "6c1ef0b5",
   "metadata": {},
   "source": [
    "### Eliminamos la columna X, ya que es una variable de índices que no agrega información relevante a nuestros datos"
   ]
  },
  {
   "cell_type": "code",
   "execution_count": 3,
   "id": "743a8d01",
   "metadata": {},
   "outputs": [],
   "source": [
    "datos_3<-subset(datos_3,select=-X)"
   ]
  },
  {
   "cell_type": "markdown",
   "id": "ac01b365",
   "metadata": {},
   "source": [
    "## Convirtiendo en factores las columnas de cadenas."
   ]
  },
  {
   "cell_type": "code",
   "execution_count": 4,
   "id": "cec8346d",
   "metadata": {},
   "outputs": [],
   "source": [
    "datos_3$airline <-as.factor(datos_3$airline)\n",
    "datos_3$source_city <-as.factor(datos_3$source_city)\n",
    "datos_3$departure_time <-as.factor(datos_3$departure_time)\n",
    "datos_3$arrival_time <-as.factor(datos_3$arrival_time)\n",
    "datos_3$destination_city<-as.factor(datos_3$destination_city)\n",
    "datos_3$class <-as.factor(datos_3$class)\n",
    "datos_3$stops <-as.factor(datos_3$stops)\n",
    "datos_3$flight <-as.factor(datos_3$flight)"
   ]
  },
  {
   "cell_type": "markdown",
   "id": "6842d166",
   "metadata": {},
   "source": [
    "## Transformamos la columna 'days_left' en categórica, donde una categoría corresponde a los valores 1 o 2, y la otra categoría a los valores mayores a 2."
   ]
  },
  {
   "cell_type": "code",
   "execution_count": 5,
   "id": "c619c5b0",
   "metadata": {},
   "outputs": [],
   "source": [
    "datos_3$days_left <- cut(datos_3$days_left, breaks = c(-Inf, 2, Inf), labels = c(\"1 o 2\", \"Mayor a 2\"), include.lowest = TRUE)"
   ]
  },
  {
   "cell_type": "markdown",
   "id": "62939268",
   "metadata": {},
   "source": [
    "## Visualizamos los cambios realizados anteriormente."
   ]
  },
  {
   "cell_type": "code",
   "execution_count": 6,
   "id": "e4e82a95",
   "metadata": {},
   "outputs": [
    {
     "data": {
      "text/html": [
       "<table class=\"dataframe\">\n",
       "<caption>A data.frame: 6 × 11</caption>\n",
       "<thead>\n",
       "\t<tr><th></th><th scope=col>airline</th><th scope=col>flight</th><th scope=col>source_city</th><th scope=col>departure_time</th><th scope=col>stops</th><th scope=col>arrival_time</th><th scope=col>destination_city</th><th scope=col>class</th><th scope=col>duration</th><th scope=col>days_left</th><th scope=col>price</th></tr>\n",
       "\t<tr><th></th><th scope=col>&lt;fct&gt;</th><th scope=col>&lt;fct&gt;</th><th scope=col>&lt;fct&gt;</th><th scope=col>&lt;fct&gt;</th><th scope=col>&lt;fct&gt;</th><th scope=col>&lt;fct&gt;</th><th scope=col>&lt;fct&gt;</th><th scope=col>&lt;fct&gt;</th><th scope=col>&lt;dbl&gt;</th><th scope=col>&lt;fct&gt;</th><th scope=col>&lt;int&gt;</th></tr>\n",
       "</thead>\n",
       "<tbody>\n",
       "\t<tr><th scope=row>1</th><td>SpiceJet</td><td>SG-8709</td><td>Delhi</td><td>Evening      </td><td>zero</td><td>Night        </td><td>Mumbai</td><td>Economy</td><td>2.17</td><td>1 o 2</td><td>5953</td></tr>\n",
       "\t<tr><th scope=row>2</th><td>SpiceJet</td><td>SG-8157</td><td>Delhi</td><td>Early_Morning</td><td>zero</td><td>Morning      </td><td>Mumbai</td><td>Economy</td><td>2.33</td><td>1 o 2</td><td>5953</td></tr>\n",
       "\t<tr><th scope=row>3</th><td>AirAsia </td><td>I5-764 </td><td>Delhi</td><td>Early_Morning</td><td>zero</td><td>Early_Morning</td><td>Mumbai</td><td>Economy</td><td>2.17</td><td>1 o 2</td><td>5956</td></tr>\n",
       "\t<tr><th scope=row>4</th><td>Vistara </td><td>UK-995 </td><td>Delhi</td><td>Morning      </td><td>zero</td><td>Afternoon    </td><td>Mumbai</td><td>Economy</td><td>2.25</td><td>1 o 2</td><td>5955</td></tr>\n",
       "\t<tr><th scope=row>5</th><td>Vistara </td><td>UK-963 </td><td>Delhi</td><td>Morning      </td><td>zero</td><td>Morning      </td><td>Mumbai</td><td>Economy</td><td>2.33</td><td>1 o 2</td><td>5955</td></tr>\n",
       "\t<tr><th scope=row>6</th><td>Vistara </td><td>UK-945 </td><td>Delhi</td><td>Morning      </td><td>zero</td><td>Afternoon    </td><td>Mumbai</td><td>Economy</td><td>2.33</td><td>1 o 2</td><td>5955</td></tr>\n",
       "</tbody>\n",
       "</table>\n"
      ],
      "text/latex": [
       "A data.frame: 6 × 11\n",
       "\\begin{tabular}{r|lllllllllll}\n",
       "  & airline & flight & source\\_city & departure\\_time & stops & arrival\\_time & destination\\_city & class & duration & days\\_left & price\\\\\n",
       "  & <fct> & <fct> & <fct> & <fct> & <fct> & <fct> & <fct> & <fct> & <dbl> & <fct> & <int>\\\\\n",
       "\\hline\n",
       "\t1 & SpiceJet & SG-8709 & Delhi & Evening       & zero & Night         & Mumbai & Economy & 2.17 & 1 o 2 & 5953\\\\\n",
       "\t2 & SpiceJet & SG-8157 & Delhi & Early\\_Morning & zero & Morning       & Mumbai & Economy & 2.33 & 1 o 2 & 5953\\\\\n",
       "\t3 & AirAsia  & I5-764  & Delhi & Early\\_Morning & zero & Early\\_Morning & Mumbai & Economy & 2.17 & 1 o 2 & 5956\\\\\n",
       "\t4 & Vistara  & UK-995  & Delhi & Morning       & zero & Afternoon     & Mumbai & Economy & 2.25 & 1 o 2 & 5955\\\\\n",
       "\t5 & Vistara  & UK-963  & Delhi & Morning       & zero & Morning       & Mumbai & Economy & 2.33 & 1 o 2 & 5955\\\\\n",
       "\t6 & Vistara  & UK-945  & Delhi & Morning       & zero & Afternoon     & Mumbai & Economy & 2.33 & 1 o 2 & 5955\\\\\n",
       "\\end{tabular}\n"
      ],
      "text/markdown": [
       "\n",
       "A data.frame: 6 × 11\n",
       "\n",
       "| <!--/--> | airline &lt;fct&gt; | flight &lt;fct&gt; | source_city &lt;fct&gt; | departure_time &lt;fct&gt; | stops &lt;fct&gt; | arrival_time &lt;fct&gt; | destination_city &lt;fct&gt; | class &lt;fct&gt; | duration &lt;dbl&gt; | days_left &lt;fct&gt; | price &lt;int&gt; |\n",
       "|---|---|---|---|---|---|---|---|---|---|---|---|\n",
       "| 1 | SpiceJet | SG-8709 | Delhi | Evening       | zero | Night         | Mumbai | Economy | 2.17 | 1 o 2 | 5953 |\n",
       "| 2 | SpiceJet | SG-8157 | Delhi | Early_Morning | zero | Morning       | Mumbai | Economy | 2.33 | 1 o 2 | 5953 |\n",
       "| 3 | AirAsia  | I5-764  | Delhi | Early_Morning | zero | Early_Morning | Mumbai | Economy | 2.17 | 1 o 2 | 5956 |\n",
       "| 4 | Vistara  | UK-995  | Delhi | Morning       | zero | Afternoon     | Mumbai | Economy | 2.25 | 1 o 2 | 5955 |\n",
       "| 5 | Vistara  | UK-963  | Delhi | Morning       | zero | Morning       | Mumbai | Economy | 2.33 | 1 o 2 | 5955 |\n",
       "| 6 | Vistara  | UK-945  | Delhi | Morning       | zero | Afternoon     | Mumbai | Economy | 2.33 | 1 o 2 | 5955 |\n",
       "\n"
      ],
      "text/plain": [
       "  airline  flight  source_city departure_time stops arrival_time \n",
       "1 SpiceJet SG-8709 Delhi       Evening        zero  Night        \n",
       "2 SpiceJet SG-8157 Delhi       Early_Morning  zero  Morning      \n",
       "3 AirAsia  I5-764  Delhi       Early_Morning  zero  Early_Morning\n",
       "4 Vistara  UK-995  Delhi       Morning        zero  Afternoon    \n",
       "5 Vistara  UK-963  Delhi       Morning        zero  Morning      \n",
       "6 Vistara  UK-945  Delhi       Morning        zero  Afternoon    \n",
       "  destination_city class   duration days_left price\n",
       "1 Mumbai           Economy 2.17     1 o 2     5953 \n",
       "2 Mumbai           Economy 2.33     1 o 2     5953 \n",
       "3 Mumbai           Economy 2.17     1 o 2     5956 \n",
       "4 Mumbai           Economy 2.25     1 o 2     5955 \n",
       "5 Mumbai           Economy 2.33     1 o 2     5955 \n",
       "6 Mumbai           Economy 2.33     1 o 2     5955 "
      ]
     },
     "metadata": {},
     "output_type": "display_data"
    }
   ],
   "source": [
    "head(datos_3)"
   ]
  },
  {
   "cell_type": "markdown",
   "id": "a94937c1",
   "metadata": {},
   "source": [
    "## Resumen descriptivo de nuestros datos"
   ]
  },
  {
   "cell_type": "code",
   "execution_count": 7,
   "id": "4cbcade3",
   "metadata": {},
   "outputs": [
    {
     "data": {
      "text/plain": [
       "      airline           flight          source_city          departure_time \n",
       " Air_India: 80892   UK-706 :  3235   Bangalore:52061   Afternoon    :47794  \n",
       " AirAsia  : 16098   UK-772 :  2741   Chennai  :38700   Early_Morning:66790  \n",
       " GO_FIRST : 23173   UK-720 :  2650   Delhi    :61343   Evening      :65102  \n",
       " Indigo   : 43120   UK-836 :  2542   Hyderabad:40806   Late_Night   : 1306  \n",
       " SpiceJet :  9011   UK-822 :  2468   Kolkata  :46347   Morning      :71146  \n",
       " Vistara  :127859   UK-828 :  2440   Mumbai   :60896   Night        :48015  \n",
       "                    (Other):284077                                          \n",
       "         stops               arrival_time    destination_city      class       \n",
       " one        :250863   Afternoon    :38139   Bangalore:51068   Business: 93487  \n",
       " two_or_more: 13286   Early_Morning:15417   Chennai  :40368   Economy :206666  \n",
       " zero       : 36004   Evening      :78323   Delhi    :57360                    \n",
       "                      Late_Night   :14001   Hyderabad:42726                    \n",
       "                      Morning      :62735   Kolkata  :49534                    \n",
       "                      Night        :91538   Mumbai   :59097                    \n",
       "                                                                               \n",
       "    duration         days_left          price       \n",
       " Min.   : 0.83   1 o 2    :  5953   Min.   :  1105  \n",
       " 1st Qu.: 6.83   Mayor a 2:294200   1st Qu.:  4783  \n",
       " Median :11.25                      Median :  7425  \n",
       " Mean   :12.22                      Mean   : 20890  \n",
       " 3rd Qu.:16.17                      3rd Qu.: 42521  \n",
       " Max.   :49.83                      Max.   :123071  \n",
       "                                                    "
      ]
     },
     "metadata": {},
     "output_type": "display_data"
    }
   ],
   "source": [
    "summary(datos_3)"
   ]
  },
  {
   "cell_type": "markdown",
   "id": "4de9d30b",
   "metadata": {},
   "source": [
    "# ¿El precio varía según las aerolíneas?"
   ]
  },
  {
   "cell_type": "markdown",
   "id": "a822662e",
   "metadata": {},
   "source": [
    "## Ajustamos el modelo de regresion lineal"
   ]
  },
  {
   "cell_type": "code",
   "execution_count": 8,
   "id": "358ad697",
   "metadata": {},
   "outputs": [
    {
     "data": {
      "text/plain": [
       "\n",
       "Call:\n",
       "lm(formula = price ~ airline, data = datos_3)\n",
       "\n",
       "Residuals:\n",
       "   Min     1Q Median     3Q    Max \n",
       "-28683 -18364  -1365  15352  92674 \n",
       "\n",
       "Coefficients:\n",
       "                 Estimate Std. Error t value Pr(>|t|)    \n",
       "(Intercept)      23507.02      70.36  334.08   <2e-16 ***\n",
       "airlineAirAsia  -19415.95     172.71 -112.42   <2e-16 ***\n",
       "airlineGO_FIRST -17855.01     149.11 -119.75   <2e-16 ***\n",
       "airlineIndigo   -18182.80     119.33 -152.38   <2e-16 ***\n",
       "airlineSpiceJet -17327.74     222.25  -77.97   <2e-16 ***\n",
       "airlineVistara    6889.52      89.91   76.63   <2e-16 ***\n",
       "---\n",
       "Signif. codes:  0 '***' 0.001 '**' 0.01 '*' 0.05 '.' 0.1 ' ' 1\n",
       "\n",
       "Residual standard error: 20010 on 300147 degrees of freedom\n",
       "Multiple R-squared:  0.2227,\tAdjusted R-squared:  0.2226 \n",
       "F-statistic: 1.719e+04 on 5 and 300147 DF,  p-value: < 2.2e-16\n"
      ]
     },
     "metadata": {},
     "output_type": "display_data"
    }
   ],
   "source": [
    "a <- lm(price ~ airline,data=datos_3)\n",
    "summary(a)"
   ]
  },
  {
   "cell_type": "markdown",
   "id": "2355183f",
   "metadata": {},
   "source": [
    "$$E(\\text{Air_India})=23507 $$\n",
    "$$E(\\text{AirAsiaT})=23507-19415=4092$$\n",
    "$$E(\\text{GO_FIRST})=23507 -17855=5652$$\n",
    "$$E(\\text{Indigo})=23507 -18182= 5325$$\n",
    "$$E(\\text{SpiceJet})=23507 -17327=6180$$\n",
    "$$E(\\text{Vistara})=23507 +6889= 30396$$"
   ]
  },
  {
   "cell_type": "markdown",
   "id": "382b91e5",
   "metadata": {},
   "source": [
    "- en el precio si importa de que aereolina se compra el boleto"
   ]
  },
  {
   "cell_type": "markdown",
   "id": "30901380",
   "metadata": {},
   "source": [
    "# ¿Cómo se ve afectado el precio cuando los billetes se compran sólo 1 o 2 días antes de la salida?"
   ]
  },
  {
   "cell_type": "markdown",
   "id": "643c1755",
   "metadata": {},
   "source": [
    "## Ajustando el modelo de regresion"
   ]
  },
  {
   "cell_type": "code",
   "execution_count": 9,
   "id": "7ca26e38",
   "metadata": {},
   "outputs": [
    {
     "data": {
      "text/plain": [
       "\n",
       "Call:\n",
       "lm(formula = price ~ days_left, data = datos_3)\n",
       "\n",
       "Residuals:\n",
       "   Min     1Q Median     3Q    Max \n",
       "-25444 -16002 -13370  21764 102314 \n",
       "\n",
       "Coefficients:\n",
       "                   Estimate Std. Error t value Pr(>|t|)    \n",
       "(Intercept)         27421.2      293.9   93.29   <2e-16 ***\n",
       "days_leftMayor a 2  -6663.7      296.9  -22.45   <2e-16 ***\n",
       "---\n",
       "Signif. codes:  0 '***' 0.001 '**' 0.01 '*' 0.05 '.' 0.1 ' ' 1\n",
       "\n",
       "Residual standard error: 22680 on 300151 degrees of freedom\n",
       "Multiple R-squared:  0.001676,\tAdjusted R-squared:  0.001672 \n",
       "F-statistic: 503.8 on 1 and 300151 DF,  p-value: < 2.2e-16\n"
      ]
     },
     "metadata": {},
     "output_type": "display_data"
    }
   ],
   "source": [
    "b <- lm(price ~ days_left, data=datos_3)\n",
    "summary(b)"
   ]
  },
  {
   "cell_type": "markdown",
   "id": "e363a7a1",
   "metadata": {},
   "source": [
    "$$E(\\text{1 o 2})=27421 $$\n",
    "$$E(\\text{Mayor a 2}) =27421-6663=20758$$"
   ]
  },
  {
   "cell_type": "markdown",
   "id": "ced970bc",
   "metadata": {},
   "source": [
    "# ¿El precio del billete cambia según la hora de salida y la hora de llegada?"
   ]
  },
  {
   "cell_type": "code",
   "execution_count": 10,
   "id": "e2b6d8ee",
   "metadata": {},
   "outputs": [
    {
     "data": {
      "text/plain": [
       "\n",
       "Call:\n",
       "lm(formula = price ~ departure_time + arrival_time, data = datos_3)\n",
       "\n",
       "Residuals:\n",
       "   Min     1Q Median     3Q    Max \n",
       "-23133 -16337 -11769  21377 100974 \n",
       "\n",
       "Coefficients:\n",
       "                            Estimate Std. Error t value Pr(>|t|)    \n",
       "(Intercept)                  15564.4      154.1 101.004   <2e-16 ***\n",
       "departure_timeEarly_Morning   2148.4      136.2  15.773   <2e-16 ***\n",
       "departure_timeEvening         3747.9      136.8  27.401   <2e-16 ***\n",
       "departure_timeLate_Night     -5650.2      634.0  -8.912   <2e-16 ***\n",
       "departure_timeMorning         3101.3      133.6  23.210   <2e-16 ***\n",
       "departure_timeNight           5580.9      148.1  37.688   <2e-16 ***\n",
       "arrival_timeEarly_Morning    -3817.4      216.7 -17.613   <2e-16 ***\n",
       "arrival_timeEvening           4729.2      140.6  33.641   <2e-16 ***\n",
       "arrival_timeLate_Night       -7352.7      225.3 -32.634   <2e-16 ***\n",
       "arrival_timeMorning           3299.8      147.5  22.377   <2e-16 ***\n",
       "arrival_timeNight             3431.1      138.1  24.845   <2e-16 ***\n",
       "---\n",
       "Signif. codes:  0 '***' 0.001 '**' 0.01 '*' 0.05 '.' 0.1 ' ' 1\n",
       "\n",
       "Residual standard error: 22440 on 300142 degrees of freedom\n",
       "Multiple R-squared:  0.02245,\tAdjusted R-squared:  0.02241 \n",
       "F-statistic: 689.2 on 10 and 300142 DF,  p-value: < 2.2e-16\n"
      ]
     },
     "metadata": {},
     "output_type": "display_data"
    }
   ],
   "source": [
    "c <- lm(price ~ departure_time+arrival_time, data=datos_3)\n",
    "summary(c)"
   ]
  },
  {
   "cell_type": "markdown",
   "id": "7d1fc056",
   "metadata": {},
   "source": [
    "# ¿Cómo cambia el precio con el cambio en Origen y Destino?"
   ]
  },
  {
   "cell_type": "code",
   "execution_count": 12,
   "id": "48cbcdca",
   "metadata": {},
   "outputs": [
    {
     "data": {
      "text/plain": [
       "\n",
       "Call:\n",
       "lm(formula = price ~ source_city + destination_city, data = datos_3)\n",
       "\n",
       "Residuals:\n",
       "   Min     1Q Median     3Q    Max \n",
       "-21899 -16129 -12526  22434 104269 \n",
       "\n",
       "Coefficients:\n",
       "                          Estimate Std. Error t value Pr(>|t|)    \n",
       "(Intercept)                22835.9      150.1 152.140  < 2e-16 ***\n",
       "source_cityChennai           506.5      153.4   3.302 0.000959 ***\n",
       "source_cityDelhi           -3681.3      139.4 -26.409  < 2e-16 ***\n",
       "source_cityHyderabad       -1848.7      152.2 -12.149  < 2e-16 ***\n",
       "source_cityKolkata           162.8      147.5   1.104 0.269735    \n",
       "source_cityMumbai           -171.4      138.9  -1.234 0.217131    \n",
       "destination_cityChennai      409.6      152.2   2.691 0.007122 ** \n",
       "destination_cityDelhi      -4196.9      142.3 -29.502  < 2e-16 ***\n",
       "destination_cityHyderabad  -1664.9      150.9 -11.033  < 2e-16 ***\n",
       "destination_cityKolkata      280.9      145.6   1.929 0.053705 .  \n",
       "destination_cityMumbai      -307.8      140.5  -2.190 0.028542 *  \n",
       "---\n",
       "Signif. codes:  0 '***' 0.001 '**' 0.01 '*' 0.05 '.' 0.1 ' ' 1\n",
       "\n",
       "Residual standard error: 22610 on 300142 degrees of freedom\n",
       "Multiple R-squared:  0.007515,\tAdjusted R-squared:  0.007482 \n",
       "F-statistic: 227.3 on 10 and 300142 DF,  p-value: < 2.2e-16\n"
      ]
     },
     "metadata": {},
     "output_type": "display_data"
    }
   ],
   "source": [
    "c<-lm(price ~ source_city+destination_city,data=datos_3)\n",
    "summary(c)"
   ]
  },
  {
   "cell_type": "markdown",
   "id": "41155cdf",
   "metadata": {},
   "source": [
    "# Ajustando el modelo para predicir el precio "
   ]
  },
  {
   "cell_type": "code",
   "execution_count": 14,
   "id": "804c848c",
   "metadata": {},
   "outputs": [
    {
     "data": {
      "text/plain": [
       "\n",
       "Call:\n",
       "lm(formula = price ~ airline + source_city + departure_time + \n",
       "    stops + arrival_time + destination_city + class + duration + \n",
       "    days_left, data = datos_3)\n",
       "\n",
       "Residuals:\n",
       "   Min     1Q Median     3Q    Max \n",
       "-38792  -3372   -632   3436  67369 \n",
       "\n",
       "Coefficients:\n",
       "                              Estimate Std. Error   t value Pr(>|t|)    \n",
       "(Intercept)                  57314.086    120.852   474.249  < 2e-16 ***\n",
       "airlineAirAsia                -285.051     64.205    -4.440 9.01e-06 ***\n",
       "airlineGO_FIRST               1500.930     55.650    26.971  < 2e-16 ***\n",
       "airlineIndigo                 1927.808     48.217    39.982  < 2e-16 ***\n",
       "airlineSpiceJet               2387.604     78.580    30.385  < 2e-16 ***\n",
       "airlineVistara                3953.716     31.730   124.604  < 2e-16 ***\n",
       "source_cityChennai             -32.338     47.206    -0.685    0.493    \n",
       "source_cityDelhi             -1415.698     42.851   -33.037  < 2e-16 ***\n",
       "source_cityHyderabad         -1669.261     46.837   -35.640  < 2e-16 ***\n",
       "source_cityKolkata            1590.348     45.365    35.057  < 2e-16 ***\n",
       "source_cityMumbai             -201.102     42.670    -4.713 2.44e-06 ***\n",
       "departure_timeEarly_Morning    857.686     42.210    20.319  < 2e-16 ***\n",
       "departure_timeEvening          736.253     42.888    17.167  < 2e-16 ***\n",
       "departure_timeLate_Night      1630.335    195.509     8.339  < 2e-16 ***\n",
       "departure_timeMorning          866.617     41.277    20.995  < 2e-16 ***\n",
       "departure_timeNight            711.515     46.493    15.304  < 2e-16 ***\n",
       "stopstwo_or_more              2246.945     63.231    35.535  < 2e-16 ***\n",
       "stopszero                    -7562.384     46.847  -161.429  < 2e-16 ***\n",
       "arrival_timeEarly_Morning     -834.049     67.575   -12.343  < 2e-16 ***\n",
       "arrival_timeEvening            961.575     43.697    22.006  < 2e-16 ***\n",
       "arrival_timeLate_Night         884.382     71.125    12.434  < 2e-16 ***\n",
       "arrival_timeMorning            462.254     45.940    10.062  < 2e-16 ***\n",
       "arrival_timeNight             1140.468     42.814    26.638  < 2e-16 ***\n",
       "destination_cityChennai       -232.269     46.785    -4.965 6.89e-07 ***\n",
       "destination_cityDelhi        -1566.113     43.917   -35.660  < 2e-16 ***\n",
       "destination_cityHyderabad    -1733.708     46.379   -37.381  < 2e-16 ***\n",
       "destination_cityKolkata       1383.481     44.782    30.894  < 2e-16 ***\n",
       "destination_cityMumbai         -16.857     43.205    -0.390    0.696    \n",
       "classEconomy                -44969.136     30.710 -1464.332  < 2e-16 ***\n",
       "duration                        43.415      2.393    18.146  < 2e-16 ***\n",
       "days_leftMayor a 2           -8182.842     90.442   -90.476  < 2e-16 ***\n",
       "---\n",
       "Signif. codes:  0 '***' 0.001 '**' 0.01 '*' 0.05 '.' 0.1 ' ' 1\n",
       "\n",
       "Residual standard error: 6889 on 300122 degrees of freedom\n",
       "Multiple R-squared:  0.9079,\tAdjusted R-squared:  0.9079 \n",
       "F-statistic: 9.86e+04 on 30 and 300122 DF,  p-value: < 2.2e-16\n"
      ]
     },
     "metadata": {},
     "output_type": "display_data"
    }
   ],
   "source": [
    "f<- lm(price ~ airline+source_city+departure_time+stops+arrival_time+destination_city+class+duration+days_left, data=datos_3)\n",
    "summary(f)"
   ]
  },
  {
   "cell_type": "markdown",
   "id": "e6e899ef",
   "metadata": {},
   "source": [
    "- Nuestro modelo tiene casi todas sus variables regresoras son categoricas  exepto la variable regresora duration.\n",
    "- Esto da como resultado muchos modelos de la forma \n",
    "$$y=\\beta_x+\\beta_1 x$$\n",
    "donde solo cambia el intercepto, dependiendo de lo que se escoge en las variables categoricas. $x=duration$."
   ]
  },
  {
   "cell_type": "markdown",
   "id": "aa4e3f06",
   "metadata": {},
   "source": [
    "$$0 <duration < 50$$"
   ]
  },
  {
   "cell_type": "markdown",
   "id": "6d5c2b52",
   "metadata": {},
   "source": [
    "$$ 6.83 <duration<16.67 $$"
   ]
  },
  {
   "cell_type": "code",
   "execution_count": null,
   "id": "ae727bac",
   "metadata": {},
   "outputs": [],
   "source": []
  }
 ],
 "metadata": {
  "kernelspec": {
   "display_name": "R",
   "language": "R",
   "name": "ir"
  },
  "language_info": {
   "codemirror_mode": "r",
   "file_extension": ".r",
   "mimetype": "text/x-r-source",
   "name": "R",
   "pygments_lexer": "r",
   "version": "4.3.2"
  }
 },
 "nbformat": 4,
 "nbformat_minor": 5
}
