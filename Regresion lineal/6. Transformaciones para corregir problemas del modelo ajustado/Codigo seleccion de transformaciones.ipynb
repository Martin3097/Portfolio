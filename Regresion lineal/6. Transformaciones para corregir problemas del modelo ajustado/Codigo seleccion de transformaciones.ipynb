{
 "cells": [
  {
   "cell_type": "markdown",
   "id": "f3b07b14",
   "metadata": {},
   "source": [
    "# Enfoque general de Weisberg"
   ]
  },
  {
   "cell_type": "markdown",
   "id": "d349c925",
   "metadata": {},
   "source": [
    "## cargando libreria"
   ]
  },
  {
   "cell_type": "code",
   "execution_count": 1,
   "id": "3af0dfc0",
   "metadata": {},
   "outputs": [
    {
     "name": "stderr",
     "output_type": "stream",
     "text": [
      "Loading required package: car\n",
      "\n",
      "Loading required package: carData\n",
      "\n",
      "Loading required package: effects\n",
      "\n",
      "lattice theme set by effectsTheme()\n",
      "See ?effectsTheme for details.\n",
      "\n"
     ]
    }
   ],
   "source": [
    "library(alr4)"
   ]
  },
  {
   "cell_type": "markdown",
   "id": "8c4d1a29",
   "metadata": {},
   "source": [
    "## cargando los datos"
   ]
  },
  {
   "cell_type": "code",
   "execution_count": 3,
   "id": "694edaf2",
   "metadata": {},
   "outputs": [
    {
     "data": {
      "text/html": [
       "<table class=\"dataframe\">\n",
       "<caption>A data.frame: 6 × 3</caption>\n",
       "<thead>\n",
       "\t<tr><th></th><th scope=col>R</th><th scope=col>I</th><th scope=col>S</th></tr>\n",
       "\t<tr><th></th><th scope=col>&lt;int&gt;</th><th scope=col>&lt;dbl&gt;</th><th scope=col>&lt;int&gt;</th></tr>\n",
       "</thead>\n",
       "<tbody>\n",
       "\t<tr><th scope=row>1</th><td> 99</td><td> 6.5</td><td>1</td></tr>\n",
       "\t<tr><th scope=row>2</th><td>125</td><td>11.0</td><td>1</td></tr>\n",
       "\t<tr><th scope=row>3</th><td>200</td><td>17.0</td><td>1</td></tr>\n",
       "\t<tr><th scope=row>4</th><td>550</td><td>37.0</td><td>1</td></tr>\n",
       "\t<tr><th scope=row>5</th><td>100</td><td> 9.0</td><td>1</td></tr>\n",
       "\t<tr><th scope=row>6</th><td>250</td><td> 6.0</td><td>2</td></tr>\n",
       "</tbody>\n",
       "</table>\n"
      ],
      "text/latex": [
       "A data.frame: 6 × 3\n",
       "\\begin{tabular}{r|lll}\n",
       "  & R & I & S\\\\\n",
       "  & <int> & <dbl> & <int>\\\\\n",
       "\\hline\n",
       "\t1 &  99 &  6.5 & 1\\\\\n",
       "\t2 & 125 & 11.0 & 1\\\\\n",
       "\t3 & 200 & 17.0 & 1\\\\\n",
       "\t4 & 550 & 37.0 & 1\\\\\n",
       "\t5 & 100 &  9.0 & 1\\\\\n",
       "\t6 & 250 &  6.0 & 2\\\\\n",
       "\\end{tabular}\n"
      ],
      "text/markdown": [
       "\n",
       "A data.frame: 6 × 3\n",
       "\n",
       "| <!--/--> | R &lt;int&gt; | I &lt;dbl&gt; | S &lt;int&gt; |\n",
       "|---|---|---|---|\n",
       "| 1 |  99 |  6.5 | 1 |\n",
       "| 2 | 125 | 11.0 | 1 |\n",
       "| 3 | 200 | 17.0 | 1 |\n",
       "| 4 | 550 | 37.0 | 1 |\n",
       "| 5 | 100 |  9.0 | 1 |\n",
       "| 6 | 250 |  6.0 | 2 |\n",
       "\n"
      ],
      "text/plain": [
       "  R   I    S\n",
       "1  99  6.5 1\n",
       "2 125 11.0 1\n",
       "3 200 17.0 1\n",
       "4 550 37.0 1\n",
       "5 100  9.0 1\n",
       "6 250  6.0 2"
      ]
     },
     "metadata": {},
     "output_type": "display_data"
    }
   ],
   "source": [
    "rentas <-read.table(\"Rentas mensuales.txt\",header=T)\n",
    "\n",
    "head(rentas)\n",
    "Rentas <-rentas$R\n",
    "Ingreso <- rentas$I\n",
    "Tamano <- rentas$S"
   ]
  },
  {
   "cell_type": "markdown",
   "id": "02e190ce",
   "metadata": {},
   "source": [
    "## grafica de dispercion"
   ]
  },
  {
   "cell_type": "code",
   "execution_count": 4,
   "id": "323f3de7",
   "metadata": {},
   "outputs": [
    {
     "data": {
      "image/png": "[encoded data removed]",
      "text/plain": [
       "plot without title"
      ]
     },
     "metadata": {
      "image/png": {
       "height": 420,
       "width": 420
      }
     },
     "output_type": "display_data"
    }
   ],
   "source": [
    "pairs(rentas)"
   ]
  },
  {
   "cell_type": "markdown",
   "id": "f198b809",
   "metadata": {},
   "source": [
    "## Transformacion simultanea de variables regesoras"
   ]
  },
  {
   "cell_type": "code",
   "execution_count": 5,
   "id": "86157d52",
   "metadata": {},
   "outputs": [
    {
     "data": {
      "text/plain": [
       "Estimated transformation parameters \n",
       "   Ingreso     Tamano \n",
       "0.04498459 0.19872120 "
      ]
     },
     "metadata": {},
     "output_type": "display_data"
    },
    {
     "data": {
      "text/plain": [
       "bcPower Transformations to Multinormality \n",
       "        Est Power Rounded Pwr Wald Lwr Bnd Wald Upr Bnd\n",
       "Ingreso    0.0450           0      -0.6285       0.7184\n",
       "Tamano     0.1987           0      -0.4861       0.8835\n",
       "\n",
       "Likelihood ratio test that transformation parameters are equal to 0\n",
       " (all log transformations)\n",
       "                              LRT df    pval\n",
       "LR test, lambda = (0 0) 0.3391797  2 0.84401\n",
       "\n",
       "Likelihood ratio test that no transformations are needed\n",
       "                             LRT df      pval\n",
       "LR test, lambda = (1 1) 12.79498  2 0.0016657"
      ]
     },
     "metadata": {},
     "output_type": "display_data"
    },
    {
     "data": {
      "text/html": [
       "<table class=\"dataframe\">\n",
       "<caption>A data.frame: 1 × 3</caption>\n",
       "<thead>\n",
       "\t<tr><th></th><th scope=col>LRT</th><th scope=col>df</th><th scope=col>pval</th></tr>\n",
       "\t<tr><th></th><th scope=col>&lt;dbl&gt;</th><th scope=col>&lt;int&gt;</th><th scope=col>&lt;chr&gt;</th></tr>\n",
       "</thead>\n",
       "<tbody>\n",
       "\t<tr><th scope=row>LR test, lambda = (0.5 0.5)</th><td>2.497013</td><td>2</td><td>0.28693</td></tr>\n",
       "</tbody>\n",
       "</table>\n"
      ],
      "text/latex": [
       "A data.frame: 1 × 3\n",
       "\\begin{tabular}{r|lll}\n",
       "  & LRT & df & pval\\\\\n",
       "  & <dbl> & <int> & <chr>\\\\\n",
       "\\hline\n",
       "\tLR test, lambda = (0.5 0.5) & 2.497013 & 2 & 0.28693\\\\\n",
       "\\end{tabular}\n"
      ],
      "text/markdown": [
       "\n",
       "A data.frame: 1 × 3\n",
       "\n",
       "| <!--/--> | LRT &lt;dbl&gt; | df &lt;int&gt; | pval &lt;chr&gt; |\n",
       "|---|---|---|---|\n",
       "| LR test, lambda = (0.5 0.5) | 2.497013 | 2 | 0.28693 |\n",
       "\n"
      ],
      "text/plain": [
       "                            LRT      df pval   \n",
       "LR test, lambda = (0.5 0.5) 2.497013 2  0.28693"
      ]
     },
     "metadata": {},
     "output_type": "display_data"
    }
   ],
   "source": [
    "powerTransform(cbind(Ingreso,Tamano)~1)\n",
    "summary(powerTransform(cbind(Ingreso,Tamano)~1))\n",
    "testTransform(powerTransform(cbind(Ingreso,Tamano)~1), lambda=c(0.5,0.5) )"
   ]
  },
  {
   "cell_type": "code",
   "execution_count": 6,
   "id": "c32aa8a5",
   "metadata": {},
   "outputs": [
    {
     "data": {
      "text/plain": [
       "\n",
       "Call:\n",
       "lm(formula = Rentas ~ log(Ingreso) + log(Tamano))\n",
       "\n",
       "Residuals:\n",
       "    Min      1Q  Median      3Q     Max \n",
       "-221.13  -27.55   12.26   48.40   89.64 \n",
       "\n",
       "Coefficients:\n",
       "             Estimate Std. Error t value Pr(>|t|)    \n",
       "(Intercept)   -480.86      74.42  -6.461 1.11e-06 ***\n",
       "log(Ingreso)   263.16      27.36   9.620 1.04e-09 ***\n",
       "log(Tamano)    310.72      28.23  11.007 7.31e-11 ***\n",
       "---\n",
       "Signif. codes:  0 '***' 0.001 '**' 0.01 '*' 0.05 '.' 0.1 ' ' 1\n",
       "\n",
       "Residual standard error: 76.25 on 24 degrees of freedom\n",
       "Multiple R-squared:   0.92,\tAdjusted R-squared:  0.9133 \n",
       "F-statistic:   138 on 2 and 24 DF,  p-value: 6.899e-14\n"
      ]
     },
     "metadata": {},
     "output_type": "display_data"
    }
   ],
   "source": [
    "regre4 <- lm( Rentas ~ log(Ingreso) + log(Tamano) )\n",
    "summary(regre4)"
   ]
  },
  {
   "cell_type": "markdown",
   "id": "4bf8fd58",
   "metadata": {},
   "source": [
    "## Box-Cox"
   ]
  },
  {
   "cell_type": "code",
   "execution_count": 7,
   "id": "ff14d98a",
   "metadata": {},
   "outputs": [
    {
     "data": {
      "text/plain": [
       "bcPower Transformation to Normality \n",
       "   Est Power Rounded Pwr Wald Lwr Bnd Wald Upr Bnd\n",
       "Y1    0.6986           1       0.3914       1.0058\n",
       "\n",
       "Likelihood ratio test that transformation parameter is equal to 0\n",
       " (log transformation)\n",
       "                           LRT df       pval\n",
       "LR test, lambda = (0) 18.27306  1 1.9139e-05\n",
       "\n",
       "Likelihood ratio test that no transformation is needed\n",
       "                           LRT df     pval\n",
       "LR test, lambda = (1) 3.311458  1 0.068798"
      ]
     },
     "metadata": {},
     "output_type": "display_data"
    },
    {
     "data": {
      "text/html": [
       "<table class=\"dataframe\">\n",
       "<caption>A data.frame: 1 × 3</caption>\n",
       "<thead>\n",
       "\t<tr><th></th><th scope=col>LRT</th><th scope=col>df</th><th scope=col>pval</th></tr>\n",
       "\t<tr><th></th><th scope=col>&lt;dbl&gt;</th><th scope=col>&lt;int&gt;</th><th scope=col>&lt;chr&gt;</th></tr>\n",
       "</thead>\n",
       "<tbody>\n",
       "\t<tr><th scope=row>LR test, lambda = (0.5)</th><td>1.643788</td><td>1</td><td>0.19981</td></tr>\n",
       "</tbody>\n",
       "</table>\n"
      ],
      "text/latex": [
       "A data.frame: 1 × 3\n",
       "\\begin{tabular}{r|lll}\n",
       "  & LRT & df & pval\\\\\n",
       "  & <dbl> & <int> & <chr>\\\\\n",
       "\\hline\n",
       "\tLR test, lambda = (0.5) & 1.643788 & 1 & 0.19981\\\\\n",
       "\\end{tabular}\n"
      ],
      "text/markdown": [
       "\n",
       "A data.frame: 1 × 3\n",
       "\n",
       "| <!--/--> | LRT &lt;dbl&gt; | df &lt;int&gt; | pval &lt;chr&gt; |\n",
       "|---|---|---|---|\n",
       "| LR test, lambda = (0.5) | 1.643788 | 1 | 0.19981 |\n",
       "\n"
      ],
      "text/plain": [
       "                        LRT      df pval   \n",
       "LR test, lambda = (0.5) 1.643788 1  0.19981"
      ]
     },
     "metadata": {},
     "output_type": "display_data"
    },
    {
     "data": {
      "image/png": "[encoded data removed]",
      "text/plain": [
       "Plot with title \"Profile Log-likelihood\""
      ]
     },
     "metadata": {
      "image/png": {
       "height": 420,
       "width": 420
      }
     },
     "output_type": "display_data"
    },
    {
     "data": {
      "text/html": [
       "<table class=\"dataframe\">\n",
       "<caption>A data.frame: 4 × 2</caption>\n",
       "<thead>\n",
       "\t<tr><th scope=col>lambda</th><th scope=col>RSS</th></tr>\n",
       "\t<tr><th scope=col>&lt;dbl&gt;</th><th scope=col>&lt;dbl&gt;</th></tr>\n",
       "</thead>\n",
       "<tbody>\n",
       "\t<tr><td> 0.7117592</td><td>117927.9</td></tr>\n",
       "\t<tr><td>-1.0000000</td><td>509389.7</td></tr>\n",
       "\t<tr><td> 0.0000000</td><td>196376.2</td></tr>\n",
       "\t<tr><td> 1.0000000</td><td>128379.5</td></tr>\n",
       "</tbody>\n",
       "</table>\n"
      ],
      "text/latex": [
       "A data.frame: 4 × 2\n",
       "\\begin{tabular}{ll}\n",
       " lambda & RSS\\\\\n",
       " <dbl> & <dbl>\\\\\n",
       "\\hline\n",
       "\t  0.7117592 & 117927.9\\\\\n",
       "\t -1.0000000 & 509389.7\\\\\n",
       "\t  0.0000000 & 196376.2\\\\\n",
       "\t  1.0000000 & 128379.5\\\\\n",
       "\\end{tabular}\n"
      ],
      "text/markdown": [
       "\n",
       "A data.frame: 4 × 2\n",
       "\n",
       "| lambda &lt;dbl&gt; | RSS &lt;dbl&gt; |\n",
       "|---|---|\n",
       "|  0.7117592 | 117927.9 |\n",
       "| -1.0000000 | 509389.7 |\n",
       "|  0.0000000 | 196376.2 |\n",
       "|  1.0000000 | 128379.5 |\n",
       "\n"
      ],
      "text/plain": [
       "  lambda     RSS     \n",
       "1  0.7117592 117927.9\n",
       "2 -1.0000000 509389.7\n",
       "3  0.0000000 196376.2\n",
       "4  1.0000000 128379.5"
      ]
     },
     "metadata": {},
     "output_type": "display_data"
    },
    {
     "data": {
      "image/png": "[encoded data removed]",
      "text/plain": [
       "plot without title"
      ]
     },
     "metadata": {
      "image/png": {
       "height": 420,
       "width": 420
      }
     },
     "output_type": "display_data"
    },
    {
     "data": {
      "text/html": [
       "<table class=\"dataframe\">\n",
       "<caption>A data.frame: 2 × 2</caption>\n",
       "<thead>\n",
       "\t<tr><th scope=col>lambda</th><th scope=col>RSS</th></tr>\n",
       "\t<tr><th scope=col>&lt;dbl&gt;</th><th scope=col>&lt;dbl&gt;</th></tr>\n",
       "</thead>\n",
       "<tbody>\n",
       "\t<tr><td>0.7117592</td><td>117927.9</td></tr>\n",
       "\t<tr><td>0.5000000</td><td>124424.9</td></tr>\n",
       "</tbody>\n",
       "</table>\n"
      ],
      "text/latex": [
       "A data.frame: 2 × 2\n",
       "\\begin{tabular}{ll}\n",
       " lambda & RSS\\\\\n",
       " <dbl> & <dbl>\\\\\n",
       "\\hline\n",
       "\t 0.7117592 & 117927.9\\\\\n",
       "\t 0.5000000 & 124424.9\\\\\n",
       "\\end{tabular}\n"
      ],
      "text/markdown": [
       "\n",
       "A data.frame: 2 × 2\n",
       "\n",
       "| lambda &lt;dbl&gt; | RSS &lt;dbl&gt; |\n",
       "|---|---|\n",
       "| 0.7117592 | 117927.9 |\n",
       "| 0.5000000 | 124424.9 |\n",
       "\n"
      ],
      "text/plain": [
       "  lambda    RSS     \n",
       "1 0.7117592 117927.9\n",
       "2 0.5000000 124424.9"
      ]
     },
     "metadata": {},
     "output_type": "display_data"
    },
    {
     "data": {
      "image/png": "[encoded data removed]",
      "text/plain": [
       "plot without title"
      ]
     },
     "metadata": {
      "image/png": {
       "height": 420,
       "width": 420
      }
     },
     "output_type": "display_data"
    }
   ],
   "source": [
    "boxCox(regre4)\n",
    "summary(powerTransform(regre4))\n",
    "testTransform(powerTransform(regre4), lambda=0.5)\n",
    "inverseResponsePlot(regre4)\n",
    "inverseResponsePlot(regre4, lambda=0.5)"
   ]
  },
  {
   "cell_type": "code",
   "execution_count": 8,
   "id": "0a280b82",
   "metadata": {},
   "outputs": [
    {
     "data": {
      "text/plain": [
       "\n",
       "Call:\n",
       "lm(formula = sqrt(Rentas) ~ log(Ingreso) + log(Tamano))\n",
       "\n",
       "Residuals:\n",
       "    Min      1Q  Median      3Q     Max \n",
       "-4.4231 -1.2421  0.1882  1.1706  3.0522 \n",
       "\n",
       "Coefficients:\n",
       "             Estimate Std. Error t value Pr(>|t|)    \n",
       "(Intercept)   -1.5179     1.7432  -0.871    0.393    \n",
       "log(Ingreso)   6.0699     0.6408   9.472  1.4e-09 ***\n",
       "log(Tamano)    7.6432     0.6613  11.559  2.7e-11 ***\n",
       "---\n",
       "Signif. codes:  0 '***' 0.001 '**' 0.01 '*' 0.05 '.' 0.1 ' ' 1\n",
       "\n",
       "Residual standard error: 1.786 on 24 degrees of freedom\n",
       "Multiple R-squared:  0.923,\tAdjusted R-squared:  0.9166 \n",
       "F-statistic: 143.9 on 2 and 24 DF,  p-value: 4.326e-14\n"
      ]
     },
     "metadata": {},
     "output_type": "display_data"
    }
   ],
   "source": [
    "regre5 <- lm( sqrt(Rentas) ~ log(Ingreso) + log(Tamano) )\n",
    "summary(regre5)"
   ]
  },
  {
   "cell_type": "code",
   "execution_count": 9,
   "id": "60f9c5ae",
   "metadata": {},
   "outputs": [
    {
     "name": "stdout",
     "output_type": "stream",
     "text": [
      "             Test stat Pr(>|Test stat|)   \n",
      "log(Ingreso)    3.0082         0.006269 **\n",
      "log(Tamano)    -0.7125         0.483310   \n",
      "Tukey test     -1.2205         0.222271   \n",
      "---\n",
      "Signif. codes:  0 '***' 0.001 '**' 0.01 '*' 0.05 '.' 0.1 ' ' 1\n"
     ]
    },
    {
     "data": {
      "image/png": "[encoded data removed]",
      "text/plain": [
       "plot without title"
      ]
     },
     "metadata": {
      "image/png": {
       "height": 420,
       "width": 420
      }
     },
     "output_type": "display_data"
    }
   ],
   "source": [
    "residualPlots(regre5, terms= ~. , type = \"rstudent\", quadratic=FALSE)"
   ]
  },
  {
   "cell_type": "code",
   "execution_count": 10,
   "id": "fecc72fd",
   "metadata": {},
   "outputs": [],
   "source": [
    "log.Ingreso2 <- (log(Ingreso))^2"
   ]
  },
  {
   "cell_type": "code",
   "execution_count": 11,
   "id": "bba47c72",
   "metadata": {},
   "outputs": [
    {
     "data": {
      "text/plain": [
       "\n",
       "Call:\n",
       "lm(formula = sqrt(Rentas) ~ log(Ingreso) + log(Tamano) + log.Ingreso2)\n",
       "\n",
       "Residuals:\n",
       "    Min      1Q  Median      3Q     Max \n",
       "-3.6987 -0.7294  0.0639  1.0628  2.3631 \n",
       "\n",
       "Coefficients:\n",
       "             Estimate Std. Error t value Pr(>|t|)    \n",
       "(Intercept)   18.1115     6.6975   2.704  0.01266 *  \n",
       "log(Ingreso)  -9.1544     5.0913  -1.798  0.08531 .  \n",
       "log(Tamano)    7.8034     0.5747  13.578 1.81e-12 ***\n",
       "log.Ingreso2   2.8098     0.9341   3.008  0.00627 ** \n",
       "---\n",
       "Signif. codes:  0 '***' 0.001 '**' 0.01 '*' 0.05 '.' 0.1 ' ' 1\n",
       "\n",
       "Residual standard error: 1.546 on 23 degrees of freedom\n",
       "Multiple R-squared:  0.9448,\tAdjusted R-squared:  0.9376 \n",
       "F-statistic: 131.1 on 3 and 23 DF,  p-value: 1.322e-14\n"
      ]
     },
     "metadata": {},
     "output_type": "display_data"
    }
   ],
   "source": [
    "regre6 <- lm( sqrt(Rentas) ~ log(Ingreso) + log(Tamano) + log.Ingreso2 )\n",
    "summary(regre6)"
   ]
  },
  {
   "cell_type": "code",
   "execution_count": 12,
   "id": "217e7249",
   "metadata": {},
   "outputs": [
    {
     "name": "stdout",
     "output_type": "stream",
     "text": [
      "             Test stat Pr(>|Test stat|)   \n",
      "log(Ingreso)    0.8733         0.391943   \n",
      "log(Tamano)    -1.1591         0.258841   \n",
      "log.Ingreso2    0.1663         0.869466   \n",
      "Tukey test     -2.6896         0.007154 **\n",
      "---\n",
      "Signif. codes:  0 '***' 0.001 '**' 0.01 '*' 0.05 '.' 0.1 ' ' 1\n"
     ]
    },
    {
     "data": {
      "image/png": "[encoded data removed]",
      "text/plain": [
       "plot without title"
      ]
     },
     "metadata": {
      "image/png": {
       "height": 420,
       "width": 420
      }
     },
     "output_type": "display_data"
    }
   ],
   "source": [
    "residualPlots(regre6, terms= ~. , type = \"rstudent\", quadratic=FALSE)"
   ]
  },
  {
   "cell_type": "code",
   "execution_count": 13,
   "id": "00a87431",
   "metadata": {},
   "outputs": [
    {
     "data": {
      "text/plain": [
       "bcPower Transformation to Normality \n",
       "   Est Power Rounded Pwr Wald Lwr Bnd Wald Upr Bnd\n",
       "Y1    1.6017           2       1.0707       2.1327\n",
       "\n",
       "Likelihood ratio test that transformation parameter is equal to 0\n",
       " (log transformation)\n",
       "                          LRT df       pval\n",
       "LR test, lambda = (0) 27.4884  1 1.5804e-07\n",
       "\n",
       "Likelihood ratio test that no transformation is needed\n",
       "                           LRT df     pval\n",
       "LR test, lambda = (1) 4.877486  1 0.027209"
      ]
     },
     "metadata": {},
     "output_type": "display_data"
    },
    {
     "data": {
      "text/html": [
       "<table class=\"dataframe\">\n",
       "<caption>A data.frame: 4 × 2</caption>\n",
       "<thead>\n",
       "\t<tr><th scope=col>lambda</th><th scope=col>RSS</th></tr>\n",
       "\t<tr><th scope=col>&lt;dbl&gt;</th><th scope=col>&lt;dbl&gt;</th></tr>\n",
       "</thead>\n",
       "<tbody>\n",
       "\t<tr><td> 1.605605</td><td> 44.20383</td></tr>\n",
       "\t<tr><td>-1.000000</td><td>193.91685</td></tr>\n",
       "\t<tr><td> 0.000000</td><td>102.39654</td></tr>\n",
       "\t<tr><td> 1.000000</td><td> 51.91148</td></tr>\n",
       "</tbody>\n",
       "</table>\n"
      ],
      "text/latex": [
       "A data.frame: 4 × 2\n",
       "\\begin{tabular}{ll}\n",
       " lambda & RSS\\\\\n",
       " <dbl> & <dbl>\\\\\n",
       "\\hline\n",
       "\t  1.605605 &  44.20383\\\\\n",
       "\t -1.000000 & 193.91685\\\\\n",
       "\t  0.000000 & 102.39654\\\\\n",
       "\t  1.000000 &  51.91148\\\\\n",
       "\\end{tabular}\n"
      ],
      "text/markdown": [
       "\n",
       "A data.frame: 4 × 2\n",
       "\n",
       "| lambda &lt;dbl&gt; | RSS &lt;dbl&gt; |\n",
       "|---|---|\n",
       "|  1.605605 |  44.20383 |\n",
       "| -1.000000 | 193.91685 |\n",
       "|  0.000000 | 102.39654 |\n",
       "|  1.000000 |  51.91148 |\n",
       "\n"
      ],
      "text/plain": [
       "  lambda    RSS      \n",
       "1  1.605605  44.20383\n",
       "2 -1.000000 193.91685\n",
       "3  0.000000 102.39654\n",
       "4  1.000000  51.91148"
      ]
     },
     "metadata": {},
     "output_type": "display_data"
    },
    {
     "data": {
      "image/png": "[encoded data removed]",
      "text/plain": [
       "plot without title"
      ]
     },
     "metadata": {
      "image/png": {
       "height": 420,
       "width": 420
      }
     },
     "output_type": "display_data"
    }
   ],
   "source": [
    "summary(powerTransform(regre6))\n",
    "inverseResponsePlot(regre6)"
   ]
  },
  {
   "cell_type": "code",
   "execution_count": 14,
   "id": "8c5cc136",
   "metadata": {},
   "outputs": [
    {
     "data": {
      "text/plain": [
       "\n",
       "Call:\n",
       "lm(formula = Rentas ~ log(Ingreso) + log(Tamano) + log.Ingreso2)\n",
       "\n",
       "Residuals:\n",
       "    Min      1Q  Median      3Q     Max \n",
       "-184.64  -23.96   12.88   26.60   79.84 \n",
       "\n",
       "Coefficients:\n",
       "             Estimate Std. Error t value Pr(>|t|)    \n",
       "(Intercept)    507.95     262.94   1.932 0.065795 .  \n",
       "log(Ingreso)  -503.75     199.88  -2.520 0.019121 *  \n",
       "log(Tamano)    318.79      22.56  14.129 7.96e-13 ***\n",
       "log.Ingreso2   141.54      36.67   3.860 0.000796 ***\n",
       "---\n",
       "Signif. codes:  0 '***' 0.001 '**' 0.01 '*' 0.05 '.' 0.1 ' ' 1\n",
       "\n",
       "Residual standard error: 60.68 on 23 degrees of freedom\n",
       "Multiple R-squared:  0.9514,\tAdjusted R-squared:  0.9451 \n",
       "F-statistic: 150.2 on 3 and 23 DF,  p-value: 3.018e-15\n"
      ]
     },
     "metadata": {},
     "output_type": "display_data"
    }
   ],
   "source": [
    "regre7 <- lm( Rentas ~ log(Ingreso) + log(Tamano) + log.Ingreso2 )\n",
    "summary(regre7)"
   ]
  },
  {
   "cell_type": "code",
   "execution_count": 15,
   "id": "cc4c5dfb",
   "metadata": {},
   "outputs": [
    {
     "name": "stdout",
     "output_type": "stream",
     "text": [
      "             Test stat Pr(>|Test stat|)\n",
      "log(Ingreso)    1.0102           0.3234\n",
      "log(Tamano)     1.1334           0.2693\n",
      "log.Ingreso2    0.0883           0.9304\n",
      "Tukey test      0.5230           0.6010\n"
     ]
    },
    {
     "data": {
      "image/png": "[encoded data removed]",
      "text/plain": [
       "plot without title"
      ]
     },
     "metadata": {
      "image/png": {
       "height": 420,
       "width": 420
      }
     },
     "output_type": "display_data"
    }
   ],
   "source": [
    "residualPlots(regre7, terms= ~. , type = \"rstudent\", quadratic=FALSE)"
   ]
  },
  {
   "cell_type": "code",
   "execution_count": 16,
   "id": "dd82ae39",
   "metadata": {},
   "outputs": [
    {
     "data": {
      "text/plain": [
       "bcPower Transformation to Normality \n",
       "   Est Power Rounded Pwr Wald Lwr Bnd Wald Upr Bnd\n",
       "Y1    0.8008           1       0.5353       1.0663\n",
       "\n",
       "Likelihood ratio test that transformation parameter is equal to 0\n",
       " (log transformation)\n",
       "                          LRT df       pval\n",
       "LR test, lambda = (0) 27.4884  1 1.5804e-07\n",
       "\n",
       "Likelihood ratio test that no transformation is needed\n",
       "                           LRT df    pval\n",
       "LR test, lambda = (1) 2.019334  1 0.15531"
      ]
     },
     "metadata": {},
     "output_type": "display_data"
    },
    {
     "data": {
      "text/html": [
       "<table class=\"dataframe\">\n",
       "<caption>A data.frame: 4 × 2</caption>\n",
       "<thead>\n",
       "\t<tr><th scope=col>lambda</th><th scope=col>RSS</th></tr>\n",
       "\t<tr><th scope=col>&lt;dbl&gt;</th><th scope=col>&lt;dbl&gt;</th></tr>\n",
       "</thead>\n",
       "<tbody>\n",
       "\t<tr><td> 0.8380699</td><td> 77231.37</td></tr>\n",
       "\t<tr><td>-1.0000000</td><td>544980.53</td></tr>\n",
       "\t<tr><td> 0.0000000</td><td>188475.28</td></tr>\n",
       "\t<tr><td> 1.0000000</td><td> 80577.38</td></tr>\n",
       "</tbody>\n",
       "</table>\n"
      ],
      "text/latex": [
       "A data.frame: 4 × 2\n",
       "\\begin{tabular}{ll}\n",
       " lambda & RSS\\\\\n",
       " <dbl> & <dbl>\\\\\n",
       "\\hline\n",
       "\t  0.8380699 &  77231.37\\\\\n",
       "\t -1.0000000 & 544980.53\\\\\n",
       "\t  0.0000000 & 188475.28\\\\\n",
       "\t  1.0000000 &  80577.38\\\\\n",
       "\\end{tabular}\n"
      ],
      "text/markdown": [
       "\n",
       "A data.frame: 4 × 2\n",
       "\n",
       "| lambda &lt;dbl&gt; | RSS &lt;dbl&gt; |\n",
       "|---|---|\n",
       "|  0.8380699 |  77231.37 |\n",
       "| -1.0000000 | 544980.53 |\n",
       "|  0.0000000 | 188475.28 |\n",
       "|  1.0000000 |  80577.38 |\n",
       "\n"
      ],
      "text/plain": [
       "  lambda     RSS      \n",
       "1  0.8380699  77231.37\n",
       "2 -1.0000000 544980.53\n",
       "3  0.0000000 188475.28\n",
       "4  1.0000000  80577.38"
      ]
     },
     "metadata": {},
     "output_type": "display_data"
    },
    {
     "data": {
      "image/png": "[encoded data removed]",
      "text/plain": [
       "plot without title"
      ]
     },
     "metadata": {
      "image/png": {
       "height": 420,
       "width": 420
      }
     },
     "output_type": "display_data"
    }
   ],
   "source": [
    "summary(powerTransform(regre7))\n",
    "inverseResponsePlot(regre7)"
   ]
  },
  {
   "cell_type": "markdown",
   "id": "5f1205af",
   "metadata": {},
   "source": [
    "## Graficas de variable agregada"
   ]
  },
  {
   "cell_type": "code",
   "execution_count": 17,
   "id": "4cc1ae85",
   "metadata": {},
   "outputs": [
    {
     "data": {
      "image/png": "[encoded data removed]",
      "text/plain": [
       "Plot with title \"\""
      ]
     },
     "metadata": {
      "image/png": {
       "height": 420,
       "width": 420
      }
     },
     "output_type": "display_data"
    },
    {
     "data": {
      "image/png": "[encoded data removed]",
      "text/plain": [
       "Plot with title \"\""
      ]
     },
     "metadata": {
      "image/png": {
       "height": 420,
       "width": 420
      }
     },
     "output_type": "display_data"
    }
   ],
   "source": [
    "avPlots(regre7, lwd=-1)\n",
    "avPlots(regre7)"
   ]
  },
  {
   "cell_type": "markdown",
   "id": "e1c5cea8",
   "metadata": {},
   "source": [
    "## Graficas de modelo marginal"
   ]
  },
  {
   "cell_type": "code",
   "execution_count": 18,
   "id": "9247bed3",
   "metadata": {},
   "outputs": [
    {
     "data": {
      "image/png": "[encoded data removed]",
      "text/plain": [
       "plot without title"
      ]
     },
     "metadata": {
      "image/png": {
       "height": 420,
       "width": 420
      }
     },
     "output_type": "display_data"
    }
   ],
   "source": [
    "marginalModelPlots(regre7)"
   ]
  },
  {
   "cell_type": "markdown",
   "id": "e7a1421d",
   "metadata": {},
   "source": [
    "## Pruebas de homogeneidad de la varianza"
   ]
  },
  {
   "cell_type": "code",
   "execution_count": 19,
   "id": "1b781baf",
   "metadata": {},
   "outputs": [
    {
     "data": {
      "text/plain": [
       "Non-constant Variance Score Test \n",
       "Variance formula: ~ fitted.values \n",
       "Chisquare = 0.9737247, Df = 1, p = 0.32375"
      ]
     },
     "metadata": {},
     "output_type": "display_data"
    },
    {
     "data": {
      "text/plain": [
       "Non-constant Variance Score Test \n",
       "Variance formula: ~ log(Ingreso) \n",
       "Chisquare = 0.4256293, Df = 1, p = 0.51414"
      ]
     },
     "metadata": {},
     "output_type": "display_data"
    },
    {
     "data": {
      "text/plain": [
       "Non-constant Variance Score Test \n",
       "Variance formula: ~ log(Tamano) \n",
       "Chisquare = 1.937317, Df = 1, p = 0.16396"
      ]
     },
     "metadata": {},
     "output_type": "display_data"
    },
    {
     "data": {
      "text/plain": [
       "Non-constant Variance Score Test \n",
       "Variance formula: ~ log.Ingreso2 \n",
       "Chisquare = 0.1984087, Df = 1, p = 0.65601"
      ]
     },
     "metadata": {},
     "output_type": "display_data"
    }
   ],
   "source": [
    "ncvTest(regre7)\n",
    "ncvTest(regre7, ~ log(Ingreso))\n",
    "ncvTest(regre7, ~ log(Tamano))\n",
    "ncvTest(regre7, ~ log.Ingreso2)"
   ]
  },
  {
   "cell_type": "markdown",
   "id": "d07d4179",
   "metadata": {},
   "source": [
    "## Analisis de influencia"
   ]
  },
  {
   "cell_type": "code",
   "execution_count": 20,
   "id": "366cea79",
   "metadata": {},
   "outputs": [
    {
     "data": {
      "text/html": [
       "<style>\n",
       ".dl-inline {width: auto; margin:0; padding: 0}\n",
       ".dl-inline>dt, .dl-inline>dd {float: none; width: auto; display: inline-block}\n",
       ".dl-inline>dt::after {content: \":\\0020\"; padding-right: .5ex}\n",
       ".dl-inline>dt:not(:first-of-type) {padding-left: .5ex}\n",
       "</style><dl class=dl-inline><dt>24</dt><dd>3.75017309196986e-05</dd><dt>15</dt><dd>0.000132193172267872</dd><dt>20</dt><dd>0.000897934518147775</dd><dt>17</dt><dd>0.000937405687952426</dd><dt>7</dt><dd>0.0013140591459714</dd><dt>2</dt><dd>0.00193847495003203</dd><dt>14</dt><dd>0.00218947711295411</dd><dt>8</dt><dd>0.00231617348594236</dd><dt>18</dt><dd>0.00269417624757765</dd><dt>5</dt><dd>0.00348579104547384</dd><dt>3</dt><dd>0.00564083162260909</dd><dt>12</dt><dd>0.00737499147342145</dd><dt>26</dt><dd>0.00749237506008585</dd><dt>13</dt><dd>0.00832491558423257</dd><dt>4</dt><dd>0.0149491702491401</dd><dt>16</dt><dd>0.02584952861045</dd><dt>6</dt><dd>0.0275063760261808</dd><dt>25</dt><dd>0.0314438948708374</dd><dt>23</dt><dd>0.0361140762533642</dd><dt>1</dt><dd>0.0392289462972236</dd><dt>22</dt><dd>0.0411674171970418</dd><dt>10</dt><dd>0.0434411572881922</dd><dt>21</dt><dd>0.0570474196856944</dd><dt>9</dt><dd>0.057641411739037</dd><dt>11</dt><dd>0.0917300816268296</dd><dt>27</dt><dd>0.119672887465795</dd><dt>19</dt><dd>0.186188422539975</dd></dl>\n"
      ],
      "text/latex": [
       "\\begin{description*}\n",
       "\\item[24] 3.75017309196986e-05\n",
       "\\item[15] 0.000132193172267872\n",
       "\\item[20] 0.000897934518147775\n",
       "\\item[17] 0.000937405687952426\n",
       "\\item[7] 0.0013140591459714\n",
       "\\item[2] 0.00193847495003203\n",
       "\\item[14] 0.00218947711295411\n",
       "\\item[8] 0.00231617348594236\n",
       "\\item[18] 0.00269417624757765\n",
       "\\item[5] 0.00348579104547384\n",
       "\\item[3] 0.00564083162260909\n",
       "\\item[12] 0.00737499147342145\n",
       "\\item[26] 0.00749237506008585\n",
       "\\item[13] 0.00832491558423257\n",
       "\\item[4] 0.0149491702491401\n",
       "\\item[16] 0.02584952861045\n",
       "\\item[6] 0.0275063760261808\n",
       "\\item[25] 0.0314438948708374\n",
       "\\item[23] 0.0361140762533642\n",
       "\\item[1] 0.0392289462972236\n",
       "\\item[22] 0.0411674171970418\n",
       "\\item[10] 0.0434411572881922\n",
       "\\item[21] 0.0570474196856944\n",
       "\\item[9] 0.057641411739037\n",
       "\\item[11] 0.0917300816268296\n",
       "\\item[27] 0.119672887465795\n",
       "\\item[19] 0.186188422539975\n",
       "\\end{description*}\n"
      ],
      "text/markdown": [
       "24\n",
       ":   3.75017309196986e-0515\n",
       ":   0.00013219317226787220\n",
       ":   0.00089793451814777517\n",
       ":   0.0009374056879524267\n",
       ":   0.00131405914597142\n",
       ":   0.0019384749500320314\n",
       ":   0.002189477112954118\n",
       ":   0.0023161734859423618\n",
       ":   0.002694176247577655\n",
       ":   0.003485791045473843\n",
       ":   0.0056408316226090912\n",
       ":   0.0073749914734214526\n",
       ":   0.0074923750600858513\n",
       ":   0.008324915584232574\n",
       ":   0.014949170249140116\n",
       ":   0.025849528610456\n",
       ":   0.027506376026180825\n",
       ":   0.031443894870837423\n",
       ":   0.03611407625336421\n",
       ":   0.039228946297223622\n",
       ":   0.041167417197041810\n",
       ":   0.043441157288192221\n",
       ":   0.05704741968569449\n",
       ":   0.05764141173903711\n",
       ":   0.091730081626829627\n",
       ":   0.11967288746579519\n",
       ":   0.186188422539975\n",
       "\n"
      ],
      "text/plain": [
       "          24           15           20           17            7            2 \n",
       "3.750173e-05 1.321932e-04 8.979345e-04 9.374057e-04 1.314059e-03 1.938475e-03 \n",
       "          14            8           18            5            3           12 \n",
       "2.189477e-03 2.316173e-03 2.694176e-03 3.485791e-03 5.640832e-03 7.374991e-03 \n",
       "          26           13            4           16            6           25 \n",
       "7.492375e-03 8.324916e-03 1.494917e-02 2.584953e-02 2.750638e-02 3.144389e-02 \n",
       "          23            1           22           10           21            9 \n",
       "3.611408e-02 3.922895e-02 4.116742e-02 4.344116e-02 5.704742e-02 5.764141e-02 \n",
       "          11           27           19 \n",
       "9.173008e-02 1.196729e-01 1.861884e-01 "
      ]
     },
     "metadata": {},
     "output_type": "display_data"
    },
    {
     "data": {
      "image/png": "[encoded data removed]",
      "text/plain": [
       "plot without title"
      ]
     },
     "metadata": {
      "image/png": {
       "height": 420,
       "width": 420
      }
     },
     "output_type": "display_data"
    }
   ],
   "source": [
    "infIndexPlot(regre7)\n",
    "sort(cooks.distance(regre7))"
   ]
  },
  {
   "cell_type": "markdown",
   "id": "008c08cd",
   "metadata": {},
   "source": [
    "## Prueba sobre puntos discrepantes"
   ]
  },
  {
   "cell_type": "code",
   "execution_count": 21,
   "id": "b4bde11b",
   "metadata": {},
   "outputs": [
    {
     "data": {
      "text/plain": [
       "    rstudent unadjusted p-value Bonferroni p\n",
       "19 -4.096017         0.00047721     0.012885"
      ]
     },
     "metadata": {},
     "output_type": "display_data"
    }
   ],
   "source": [
    "outlierTest(regre7)"
   ]
  },
  {
   "cell_type": "markdown",
   "id": "00cb0bb9",
   "metadata": {},
   "source": [
    "## Grafica de probabilidad normal"
   ]
  },
  {
   "cell_type": "code",
   "execution_count": 22,
   "id": "22a9559e",
   "metadata": {},
   "outputs": [
    {
     "data": {
      "text/html": [
       "<style>\n",
       ".list-inline {list-style: none; margin:0; padding: 0}\n",
       ".list-inline>li {display: inline-block}\n",
       ".list-inline>li:not(:last-child)::after {content: \"\\00b7\"; padding: 0 .5ex}\n",
       "</style>\n",
       "<ol class=list-inline><li>19</li><li>9</li></ol>\n"
      ],
      "text/latex": [
       "\\begin{enumerate*}\n",
       "\\item 19\n",
       "\\item 9\n",
       "\\end{enumerate*}\n"
      ],
      "text/markdown": [
       "1. 19\n",
       "2. 9\n",
       "\n",
       "\n"
      ],
      "text/plain": [
       "[1] 19  9"
      ]
     },
     "metadata": {},
     "output_type": "display_data"
    },
    {
     "data": {
      "image/png": "[encoded data removed]",
      "text/plain": [
       "plot without title"
      ]
     },
     "metadata": {
      "image/png": {
       "height": 420,
       "width": 420
      }
     },
     "output_type": "display_data"
    }
   ],
   "source": [
    "qqPlot(rstudent(regre7))"
   ]
  },
  {
   "cell_type": "code",
   "execution_count": null,
   "id": "9a36d889",
   "metadata": {},
   "outputs": [],
   "source": []
  }
 ],
 "metadata": {
  "kernelspec": {
   "display_name": "R",
   "language": "R",
   "name": "ir"
  },
  "language_info": {
   "codemirror_mode": "r",
   "file_extension": ".r",
   "mimetype": "text/x-r-source",
   "name": "R",
   "pygments_lexer": "r",
   "version": "4.3.2"
  }
 },
 "nbformat": 4,
 "nbformat_minor": 5
}
