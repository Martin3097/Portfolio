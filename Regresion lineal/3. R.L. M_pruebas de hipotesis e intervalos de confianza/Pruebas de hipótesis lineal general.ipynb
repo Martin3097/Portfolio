{
 "cells": [
  {
   "cell_type": "markdown",
   "id": "a8c186a1",
   "metadata": {},
   "source": [
    "# Pruebas de hipotesis lineal general"
   ]
  },
  {
   "cell_type": "code",
   "execution_count": 1,
   "id": "21baabce",
   "metadata": {},
   "outputs": [
    {
     "name": "stderr",
     "output_type": "stream",
     "text": [
      "Loading required package: carData\n",
      "\n"
     ]
    }
   ],
   "source": [
    "library(car)"
   ]
  },
  {
   "cell_type": "code",
   "execution_count": 2,
   "id": "9e192f05",
   "metadata": {},
   "outputs": [
    {
     "name": "stderr",
     "output_type": "stream",
     "text": [
      "Warning message in file(file, \"rt\"):\n",
      "\"no fue posible abrir el archivo 'supervisor.txt': No such file or directory\"\n"
     ]
    },
    {
     "ename": "ERROR",
     "evalue": "Error in file(file, \"rt\"): no se puede abrir la conexión\n",
     "output_type": "error",
     "traceback": [
      "Error in file(file, \"rt\"): no se puede abrir la conexión\nTraceback:\n",
      "1. read.table(\"supervisor.txt\", header = T)",
      "2. file(file, \"rt\")"
     ]
    }
   ],
   "source": [
    "supervisor <- read.table(\"supervisor.txt\",header=T)\n",
    "\n",
    "supervisor"
   ]
  },
  {
   "cell_type": "code",
   "execution_count": 3,
   "id": "e682290d",
   "metadata": {},
   "outputs": [
    {
     "ename": "ERROR",
     "evalue": "Error in eval(mf, parent.frame()): objeto 'supervisor' no encontrado\n",
     "output_type": "error",
     "traceback": [
      "Error in eval(mf, parent.frame()): objeto 'supervisor' no encontrado\nTraceback:\n",
      "1. lm(Y ~ X1 + X2 + X3 + X4 + X5 + X6, data = supervisor)",
      "2. eval(mf, parent.frame())",
      "3. eval(mf, parent.frame())",
      "4. stats::model.frame(formula = Y ~ X1 + X2 + X3 + X4 + X5 + X6, \n .     data = supervisor, drop.unused.levels = TRUE)",
      "5. model.frame.default(formula = Y ~ X1 + X2 + X3 + X4 + X5 + X6, \n .     data = supervisor, drop.unused.levels = TRUE)",
      "6. is.data.frame(data)"
     ]
    }
   ],
   "source": [
    "reg.supervisor <- lm(Y~X1+X2+X3+X4+X5+X6, data=supervisor)\n",
    "summary(reg.supervisor)"
   ]
  },
  {
   "cell_type": "markdown",
   "id": "29699cc2",
   "metadata": {},
   "source": [
    "## H0: beta2=beta4=beta5=beta6=0"
   ]
  },
  {
   "cell_type": "code",
   "execution_count": 4,
   "id": "bca8a93b",
   "metadata": {},
   "outputs": [],
   "source": [
    "A1 <- c( 0,0,1,0,0,0,0 )\n",
    "A2 <- c( 0,0,0,0,1,0,0 )\n",
    "A3 <- c( 0,0,0,0,0,1,0 )\n",
    "A4 <- c( 0,0,0,0,0,0,1 )"
   ]
  },
  {
   "cell_type": "code",
   "execution_count": 5,
   "id": "060b41a9",
   "metadata": {},
   "outputs": [],
   "source": [
    "A <- rbind(A1,A2,A3,A4)"
   ]
  },
  {
   "cell_type": "code",
   "execution_count": 6,
   "id": "4e355255",
   "metadata": {},
   "outputs": [
    {
     "data": {
      "text/html": [
       "<table class=\"dataframe\">\n",
       "<caption>A anova: 2 × 6</caption>\n",
       "<thead>\n",
       "\t<tr><th></th><th scope=col>Res.Df</th><th scope=col>RSS</th><th scope=col>Df</th><th scope=col>Sum of Sq</th><th scope=col>F</th><th scope=col>Pr(&gt;F)</th></tr>\n",
       "\t<tr><th></th><th scope=col>&lt;dbl&gt;</th><th scope=col>&lt;dbl&gt;</th><th scope=col>&lt;dbl&gt;</th><th scope=col>&lt;dbl&gt;</th><th scope=col>&lt;dbl&gt;</th><th scope=col>&lt;dbl&gt;</th></tr>\n",
       "</thead>\n",
       "<tbody>\n",
       "\t<tr><th scope=row>1</th><td>27</td><td>1254.649</td><td>NA</td><td>      NA</td><td>       NA</td><td>       NA</td></tr>\n",
       "\t<tr><th scope=row>2</th><td>23</td><td>1149.000</td><td> 4</td><td>105.6486</td><td>0.5287028</td><td>0.7157839</td></tr>\n",
       "</tbody>\n",
       "</table>\n"
      ],
      "text/latex": [
       "A anova: 2 × 6\n",
       "\\begin{tabular}{r|llllll}\n",
       "  & Res.Df & RSS & Df & Sum of Sq & F & Pr(>F)\\\\\n",
       "  & <dbl> & <dbl> & <dbl> & <dbl> & <dbl> & <dbl>\\\\\n",
       "\\hline\n",
       "\t1 & 27 & 1254.649 & NA &       NA &        NA &        NA\\\\\n",
       "\t2 & 23 & 1149.000 &  4 & 105.6486 & 0.5287028 & 0.7157839\\\\\n",
       "\\end{tabular}\n"
      ],
      "text/markdown": [
       "\n",
       "A anova: 2 × 6\n",
       "\n",
       "| <!--/--> | Res.Df &lt;dbl&gt; | RSS &lt;dbl&gt; | Df &lt;dbl&gt; | Sum of Sq &lt;dbl&gt; | F &lt;dbl&gt; | Pr(&gt;F) &lt;dbl&gt; |\n",
       "|---|---|---|---|---|---|---|\n",
       "| 1 | 27 | 1254.649 | NA |       NA |        NA |        NA |\n",
       "| 2 | 23 | 1149.000 |  4 | 105.6486 | 0.5287028 | 0.7157839 |\n",
       "\n"
      ],
      "text/plain": [
       "  Res.Df RSS      Df Sum of Sq F         Pr(>F)   \n",
       "1 27     1254.649 NA       NA         NA        NA\n",
       "2 23     1149.000  4 105.6486  0.5287028 0.7157839"
      ]
     },
     "metadata": {},
     "output_type": "display_data"
    }
   ],
   "source": [
    "linearHypothesis(reg.supervisor,A)"
   ]
  },
  {
   "cell_type": "markdown",
   "id": "004a933a",
   "metadata": {},
   "source": [
    "# Modelo reducido"
   ]
  },
  {
   "cell_type": "code",
   "execution_count": 7,
   "id": "c9bb81b3",
   "metadata": {},
   "outputs": [
    {
     "data": {
      "text/plain": [
       "\n",
       "Call:\n",
       "lm(formula = Y ~ X1 + X3, data = supervisor)\n",
       "\n",
       "Residuals:\n",
       "     Min       1Q   Median       3Q      Max \n",
       "-11.5568  -5.7331   0.6701   6.5341  10.3610 \n",
       "\n",
       "Coefficients:\n",
       "            Estimate Std. Error t value Pr(>|t|)    \n",
       "(Intercept)   9.8709     7.0612   1.398    0.174    \n",
       "X1            0.6435     0.1185   5.432 9.57e-06 ***\n",
       "X3            0.2112     0.1344   1.571    0.128    \n",
       "---\n",
       "Signif. codes:  0 '***' 0.001 '**' 0.01 '*' 0.05 '.' 0.1 ' ' 1\n",
       "\n",
       "Residual standard error: 6.817 on 27 degrees of freedom\n",
       "Multiple R-squared:  0.708,\tAdjusted R-squared:  0.6864 \n",
       "F-statistic: 32.74 on 2 and 27 DF,  p-value: 6.058e-08\n"
      ]
     },
     "metadata": {},
     "output_type": "display_data"
    }
   ],
   "source": [
    "reg.supervisor.reducido <- lm(Y~X1+X3, data=supervisor)\n",
    "summary(reg.supervisor.reducido)"
   ]
  },
  {
   "cell_type": "code",
   "execution_count": 8,
   "id": "d7739090",
   "metadata": {},
   "outputs": [
    {
     "data": {
      "text/html": [
       "0.71578386147902"
      ],
      "text/latex": [
       "0.71578386147902"
      ],
      "text/markdown": [
       "0.71578386147902"
      ],
      "text/plain": [
       "[1] 0.7157839"
      ]
     },
     "metadata": {},
     "output_type": "display_data"
    }
   ],
   "source": [
    "scres.reducido <- sum(residuals(reg.supervisor.reducido)^2)\n",
    "\n",
    "scres.completo <- sum(residuals(reg.supervisor)^2)\n",
    "\n",
    "F <- ((scres.reducido - scres.completo )/4)/ sigma(reg.supervisor)^2\n",
    "\n",
    "1 - pf(F, 4,23 )"
   ]
  },
  {
   "cell_type": "markdown",
   "id": "4955bade",
   "metadata": {},
   "source": [
    "# H0: beta2=1"
   ]
  },
  {
   "cell_type": "code",
   "execution_count": 9,
   "id": "cf68abb6",
   "metadata": {},
   "outputs": [
    {
     "data": {
      "text/html": [
       "<table class=\"dataframe\">\n",
       "<caption>A anova: 2 × 6</caption>\n",
       "<thead>\n",
       "\t<tr><th></th><th scope=col>Res.Df</th><th scope=col>RSS</th><th scope=col>Df</th><th scope=col>Sum of Sq</th><th scope=col>F</th><th scope=col>Pr(&gt;F)</th></tr>\n",
       "\t<tr><th></th><th scope=col>&lt;dbl&gt;</th><th scope=col>&lt;dbl&gt;</th><th scope=col>&lt;dbl&gt;</th><th scope=col>&lt;dbl&gt;</th><th scope=col>&lt;dbl&gt;</th><th scope=col>&lt;dbl&gt;</th></tr>\n",
       "</thead>\n",
       "<tbody>\n",
       "\t<tr><th scope=row>1</th><td>24</td><td>4271.588</td><td>NA</td><td>      NA</td><td>      NA</td><td>          NA</td></tr>\n",
       "\t<tr><th scope=row>2</th><td>23</td><td>1149.000</td><td> 1</td><td>3122.588</td><td>62.50609</td><td>5.249386e-08</td></tr>\n",
       "</tbody>\n",
       "</table>\n"
      ],
      "text/latex": [
       "A anova: 2 × 6\n",
       "\\begin{tabular}{r|llllll}\n",
       "  & Res.Df & RSS & Df & Sum of Sq & F & Pr(>F)\\\\\n",
       "  & <dbl> & <dbl> & <dbl> & <dbl> & <dbl> & <dbl>\\\\\n",
       "\\hline\n",
       "\t1 & 24 & 4271.588 & NA &       NA &       NA &           NA\\\\\n",
       "\t2 & 23 & 1149.000 &  1 & 3122.588 & 62.50609 & 5.249386e-08\\\\\n",
       "\\end{tabular}\n"
      ],
      "text/markdown": [
       "\n",
       "A anova: 2 × 6\n",
       "\n",
       "| <!--/--> | Res.Df &lt;dbl&gt; | RSS &lt;dbl&gt; | Df &lt;dbl&gt; | Sum of Sq &lt;dbl&gt; | F &lt;dbl&gt; | Pr(&gt;F) &lt;dbl&gt; |\n",
       "|---|---|---|---|---|---|---|\n",
       "| 1 | 24 | 4271.588 | NA |       NA |       NA |           NA |\n",
       "| 2 | 23 | 1149.000 |  1 | 3122.588 | 62.50609 | 5.249386e-08 |\n",
       "\n"
      ],
      "text/plain": [
       "  Res.Df RSS      Df Sum of Sq F        Pr(>F)      \n",
       "1 24     4271.588 NA       NA        NA           NA\n",
       "2 23     1149.000  1 3122.588  62.50609 5.249386e-08"
      ]
     },
     "metadata": {},
     "output_type": "display_data"
    }
   ],
   "source": [
    "A <- matrix(nrow=1,ncol=7,data=c(0,0,1,0,0,0,0))\n",
    "\n",
    "linearHypothesis(reg.supervisor,A,rhs=1)"
   ]
  },
  {
   "cell_type": "markdown",
   "id": "2886ee94",
   "metadata": {},
   "source": [
    "# H0: beta4=beta5"
   ]
  },
  {
   "cell_type": "code",
   "execution_count": 10,
   "id": "1401316f",
   "metadata": {},
   "outputs": [
    {
     "data": {
      "text/html": [
       "<table class=\"dataframe\">\n",
       "<caption>A anova: 2 × 6</caption>\n",
       "<thead>\n",
       "\t<tr><th></th><th scope=col>Res.Df</th><th scope=col>RSS</th><th scope=col>Df</th><th scope=col>Sum of Sq</th><th scope=col>F</th><th scope=col>Pr(&gt;F)</th></tr>\n",
       "\t<tr><th></th><th scope=col>&lt;dbl&gt;</th><th scope=col>&lt;dbl&gt;</th><th scope=col>&lt;dbl&gt;</th><th scope=col>&lt;dbl&gt;</th><th scope=col>&lt;dbl&gt;</th><th scope=col>&lt;dbl&gt;</th></tr>\n",
       "</thead>\n",
       "<tbody>\n",
       "\t<tr><th scope=row>1</th><td>24</td><td>1150.056</td><td>NA</td><td>     NA</td><td>        NA</td><td>       NA</td></tr>\n",
       "\t<tr><th scope=row>2</th><td>23</td><td>1149.000</td><td> 1</td><td>1.05579</td><td>0.02113417</td><td>0.8856806</td></tr>\n",
       "</tbody>\n",
       "</table>\n"
      ],
      "text/latex": [
       "A anova: 2 × 6\n",
       "\\begin{tabular}{r|llllll}\n",
       "  & Res.Df & RSS & Df & Sum of Sq & F & Pr(>F)\\\\\n",
       "  & <dbl> & <dbl> & <dbl> & <dbl> & <dbl> & <dbl>\\\\\n",
       "\\hline\n",
       "\t1 & 24 & 1150.056 & NA &      NA &         NA &        NA\\\\\n",
       "\t2 & 23 & 1149.000 &  1 & 1.05579 & 0.02113417 & 0.8856806\\\\\n",
       "\\end{tabular}\n"
      ],
      "text/markdown": [
       "\n",
       "A anova: 2 × 6\n",
       "\n",
       "| <!--/--> | Res.Df &lt;dbl&gt; | RSS &lt;dbl&gt; | Df &lt;dbl&gt; | Sum of Sq &lt;dbl&gt; | F &lt;dbl&gt; | Pr(&gt;F) &lt;dbl&gt; |\n",
       "|---|---|---|---|---|---|---|\n",
       "| 1 | 24 | 1150.056 | NA |      NA |         NA |        NA |\n",
       "| 2 | 23 | 1149.000 |  1 | 1.05579 | 0.02113417 | 0.8856806 |\n",
       "\n"
      ],
      "text/plain": [
       "  Res.Df RSS      Df Sum of Sq F          Pr(>F)   \n",
       "1 24     1150.056 NA      NA           NA        NA\n",
       "2 23     1149.000  1 1.05579   0.02113417 0.8856806"
      ]
     },
     "metadata": {},
     "output_type": "display_data"
    }
   ],
   "source": [
    "A <- matrix(nrow=1,ncol=7,data=c(0,0,0,0,1,-1,0))\n",
    "\n",
    "linearHypothesis(reg.supervisor,A,rhs=0)"
   ]
  },
  {
   "cell_type": "code",
   "execution_count": null,
   "id": "08b31299",
   "metadata": {},
   "outputs": [],
   "source": []
  }
 ],
 "metadata": {
  "kernelspec": {
   "display_name": "R",
   "language": "R",
   "name": "ir"
  },
  "language_info": {
   "codemirror_mode": "r",
   "file_extension": ".r",
   "mimetype": "text/x-r-source",
   "name": "R",
   "pygments_lexer": "r",
   "version": "4.3.2"
  }
 },
 "nbformat": 4,
 "nbformat_minor": 5
}
