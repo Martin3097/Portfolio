{
 "cells": [
  {
   "cell_type": "code",
   "execution_count": 1,
   "id": "c1d6cc55",
   "metadata": {},
   "outputs": [
    {
     "name": "stdout",
     "output_type": "stream",
     "text": [
      "n    p\n",
      "0 1\n",
      "1 0.9649805447470817\n",
      "2 0.96241172497926\n",
      "3 0.9623984191063186\n"
     ]
    }
   ],
   "source": [
    "import numpy as np\n",
    "\n",
    "# Definimos la función f(x) y su derivada f'(x)\n",
    "f = lambda x: 230*x**4 + 18*x**3 + 9*x**2 - 221*x - 9\n",
    "f_prime = lambda x: 920*x**3 + 54*x**2 + 18*x - 221\n",
    "\n",
    "# Imprimimos los encabezados\n",
    "print(\"n    p\")\n",
    "\n",
    "# Definimos la función recursiva del método de Newton\n",
    "def my_newton(f, df, x0, tol, n):\n",
    "    # Verificamos si la condición de parada es cumplida\n",
    "    if abs(f(x0)) < tol:\n",
    "        print(n, x0)  # Imprimimos el valor de la iteración y la aproximación\n",
    "        return x0\n",
    "    else:\n",
    "        print(n, x0)  # Imprimimos el valor de la iteración y la aproximación\n",
    "        n += 1  # Incrementamos el contador de iteraciones\n",
    "        # Llamada recursiva con la nueva aproximación\n",
    "        return my_newton(f, df, x0 - f(x0)/df(x0), tol, n)\n",
    "\n",
    "# Llamamos a la función del método de Newton con un valor inicial\n",
    "estimate = my_newton(f, f_prime, 1, 10**(-6), 0)\n"
   ]
  },
  {
   "cell_type": "code",
   "execution_count": null,
   "id": "a1efb0c2",
   "metadata": {},
   "outputs": [],
   "source": []
  }
 ],
 "metadata": {
  "kernelspec": {
   "display_name": "Python 3 (ipykernel)",
   "language": "python",
   "name": "python3"
  },
  "language_info": {
   "codemirror_mode": {
    "name": "ipython",
    "version": 3
   },
   "file_extension": ".py",
   "mimetype": "text/x-python",
   "name": "python",
   "nbconvert_exporter": "python",
   "pygments_lexer": "ipython3",
   "version": "3.12.2"
  }
 },
 "nbformat": 4,
 "nbformat_minor": 5
}
