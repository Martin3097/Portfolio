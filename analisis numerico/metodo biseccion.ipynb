{
 "cells": [
  {
   "cell_type": "code",
   "execution_count": 1,
   "id": "029b1242",
   "metadata": {},
   "outputs": [
    {
     "name": "stdout",
     "output_type": "stream",
     "text": [
      "n     a      b      m      f(m)\n",
      "1   1   2   1.5   2.375\n",
      "2   1   1.5   1.25   -1.796875\n",
      "3   1.25   1.5   1.375   0.162109375\n",
      "4   1.25   1.375   1.3125   -0.848388671875\n",
      "5   1.3125   1.375   1.34375   -0.350982666015625\n",
      "6   1.34375   1.375   1.359375   -0.09640884399414062\n",
      "7   1.359375   1.375   1.3671875   0.03235578536987305\n",
      "8   1.359375   1.3671875   1.36328125   -0.03214997053146362\n",
      "9   1.36328125   1.3671875   1.365234375   7.202476263046265e-05\n"
     ]
    },
    {
     "data": {
      "text/plain": [
       "1.365234375"
      ]
     },
     "execution_count": 1,
     "metadata": {},
     "output_type": "execute_result"
    }
   ],
   "source": [
    "import numpy as np\n",
    "from math import cos\n",
    "from math import e\n",
    "\n",
    "def my_bisection(f, a, b, tol, n): \n",
    "    # Verificamos si el método de bisección es aplicable\n",
    "    if np.sign(f(a)) == np.sign(f(b)):\n",
    "        raise Exception(\"a y b no cumplen las condiciones para el método de bisección\")\n",
    "    \n",
    "    # Calculamos el punto medio\n",
    "    m = (a + b) / 2\n",
    "    \n",
    "    # Si el valor absoluto de f(m) es menor que la tolerancia, retornamos m como la raíz\n",
    "    if np.abs(f(m)) < tol:\n",
    "        print(f\"{n}   {a}   {b}   {m}   {f(m)}\")\n",
    "        return m\n",
    "    \n",
    "    # Si el signo de f(a) y f(m) son iguales, ajustamos el intervalo [a, m]\n",
    "    elif np.sign(f(a)) == np.sign(f(m)):\n",
    "        print(f\"{n}   {a}   {b}   {m}   {f(m)}\")\n",
    "        return my_bisection(f, m, b, tol, n + 1)\n",
    "    \n",
    "    # Si el signo de f(b) y f(m) son iguales, ajustamos el intervalo [m, b]\n",
    "    elif np.sign(f(b)) == np.sign(f(m)):\n",
    "        print(f\"{n}   {a}   {b}   {m}   {f(m)}\")\n",
    "        return my_bisection(f, a, m, tol, n + 1)\n",
    "\n",
    "# Definimos la función f(x)\n",
    "f = lambda x: x**3 + 4*x**2 - 10\n",
    "\n",
    "# Imprimimos los encabezados de la tabla\n",
    "print(\"n     a      b      m      f(m)\")\n",
    "\n",
    "# Llamamos al método de bisección\n",
    "my_bisection(f, 1, 2, 10**(-4), 1)\n"
   ]
  },
  {
   "cell_type": "code",
   "execution_count": null,
   "id": "bfa2fcfc-47af-4ead-87c3-a33654adf321",
   "metadata": {},
   "outputs": [],
   "source": []
  }
 ],
 "metadata": {
  "kernelspec": {
   "display_name": "Python 3 (ipykernel)",
   "language": "python",
   "name": "python3"
  },
  "language_info": {
   "codemirror_mode": {
    "name": "ipython",
    "version": 3
   },
   "file_extension": ".py",
   "mimetype": "text/x-python",
   "name": "python",
   "nbconvert_exporter": "python",
   "pygments_lexer": "ipython3",
   "version": "3.12.2"
  }
 },
 "nbformat": 4,
 "nbformat_minor": 5
}
