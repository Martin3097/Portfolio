{
 "cells": [
  {
   "cell_type": "code",
   "execution_count": 48,
   "id": "e60de464",
   "metadata": {},
   "outputs": [
    {
     "name": "stdout",
     "output_type": "stream",
     "text": [
      "ti      wi            y(ti)         |yi-wi|\n",
      "0.0     0.5000000     0.5000000     0.0000000\n",
      "0.2     0.8000000     0.8301223     0.0301223\n",
      "0.4     1.1520000     1.2160984     0.0640984\n",
      "0.6     1.5504000     1.6526220     0.1022220\n",
      "0.8     1.9884800     2.1332207     0.1447407\n",
      "1.0     2.4581760     2.6500000     0.1918240\n",
      "1.2     2.9498112     3.1933302     0.2435190\n",
      "1.4     3.4517734     3.7514656     0.2996922\n",
      "1.6     3.9501281     4.3100793     0.3599512\n",
      "1.8     4.4281538     4.8516960     0.4235422\n",
      "2.0     4.8657845     5.3550000     0.4892155\n"
     ]
    }
   ],
   "source": [
    "#metodo de euler\n",
    "def f(t,y):\n",
    "    return y-t**2+1\n",
    "def y(t):\n",
    "    return (t+1)**2-0.5*2.7**t\n",
    "def MetodoEuler(a,b,n,o):\n",
    "    h=(b-a)/n\n",
    "    t=a\n",
    "    w=o\n",
    "    print(\"ti \",\"    wi \",\"          y(ti)  \",\"      |yi-wi|\")\n",
    "    for i in range(n+1):\n",
    "        i=i+1\n",
    "        print(float(t),\"   \",\"{:.7f}\".format(w),\"   \",\"{:.7f}\".format(y(t)),\"   \",\"{:.7f}\".format(abs(y(t)-w)))\n",
    "        w=w+h*f(t,w)\n",
    "        t=float(round(a+i*h,2))\n",
    "MetodoEuler(0,2,10,0.5)"
   ]
  },
  {
   "cell_type": "code",
   "execution_count": 62,
   "id": "9b693fba",
   "metadata": {},
   "outputs": [
    {
     "name": "stdout",
     "output_type": "stream",
     "text": [
      "t    y(t)      w         |y(t)-w|\n",
      "0.00 0.5000000 0.5000000 0.0000000\n",
      "0.20 0.8301223 0.8292933 0.0008290\n",
      "0.40 1.2160984 1.2140762 0.0020222\n",
      "0.60 1.6526220 1.6489220 0.0036999\n",
      "0.80 2.1332207 2.1272027 0.0060180\n",
      "1.00 2.6500000 2.6408227 0.0091773\n",
      "1.20 3.1933302 3.1798942 0.0134360\n",
      "1.40 3.7514656 3.7323401 0.0191255\n",
      "1.60 4.3100793 4.2834095 0.0266698\n",
      "1.80 4.8516960 4.8150857 0.0366103\n",
      "2.00 5.3550000 5.3053630 0.0496370\n"
     ]
    }
   ],
   "source": [
    "#RungeKutta (orden 4)\n",
    "def f(t,y):\n",
    "    return y-t**2+1\n",
    "def y(t):\n",
    "    return (t+1)**2-0.5*2.7**t\n",
    "def RungeKutta(a,b,n,o):\n",
    "    h=(b-a)/n\n",
    "    t=a\n",
    "    w=o\n",
    "    print(\"t\",\"   y(t)\",\"     w\",\"        |y(t)-w|\")\n",
    "    for i in range(n+1):\n",
    "        i=i+1\n",
    "        print(\"{:.2f}\".format(t),\"{:.7f}\".format(y(t)),\"{:.7f}\".format(w),\"{:.7f}\".format(abs(y(t)-w)))\n",
    "        k1=h*f(t,w)\n",
    "        k2=h*f(t+h/2,w+k1/2)\n",
    "        k3=h*f(t+h/2,w+k2/2)\n",
    "        k4=h*f(t+h,w+k3)\n",
    "        w=w+(k1+2*k2+2*k3+k4)/6\n",
    "        t=a+i*h\n",
    "        \n",
    "RungeKutta(0,2,10,0.5)"
   ]
  },
  {
   "cell_type": "code",
   "execution_count": null,
   "id": "855d7a20",
   "metadata": {},
   "outputs": [],
   "source": []
  }
 ],
 "metadata": {
  "kernelspec": {
   "display_name": "Python 3 (ipykernel)",
   "language": "python",
   "name": "python3"
  },
  "language_info": {
   "codemirror_mode": {
    "name": "ipython",
    "version": 3
   },
   "file_extension": ".py",
   "mimetype": "text/x-python",
   "name": "python",
   "nbconvert_exporter": "python",
   "pygments_lexer": "ipython3",
   "version": "3.12.2"
  }
 },
 "nbformat": 4,
 "nbformat_minor": 5
}
