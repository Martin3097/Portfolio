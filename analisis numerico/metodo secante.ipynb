{
 "cells": [
  {
   "cell_type": "code",
   "execution_count": 2,
   "id": "7ec7c4ee",
   "metadata": {},
   "outputs": [
    {
     "name": "stdout",
     "output_type": "stream",
     "text": [
      "Tabla de resultados:\n",
      "[[1.0000e+00 1.0000e+00 9.6498e-01 3.5019e-02]\n",
      " [9.6498e-01 1.0000e+00 9.6258e-01 2.3973e-03]\n",
      " [9.6258e-01 9.6498e-01 9.6240e-01 1.8417e-04]\n",
      " [9.6240e-01 9.6258e-01 9.6240e-01 9.5680e-07]]\n",
      "Raíz estimada: 0.9623984191065308\n"
     ]
    }
   ],
   "source": [
    "import numpy as np\n",
    "\n",
    "# Definir el método de la secante con una tabla de resultados\n",
    "def secante_tabla(fx, xa, tolera):\n",
    "    dx = 4 * tolera  # Establecemos el tamaño inicial de dx\n",
    "    xb = xa + dx  # Establecemos el valor inicial de xb\n",
    "    tramo = dx\n",
    "    tabla = []  # Lista para almacenar los resultados\n",
    "    n_iter = 0  # Contador de iteraciones\n",
    "    \n",
    "    while tramo >= tolera:  # Mientras el tramo sea mayor que la tolerancia\n",
    "        fa = fx(xa)\n",
    "        fb = fx(xb)\n",
    "        xc = xa - fa * (xb - xa) / (fb - fa)  # Fórmula de la secante\n",
    "        tramo = abs(xc - xa)  # Calculamos el tramo (distancia entre xa y xc)\n",
    "        \n",
    "        # Añadimos los valores de la iteración a la tabla\n",
    "        tabla.append([xa, xb, xc, tramo])\n",
    "        \n",
    "        # Actualizamos xa y xb para la siguiente iteración\n",
    "        xb = xa\n",
    "        xa = xc\n",
    "        \n",
    "        n_iter += 1  # Incrementamos el número de iteraciones\n",
    "\n",
    "    # Convertir la lista de resultados a un array de numpy\n",
    "    tabla = np.array(tabla)\n",
    "    return tabla\n",
    "\n",
    "# Definir la función f(x)\n",
    "fx = lambda x: 230 * x**4 + 18 * x**3 + 9 * x**2 - 221 * x - 9\n",
    "\n",
    "# Parámetros iniciales\n",
    "xa = 1\n",
    "tolera = 10**(-6)\n",
    "\n",
    "# Llamamos a la función de la secante\n",
    "tabla = secante_tabla(fx, xa, tolera)\n",
    "\n",
    "# Obtenemos la raíz en la última iteración\n",
    "raiz = tabla[-1, 2]\n",
    "\n",
    "# Configurar la salida de numpy para que imprima con cuatro decimales\n",
    "np.set_printoptions(precision=4)\n",
    "\n",
    "# Mostrar los resultados\n",
    "print(\"Tabla de resultados:\")\n",
    "print(tabla)  # Mostrar la tabla completa de iteraciones\n",
    "print(f\"Raíz estimada: {raiz}\")\n"
   ]
  },
  {
   "cell_type": "code",
   "execution_count": null,
   "id": "32de953f",
   "metadata": {},
   "outputs": [],
   "source": []
  }
 ],
 "metadata": {
  "kernelspec": {
   "display_name": "Python 3 (ipykernel)",
   "language": "python",
   "name": "python3"
  },
  "language_info": {
   "codemirror_mode": {
    "name": "ipython",
    "version": 3
   },
   "file_extension": ".py",
   "mimetype": "text/x-python",
   "name": "python",
   "nbconvert_exporter": "python",
   "pygments_lexer": "ipython3",
   "version": "3.12.2"
  }
 },
 "nbformat": 4,
 "nbformat_minor": 5
}
